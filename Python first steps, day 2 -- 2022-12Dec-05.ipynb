{
 "cells": [
  {
   "cell_type": "markdown",
   "id": "be4afd63",
   "metadata": {},
   "source": [
    "# Agenda: Week 3 (Dictionaries and files)\n",
    "\n",
    "1. Recap data structures so far\n",
    "2. Dictionaries (\"dicts\")\n",
    "    - Storing\n",
    "    - Retrieving\n",
    "    - Keys and values\n",
    "    - Modifying dictionaries\n",
    "3. Accumulating in dicts\n",
    "4. Acuumulating the unknown\n",
    "5. Looping over dicts\n",
    "6. Files\n",
    "    - File objects\n",
    "    - Reading from files\n",
    "    - Writing to files\n",
    "    - Using with `with` statement when working with files\n",
    "    \n",
    "We'll use files from this zipfile: https://files.lerner.co.il/exercise-files.zip    "
   ]
  },
  {
   "cell_type": "markdown",
   "id": "b8cf4adb",
   "metadata": {},
   "source": [
    "# Data structures so far\n",
    "\n",
    "We've seen that different types of data can be stored in different types of structures. Each structure provides us with different functionality and speed trade-offs.\n",
    "\n",
    "Integers are really small and very fast -- but very annoying if we're going to use them for text.\n",
    "\n",
    "Strings are great for text - but very annoying if we want to store multiple things (that aren't characters).\n",
    "\n",
    "Lists are great for collections -- but very annoying if I just want to hold onto the text of a book or article.\n",
    "\n",
    "Generally speaking:\n",
    "- Integers are for whole numbers, and floats are for numbers with a fractional part"
   ]
  }
 ],
 "metadata": {
  "kernelspec": {
   "display_name": "Python 3 (ipykernel)",
   "language": "python",
   "name": "python3"
  },
  "language_info": {
   "codemirror_mode": {
    "name": "ipython",
    "version": 3
   },
   "file_extension": ".py",
   "mimetype": "text/x-python",
   "name": "python",
   "nbconvert_exporter": "python",
   "pygments_lexer": "ipython3",
   "version": "3.11.0"
  }
 },
 "nbformat": 4,
 "nbformat_minor": 5
}
