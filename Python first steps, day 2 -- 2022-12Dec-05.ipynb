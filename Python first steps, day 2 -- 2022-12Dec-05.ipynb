{
 "cells": [
  {
   "cell_type": "markdown",
   "id": "d59aa0b2",
   "metadata": {},
   "source": [
    "# Agenda: Week 3 (Dictionaries and files)\n",
    "\n",
    "1. Recap data structures so far\n",
    "2. Dictionaries (\"dicts\")\n",
    "    - Storing\n",
    "    - Retrieving\n",
    "    - Keys and values\n",
    "    - Modifying dictionaries\n",
    "3. Accumulating in dicts\n",
    "4. Acuumulating the unknown\n",
    "5. Looping over dicts\n",
    "6. Files\n",
    "    - File objects\n",
    "    - Reading from files\n",
    "    - Writing to files\n",
    "    - Using with `with` statement when working with files\n",
    "    \n",
    "We'll use files from this zipfile: https://files.lerner.co.il/exercise-files.zip    "
   ]
  },
  {
   "cell_type": "markdown",
   "id": "e777cb30",
   "metadata": {},
   "source": [
    "# Data structures so far\n",
    "\n",
    "We've seen that different types of data can be stored in different types of structures. Each structure provides us with different functionality and speed trade-offs.\n",
    "\n",
    "Integers are really small and very fast -- but very annoying if we're going to use them for text.\n",
    "\n",
    "Strings are great for text - but very annoying if we want to store multiple things (that aren't characters).\n",
    "\n",
    "Lists are great for collections -- but very annoying if I just want to hold onto the text of a book or article.\n",
    "\n",
    "Generally speaking:\n",
    "- Integers are for whole numbers, and floats are for numbers with a fractional part\n",
    "- Strings are for text (of any length), or collections of characters\n",
    "- Lists are the go-to ordered collection in Python.  Lists can contain anything at all, and can be any size we want. We can append to the end, and we can remove from anywhere.\n",
    "- Tuples are Python's version of structs or records. They are immutable, but more importantly, we typically use tuples when we have a collection of different types.\n",
    "\n",
    "Some examples:\n",
    "- If I have a text document, I'll store that in a string.\n",
    "- If I have a few words that our company wants to be sure are never used in a press release, then we could put those in a list, and search for each of them in outgoing correspondence.\n",
    "- If I have information about an employee -- their name, age, address, and salary -- then I'll put those in a tuple, because it's a collection of information of different types."
   ]
  },
  {
   "cell_type": "markdown",
   "id": "feaa410f",
   "metadata": {},
   "source": []
  }
 ],
 "metadata": {
  "kernelspec": {
   "display_name": "Python 3 (ipykernel)",
   "language": "python",
   "name": "python3"
  },
  "language_info": {
   "codemirror_mode": {
    "name": "ipython",
    "version": 3
   },
   "file_extension": ".py",
   "mimetype": "text/x-python",
   "name": "python",
   "nbconvert_exporter": "python",
   "pygments_lexer": "ipython3",
   "version": "3.11.0"
  }
 },
 "nbformat": 4,
 "nbformat_minor": 5
}
