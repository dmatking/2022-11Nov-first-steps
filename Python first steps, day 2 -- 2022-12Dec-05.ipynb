{
 "cells": [
  {
   "cell_type": "markdown",
   "id": "e44b8f55",
   "metadata": {},
   "source": [
    "# Agenda: Week 3 (Dictionaries and files)\n",
    "\n",
    "1. Recap data structures so far\n",
    "2. Dictionaries (\"dicts\")\n",
    "    - Storing\n",
    "    - Retrieving\n",
    "    - Keys and values\n",
    "    - Modifying dictionaries\n",
    "3. Accumulating in dicts\n",
    "4. Acuumulating the unknown\n",
    "5. Looping over dicts\n",
    "6. Files\n",
    "    - File objects\n",
    "    - Reading from files\n",
    "    - Writing to files\n",
    "    - Using with `with` statement when working with files\n",
    "    \n",
    "We'll use files from this zipfile: https://files.lerner.co.il/exercise-files.zip    "
   ]
  },
  {
   "cell_type": "markdown",
   "id": "52ef4c7c",
   "metadata": {},
   "source": [
    "# Data structures so far\n",
    "\n",
    "We've seen that different types of data can be stored in different types of structures. Each structure provides us with different functionality and speed trade-offs.\n",
    "\n",
    "Integers are really small and very fast -- but very annoying if we're going to use them for text.\n",
    "\n",
    "Strings are great for text - but very annoying if we want to store multiple things (that aren't characters).\n",
    "\n",
    "Lists are great for collections -- but very annoying if I just want to hold onto the text of a book or article.\n",
    "\n",
    "Generally speaking:\n",
    "- Integers are for whole numbers, and floats are for numbers with a fractional part\n",
    "- Strings are for text (of any length), or collections of characters\n",
    "- Lists are the go-to ordered collection in Python.  Lists can contain anything at all, and can be any size we want. We can append to the end, and we can remove from anywhere.\n",
    "- Tuples are Python's version of structs or records. They are immutable, but more importantly, we typically use tuples when we have a collection of different types.\n",
    "\n",
    "Some examples:\n",
    "- If I have a text document, I'll store that in a string.\n",
    "- If I have a few words that our company wants to be sure are never used in a press release, then we could put those in a list, and search for each of them in outgoing correspondence.\n",
    "- If I have information about an employee -- their name, age, address, and salary -- then I'll put those in a tuple, because it's a collection of information of different types."
   ]
  },
  {
   "cell_type": "markdown",
   "id": "afdb67c6",
   "metadata": {},
   "source": [
    "# Getting help in Jupyter\n",
    "\n",
    "Every Python environment is a bit different, but in Jupyter, you have a few ways to get help, and to find out what your options are.\n",
    "\n",
    "1. At any point, you can press `TAB` to complete your options. If you press `TAB` halfway through a variable name, then Python will try to complete it. If the completion is ambiguous, then it'll show you a menu of possibilities. If you're after a `.`, then it'll show you all of the methods that you can invoke on that type of object.\n",
    "2. You can use the `help` function to find out more about something, as in `help(len)` or `help(str.upper)`. Notice that if I'm getting help on a function, I don't invoke it with `()`, but just pass its name as an argument to `help`.\n",
    "3. You can put any variable, function, or other name in Jupyter, and put a `?` after it, to get information about it. If you use `??`, you'll sometimes get more information, such as the definition of a function."
   ]
  },
  {
   "cell_type": "code",
   "execution_count": 2,
   "id": "8928285d",
   "metadata": {},
   "outputs": [],
   "source": [
    "variable_x = 100\n",
    "variable_y = [10, 20, 30]\n",
    "variable_z = 'Hello, out there!'"
   ]
  },
  {
   "cell_type": "code",
   "execution_count": 3,
   "id": "c94cc81f",
   "metadata": {},
   "outputs": [
    {
     "name": "stdout",
     "output_type": "stream",
     "text": [
      "Help on list object:\n",
      "\n",
      "class list(object)\n",
      " |  list(iterable=(), /)\n",
      " |  \n",
      " |  Built-in mutable sequence.\n",
      " |  \n",
      " |  If no argument is given, the constructor creates a new empty list.\n",
      " |  The argument must be an iterable if specified.\n",
      " |  \n",
      " |  Methods defined here:\n",
      " |  \n",
      " |  __add__(self, value, /)\n",
      " |      Return self+value.\n",
      " |  \n",
      " |  __contains__(self, key, /)\n",
      " |      Return key in self.\n",
      " |  \n",
      " |  __delitem__(self, key, /)\n",
      " |      Delete self[key].\n",
      " |  \n",
      " |  __eq__(self, value, /)\n",
      " |      Return self==value.\n",
      " |  \n",
      " |  __ge__(self, value, /)\n",
      " |      Return self>=value.\n",
      " |  \n",
      " |  __getattribute__(self, name, /)\n",
      " |      Return getattr(self, name).\n",
      " |  \n",
      " |  __getitem__(...)\n",
      " |      x.__getitem__(y) <==> x[y]\n",
      " |  \n",
      " |  __gt__(self, value, /)\n",
      " |      Return self>value.\n",
      " |  \n",
      " |  __iadd__(self, value, /)\n",
      " |      Implement self+=value.\n",
      " |  \n",
      " |  __imul__(self, value, /)\n",
      " |      Implement self*=value.\n",
      " |  \n",
      " |  __init__(self, /, *args, **kwargs)\n",
      " |      Initialize self.  See help(type(self)) for accurate signature.\n",
      " |  \n",
      " |  __iter__(self, /)\n",
      " |      Implement iter(self).\n",
      " |  \n",
      " |  __le__(self, value, /)\n",
      " |      Return self<=value.\n",
      " |  \n",
      " |  __len__(self, /)\n",
      " |      Return len(self).\n",
      " |  \n",
      " |  __lt__(self, value, /)\n",
      " |      Return self<value.\n",
      " |  \n",
      " |  __mul__(self, value, /)\n",
      " |      Return self*value.\n",
      " |  \n",
      " |  __ne__(self, value, /)\n",
      " |      Return self!=value.\n",
      " |  \n",
      " |  __repr__(self, /)\n",
      " |      Return repr(self).\n",
      " |  \n",
      " |  __reversed__(self, /)\n",
      " |      Return a reverse iterator over the list.\n",
      " |  \n",
      " |  __rmul__(self, value, /)\n",
      " |      Return value*self.\n",
      " |  \n",
      " |  __setitem__(self, key, value, /)\n",
      " |      Set self[key] to value.\n",
      " |  \n",
      " |  __sizeof__(self, /)\n",
      " |      Return the size of the list in memory, in bytes.\n",
      " |  \n",
      " |  append(self, object, /)\n",
      " |      Append object to the end of the list.\n",
      " |  \n",
      " |  clear(self, /)\n",
      " |      Remove all items from list.\n",
      " |  \n",
      " |  copy(self, /)\n",
      " |      Return a shallow copy of the list.\n",
      " |  \n",
      " |  count(self, value, /)\n",
      " |      Return number of occurrences of value.\n",
      " |  \n",
      " |  extend(self, iterable, /)\n",
      " |      Extend list by appending elements from the iterable.\n",
      " |  \n",
      " |  index(self, value, start=0, stop=9223372036854775807, /)\n",
      " |      Return first index of value.\n",
      " |      \n",
      " |      Raises ValueError if the value is not present.\n",
      " |  \n",
      " |  insert(self, index, object, /)\n",
      " |      Insert object before index.\n",
      " |  \n",
      " |  pop(self, index=-1, /)\n",
      " |      Remove and return item at index (default last).\n",
      " |      \n",
      " |      Raises IndexError if list is empty or index is out of range.\n",
      " |  \n",
      " |  remove(self, value, /)\n",
      " |      Remove first occurrence of value.\n",
      " |      \n",
      " |      Raises ValueError if the value is not present.\n",
      " |  \n",
      " |  reverse(self, /)\n",
      " |      Reverse *IN PLACE*.\n",
      " |  \n",
      " |  sort(self, /, *, key=None, reverse=False)\n",
      " |      Sort the list in ascending order and return None.\n",
      " |      \n",
      " |      The sort is in-place (i.e. the list itself is modified) and stable (i.e. the\n",
      " |      order of two equal elements is maintained).\n",
      " |      \n",
      " |      If a key function is given, apply it once to each list item and sort them,\n",
      " |      ascending or descending, according to their function values.\n",
      " |      \n",
      " |      The reverse flag can be set to sort in descending order.\n",
      " |  \n",
      " |  ----------------------------------------------------------------------\n",
      " |  Class methods defined here:\n",
      " |  \n",
      " |  __class_getitem__(...) from builtins.type\n",
      " |      See PEP 585\n",
      " |  \n",
      " |  ----------------------------------------------------------------------\n",
      " |  Static methods defined here:\n",
      " |  \n",
      " |  __new__(*args, **kwargs) from builtins.type\n",
      " |      Create and return a new object.  See help(type) for accurate signature.\n",
      " |  \n",
      " |  ----------------------------------------------------------------------\n",
      " |  Data and other attributes defined here:\n",
      " |  \n",
      " |  __hash__ = None\n",
      "\n"
     ]
    }
   ],
   "source": [
    "help(variable_y)"
   ]
  },
  {
   "cell_type": "code",
   "execution_count": 5,
   "id": "b000dd01",
   "metadata": {},
   "outputs": [],
   "source": [
    "variable_y??"
   ]
  },
  {
   "cell_type": "markdown",
   "id": "bd3e0e63",
   "metadata": {},
   "source": [
    "# Dictionaries (aka \"dicts\")\n",
    "\n",
    "When we store data in a list, we know several things:\n",
    "\n",
    "1. We can store any type of data that we want.\n",
    "2. Each new element in the list is put at a new index, 1 higher than the previous final element's index. Indexes start at 0.\n",
    "3. We can update the values in a list by assigning to the list at a particular index.\n",
    "\n",
    "There are some problems with this, though:\n",
    "\n",
    "1. We have to use integers to retrieve our values.\n",
    "2. Those integers start at 0, and are rather inflexible.\n",
    "3. If we want to search for a value in our list, we need to (potentially) go through all of the values until we'll either find it or see that it's not there.\n",
    "\n",
    "Imagine we're running a new streaming service. Someone wants to know whether we have a particular movie in stock. Can you imagine looking through 1m films in a list, one at a time, to see if we have it in stock? That would take forever!\n",
    "\n",
    "Dictionaries provide a wonderful alternative:\n",
    "- They are more flexible with their indexes (known as \"keys\")\n",
    "- They are far faster to search through than lists\n",
    "- They also provide us with more semantic power than lists do"
   ]
  },
  {
   "cell_type": "markdown",
   "id": "7f7927ea",
   "metadata": {},
   "source": [
    "A dict is also known by many other names in other languages:\n",
    "- key-value store\n",
    "- name-value store\n",
    "- hash table\n",
    "- hash map\n",
    "- hash\n",
    "- map\n",
    "- associative array\n",
    "\n",
    "You can think of a dict as a two-column table, in which the left column contains keys and the right column contains values.\n",
    "\n",
    "A list can only have integer keys, and they start with 0, and go up by 1.\n",
    "\n",
    "A dict, by contrast, can have keys of *any immutable type* (which basically means integers and strings), and values of any type at all. We, the users, can say what the dict keys are. We aren't restricted to 0, 1, 2, etc. We can use:\n",
    "\n",
    "- ID numbers\n",
    "- names\n",
    "- usernames\n",
    "- IP addresses"
   ]
  },
  {
   "cell_type": "code",
   "execution_count": 6,
   "id": "296804f9",
   "metadata": {},
   "outputs": [],
   "source": [
    "# to define a dict, we use {}\n",
    "# each key-value pair is defined with the key, then :, then the value\n",
    "# pairs are separated by ,\n",
    "\n",
    "# in a dict, every key must have a value, and every value must have a key\n",
    "# also: keys are unique! It's impossible for a dict to have the same key twice\n",
    "\n",
    "d = {'a':10, 'b':20, 'c':30}   # here, I define a dict and assign it to d"
   ]
  },
  {
   "cell_type": "code",
   "execution_count": 7,
   "id": "395b813e",
   "metadata": {},
   "outputs": [
    {
     "data": {
      "text/plain": [
       "dict"
      ]
     },
     "execution_count": 7,
     "metadata": {},
     "output_type": "execute_result"
    }
   ],
   "source": [
    "type(d)"
   ]
  },
  {
   "cell_type": "code",
   "execution_count": 8,
   "id": "bff163c5",
   "metadata": {},
   "outputs": [
    {
     "data": {
      "text/plain": [
       "3"
      ]
     },
     "execution_count": 8,
     "metadata": {},
     "output_type": "execute_result"
    }
   ],
   "source": [
    "# how big is this dict?\n",
    "\n",
    "len(d)  # len usually gives us the number of elements in a data structure. Here, it gives us the number of *pairs*."
   ]
  },
  {
   "cell_type": "code",
   "execution_count": 9,
   "id": "acfbd0fe",
   "metadata": {},
   "outputs": [
    {
     "data": {
      "text/plain": [
       "True"
      ]
     },
     "execution_count": 9,
     "metadata": {},
     "output_type": "execute_result"
    }
   ],
   "source": [
    "# I can search the keys for something, and find out if it's there, with \"in\"\n",
    "'a' in d"
   ]
  },
  {
   "cell_type": "code",
   "execution_count": 10,
   "id": "d04c0772",
   "metadata": {},
   "outputs": [
    {
     "data": {
      "text/plain": [
       "False"
      ]
     },
     "execution_count": 10,
     "metadata": {},
     "output_type": "execute_result"
    }
   ],
   "source": [
    "30 in d   # we only look at keys, so this is False"
   ]
  },
  {
   "cell_type": "code",
   "execution_count": 11,
   "id": "945409cd",
   "metadata": {},
   "outputs": [
    {
     "data": {
      "text/plain": [
       "10"
      ]
     },
     "execution_count": 11,
     "metadata": {},
     "output_type": "execute_result"
    }
   ],
   "source": [
    "# I can retrieve from the dict using []\n",
    "\n",
    "d['a']   "
   ]
  },
  {
   "cell_type": "code",
   "execution_count": 12,
   "id": "d3d859e1",
   "metadata": {},
   "outputs": [
    {
     "data": {
      "text/plain": [
       "20"
      ]
     },
     "execution_count": 12,
     "metadata": {},
     "output_type": "execute_result"
    }
   ],
   "source": [
    "d['b']"
   ]
  },
  {
   "cell_type": "code",
   "execution_count": 13,
   "id": "0b83e644",
   "metadata": {},
   "outputs": [
    {
     "data": {
      "text/plain": [
       "30"
      ]
     },
     "execution_count": 13,
     "metadata": {},
     "output_type": "execute_result"
    }
   ],
   "source": [
    "d['c']"
   ]
  },
  {
   "cell_type": "code",
   "execution_count": 15,
   "id": "1bcb3d85",
   "metadata": {},
   "outputs": [
    {
     "ename": "KeyError",
     "evalue": "'x'",
     "output_type": "error",
     "traceback": [
      "\u001b[0;31m---------------------------------------------------------------------------\u001b[0m",
      "\u001b[0;31mKeyError\u001b[0m                                  Traceback (most recent call last)",
      "Cell \u001b[0;32mIn [15], line 1\u001b[0m\n\u001b[0;32m----> 1\u001b[0m \u001b[43md\u001b[49m\u001b[43m[\u001b[49m\u001b[38;5;124;43m'\u001b[39;49m\u001b[38;5;124;43mx\u001b[39;49m\u001b[38;5;124;43m'\u001b[39;49m\u001b[43m]\u001b[49m   \u001b[38;5;66;03m# this key does not exist, thus there is no value for it\u001b[39;00m\n",
      "\u001b[0;31mKeyError\u001b[0m: 'x'"
     ]
    }
   ],
   "source": [
    "d['x']   # this key does not exist, thus there is no value for it"
   ]
  },
  {
   "cell_type": "markdown",
   "id": "4488dc5c",
   "metadata": {},
   "source": [
    "# First paradigm for dict use: A read-only database\n",
    "\n",
    "Many times, we'll create a dict and never modify it. Then, inside of the program, we can read from that dict and use it as a database, but we won't change it.\n",
    "\n",
    "Example: Months -> numbers. Or numbers -> months."
   ]
  },
  {
   "cell_type": "code",
   "execution_count": 17,
   "id": "ee00d07f",
   "metadata": {},
   "outputs": [],
   "source": [
    "months = {'Jan':1, 'Feb':2, 'Mar':3, 'Apr':4}"
   ]
  },
  {
   "cell_type": "code",
   "execution_count": 18,
   "id": "5b646583",
   "metadata": {},
   "outputs": [
    {
     "data": {
      "text/plain": [
       "1"
      ]
     },
     "execution_count": 18,
     "metadata": {},
     "output_type": "execute_result"
    }
   ],
   "source": [
    "months['Jan']  # we use [] to retrieve from dicts and strings, not just lists"
   ]
  },
  {
   "cell_type": "code",
   "execution_count": 19,
   "id": "c40b3257",
   "metadata": {},
   "outputs": [
    {
     "ename": "KeyError",
     "evalue": "'Dec'",
     "output_type": "error",
     "traceback": [
      "\u001b[0;31m---------------------------------------------------------------------------\u001b[0m",
      "\u001b[0;31mKeyError\u001b[0m                                  Traceback (most recent call last)",
      "Cell \u001b[0;32mIn [19], line 1\u001b[0m\n\u001b[0;32m----> 1\u001b[0m \u001b[43mmonths\u001b[49m\u001b[43m[\u001b[49m\u001b[38;5;124;43m'\u001b[39;49m\u001b[38;5;124;43mDec\u001b[39;49m\u001b[38;5;124;43m'\u001b[39;49m\u001b[43m]\u001b[49m\n",
      "\u001b[0;31mKeyError\u001b[0m: 'Dec'"
     ]
    }
   ],
   "source": [
    "months['Dec']"
   ]
  },
  {
   "cell_type": "markdown",
   "id": "369e4b7d",
   "metadata": {},
   "source": [
    "# Exercise: Restuarant\n",
    "\n",
    "0. Define `total` to be 0.\n",
    "1. Define a dict called `menu` whose keys are the entree names and whose values are their prices.\n",
    "2. Ask the user, repeatedly, to enter an order:\n",
    "    - If the order is empty (empty string), then stop asking and exit the program\n",
    "    - If the order is key in the dict, then add the price to `total`, and print the item, new total, and price.\n",
    "    - If the order is *not* in the dict, then give the user a scolding\n",
    "    \n",
    "Example:\n",
    "\n",
    "    Order: sandwich\n",
    "    sandwich is 12, total is 12\n",
    "    Order: tea\n",
    "    tea is 10, total is 22\n",
    "    Order: elephant\n",
    "    we are fresh out of elephant today!"
   ]
  },
  {
   "cell_type": "code",
   "execution_count": 20,
   "id": "799bf4b0",
   "metadata": {},
   "outputs": [],
   "source": [
    "total = 0\n",
    "\n",
    "\n",
    "menu = {'sandwich':12, 'tea':10, 'apple':1, 'cake':5}   # 4 key-value pairs"
   ]
  },
  {
   "cell_type": "code",
   "execution_count": 21,
   "id": "e1a06148",
   "metadata": {},
   "outputs": [
    {
     "data": {
      "text/plain": [
       "4"
      ]
     },
     "execution_count": 21,
     "metadata": {},
     "output_type": "execute_result"
    }
   ],
   "source": [
    "len(menu)"
   ]
  },
  {
   "cell_type": "code",
   "execution_count": 22,
   "id": "adf69963",
   "metadata": {},
   "outputs": [
    {
     "data": {
      "text/plain": [
       "12"
      ]
     },
     "execution_count": 22,
     "metadata": {},
     "output_type": "execute_result"
    }
   ],
   "source": [
    "menu['sandwich']"
   ]
  },
  {
   "cell_type": "code",
   "execution_count": 23,
   "id": "d9b8fb9f",
   "metadata": {},
   "outputs": [
    {
     "data": {
      "text/plain": [
       "12"
      ]
     },
     "execution_count": 23,
     "metadata": {},
     "output_type": "execute_result"
    }
   ],
   "source": [
    "order = 'sandwich'   # assign to a variable\n",
    "menu[order]"
   ]
  },
  {
   "cell_type": "code",
   "execution_count": 25,
   "id": "0cd74620",
   "metadata": {},
   "outputs": [
    {
     "name": "stdout",
     "output_type": "stream",
     "text": [
      "Order: sandwich\n",
      "sandwich costs 12; total is now 12\n",
      "Order: sandwich\n",
      "sandwich costs 12; total is now 24\n",
      "Order: tea\n",
      "tea costs 10; total is now 34\n",
      "Order: cake\n",
      "cake costs 5; total is now 39\n",
      "Order: apple\n",
      "apple costs 1; total is now 40\n",
      "Order: table\n",
      "We are out of table today!\n",
      "Order: \n",
      "Price is 40\n"
     ]
    }
   ],
   "source": [
    "total = 0\n",
    "\n",
    "menu = {'sandwich':12, 'tea':10, 'apple':1, 'cake':5}   # 4 key-value pairs\n",
    "\n",
    "while True:   # infinite loop -- it'll last until we encounter \"break\"\n",
    "\n",
    "    order = input('Order: ').strip()\n",
    "\n",
    "    if order == '':   # this is how we can get out of the infinite loop!\n",
    "        break\n",
    "        \n",
    "    # is this order on the menu?\n",
    "    if order in menu:\n",
    "        price = menu[order]\n",
    "        total += price\n",
    "        print(f'{order} costs {price}; total is now {total}')\n",
    "    else:\n",
    "        print(f'We are out of {order} today!')\n",
    "        \n",
    "print(f'Price is {total}')        "
   ]
  },
  {
   "cell_type": "code",
   "execution_count": 26,
   "id": "fb853977",
   "metadata": {},
   "outputs": [
    {
     "name": "stdout",
     "output_type": "stream",
     "text": [
      "The value of x is 10\n"
     ]
    }
   ],
   "source": [
    "# f-strings are special\n",
    "\n",
    "x = 10\n",
    "\n",
    "print('The value of x is ' + str(x))   # here, we're combining two strings into a new one"
   ]
  },
  {
   "cell_type": "code",
   "execution_count": 27,
   "id": "2df04152",
   "metadata": {},
   "outputs": [
    {
     "name": "stdout",
     "output_type": "stream",
     "text": [
      "The value of x is 10\n"
     ]
    }
   ],
   "source": [
    "# I can also say:\n",
    "\n",
    "print(f'The value of x is {x}')  # here, we're depending on {} returning a string, no matter the type of x"
   ]
  },
  {
   "cell_type": "code",
   "execution_count": null,
   "id": "ec0c2077",
   "metadata": {},
   "outputs": [],
   "source": []
  },
  {
   "cell_type": "markdown",
   "id": "d88fc2ef",
   "metadata": {},
   "source": [
    "\n",
    "# Dicts are mutable\n",
    "\n",
    "You might remember that Python data can be *mutable* or *immutable*. The question is whether we can change an existing data structure. This is *not* the same as whether we can assign a value to a variable!\n",
    "\n",
    "We can *always* assign a new value to a variable. For example:\n",
    "\n",
    "```python\n",
    "s = 'abcd'      # assigning a string to s\n",
    "s = s.upper()   # assigning a new string to s \n",
    "```\n",
    "\n",
    "The above is *not* mutable data, though.  Strings are immutable.\n",
    "\n",
    "By contrast, lists are mutable. We change a list with `append` and the like, without assigning or re-assigning it to a variable.\n",
    "\n",
    "Dictionaries are also mutable. We can change them without re-assigning them to a variable."
   ]
  },
  {
   "cell_type": "code",
   "execution_count": 29,
   "id": "0ec86462",
   "metadata": {},
   "outputs": [
    {
     "data": {
      "text/plain": [
       "{'a': 2345, 'b': 20, 'c': 30}"
      ]
     },
     "execution_count": 29,
     "metadata": {},
     "output_type": "execute_result"
    }
   ],
   "source": [
    "d = {'a':10, 'b':20, 'c':30}\n",
    "\n",
    "# how can I modify an existing key-value pair?\n",
    "# I can update the value by assigning to it\n",
    "\n",
    "d['a'] = 2345    # the key 'a' already exists, and we change/update/modify the existing value\n",
    "\n",
    "d"
   ]
  },
  {
   "cell_type": "code",
   "execution_count": 30,
   "id": "67bc3735",
   "metadata": {},
   "outputs": [
    {
     "data": {
      "text/plain": [
       "{'a': 2345, 'b': 20, 'c': 30, 'x': 987}"
      ]
     },
     "execution_count": 30,
     "metadata": {},
     "output_type": "execute_result"
    }
   ],
   "source": [
    "# how can I add a new key-value pair to my dict?\n",
    "# in exactly the same way -- we just assign to a key that doesn't (yet) exist\n",
    "\n",
    "d['x'] = 987   # 'x' doesn't exist as a key, so we add a new key-value pair\n",
    "\n",
    "d"
   ]
  },
  {
   "cell_type": "code",
   "execution_count": 31,
   "id": "14df3854",
   "metadata": {},
   "outputs": [
    {
     "data": {
      "text/plain": [
       "987"
      ]
     },
     "execution_count": 31,
     "metadata": {},
     "output_type": "execute_result"
    }
   ],
   "source": [
    "# how can I remove a key-value pair?\n",
    "# (by the way, I almost never remove key-value pairs from a dicts)\n",
    "\n",
    "d.pop('x')  # this removes the pair with 'x' as a key, and returns its value"
   ]
  },
  {
   "cell_type": "code",
   "execution_count": 32,
   "id": "bd9da900",
   "metadata": {},
   "outputs": [
    {
     "data": {
      "text/plain": [
       "{'a': 2345, 'b': 20, 'c': 30}"
      ]
     },
     "execution_count": 32,
     "metadata": {},
     "output_type": "execute_result"
    }
   ],
   "source": [
    "d"
   ]
  },
  {
   "cell_type": "markdown",
   "id": "53b91519",
   "metadata": {},
   "source": [
    "# Dicts are always key -> value\n",
    "\n",
    "In a dict, keys are unique. There's no way for the same key to exist more than once. Values can repeat, if we want.\n",
    "\n",
    "Thus, we can retrieve values from dicts with simple retrieval, using `d[k]`. We know that `k` either exists as a key, or not.\n",
    "\n",
    "Can we retrieve keys based on values? The answer is: No! You always want to think about dicts as using the keys to get values, but not the other way around. "
   ]
  },
  {
   "cell_type": "code",
   "execution_count": 33,
   "id": "73da4d19",
   "metadata": {},
   "outputs": [
    {
     "data": {
      "text/plain": [
       "dict_keys(['a', 'b', 'c'])"
      ]
     },
     "execution_count": 33,
     "metadata": {},
     "output_type": "execute_result"
    }
   ],
   "source": [
    "d.keys()  # this returns a list-like object that contains all dict keys"
   ]
  },
  {
   "cell_type": "markdown",
   "id": "a3311c95",
   "metadata": {},
   "source": [
    "# Next up\n",
    "\n",
    "1. Using dicts for accumulation\n",
    "2. Using dicts to accumulate starting from nothing"
   ]
  },
  {
   "cell_type": "markdown",
   "id": "6127537f",
   "metadata": {},
   "source": [
    "# Dicts for accumulation (paradigm 2)\n",
    "\n",
    "The idea of this dict paradigm is that we create a dictionary with keys and initialized values, typically 0. We won't add keys to the dict while the program runs, but we will increment the values over time, to reflect data we've found.\n",
    "\n",
    "For example: Let's say that a list contains integers, and I want to know how many of them are odd, and how many are even."
   ]
  },
  {
   "cell_type": "code",
   "execution_count": 34,
   "id": "4c9d2a49",
   "metadata": {},
   "outputs": [
    {
     "name": "stdout",
     "output_type": "stream",
     "text": [
      "{'evens': 3, 'odds': 2}\n"
     ]
    }
   ],
   "source": [
    "numbers = [10, 15, 20, 25, 30]\n",
    "\n",
    "# create a dict to keep track of the numbers\n",
    "counts = {'evens': 0,\n",
    "          'odds': 0}\n",
    "\n",
    "for one_number in numbers:\n",
    "    \n",
    "    if one_number % 2 == 0:    # if there is no remainder after dividing by 2... it must be even\n",
    "        counts['evens'] += 1   # add 1 to the current value of counts['evens']\n",
    "    else:\n",
    "        counts['odds'] += 1\n",
    "        \n",
    "print(counts)        "
   ]
  },
  {
   "cell_type": "markdown",
   "id": "f6bf3ba5",
   "metadata": {},
   "source": [
    "# Exercise: Vowels, digits, and others (dict edition)\n",
    "\n",
    "1. Create a dict called `counts`, with three keys: `vowels`, `digits`, and `others`. The values for all three keys should be 0.\n",
    "2. Ask the user to enter a string.\n",
    "3. Go through the string, one character at a time:\n",
    "    - If the character is a vowel (a, e, i, o, u), then add 1 to `vowels`\n",
    "    - If the character is a digit (0-9), then add 1 to `digits`\n",
    "    - Otherwise, add 1 to `others`\n",
    "4. Print the dict at the end of the program's run    "
   ]
  },
  {
   "cell_type": "code",
   "execution_count": 36,
   "id": "f242c1f3",
   "metadata": {},
   "outputs": [
    {
     "name": "stdout",
     "output_type": "stream",
     "text": [
      "Enter a string: hello 123 !!\n",
      "{'vowels': 0, 'digits': 12, 'others': 0}\n"
     ]
    }
   ],
   "source": [
    "counts = {'vowels':0, \n",
    "          'digits':0,\n",
    "          'others':0}\n",
    "\n",
    "s = input('Enter a string: ').strip()\n",
    "\n",
    "for one_character in s:            # go through s, one character at a time\n",
    "    if one_character.isdigit():    # if one_character is the string '0' through '9'\n",
    "        counts['digits'] += 1      # add 1 to counts['digits']\n",
    "    elif one_character in 'aeiou': # if it's a vowel...\n",
    "        counts['vowels'] += 1      # add 1 to counts['vowels']\n",
    "    else:\n",
    "        counts['others'] += 1\n",
    "        \n",
    "print(counts)        \n",
    "    "
   ]
  },
  {
   "cell_type": "code",
   "execution_count": 37,
   "id": "12346dba",
   "metadata": {},
   "outputs": [
    {
     "data": {
      "text/plain": [
       "5"
      ]
     },
     "execution_count": 37,
     "metadata": {},
     "output_type": "execute_result"
    }
   ],
   "source": [
    "s = '     '  # 5 spaces\n",
    "len(s)"
   ]
  },
  {
   "cell_type": "markdown",
   "id": "db1e428c",
   "metadata": {},
   "source": [
    "# Accumulating the unknown (paradigm 3)\n",
    "\n",
    "Sometimes, we don't know what we're going to want to accumulate, but we do want to count it. For example, let's say that I want to know how many times each letter appears in a book. I can use paradigm 2, set up a dict with a-z as keys, and then count how many times each appears.\n",
    "\n",
    "But if I want to count words, I'm not going to use paradigm 2, going through the whole article or book, creating a key-value pair for each unique words, and then iterating through it again, and accumulating.\n",
    "\n",
    "In such cases, we can create an empty dict at the start of the program and then populate it -- keys and values alike -- as we encounter them. "
   ]
  },
  {
   "cell_type": "code",
   "execution_count": 38,
   "id": "77e744ae",
   "metadata": {},
   "outputs": [
    {
     "name": "stdout",
     "output_type": "stream",
     "text": [
      "Enter a string: hello\n"
     ]
    },
    {
     "ename": "KeyError",
     "evalue": "'h'",
     "output_type": "error",
     "traceback": [
      "\u001b[0;31m---------------------------------------------------------------------------\u001b[0m",
      "\u001b[0;31mKeyError\u001b[0m                                  Traceback (most recent call last)",
      "Cell \u001b[0;32mIn [38], line 8\u001b[0m\n\u001b[1;32m      5\u001b[0m s \u001b[38;5;241m=\u001b[39m \u001b[38;5;28minput\u001b[39m(\u001b[38;5;124m'\u001b[39m\u001b[38;5;124mEnter a string: \u001b[39m\u001b[38;5;124m'\u001b[39m)\u001b[38;5;241m.\u001b[39mstrip()\n\u001b[1;32m      7\u001b[0m \u001b[38;5;28;01mfor\u001b[39;00m one_character \u001b[38;5;129;01min\u001b[39;00m s:\n\u001b[0;32m----> 8\u001b[0m     \u001b[43mcounts\u001b[49m\u001b[43m[\u001b[49m\u001b[43mone_character\u001b[49m\u001b[43m]\u001b[49m \u001b[38;5;241m+\u001b[39m\u001b[38;5;241m=\u001b[39m \u001b[38;5;241m1\u001b[39m\n",
      "\u001b[0;31mKeyError\u001b[0m: 'h'"
     ]
    }
   ],
   "source": [
    "# example: letter frequencies\n",
    "\n",
    "counts = {}   # empty dict\n",
    "\n",
    "s = input('Enter a string: ').strip()\n",
    "\n",
    "for one_character in s:\n",
    "    counts[one_character] += 1   # add 1 to the existing value of one_character, whatever was there before \n",
    "    "
   ]
  },
  {
   "cell_type": "code",
   "execution_count": 39,
   "id": "607acaf3",
   "metadata": {},
   "outputs": [
    {
     "name": "stdout",
     "output_type": "stream",
     "text": [
      "Enter a string: hello out there, this is a great new day\n"
     ]
    }
   ],
   "source": [
    "# example: letter frequencies\n",
    "\n",
    "counts = {}   # empty dict\n",
    "\n",
    "s = input('Enter a string: ').strip()\n",
    "\n",
    "for one_character in s:\n",
    "    if one_character in counts:    # does one_character exist in counts?\n",
    "        counts[one_character] += 1  \n",
    "    else:\n",
    "        counts[one_character] = 1  # first time, just assign 1 "
   ]
  },
  {
   "cell_type": "code",
   "execution_count": 40,
   "id": "e99581f3",
   "metadata": {},
   "outputs": [
    {
     "data": {
      "text/plain": [
       "{'h': 3,\n",
       " 'e': 5,\n",
       " 'l': 2,\n",
       " 'o': 2,\n",
       " ' ': 8,\n",
       " 'u': 1,\n",
       " 't': 4,\n",
       " 'r': 2,\n",
       " ',': 1,\n",
       " 'i': 2,\n",
       " 's': 2,\n",
       " 'a': 3,\n",
       " 'g': 1,\n",
       " 'n': 1,\n",
       " 'w': 1,\n",
       " 'd': 1,\n",
       " 'y': 1}"
      ]
     },
     "execution_count": 40,
     "metadata": {},
     "output_type": "execute_result"
    }
   ],
   "source": [
    "counts"
   ]
  },
  {
   "cell_type": "markdown",
   "id": "1482950f",
   "metadata": {},
   "source": [
    "# Rainfall \n",
    "\n",
    "1. Define an empty dict. Eventually, the dict's keys will be cities, and the dict's values will be how much rain (in mm) fell there in the last 24 hours.\n",
    "2. Ask the user repeatedly to enter the name of a city.\n",
    "    - If they give us an empty string, then stop asking.\n",
    "3. Ask the user how much rain fell there in the last 24 hours.\n",
    "4. Check if the city was already mentioned in our dict:\n",
    "    - If not, then add the new city and amount to the dict as a key-value pair\n",
    "    - If so, then just add the new amount to the old amount\n",
    "5. Print the entire dict.\n",
    "\n",
    "```\n",
    "Exmaple:\n",
    "\n",
    "    City: Chicago\n",
    "    Rain: 5\n",
    "    City: New York\n",
    "    Rain: 3\n",
    "    City: Seattle\n",
    "    Rain: 4\n",
    "    City: Seattle\n",
    "    Rain: 2 \n",
    "    Rain: [ENTER]\n",
    "    \n",
    "\n",
    "{'Chicago']:5, 'New York':3, 'Seattle':6}\n",
    "```\n",
    "\n"
   ]
  },
  {
   "cell_type": "code",
   "execution_count": 44,
   "id": "abf5bc37",
   "metadata": {},
   "outputs": [
    {
     "name": "stdout",
     "output_type": "stream",
     "text": [
      "City: Chicago\n",
      "Rain: 5\n",
      "City: New York\n",
      "Rain: 3\n",
      "City: Seattle\n",
      "Rain: 4\n",
      "City: Seattle\n",
      "Rain: 2\n",
      "City: \n",
      "{'Chicago': 5, 'New York': 3, 'Seattle': 6}\n"
     ]
    }
   ],
   "source": [
    "rainfall = {}    # empty dict, eventually with string keys (city names) and integer values (mm rain)\n",
    "\n",
    "while True:  \n",
    "    city_name = input('City: ').strip()\n",
    "    \n",
    "    if city_name == '':   # no city name? exit the loop!\n",
    "        break\n",
    "        \n",
    "    mm_rain = input('Rain: ').strip()\n",
    "    mm_rain = int(mm_rain)\n",
    "    \n",
    "    if city_name in rainfall:\n",
    "        rainfall[city_name] += mm_rain  # add to existing value\n",
    "    else:   \n",
    "        rainfall[city_name] = mm_rain   # no existing value, so add one\n",
    "    \n",
    "print(rainfall)    \n",
    "    "
   ]
  },
  {
   "cell_type": "markdown",
   "id": "c68dfd55",
   "metadata": {},
   "source": [
    "# Next up\n",
    "\n",
    "1. Looping over dicts\n",
    "2. How do dicts work?\n",
    "3. Intro to files (please remember to download the zipfile from https://files.lerner.co.il/exercise-files.zip)\n"
   ]
  },
  {
   "cell_type": "markdown",
   "id": "2fe77cbc",
   "metadata": {},
   "source": [
    "# Looping over dicts\n",
    "\n",
    "We've seen that we can use `for` loops to iterate over a bunch of different data structures:\n",
    "\n",
    "- Strings -- we get one character at a time\n",
    "- Lists -- we get one element at a time\n",
    "- Tuples -- we get one element at a time\n",
    "\n",
    "What happens when we iterate over a dictionary?"
   ]
  },
  {
   "cell_type": "code",
   "execution_count": 45,
   "id": "bde72762",
   "metadata": {},
   "outputs": [
    {
     "name": "stdout",
     "output_type": "stream",
     "text": [
      "a\n",
      "b\n",
      "c\n"
     ]
    }
   ],
   "source": [
    "d = {'a':10, 'b':20, 'c':30}\n",
    "\n",
    "for one_item in d:    # when we iterate over a dict, we get the keys (in chronological order of insertion)\n",
    "    print(one_item)"
   ]
  },
  {
   "cell_type": "code",
   "execution_count": 46,
   "id": "5eb8abfb",
   "metadata": {},
   "outputs": [
    {
     "name": "stdout",
     "output_type": "stream",
     "text": [
      "a: 10\n",
      "b: 20\n",
      "c: 30\n"
     ]
    }
   ],
   "source": [
    "# one way to get keys and values is this:\n",
    "\n",
    "for one_key in d:\n",
    "    print(f'{one_key}: {d[one_key]}')   # key + the value"
   ]
  },
  {
   "cell_type": "code",
   "execution_count": 47,
   "id": "f21b2743",
   "metadata": {},
   "outputs": [
    {
     "name": "stdout",
     "output_type": "stream",
     "text": [
      "('a', 10)\n",
      "('b', 20)\n",
      "('c', 30)\n"
     ]
    }
   ],
   "source": [
    "# I prefer a slightly different way, though\n",
    "\n",
    "for t in d.items():  # d.items() gives us one (key, value) tuple for each pair in d\n",
    "    print(t)"
   ]
  },
  {
   "cell_type": "code",
   "execution_count": 48,
   "id": "303f1d1b",
   "metadata": {},
   "outputs": [
    {
     "name": "stdout",
     "output_type": "stream",
     "text": [
      "a: 10\n",
      "b: 20\n",
      "c: 30\n"
     ]
    }
   ],
   "source": [
    "# we can use tuple unpacking to make this more readable\n",
    "# we know that the tuple we get with each iteration will be (key, value) -- two elements\n",
    "\n",
    "for key, value in d.items(): \n",
    "    print(f'{key}: {value}')"
   ]
  },
  {
   "cell_type": "code",
   "execution_count": 49,
   "id": "2d1bbaf3",
   "metadata": {},
   "outputs": [
    {
     "name": "stdout",
     "output_type": "stream",
     "text": [
      "a\n",
      "b\n",
      "c\n"
     ]
    }
   ],
   "source": [
    "# what about iterating over d.keys()?\n",
    "\n",
    "for one_key in d.keys():  # this works just fine... but please don't do it!\n",
    "    print(one_key)"
   ]
  },
  {
   "cell_type": "code",
   "execution_count": 50,
   "id": "feb8e534",
   "metadata": {},
   "outputs": [
    {
     "data": {
      "text/plain": [
       "True"
      ]
     },
     "execution_count": 50,
     "metadata": {},
     "output_type": "execute_result"
    }
   ],
   "source": [
    "# similarly, we can search in a dict with \"in\" (remember, it only looks at the keys)\n",
    "\n",
    "'b' in d"
   ]
  },
  {
   "cell_type": "code",
   "execution_count": 51,
   "id": "82c36b88",
   "metadata": {},
   "outputs": [
    {
     "data": {
      "text/plain": [
       "True"
      ]
     },
     "execution_count": 51,
     "metadata": {},
     "output_type": "execute_result"
    }
   ],
   "source": [
    "'c' in d"
   ]
  },
  {
   "cell_type": "code",
   "execution_count": 52,
   "id": "a5bf84a3",
   "metadata": {},
   "outputs": [
    {
     "data": {
      "text/plain": [
       "True"
      ]
     },
     "execution_count": 52,
     "metadata": {},
     "output_type": "execute_result"
    }
   ],
   "source": [
    "# can we search in d.keys()?  -- but why do this, when you can say \"'b' in d\"?\n",
    "\n",
    "'b' in d.keys()"
   ]
  },
  {
   "cell_type": "code",
   "execution_count": 53,
   "id": "4b36be05",
   "metadata": {},
   "outputs": [
    {
     "data": {
      "text/plain": [
       "dict_values([10, 20, 30])"
      ]
     },
     "execution_count": 53,
     "metadata": {},
     "output_type": "execute_result"
    }
   ],
   "source": [
    "# there is, however, d.values()\n",
    "\n",
    "d.values()"
   ]
  },
  {
   "cell_type": "code",
   "execution_count": 54,
   "id": "1eddd441",
   "metadata": {},
   "outputs": [
    {
     "data": {
      "text/plain": [
       "{'a': 10, 'b': 20, 'c': 30, 'd': 30, 'e': 20, 'f': 10}"
      ]
     },
     "execution_count": 54,
     "metadata": {},
     "output_type": "execute_result"
    }
   ],
   "source": [
    "d = {'a':10, 'b':20, 'c':30, 'd':30, 'e':20, 'f':10}\n",
    "d"
   ]
  },
  {
   "cell_type": "code",
   "execution_count": 55,
   "id": "e0b640a1",
   "metadata": {},
   "outputs": [
    {
     "data": {
      "text/plain": [
       "dict_values([10, 20, 30, 30, 20, 10])"
      ]
     },
     "execution_count": 55,
     "metadata": {},
     "output_type": "execute_result"
    }
   ],
   "source": [
    "d.values()"
   ]
  },
  {
   "cell_type": "code",
   "execution_count": null,
   "id": "8b312243",
   "metadata": {},
   "outputs": [],
   "source": [
    "# can a key have more than one value?\n",
    "\n",
    "# no, because keys are unique (only one instance per dict) and they only get one value.\n",
    "# BUT that value could be a list, tuple, or dict containing other values."
   ]
  },
  {
   "cell_type": "markdown",
   "id": "55b7fca1",
   "metadata": {},
   "source": [
    "# Exercise: Age statistics\n",
    "\n",
    "1. Define a dict in which the keys are names of people in your family, and the values are their ages.\n",
    "2. Print the average (mean) age of all these people."
   ]
  },
  {
   "cell_type": "code",
   "execution_count": 57,
   "id": "d25a8948",
   "metadata": {},
   "outputs": [
    {
     "name": "stdout",
     "output_type": "stream",
     "text": [
      "27.25\n"
     ]
    }
   ],
   "source": [
    "people = {'Reuven': 52,\n",
    "          'Atara': 21,\n",
    "          'Shikma': 19,\n",
    "          'Amotz': 17}\n",
    "\n",
    "# a few different possibilities!\n",
    "\n",
    "# option 1: grab the values in a for loop, put them into a list, and then calculate\n",
    "\n",
    "ages = []\n",
    "for one_item in people.values():\n",
    "    ages.append(one_item)\n",
    "    \n",
    "print(sum(ages) / len(ages))    "
   ]
  },
  {
   "cell_type": "code",
   "execution_count": 58,
   "id": "f9c960e3",
   "metadata": {},
   "outputs": [
    {
     "name": "stdout",
     "output_type": "stream",
     "text": [
      "27.25\n"
     ]
    }
   ],
   "source": [
    "# option 1a (variation): calculate while we're iterating\n",
    "\n",
    "counter = 0\n",
    "total = 0\n",
    "\n",
    "for one_item in people.values():\n",
    "    counter += 1\n",
    "    total += one_item\n",
    "    \n",
    "print(total / counter)"
   ]
  },
  {
   "cell_type": "code",
   "execution_count": 65,
   "id": "10d9aca4",
   "metadata": {},
   "outputs": [
    {
     "data": {
      "text/plain": [
       "27.25"
      ]
     },
     "execution_count": 65,
     "metadata": {},
     "output_type": "execute_result"
    }
   ],
   "source": [
    "# option 2: another way: just turn the ages (values) into a list\n",
    "\n",
    "sum(people.values()) / len(people)"
   ]
  },
  {
   "cell_type": "markdown",
   "id": "aa4cbd81",
   "metadata": {},
   "source": [
    "# How do dictionaries work?\n",
    "\n",
    "Dictionaries have some weird (and some useful) properties:\n",
    "\n",
    "1. Keys are unique and immutable\n",
    "2. Via a key, we can get a value, but not vice versa\n",
    "3. Values can be anything at all\n",
    "4. Searching for a key is very, very fast\n",
    "\n",
    "This is all possible thanks to what's known as a \"hash function.\" \n",
    "\n",
    "Metaphor/analogy of finding people in an office building.\n",
    "\n",
    "This is how a dictionary works: Check the first letter of the person's last name, and turn that into a number (A=1, B=2, C=3, until Z=26). That's the office number in which a person will be.\n",
    "\n",
    "When we store `d['a'] = 1`, Python takes the key (`'a'`), and runs a function on it. That function returns a number, which is used to decide where in memory the key-value pair should be stored.\n",
    "\n",
    "So what does this way of storing and retrieving have to do with the rules I wrote earlier in this cell?\n",
    "\n",
    "1. Keys must be unique, because otherwise they would sit on top of each other in memory, thanks to the hash function.\n",
    "2. Keys must be immutable, because if they could change, then the hash function would calculate something different than what they actually are, and the data would get lost.\n",
    "3. Searching is very fast, because of the office metaphor -- you just jump to the appropriate office/location, and retrieve the data."
   ]
  },
  {
   "cell_type": "markdown",
   "id": "3451fd7a",
   "metadata": {},
   "source": [
    "# Files\n",
    "\n",
    "We, as computer users, normally think of files as Word documents, Excel spreadsheets, or PDF documents. In the computer world, a file is just any collection of data stored in a way that we can then retrieve it later on and continue with our work as if we had just entered that data. We're going to concentrate on text files in this class, in part because they're the easiest to deal with, and in part because they're quite common -- logfiles and the like are all text files.\n",
    "\n",
    "If I want to read a file from the filesystem, I can't! I can't do it directly, without help. I need the assistance of the operating system.  Your program asks the OS to provide an \"agent,\" often known as a \"file handle,\" which will allow us access to the file.  We then work with this file handle, reading from the file via the handle, and writing to the file via the handle.\n",
    "\n",
    "In Python, these agents and file handles are typically just known as \"file objects\" or \"file-like objects.\""
   ]
  },
  {
   "cell_type": "code",
   "execution_count": 66,
   "id": "acf29b3e",
   "metadata": {},
   "outputs": [],
   "source": [
    "# let's look through the file called \"mini-access-log.txt\"\n",
    "# I'll need to get a file object (file handle), and then use it to read from the file\n",
    "\n",
    "f = open('mini-access-log.txt')    # the \"open\" function returns a new file object"
   ]
  },
  {
   "cell_type": "code",
   "execution_count": 67,
   "id": "bf3fa229",
   "metadata": {},
   "outputs": [
    {
     "name": "stdout",
     "output_type": "stream",
     "text": [
      "67.218.116.165 - - [30/Jan/2010:00:03:18 +0200] \"GET /robots.txt HTTP/1.0\" 200 99 \"-\" \"Mozilla/5.0 (Twiceler-0.9 http://www.cuil.com/twiceler/robot.html)\"\n",
      "\n",
      "66.249.71.65 - - [30/Jan/2010:00:12:06 +0200] \"GET /browse/one_node/1557 HTTP/1.1\" 200 39208 \"-\" \"Mozilla/5.0 (compatible; Googlebot/2.1; +http://www.google.com/bot.html)\"\n",
      "\n",
      "65.55.106.183 - - [30/Jan/2010:01:29:23 +0200] \"GET /robots.txt HTTP/1.1\" 200 99 \"-\" \"msnbot/2.0b (+http://search.msn.com/msnbot.htm)\"\n",
      "\n",
      "65.55.106.183 - - [30/Jan/2010:01:30:06 +0200] \"GET /browse/one_model/2162 HTTP/1.1\" 200 2181 \"-\" \"msnbot/2.0b (+http://search.msn.com/msnbot.htm)\"\n",
      "\n",
      "66.249.71.65 - - [30/Jan/2010:02:07:14 +0200] \"GET /browse/browse_applet_tab/2593 HTTP/1.1\" 200 10305 \"-\" \"Mozilla/5.0 (compatible; Googlebot/2.1; +http://www.google.com/bot.html)\"\n",
      "\n",
      "66.249.71.65 - - [30/Jan/2010:02:10:39 +0200] \"GET /browse/browse_files_tab/2499?tab=true HTTP/1.1\" 200 446 \"-\" \"Mozilla/5.0 (compatible; Googlebot/2.1; +http://www.google.com/bot.html)\"\n",
      "\n",
      "66.249.65.12 - - [30/Jan/2010:03:13:34 +0200] \"GET /robots.txt HTTP/1.1\" 200 99 \"-\" \"Mozilla/5.0 (compatible; Googlebot/2.1; +http://www.google.com/bot.html)\"\n",
      "\n",
      "66.249.65.12 - - [30/Jan/2010:03:13:34 +0200] \"GET /browse/one_node/2715 HTTP/1.1\" 200 26433 \"-\" \"Mozilla/5.0 (compatible; Googlebot/2.1; +http://www.google.com/bot.html)\"\n",
      "\n",
      "66.249.65.12 - - [30/Jan/2010:03:43:39 +0200] \"GET /browse/download_model/1969 HTTP/1.1\" 200 31713 \"-\" \"Mozilla/5.0 (compatible; Googlebot/2.1; +http://www.google.com/bot.html)\"\n",
      "\n",
      "66.249.65.12 - - [30/Jan/2010:04:05:43 +0200] \"GET /browse/one_node/1406 HTTP/1.1\" 302 118 \"-\" \"Mozilla/5.0 (compatible; Googlebot/2.1; +http://www.google.com/bot.html)\"\n",
      "\n",
      "66.249.65.12 - - [30/Jan/2010:04:05:51 +0200] \"GET /browse/one_model/1406 HTTP/1.1\" 200 2179 \"-\" \"Mozilla/5.0 (compatible; Googlebot/2.1; +http://www.google.com/bot.html)\"\n",
      "\n",
      "65.55.106.131 - - [30/Jan/2010:04:24:33 +0200] \"GET /robots.txt HTTP/1.1\" 200 99 \"-\" \"msnbot/2.0b (+http://search.msn.com/msnbot.htm)\"\n",
      "\n",
      "65.55.106.131 - - [30/Jan/2010:04:25:36 +0200] \"GET /browse/one_model/1200 HTTP/1.1\" 200 2180 \"-\" \"msnbot/2.0b (+http://search.msn.com/msnbot.htm)\"\n",
      "\n",
      "66.249.65.12 - - [30/Jan/2010:04:34:36 +0200] \"GET /browse/download_model/2170 HTTP/1.1\" 200 11772 \"-\" \"Mozilla/5.0 (compatible; Googlebot/2.1; +http://www.google.com/bot.html)\"\n",
      "\n",
      "66.249.65.12 - - [30/Jan/2010:04:39:37 +0200] \"GET /browse/browse_preview_tab/2499?tab=true HTTP/1.1\" 200 452 \"-\" \"Mozilla/5.0 (compatible; Googlebot/2.1; +http://www.google.com/bot.html)\"\n",
      "\n",
      "66.249.65.12 - - [30/Jan/2010:05:03:34 +0200] \"GET /browse/download_model/2244 HTTP/1.1\" 200 7215 \"-\" \"Mozilla/5.0 (compatible; Googlebot/2.1; +http://www.google.com/bot.html)\"\n",
      "\n",
      "66.249.65.12 - - [30/Jan/2010:05:32:31 +0200] \"GET /browse/download_model/1002 HTTP/1.1\" 200 3658 \"-\" \"Mozilla/5.0 (compatible; Googlebot/2.1; +http://www.google.com/bot.html)\"\n",
      "\n",
      "66.249.65.12 - - [30/Jan/2010:06:01:22 +0200] \"GET /browse/download_model/1200 HTTP/1.1\" 200 31950 \"-\" \"Mozilla/5.0 (compatible; Googlebot/2.1; +http://www.google.com/bot.html)\"\n",
      "\n",
      "66.249.65.12 - - [30/Jan/2010:06:30:19 +0200] \"GET /browse/download_model/2463 HTTP/1.1\" 200 3357 \"-\" \"Mozilla/5.0 (compatible; Googlebot/2.1; +http://www.google.com/bot.html)\"\n",
      "\n",
      "66.249.65.12 - - [30/Jan/2010:06:59:14 +0200] \"GET /browse/download_model/1861 HTTP/1.1\" 200 5136 \"-\" \"Mozilla/5.0 (compatible; Googlebot/2.1; +http://www.google.com/bot.html)\"\n",
      "\n",
      "65.55.106.186 - - [30/Jan/2010:07:07:13 +0200] \"GET /robots.txt HTTP/1.1\" 200 99 \"-\" \"msnbot/2.0b (+http://search.msn.com/msnbot.htm)\"\n",
      "\n",
      "65.55.106.186 - - [30/Jan/2010:07:08:06 +0200] \"GET /browse/about HTTP/1.1\" 200 2315 \"-\" \"msnbot/2.0b (+http://search.msn.com/msnbot.htm)\"\n",
      "\n",
      "66.249.65.12 - - [30/Jan/2010:07:28:09 +0200] \"GET /browse/download_model/1712 HTTP/1.1\" 200 11605 \"-\" \"Mozilla/5.0 (compatible; Googlebot/2.1; +http://www.google.com/bot.html)\"\n",
      "\n",
      "66.249.65.12 - - [30/Jan/2010:07:57:06 +0200] \"GET /browse/download_model/1192 HTTP/1.1\" 200 31656 \"-\" \"Mozilla/5.0 (compatible; Googlebot/2.1; +http://www.google.com/bot.html)\"\n",
      "\n",
      "66.249.65.12 - - [30/Jan/2010:08:26:00 +0200] \"GET /browse/download_model/1140 HTTP/1.1\" 200 4370 \"-\" \"Mozilla/5.0 (compatible; Googlebot/2.1; +http://www.google.com/bot.html)\"\n",
      "\n",
      "74.52.245.146 - - [30/Jan/2010:08:40:26 +0200] \"GET / HTTP/1.0\" 302 110 \"-\" \"Mozilla/5.0 (X11; U; Linux i686; en-US; rv:1.7.5) Gecko/20041107 Firefox/1.0\"\n",
      "\n",
      "74.52.245.146 - - [30/Jan/2010:08:40:26 +0200] \"GET /account/login HTTP/1.0\" 200 5801 \"-\" \"Mozilla/5.0 (X11; U; Linux i686; en-US; rv:1.7.5) Gecko/20041107 Firefox/1.0\"\n",
      "\n",
      "66.249.65.43 - - [30/Jan/2010:08:44:51 +0200] \"GET /robots.txt HTTP/1.1\" 200 99 \"-\" \"Mozilla/5.0 (compatible; Googlebot/2.1; +http://www.google.com/bot.html)\"\n",
      "\n",
      "66.249.65.43 - - [30/Jan/2010:08:44:52 +0200] \"GET / HTTP/1.1\" 302 112 \"-\" \"Mozilla/5.0 (compatible; Googlebot/2.1; +http://www.google.com/bot.html)\"\n",
      "\n",
      "66.249.65.43 - - [30/Jan/2010:08:44:52 +0200] \"GET /account/login HTTP/1.1\" 200 1935 \"-\" \"Mozilla/5.0 (compatible; Googlebot/2.1; +http://www.google.com/bot.html)\"\n",
      "\n",
      "66.249.65.12 - - [30/Jan/2010:08:54:53 +0200] \"GET /browse/download_model/2152 HTTP/1.1\" 200 7285 \"-\" \"Mozilla/5.0 (compatible; Googlebot/2.1; +http://www.google.com/bot.html)\"\n",
      "\n",
      "66.249.65.12 - - [30/Jan/2010:09:23:46 +0200] \"GET /browse/download_model/796 HTTP/1.1\" 200 3241 \"-\" \"Mozilla/5.0 (compatible; Googlebot/2.1; +http://www.google.com/bot.html)\"\n",
      "\n",
      "66.249.65.12 - - [30/Jan/2010:09:52:42 +0200] \"GET /browse/one_node/2177 HTTP/1.1\" 200 1556 \"-\" \"Mozilla/5.0 (compatible; Googlebot/2.1; +http://www.google.com/bot.html)\"\n",
      "\n",
      "66.249.65.12 - - [30/Jan/2010:10:21:43 +0200] \"GET /browse/one_node/2163 HTTP/1.1\" 200 4124 \"-\" \"Mozilla/5.0 (compatible; Googlebot/2.1; +http://www.google.com/bot.html)\"\n",
      "\n",
      "66.249.65.12 - - [30/Jan/2010:10:50:35 +0200] \"GET /browse/one_node/1193 HTTP/1.1\" 200 29168 \"-\" \"Mozilla/5.0 (compatible; Googlebot/2.1; +http://www.google.com/bot.html)\"\n",
      "\n",
      "66.249.65.12 - - [30/Jan/2010:11:19:27 +0200] \"GET /browse/one_node/1241 HTTP/1.1\" 200 7032 \"-\" \"Mozilla/5.0 (compatible; Googlebot/2.1; +http://www.google.com/bot.html)\"\n",
      "\n",
      "65.55.207.25 - - [30/Jan/2010:11:43:56 +0200] \"GET /robots.txt HTTP/1.1\" 200 99 \"-\" \"msnbot/2.0b (+http://search.msn.com/msnbot.htm)\"\n",
      "\n",
      "65.55.207.25 - - [30/Jan/2010:11:44:35 +0200] \"GET /help HTTP/1.1\" 304 - \"-\" \"msnbot/2.0b (+http://search.msn.com/msnbot.htm)\"\n",
      "\n",
      "66.249.65.12 - - [30/Jan/2010:11:48:31 +0200] \"GET /browse/download_model/2508 HTTP/1.1\" 200 11374 \"-\" \"Mozilla/5.0 (compatible; Googlebot/2.1; +http://www.google.com/bot.html)\"\n",
      "\n",
      "66.249.65.12 - - [30/Jan/2010:12:17:24 +0200] \"GET /browse/one_node/2509 HTTP/1.1\" 200 4766 \"-\" \"Mozilla/5.0 (compatible; Googlebot/2.1; +http://www.google.com/bot.html)\"\n",
      "\n",
      "66.249.65.12 - - [30/Jan/2010:12:46:17 +0200] \"GET /browse/one_node/1233 HTTP/1.1\" 200 79301 \"-\" \"Mozilla/5.0 (compatible; Googlebot/2.1; +http://www.google.com/bot.html)\"\n",
      "\n",
      "66.249.65.12 - - [30/Jan/2010:13:15:09 +0200] \"GET /browse/download_model/2508?version=1819 HTTP/1.1\" 200 11374 \"-\" \"Mozilla/5.0 (compatible; Googlebot/2.1; +http://www.google.com/bot.html)\"\n",
      "\n",
      "66.249.65.12 - - [30/Jan/2010:13:44:01 +0200] \"GET /browse/download_model/2508?version=1821 HTTP/1.1\" 200 11374 \"-\" \"Mozilla/5.0 (compatible; Googlebot/2.1; +http://www.google.com/bot.html)\"\n",
      "\n",
      "66.249.65.12 - - [30/Jan/2010:14:12:55 +0200] \"GET /browse/download_model/902 HTTP/1.1\" 200 5050 \"-\" \"Mozilla/5.0 (compatible; Googlebot/2.1; +http://www.google.com/bot.html)\"\n",
      "\n",
      "66.249.65.12 - - [30/Jan/2010:14:42:01 +0200] \"GET /browse/download_model/1679 HTTP/1.1\" 200 11290 \"-\" \"Mozilla/5.0 (compatible; Googlebot/2.1; +http://www.google.com/bot.html)\"\n",
      "\n",
      "65.55.207.94 - - [30/Jan/2010:15:02:52 +0200] \"GET /robots.txt HTTP/1.1\" 200 99 \"-\" \"msnbot/2.0b (+http://search.msn.com/msnbot.htm)\"\n",
      "\n",
      "65.55.207.94 - - [30/Jan/2010:15:03:36 +0200] \"GET /browse/one_model/900 HTTP/1.1\" 200 2165 \"-\" \"msnbot/2.0b (+http://search.msn.com/msnbot.htm)\"\n",
      "\n",
      "66.249.65.12 - - [30/Jan/2010:15:10:51 +0200] \"GET /browse/download_model/1612 HTTP/1.1\" 200 30540 \"-\" \"Mozilla/5.0 (compatible; Googlebot/2.1; +http://www.google.com/bot.html)\"\n",
      "\n",
      "65.55.207.71 - - [30/Jan/2010:15:32:04 +0200] \"GET /account/new HTTP/1.1\" 304 - \"-\" \"msnbot/2.0b (+http://search.msn.com/msnbot.htm)\"\n",
      "\n",
      "66.249.65.12 - - [30/Jan/2010:15:39:45 +0200] \"GET /browse/download_model/892 HTTP/1.1\" 200 4195 \"-\" \"Mozilla/5.0 (compatible; Googlebot/2.1; +http://www.google.com/bot.html)\"\n",
      "\n",
      "66.249.65.12 - - [30/Jan/2010:15:52:21 +0200] \"GET /system/avatars/7/thumb/fractal-tree-on-transparent-sm.png?1237131134 HTTP/1.1\" 304 - \"-\" \"Googlebot-Image/1.0\"\n",
      "\n",
      "66.249.65.12 - - [30/Jan/2010:16:08:36 +0200] \"GET /browse/download_model/1865 HTTP/1.1\" 200 19432 \"-\" \"Mozilla/5.0 (compatible; Googlebot/2.1; +http://www.google.com/bot.html)\"\n",
      "\n",
      "98.242.170.241 - - [30/Jan/2010:16:10:49 +0200] \"GET /dvdrental.com HTTP/1.1\" 404 947 \"http://www.dvdrental.com/modelingcommons.org\" \"Opera/9.80 (Windows NT 5.2; U; en) Presto/2.2.15 Version/10.10\"\n",
      "\n",
      "66.249.65.38 - - [30/Jan/2010:16:37:33 +0200] \"GET /browse/download_model/914 HTTP/1.1\" 200 6181 \"-\" \"Mozilla/5.0 (compatible; Googlebot/2.1; +http://www.google.com/bot.html)\"\n",
      "\n",
      "66.249.65.38 - - [30/Jan/2010:16:45:12 +0200] \"GET /browse/browse_applet_tab/2593?tab=true HTTP/1.1\" 200 10237 \"-\" \"Mozilla/5.0 (compatible; Googlebot/2.1; +http://www.google.com/bot.html)\"\n",
      "\n",
      "66.249.65.38 - - [30/Jan/2010:17:02:28 +0200] \"GET /javascripts/application.js?1264605648 HTTP/1.1\" 200 698 \"-\" \"Mozilla/5.0 (compatible; Googlebot/2.1; +http://www.google.com/bot.html)\"\n",
      "\n",
      "66.249.65.38 - - [30/Jan/2010:17:02:29 +0200] \"GET /stylesheets/browse.css?1264605648 HTTP/1.1\" 200 422 \"-\" \"Mozilla/5.0 (compatible; Googlebot/2.1; +http://www.google.com/bot.html)\"\n",
      "\n",
      "66.249.65.38 - - [30/Jan/2010:17:02:30 +0200] \"GET /javascripts/jquery.livequery.js?1264605648 HTTP/1.1\" 200 2135 \"-\" \"Mozilla/5.0 (compatible; Googlebot/2.1; +http://www.google.com/bot.html)\"\n",
      "\n",
      "66.249.65.38 - - [30/Jan/2010:17:02:30 +0200] \"GET /javascripts/jrails.js?1264605648 HTTP/1.1\" 200 1093 \"-\" \"Mozilla/5.0 (compatible; Googlebot/2.1; +http://www.google.com/bot.html)\"\n",
      "\n",
      "66.249.65.38 - - [30/Jan/2010:17:02:31 +0200] \"GET /stylesheets/themes/nlcommons/ui.all.css?1264605648 HTTP/1.1\" 200 52 \"-\" \"Mozilla/5.0 (compatible; Googlebot/2.1; +http://www.google.com/bot.html)\"\n",
      "\n",
      "66.249.65.38 - - [30/Jan/2010:17:02:31 +0200] \"GET /stylesheets/jquery.autocomplete.css?1264605648 HTTP/1.1\" 200 447 \"-\" \"Mozilla/5.0 (compatible; Googlebot/2.1; +http://www.google.com/bot.html)\"\n",
      "\n",
      "66.249.65.38 - - [30/Jan/2010:17:02:32 +0200] \"GET /stylesheets/nlcommons.css?1264605648 HTTP/1.1\" 200 1179 \"-\" \"Mozilla/5.0 (compatible; Googlebot/2.1; +http://www.google.com/bot.html)\"\n",
      "\n",
      "66.249.65.38 - - [30/Jan/2010:17:02:32 +0200] \"GET /javascripts/jquery.dataTables.js?1264605648 HTTP/1.1\" 200 15537 \"-\" \"Mozilla/5.0 (compatible; Googlebot/2.1; +http://www.google.com/bot.html)\"\n",
      "\n",
      "66.249.65.38 - - [30/Jan/2010:17:02:33 +0200] \"GET /javascripts/jquery.js?1264605648 HTTP/1.1\" 200 19740 \"-\" \"Mozilla/5.0 (compatible; Googlebot/2.1; +http://www.google.com/bot.html)\"\n",
      "\n",
      "66.249.65.38 - - [30/Jan/2010:17:02:34 +0200] \"GET /javascripts/nlcommons.js?1264605648 HTTP/1.1\" 200 20 \"-\" \"Mozilla/5.0 (compatible; Googlebot/2.1; +http://www.google.com/bot.html)\"\n",
      "\n",
      "66.249.65.38 - - [30/Jan/2010:17:02:34 +0200] \"GET /javascripts/jquery-ui.js?1264605648 HTTP/1.1\" 200 72080 \"-\" \"Mozilla/5.0 (compatible; Googlebot/2.1; +http://www.google.com/bot.html)\"\n",
      "\n",
      "66.249.65.38 - - [30/Jan/2010:17:02:35 +0200] \"GET /javascripts/jquery.autocomplete.js?1264605648 HTTP/1.1\" 200 6433 \"-\" \"Mozilla/5.0 (compatible; Googlebot/2.1; +http://www.google.com/bot.html)\"\n",
      "\n",
      "66.249.65.38 - - [30/Jan/2010:17:03:16 +0200] \"GET /stylesheets/themes/nlcommons/ui.base.css HTTP/1.1\" 200 111 \"-\" \"Mozilla/5.0 (compatible; Googlebot/2.1; +http://www.google.com/bot.html)\"\n",
      "\n",
      "66.249.65.38 - - [30/Jan/2010:17:03:16 +0200] \"GET /stylesheets/themes/nlcommons/ui.theme.css HTTP/1.1\" 200 2862 \"-\" \"Mozilla/5.0 (compatible; Googlebot/2.1; +http://www.google.com/bot.html)\"\n",
      "\n",
      "66.249.65.38 - - [30/Jan/2010:17:03:30 +0200] \"GET /stylesheets/themes/nlcommons/ui.core.css HTTP/1.1\" 200 624 \"-\" \"Mozilla/5.0 (compatible; Googlebot/2.1; +http://www.google.com/bot.html)\"\n",
      "\n",
      "66.249.65.38 - - [30/Jan/2010:17:03:31 +0200] \"GET /stylesheets/themes/nlcommons/ui.accordion.css HTTP/1.1\" 200 295 \"-\" \"Mozilla/5.0 (compatible; Googlebot/2.1; +http://www.google.com/bot.html)\"\n",
      "\n",
      "66.249.65.38 - - [30/Jan/2010:17:03:31 +0200] \"GET /stylesheets/themes/nlcommons/ui.datepicker.css HTTP/1.1\" 200 965 \"-\" \"Mozilla/5.0 (compatible; Googlebot/2.1; +http://www.google.com/bot.html)\"\n",
      "\n",
      "66.249.65.38 - - [30/Jan/2010:17:03:32 +0200] \"GET /stylesheets/themes/nlcommons/ui.dialog.css HTTP/1.1\" 200 442 \"-\" \"Mozilla/5.0 (compatible; Googlebot/2.1; +http://www.google.com/bot.html)\"\n",
      "\n",
      "66.249.65.38 - - [30/Jan/2010:17:03:32 +0200] \"GET /stylesheets/themes/nlcommons/ui.slider.css HTTP/1.1\" 200 318 \"-\" \"Mozilla/5.0 (compatible; Googlebot/2.1; +http://www.google.com/bot.html)\"\n",
      "\n",
      "66.249.65.38 - - [30/Jan/2010:17:03:33 +0200] \"GET /stylesheets/themes/nlcommons/ui.progressbar.css HTTP/1.1\" 200 114 \"-\" \"Mozilla/5.0 (compatible; Googlebot/2.1; +http://www.google.com/bot.html)\"\n",
      "\n",
      "66.249.65.38 - - [30/Jan/2010:17:03:34 +0200] \"GET /stylesheets/themes/nlcommons/ui.tabs.css HTTP/1.1\" 200 414 \"-\" \"Mozilla/5.0 (compatible; Googlebot/2.1; +http://www.google.com/bot.html)\"\n",
      "\n",
      "66.249.65.38 - - [30/Jan/2010:17:03:34 +0200] \"GET /stylesheets/themes/nlcommons/ui.resizable.css HTTP/1.1\" 200 307 \"-\" \"Mozilla/5.0 (compatible; Googlebot/2.1; +http://www.google.com/bot.html)\"\n",
      "\n",
      "66.249.65.38 - - [30/Jan/2010:17:06:29 +0200] \"GET /browse/download_model/743 HTTP/1.1\" 200 10552 \"-\" \"Mozilla/5.0 (compatible; Googlebot/2.1; +http://www.google.com/bot.html)\"\n",
      "\n",
      "66.249.65.38 - - [30/Jan/2010:17:35:24 +0200] \"GET /browse/download_model/2547 HTTP/1.1\" 200 40914 \"-\" \"Mozilla/5.0 (compatible; Googlebot/2.1; +http://www.google.com/bot.html)\"\n",
      "\n",
      "65.55.207.126 - - [30/Jan/2010:17:46:11 +0200] \"GET /robots.txt HTTP/1.1\" 200 99 \"-\" \"msnbot/2.0b (+http://search.msn.com/msnbot.htm)\"\n",
      "\n",
      "65.55.207.126 - - [30/Jan/2010:17:48:32 +0200] \"GET /browse/one_model/1002 HTTP/1.1\" 200 2173 \"-\" \"msnbot/2.0b (+http://search.msn.com/msnbot.htm)\"\n",
      "\n",
      "66.249.65.38 - - [30/Jan/2010:18:04:31 +0200] \"GET /browse/download_model/1210 HTTP/1.1\" 200 11948 \"-\" \"Mozilla/5.0 (compatible; Googlebot/2.1; +http://www.google.com/bot.html)\"\n",
      "\n",
      "66.249.65.38 - - [30/Jan/2010:18:33:30 +0200] \"GET /browse/download_model/849 HTTP/1.1\" 200 6836 \"-\" \"Mozilla/5.0 (compatible; Googlebot/2.1; +http://www.google.com/bot.html)\"\n",
      "\n",
      "66.249.65.38 - - [30/Jan/2010:18:53:53 +0200] \"GET /tags/one_tag/27 HTTP/1.1\" 200 2033 \"-\" \"Mozilla/5.0 (compatible; Googlebot/2.1; +http://www.google.com/bot.html)\"\n",
      "\n",
      "66.249.65.38 - - [30/Jan/2010:19:02:20 +0200] \"GET /browse/download_model/739 HTTP/1.1\" 200 11302 \"-\" \"Mozilla/5.0 (compatible; Googlebot/2.1; +http://www.google.com/bot.html)\"\n",
      "\n",
      "82.34.9.20 - - [30/Jan/2010:19:18:24 +0200] \"GET /account/models/33 HTTP/1.1\" 200 23774 \"http://www.google.co.uk/search?hl=en&q=%22netlogo%22+sokoban&btnG=Search&meta=&aq=f&oq=\" \"Mozilla/4.0 (compatible; MSIE 8.0; Windows NT 5.1; Trident/4.0; .NET CLR 2.0.50727; .NET CLR 3.0.4506.2152; .NET CLR 3.5.30729; InfoPath.1)\"\n",
      "\n",
      "82.34.9.20 - - [30/Jan/2010:19:18:18 +0200] \"GET /account/models/33 HTTP/1.1\" 200 23774 \"http://www.google.co.uk/search?hl=en&q=%22netlogo%22+sokoban&btnG=Search&meta=&aq=f&oq=\" \"Mozilla/4.0 (compatible; MSIE 8.0; Windows NT 5.1; Trident/4.0; .NET CLR 2.0.50727; .NET CLR 3.0.4506.2152; .NET CLR 3.5.30729; InfoPath.1)\"\n",
      "\n",
      "66.249.65.38 - - [30/Jan/2010:19:31:07 +0200] \"GET /browse/download_model/838 HTTP/1.1\" 200 7691 \"-\" \"Mozilla/5.0 (compatible; Googlebot/2.1; +http://www.google.com/bot.html)\"\n",
      "\n",
      "66.249.65.38 - - [30/Jan/2010:20:00:20 +0200] \"GET /browse/download_model/2316 HTTP/1.1\" 200 48709 \"-\" \"Mozilla/5.0 (compatible; Googlebot/2.1; +http://www.google.com/bot.html)\"\n",
      "\n",
      "66.249.65.38 - - [30/Jan/2010:20:28:55 +0200] \"GET /browse/download_model/840 HTTP/1.1\" 200 6063 \"-\" \"Mozilla/5.0 (compatible; Googlebot/2.1; +http://www.google.com/bot.html)\"\n",
      "\n",
      "66.249.65.38 - - [30/Jan/2010:20:47:05 +0200] \"GET /?id=7 HTTP/1.1\" 200 3058 \"-\" \"Mozilla/5.0 (compatible; Googlebot/2.1; +http://www.google.com/bot.html)\"\n",
      "\n",
      "66.249.65.38 - - [30/Jan/2010:20:57:43 +0200] \"GET /browse/download_model/806 HTTP/1.1\" 200 4263 \"-\" \"Mozilla/5.0 (compatible; Googlebot/2.1; +http://www.google.com/bot.html)\"\n",
      "\n",
      "66.249.65.38 - - [30/Jan/2010:21:07:44 +0200] \"GET /account/mypage/17 HTTP/1.1\" 200 3103 \"-\" \"Mozilla/5.0 (compatible; Googlebot/2.1; +http://www.google.com/bot.html)\"\n",
      "\n",
      "66.249.65.38 - - [30/Jan/2010:21:26:36 +0200] \"GET /browse/download_model/1891 HTTP/1.1\" 200 8570 \"-\" \"Mozilla/5.0 (compatible; Googlebot/2.1; +http://www.google.com/bot.html)\"\n",
      "\n",
      "66.249.65.38 - - [30/Jan/2010:21:56:01 +0200] \"GET /browse/download_model/1881 HTTP/1.1\" 200 9618 \"-\" \"Mozilla/5.0 (compatible; Googlebot/2.1; +http://www.google.com/bot.html)\"\n",
      "\n",
      "66.249.65.38 - - [30/Jan/2010:22:25:13 +0200] \"GET /browse/download_model/735 HTTP/1.1\" 200 16848 \"-\" \"Mozilla/5.0 (compatible; Googlebot/2.1; +http://www.google.com/bot.html)\"\n",
      "\n",
      "65.55.106.155 - - [30/Jan/2010:22:25:26 +0200] \"GET /robots.txt HTTP/1.1\" 200 99 \"-\" \"msnbot/2.0b (+http://search.msn.com/msnbot.htm)\"\n",
      "\n",
      "65.55.106.155 - - [30/Jan/2010:22:26:11 +0200] \"GET /account/send_password HTTP/1.1\" 304 - \"-\" \"msnbot/2.0b (+http://search.msn.com/msnbot.htm)\"\n",
      "\n",
      "66.249.65.38 - - [30/Jan/2010:22:53:40 +0200] \"GET /browse/download_model/1779 HTTP/1.1\" 200 8576 \"-\" \"Mozilla/5.0 (compatible; Googlebot/2.1; +http://www.google.com/bot.html)\"\n",
      "\n",
      "66.249.65.38 - - [30/Jan/2010:23:21:25 +0200] \"GET /browse/follow/2029.atom HTTP/1.1\" 200 653 \"-\" \"Mozilla/5.0 (compatible; Googlebot/2.1; +http://www.google.com/bot.html)\"\n",
      "\n",
      "66.249.65.38 - - [30/Jan/2010:23:22:21 +0200] \"GET /browse/download_model/788 HTTP/1.1\" 200 3865 \"-\" \"Mozilla/5.0 (compatible; Googlebot/2.1; +http://www.google.com/bot.html)\"\n",
      "\n",
      "66.249.65.38 - - [30/Jan/2010:23:28:41 +0200] \"GET /images/default-person.png?1245832850 HTTP/1.1\" 200 677 \"-\" \"Googlebot-Image/1.0\"\n",
      "\n",
      "66.249.65.38 - - [30/Jan/2010:23:53:12 +0200] \"GET /browse/download_model/2340 HTTP/1.1\" 200 30305 \"-\" \"Mozilla/5.0 (compatible; Googlebot/2.1; +http://www.google.com/bot.html)\"\n",
      "\n",
      "65.55.207.77 - - [31/Jan/2010:00:06:37 +0200] \"GET /robots.txt HTTP/1.1\" 200 99 \"-\" \"msnbot/2.0b (+http://search.msn.com/msnbot.htm)\"\n",
      "\n",
      "65.55.207.77 - - [31/Jan/2010:00:09:36 +0200] \"GET /browse/one_model/2152 HTTP/1.1\" 200 2195 \"-\" \"msnbot/2.0b (+http://search.msn.com/msnbot.htm)\"\n",
      "\n",
      "66.249.65.38 - - [31/Jan/2010:01:15:50 +0200] \"GET /account/follow/2029.atom HTTP/1.1\" 404 577 \"-\" \"Mozilla/5.0 (compatible; Googlebot/2.1; +http://www.google.com/bot.html)\"\n",
      "\n",
      "67.218.116.165 - - [31/Jan/2010:01:23:08 +0200] \"GET /robots.txt HTTP/1.0\" 200 99 \"-\" \"Mozilla/5.0 (Twiceler-0.9 http://www.cuil.com/twiceler/robot.html)\"\n",
      "\n",
      "66.249.65.38 - - [31/Jan/2010:01:35:43 +0200] \"GET /browse/one_model/2099 HTTP/1.1\" 200 2179 \"-\" \"Mozilla/5.0 (compatible; Googlebot/2.1; +http://www.google.com/bot.html)\"\n",
      "\n",
      "208.80.193.28 - - [31/Jan/2010:01:50:14 +0200] \"GET / HTTP/1.0\" 302 106 \"-\" \"Mozilla/4.0 (compatible; MSIE 6.0; Windows NT 5.1; SV1; FunWebProducts; .NET CLR 1.0.3705; .NET CLR 1.1.4322; Media Center PC 4.0; Hotbar 10.0.356.0)\"\n",
      "\n",
      "66.249.65.38 - - [31/Jan/2010:02:17:46 +0200] \"GET /browse/download_model/985 HTTP/1.1\" 200 3204 \"-\" \"Mozilla/5.0 (compatible; Googlebot/2.1; +http://www.google.com/bot.html)\"\n",
      "\n",
      "66.249.65.38 - - [31/Jan/2010:02:48:17 +0200] \"GET /browse/download_model/2162 HTTP/1.1\" 200 9362 \"-\" \"Mozilla/5.0 (compatible; Googlebot/2.1; +http://www.google.com/bot.html)\"\n",
      "\n",
      "66.249.65.38 - - [31/Jan/2010:02:51:11 +0200] \"GET /browse/display_preview/2099 HTTP/1.1\" 200 7563 \"-\" \"Googlebot-Image/1.0\"\n",
      "\n",
      "66.249.65.38 - - [31/Jan/2010:03:04:16 +0200] \"GET /browse/download_model/993 HTTP/1.1\" 200 3175 \"-\" \"Mozilla/5.0 (compatible; Googlebot/2.1; +http://www.google.com/bot.html)\"\n",
      "\n",
      "66.249.65.38 - - [31/Jan/2010:03:29:31 +0200] \"GET /robots.txt HTTP/1.1\" 200 99 \"-\" \"Mozilla/5.0 (compatible; Googlebot/2.1; +http://www.google.com/bot.html)\"\n",
      "\n",
      "66.249.65.38 - - [31/Jan/2010:03:29:31 +0200] \"GET /browse/download_model/977 HTTP/1.1\" 200 2992 \"-\" \"Mozilla/5.0 (compatible; Googlebot/2.1; +http://www.google.com/bot.html)\"\n",
      "\n",
      "66.249.65.38 - - [31/Jan/2010:03:49:42 +0200] \"GET /tags/one_tag/42 HTTP/1.1\" 200 2014 \"-\" \"Mozilla/5.0 (compatible; Googlebot/2.1; +http://www.google.com/bot.html)\"\n",
      "\n",
      "66.249.65.38 - - [31/Jan/2010:03:54:44 +0200] \"GET /browse/download_model/746 HTTP/1.1\" 200 12754 \"-\" \"Mozilla/5.0 (compatible; Googlebot/2.1; +http://www.google.com/bot.html)\"\n",
      "\n",
      "66.249.65.38 - - [31/Jan/2010:04:19:51 +0200] \"GET /browse/download_model/815 HTTP/1.1\" 200 6284 \"-\" \"Mozilla/5.0 (compatible; Googlebot/2.1; +http://www.google.com/bot.html)\"\n",
      "\n",
      "89.248.172.58 - - [31/Jan/2010:04:32:52 +0200] \"GET /account/mypage/7 HTTP/1.1\" 200 14292 \"-\" \"Mozilla/4.0 (compatible; MSIE 6.0; Windows NT 5.1; SV1)\"\n",
      "\n",
      "89.248.172.58 - - [31/Jan/2010:04:33:03 +0200] \"GET / HTTP/1.1\" 302 106 \"-\" \"Mozilla/4.0 (compatible; MSIE 6.0; Windows NT 5.1; SV1)\"\n",
      "\n",
      "89.248.172.58 - - [31/Jan/2010:04:33:03 +0200] \"GET /account/login HTTP/1.1\" 200 5998 \"-\" \"Mozilla/4.0 (compatible; MSIE 6.0; Windows NT 5.1; SV1)\"\n",
      "\n",
      "89.248.172.58 - - [31/Jan/2010:04:33:04 +0200] \"GET /browse/list_models HTTP/1.1\" 200 21752 \"-\" \"Mozilla/4.0 (compatible; MSIE 6.0; Windows NT 5.1; SV1)\"\n",
      "\n",
      "89.248.172.58 - - [31/Jan/2010:04:33:05 +0200] \"GET /browse/about HTTP/1.1\" 200 6801 \"-\" \"Mozilla/4.0 (compatible; MSIE 6.0; Windows NT 5.1; SV1)\"\n",
      "\n",
      "89.248.172.58 - - [31/Jan/2010:04:33:06 +0200] \"GET /help HTTP/1.1\" 200 5683 \"-\" \"Mozilla/4.0 (compatible; MSIE 6.0; Windows NT 5.1; SV1)\"\n",
      "\n",
      "89.248.172.58 - - [31/Jan/2010:04:33:06 +0200] \"GET /account/login HTTP/1.1\" 200 5801 \"-\" \"Mozilla/4.0 (compatible; MSIE 6.0; Windows NT 5.1; SV1)\"\n",
      "\n",
      "89.248.172.58 - - [31/Jan/2010:04:33:07 +0200] \"GET /account/follow/7.atom HTTP/1.1\" 200 4893 \"-\" \"Mozilla/4.0 (compatible; MSIE 6.0; Windows NT 5.1; SV1)\"\n",
      "\n",
      "89.248.172.58 - - [31/Jan/2010:04:33:07 +0200] \"GET /browse/one_model/1210 HTTP/1.1\" 200 6905 \"-\" \"Mozilla/4.0 (compatible; MSIE 6.0; Windows NT 5.1; SV1)\"\n",
      "\n",
      "89.248.172.58 - - [31/Jan/2010:04:33:08 +0200] \"GET /browse/one_model/1390 HTTP/1.1\" 200 6957 \"-\" \"Mozilla/4.0 (compatible; MSIE 6.0; Windows NT 5.1; SV1)\"\n",
      "\n",
      "89.248.172.58 - - [31/Jan/2010:04:33:09 +0200] \"GET /browse/one_model/2495 HTTP/1.1\" 200 7013 \"-\" \"Mozilla/4.0 (compatible; MSIE 6.0; Windows NT 5.1; SV1)\"\n",
      "\n",
      "89.248.172.58 - - [31/Jan/2010:04:33:09 +0200] \"GET /browse/one_model/2518 HTTP/1.1\" 200 6869 \"-\" \"Mozilla/4.0 (compatible; MSIE 6.0; Windows NT 5.1; SV1)\"\n",
      "\n",
      "89.248.172.58 - - [31/Jan/2010:04:33:10 +0200] \"GET /browse/one_model/1408 HTTP/1.1\" 200 6893 \"-\" \"Mozilla/4.0 (compatible; MSIE 6.0; Windows NT 5.1; SV1)\"\n",
      "\n",
      "89.248.172.58 - - [31/Jan/2010:04:33:11 +0200] \"GET /tags/one_tag/48 HTTP/1.1\" 200 6313 \"-\" \"Mozilla/4.0 (compatible; MSIE 6.0; Windows NT 5.1; SV1)\"\n",
      "\n",
      "89.248.172.58 - - [31/Jan/2010:04:33:11 +0200] \"GET /tags/one_tag/8 HTTP/1.1\" 200 6295 \"-\" \"Mozilla/4.0 (compatible; MSIE 6.0; Windows NT 5.1; SV1)\"\n",
      "\n",
      "89.248.172.58 - - [31/Jan/2010:04:33:12 +0200] \"GET /browse/one_model/815 HTTP/1.1\" 200 6839 \"-\" \"Mozilla/4.0 (compatible; MSIE 6.0; Windows NT 5.1; SV1)\"\n",
      "\n",
      "89.248.172.58 - - [31/Jan/2010:04:33:13 +0200] \"GET /browse/one_model/2547 HTTP/1.1\" 200 6890 \"-\" \"Mozilla/4.0 (compatible; MSIE 6.0; Windows NT 5.1; SV1)\"\n",
      "\n",
      "89.248.172.58 - - [31/Jan/2010:04:33:13 +0200] \"GET /browse/one_model/1578 HTTP/1.1\" 200 6913 \"-\" \"Mozilla/4.0 (compatible; MSIE 6.0; Windows NT 5.1; SV1)\"\n",
      "\n",
      "89.248.172.58 - - [31/Jan/2010:04:33:14 +0200] \"GET /browse/one_model/2510 HTTP/1.1\" 200 6829 \"-\" \"Mozilla/4.0 (compatible; MSIE 6.0; Windows NT 5.1; SV1)\"\n",
      "\n",
      "89.248.172.58 - - [31/Jan/2010:04:33:14 +0200] \"GET /browse/one_model/999 HTTP/1.1\" 200 6860 \"-\" \"Mozilla/4.0 (compatible; MSIE 6.0; Windows NT 5.1; SV1)\"\n",
      "\n",
      "89.248.172.58 - - [31/Jan/2010:04:33:15 +0200] \"GET /account/models/7 HTTP/1.1\" 200 8787 \"-\" \"Mozilla/4.0 (compatible; MSIE 6.0; Windows NT 5.1; SV1)\"\n",
      "\n",
      "89.248.172.58 - - [31/Jan/2010:04:33:16 +0200] \"GET /?id=17 HTTP/1.1\" 200 14542 \"-\" \"Mozilla/4.0 (compatible; MSIE 6.0; Windows NT 5.1; SV1)\"\n",
      "\n",
      "66.249.65.38 - - [31/Jan/2010:04:45:02 +0200] \"GET /browse/download_model/2182 HTTP/1.1\" 200 16607 \"-\" \"Mozilla/5.0 (compatible; Googlebot/2.1; +http://www.google.com/bot.html)\"\n",
      "\n",
      "66.249.65.38 - - [31/Jan/2010:05:10:16 +0200] \"GET /browse/download_model/900 HTTP/1.1\" 200 3440 \"-\" \"Mozilla/5.0 (compatible; Googlebot/2.1; +http://www.google.com/bot.html)\"\n",
      "\n",
      "66.249.65.38 - - [31/Jan/2010:05:17:05 +0200] \"GET /?id=8 HTTP/1.1\" 200 3018 \"-\" \"Mozilla/5.0 (compatible; Googlebot/2.1; +http://www.google.com/bot.html)\"\n",
      "\n",
      "66.249.65.38 - - [31/Jan/2010:05:35:29 +0200] \"GET /browse/download_model/797 HTTP/1.1\" 200 11950 \"-\" \"Mozilla/5.0 (compatible; Googlebot/2.1; +http://www.google.com/bot.html)\"\n",
      "\n",
      "66.249.65.38 - - [31/Jan/2010:06:00:42 +0200] \"GET /browse/download_model/2606 HTTP/1.1\" 200 357240 \"-\" \"Mozilla/5.0 (compatible; Googlebot/2.1; +http://www.google.com/bot.html)\"\n",
      "\n",
      "66.249.65.38 - - [31/Jan/2010:06:03:13 +0200] \"GET /browse/one_model/993 HTTP/1.1\" 200 2170 \"-\" \"Mozilla/5.0 (compatible; Googlebot/2.1; +http://www.google.com/bot.html)\"\n",
      "\n",
      "66.249.65.38 - - [31/Jan/2010:06:25:55 +0200] \"GET /browse/download_model/2601 HTTP/1.1\" 200 2498832 \"-\" \"Mozilla/5.0 (compatible; Googlebot/2.1; +http://www.google.com/bot.html)\"\n",
      "\n",
      "66.249.65.38 - - [31/Jan/2010:06:51:01 +0200] \"GET /browse/download_model/2596 HTTP/1.1\" 200 220990 \"-\" \"Mozilla/5.0 (compatible; Googlebot/2.1; +http://www.google.com/bot.html)\"\n",
      "\n",
      "66.249.65.38 - - [31/Jan/2010:07:06:26 +0200] \"GET /browse/display_preview/2244 HTTP/1.1\" 200 4072 \"-\" \"Googlebot-Image/1.0\"\n",
      "\n",
      "66.249.65.38 - - [31/Jan/2010:07:16:18 +0200] \"GET /browse/download_model/2752 HTTP/1.1\" 200 3146 \"-\" \"Mozilla/5.0 (compatible; Googlebot/2.1; +http://www.google.com/bot.html)\"\n",
      "\n",
      "66.249.65.38 - - [31/Jan/2010:07:41:27 +0200] \"GET /browse/download_model/2492 HTTP/1.1\" 200 1680079 \"-\" \"Mozilla/5.0 (compatible; Googlebot/2.1; +http://www.google.com/bot.html)\"\n",
      "\n",
      "66.249.65.38 - - [31/Jan/2010:08:06:40 +0200] \"GET /browse/download_model/1408 HTTP/1.1\" 200 25038 \"-\" \"Mozilla/5.0 (compatible; Googlebot/2.1; +http://www.google.com/bot.html)\"\n",
      "\n",
      "66.249.65.38 - - [31/Jan/2010:08:31:50 +0200] \"GET /browse/download_model/2511 HTTP/1.1\" 200 39499 \"-\" \"Mozilla/5.0 (compatible; Googlebot/2.1; +http://www.google.com/bot.html)\"\n",
      "\n",
      "66.249.65.38 - - [31/Jan/2010:08:56:59 +0200] \"GET /browse/download_model/2479 HTTP/1.1\" 200 39598 \"-\" \"Mozilla/5.0 (compatible; Googlebot/2.1; +http://www.google.com/bot.html)\"\n",
      "\n",
      "66.249.65.38 - - [31/Jan/2010:09:22:13 +0200] \"GET /browse/download_model/2754 HTTP/1.1\" 200 3279 \"-\" \"Mozilla/5.0 (compatible; Googlebot/2.1; +http://www.google.com/bot.html)\"\n",
      "\n",
      "66.249.65.38 - - [31/Jan/2010:09:47:25 +0200] \"GET /browse/download_model/2751 HTTP/1.1\" 200 3146 \"-\" \"Mozilla/5.0 (compatible; Googlebot/2.1; +http://www.google.com/bot.html)\"\n",
      "\n",
      "66.249.65.38 - - [31/Jan/2010:10:12:33 +0200] \"GET /browse/download_model/2656 HTTP/1.1\" 200 117532 \"-\" \"Mozilla/5.0 (compatible; Googlebot/2.1; +http://www.google.com/bot.html)\"\n",
      "\n",
      "66.249.65.38 - - [31/Jan/2010:10:30:53 +0200] \"GET /browse/one_node/2701 HTTP/1.1\" 200 39424 \"-\" \"Mozilla/5.0 (compatible; Googlebot/2.1; +http://www.google.com/bot.html)\"\n",
      "\n",
      "66.249.65.38 - - [31/Jan/2010:10:37:46 +0200] \"GET /browse/download_model/935 HTTP/1.1\" 200 5014 \"-\" \"Mozilla/5.0 (compatible; Googlebot/2.1; +http://www.google.com/bot.html)\"\n",
      "\n",
      "66.249.65.38 - - [31/Jan/2010:11:03:00 +0200] \"GET /browse/download_model/717 HTTP/1.1\" 200 30442 \"-\" \"Mozilla/5.0 (compatible; Googlebot/2.1; +http://www.google.com/bot.html)\"\n",
      "\n",
      "66.249.65.38 - - [31/Jan/2010:11:28:14 +0200] \"GET /browse/download_model/751 HTTP/1.1\" 200 7485 \"-\" \"Mozilla/5.0 (compatible; Googlebot/2.1; +http://www.google.com/bot.html)\"\n",
      "\n",
      "66.249.65.38 - - [31/Jan/2010:11:53:26 +0200] \"GET /browse/download_model/2549 HTTP/1.1\" 200 5052 \"-\" \"Mozilla/5.0 (compatible; Googlebot/2.1; +http://www.google.com/bot.html)\"\n",
      "\n",
      "66.249.65.38 - - [31/Jan/2010:12:18:38 +0200] \"GET /browse/download_model/2650 HTTP/1.1\" 200 57739 \"-\" \"Mozilla/5.0 (compatible; Googlebot/2.1; +http://www.google.com/bot.html)\"\n",
      "\n",
      "66.249.65.38 - - [31/Jan/2010:12:43:41 +0200] \"GET /browse/download_model/729 HTTP/1.1\" 200 13146 \"-\" \"Mozilla/5.0 (compatible; Googlebot/2.1; +http://www.google.com/bot.html)\"\n",
      "\n",
      "66.249.65.38 - - [31/Jan/2010:12:45:28 +0200] \"GET /browse/browse_applet_tab/2593 HTTP/1.1\" 200 10305 \"-\" \"Mozilla/5.0 (compatible; Googlebot/2.1; +http://www.google.com/bot.html)\"\n",
      "\n",
      "66.249.65.38 - - [31/Jan/2010:13:09:00 +0200] \"GET /browse/download_model/814 HTTP/1.1\" 200 3066 \"-\" \"Mozilla/5.0 (compatible; Googlebot/2.1; +http://www.google.com/bot.html)\"\n",
      "\n",
      "66.249.65.38 - - [31/Jan/2010:13:34:05 +0200] \"GET /browse/download_model/2629 HTTP/1.1\" 200 62903 \"-\" \"Mozilla/5.0 (compatible; Googlebot/2.1; +http://www.google.com/bot.html)\"\n",
      "\n",
      "66.249.65.38 - - [31/Jan/2010:13:59:27 +0200] \"GET /browse/download_model/2644 HTTP/1.1\" 200 12122 \"-\" \"Mozilla/5.0 (compatible; Googlebot/2.1; +http://www.google.com/bot.html)\"\n",
      "\n",
      "66.249.65.38 - - [31/Jan/2010:14:24:30 +0200] \"GET /browse/download_model/804 HTTP/1.1\" 200 4085 \"-\" \"Mozilla/5.0 (compatible; Googlebot/2.1; +http://www.google.com/bot.html)\"\n",
      "\n",
      "67.195.112.35 - - [31/Jan/2010:14:45:44 +0200] \"GET /robots.txt HTTP/1.0\" 200 99 \"-\" \"Mozilla/5.0 (compatible; Yahoo! Slurp; http://help.yahoo.com/help/us/ysearch/slurp)\"\n",
      "\n",
      "67.195.112.35 - - [31/Jan/2010:14:45:44 +0200] \"GET /account/new HTTP/1.0\" 200 2226 \"-\" \"Mozilla/5.0 (compatible; Yahoo! Slurp/3.0; http://help.yahoo.com/help/us/ysearch/slurp)\"\n",
      "\n",
      "67.195.112.35 - - [31/Jan/2010:14:45:47 +0200] \"GET /stylesheets/nlcommons.css?1264605648 HTTP/1.0\" 200 1179 \"http://modelingcommons.org/account/new\" \"Mozilla/5.0 (compatible; Yahoo! Slurp/3.0; http://help.yahoo.com/help/us/ysearch/slurp)\"\n",
      "\n",
      "67.195.112.35 - - [31/Jan/2010:14:45:50 +0200] \"GET /stylesheets/browse.css?1264605648 HTTP/1.0\" 200 422 \"http://modelingcommons.org/account/new\" \"Mozilla/5.0 (compatible; Yahoo! Slurp/3.0; http://help.yahoo.com/help/us/ysearch/slurp)\"\n",
      "\n",
      "67.195.112.35 - - [31/Jan/2010:14:45:52 +0200] \"GET /stylesheets/jquery.autocomplete.css?1264605648 HTTP/1.0\" 200 447 \"http://modelingcommons.org/account/new\" \"Mozilla/5.0 (compatible; Yahoo! Slurp/3.0; http://help.yahoo.com/help/us/ysearch/slurp)\"\n",
      "\n",
      "67.195.112.35 - - [31/Jan/2010:14:45:55 +0200] \"GET /stylesheets/themes/nlcommons/ui.all.css?1264605648 HTTP/1.0\" 200 52 \"http://modelingcommons.org/account/new\" \"Mozilla/5.0 (compatible; Yahoo! Slurp/3.0; http://help.yahoo.com/help/us/ysearch/slurp)\"\n",
      "\n",
      "67.195.112.35 - - [31/Jan/2010:14:45:57 +0200] \"GET /stylesheets/themes/nlcommons/ui.theme.css HTTP/1.0\" 200 2862 \"http://modelingcommons.org/stylesheets/themes/nlcommons/ui.all.css?1264605648\" \"Mozilla/5.0 (compatible; Yahoo! Slurp/3.0; http://help.yahoo.com/help/us/ysearch/slurp)\"\n",
      "\n",
      "67.195.112.35 - - [31/Jan/2010:14:45:57 +0200] \"GET /stylesheets/themes/nlcommons/ui.base.css HTTP/1.0\" 200 111 \"http://modelingcommons.org/stylesheets/themes/nlcommons/ui.all.css?1264605648\" \"Mozilla/5.0 (compatible; Yahoo! Slurp/3.0; http://help.yahoo.com/help/us/ysearch/slurp)\"\n",
      "\n",
      "67.195.112.35 - - [31/Jan/2010:14:45:59 +0200] \"GET /stylesheets/themes/nlcommons/ui.slider.css HTTP/1.0\" 200 318 \"http://modelingcommons.org/stylesheets/themes/nlcommons/ui.base.css\" \"Mozilla/5.0 (compatible; Yahoo! Slurp/3.0; http://help.yahoo.com/help/us/ysearch/slurp)\"\n",
      "\n",
      "67.195.112.35 - - [31/Jan/2010:14:45:59 +0200] \"GET /stylesheets/themes/nlcommons/ui.core.css HTTP/1.0\" 200 624 \"http://modelingcommons.org/stylesheets/themes/nlcommons/ui.base.css\" \"Mozilla/5.0 (compatible; Yahoo! Slurp/3.0; http://help.yahoo.com/help/us/ysearch/slurp)\"\n",
      "\n",
      "67.195.112.35 - - [31/Jan/2010:14:45:59 +0200] \"GET /stylesheets/themes/nlcommons/ui.tabs.css HTTP/1.0\" 200 414 \"http://modelingcommons.org/stylesheets/themes/nlcommons/ui.base.css\" \"Mozilla/5.0 (compatible; Yahoo! Slurp/3.0; http://help.yahoo.com/help/us/ysearch/slurp)\"\n",
      "\n",
      "67.195.112.35 - - [31/Jan/2010:14:45:59 +0200] \"GET /stylesheets/themes/nlcommons/ui.accordion.css HTTP/1.0\" 200 295 \"http://modelingcommons.org/stylesheets/themes/nlcommons/ui.base.css\" \"Mozilla/5.0 (compatible; Yahoo! Slurp/3.0; http://help.yahoo.com/help/us/ysearch/slurp)\"\n",
      "\n",
      "67.195.112.35 - - [31/Jan/2010:14:45:59 +0200] \"GET /stylesheets/themes/nlcommons/ui.dialog.css HTTP/1.0\" 200 442 \"http://modelingcommons.org/stylesheets/themes/nlcommons/ui.base.css\" \"Mozilla/5.0 (compatible; Yahoo! Slurp/3.0; http://help.yahoo.com/help/us/ysearch/slurp)\"\n",
      "\n",
      "67.195.112.35 - - [31/Jan/2010:14:45:59 +0200] \"GET /stylesheets/themes/nlcommons/ui.resizable.css HTTP/1.0\" 200 307 \"http://modelingcommons.org/stylesheets/themes/nlcommons/ui.base.css\" \"Mozilla/5.0 (compatible; Yahoo! Slurp/3.0; http://help.yahoo.com/help/us/ysearch/slurp)\"\n",
      "\n",
      "67.195.112.35 - - [31/Jan/2010:14:45:59 +0200] \"GET /stylesheets/themes/nlcommons/ui.datepicker.css HTTP/1.0\" 200 965 \"http://modelingcommons.org/stylesheets/themes/nlcommons/ui.base.css\" \"Mozilla/5.0 (compatible; Yahoo! Slurp/3.0; http://help.yahoo.com/help/us/ysearch/slurp)\"\n",
      "\n",
      "67.195.112.35 - - [31/Jan/2010:14:45:59 +0200] \"GET /stylesheets/themes/nlcommons/ui.progressbar.css HTTP/1.0\" 200 114 \"http://modelingcommons.org/stylesheets/themes/nlcommons/ui.base.css\" \"Mozilla/5.0 (compatible; Yahoo! Slurp/3.0; http://help.yahoo.com/help/us/ysearch/slurp)\"\n",
      "\n",
      "66.249.65.38 - - [31/Jan/2010:14:49:40 +0200] \"GET /browse/download_model/1420 HTTP/1.1\" 200 73293 \"-\" \"Mozilla/5.0 (compatible; Googlebot/2.1; +http://www.google.com/bot.html)\"\n",
      "\n",
      "65.55.207.50 - - [31/Jan/2010:15:07:49 +0200] \"GET /robots.txt HTTP/1.1\" 200 99 \"-\" \"msnbot/2.0b (+http://search.msn.com/msnbot.htm)\"\n",
      "\n",
      "65.55.207.50 - - [31/Jan/2010:15:09:06 +0200] \"GET / HTTP/1.1\" 302 109 \"-\" \"msnbot/2.0b (+http://search.msn.com/msnbot.htm)\"\n",
      "\n",
      "65.55.207.50 - - [31/Jan/2010:15:09:14 +0200] \"GET /account/login HTTP/1.1\" 200 1935 \"-\" \"msnbot/2.0b (+http://search.msn.com/msnbot.htm)\"\n",
      "\n",
      "66.249.65.38 - - [31/Jan/2010:15:14:55 +0200] \"GET /browse/download_model/766 HTTP/1.1\" 200 10923 \"-\" \"Mozilla/5.0 (compatible; Googlebot/2.1; +http://www.google.com/bot.html)\"\n",
      "\n",
      "66.249.65.38 - - [31/Jan/2010:15:40:01 +0200] \"GET /browse/download_model/756 HTTP/1.1\" 200 4632 \"-\" \"Mozilla/5.0 (compatible; Googlebot/2.1; +http://www.google.com/bot.html)\"\n",
      "\n",
      "66.249.65.38 - - [31/Jan/2010:16:05:28 +0200] \"GET /browse/download_model/757 HTTP/1.1\" 200 11079 \"-\" \"Mozilla/5.0 (compatible; Googlebot/2.1; +http://www.google.com/bot.html)\"\n",
      "\n",
      "66.249.65.38 - - [31/Jan/2010:16:30:36 +0200] \"GET /browse/download_model/725 HTTP/1.1\" 200 16082 \"-\" \"Mozilla/5.0 (compatible; Googlebot/2.1; +http://www.google.com/bot.html)\"\n",
      "\n",
      "66.249.65.38 - - [31/Jan/2010:16:55:37 +0200] \"GET /browse/download_model/2473 HTTP/1.1\" 200 211110 \"-\" \"Mozilla/5.0 (compatible; Googlebot/2.1; +http://www.google.com/bot.html)\"\n",
      "\n",
      "66.249.65.38 - - [31/Jan/2010:17:20:49 +0200] \"GET /browse/download_model/1510 HTTP/1.1\" 200 35814 \"-\" \"Mozilla/5.0 (compatible; Googlebot/2.1; +http://www.google.com/bot.html)\"\n",
      "\n",
      "65.55.215.75 - - [31/Jan/2010:17:39:03 +0200] \"GET /robots.txt HTTP/1.1\" 200 99 \"-\" \"msnbot/2.0b (+http://search.msn.com/msnbot.htm)\"\n",
      "\n",
      "65.55.215.75 - - [31/Jan/2010:17:40:02 +0200] \"GET /browse/list_models HTTP/1.1\" 304 - \"-\" \"msnbot/2.0b (+http://search.msn.com/msnbot.htm)\"\n",
      "\n",
      "66.249.65.38 - - [31/Jan/2010:17:46:08 +0200] \"GET /browse/download_model/802 HTTP/1.1\" 200 4800 \"-\" \"Mozilla/5.0 (compatible; Googlebot/2.1; +http://www.google.com/bot.html)\"\n",
      "\n",
      "66.249.65.38 - - [31/Jan/2010:18:11:17 +0200] \"GET /browse/download_model/2194 HTTP/1.1\" 200 11380 \"-\" \"Mozilla/5.0 (compatible; Googlebot/2.1; +http://www.google.com/bot.html)\"\n",
      "\n",
      "66.249.65.38 - - [31/Jan/2010:18:36:25 +0200] \"GET /browse/download_model/1572 HTTP/1.1\" 200 10239 \"-\" \"Mozilla/5.0 (compatible; Googlebot/2.1; +http://www.google.com/bot.html)\"\n",
      "\n",
      "66.249.65.38 - - [31/Jan/2010:19:01:55 +0200] \"GET /browse/download_model/1806 HTTP/1.1\" 200 12739 \"-\" \"Mozilla/5.0 (compatible; Googlebot/2.1; +http://www.google.com/bot.html)\"\n",
      "\n",
      "66.249.65.38 - - [31/Jan/2010:19:26:45 +0200] \"GET /browse/download_model/930 HTTP/1.1\" 200 8271 \"-\" \"Mozilla/5.0 (compatible; Googlebot/2.1; +http://www.google.com/bot.html)\"\n",
      "\n",
      "66.249.65.38 - - [31/Jan/2010:19:52:00 +0200] \"GET /browse/download_model/2041 HTTP/1.1\" 200 18891 \"-\" \"Mozilla/5.0 (compatible; Googlebot/2.1; +http://www.google.com/bot.html)\"\n",
      "\n",
      "66.249.65.38 - - [31/Jan/2010:20:17:07 +0200] \"GET /browse/download_model/1800 HTTP/1.1\" 200 14802 \"-\" \"Mozilla/5.0 (compatible; Googlebot/2.1; +http://www.google.com/bot.html)\"\n",
      "\n",
      "66.249.65.38 - - [31/Jan/2010:20:42:19 +0200] \"GET /browse/one_node/1613 HTTP/1.1\" 200 27080 \"-\" \"Mozilla/5.0 (compatible; Googlebot/2.1; +http://www.google.com/bot.html)\"\n",
      "\n",
      "66.249.65.38 - - [31/Jan/2010:21:08:00 +0200] \"GET /browse/one_node/1892 HTTP/1.1\" 200 1296 \"-\" \"Mozilla/5.0 (compatible; Googlebot/2.1; +http://www.google.com/bot.html)\"\n",
      "\n"
     ]
    }
   ],
   "source": [
    "# there are several ways to read from a file\n",
    "# the best (in many cases) is to iterate over it, line by line\n",
    "# how? with a for loop!\n",
    "\n",
    "for one_line in f:    # each iteration gives me one line, up to and including the next \\n \n",
    "    print(one_line)"
   ]
  },
  {
   "cell_type": "code",
   "execution_count": 68,
   "id": "015258d2",
   "metadata": {},
   "outputs": [
    {
     "name": "stdout",
     "output_type": "stream",
     "text": [
      "67.218.116.165 - - [30/Jan/2010:00:03:18 +0200] \"GET /robots.txt HTTP/1.0\" 200 99 \"-\" \"Mozilla/5.0 (Twiceler-0.9 http://www.cuil.com/twiceler/robot.html)\"\n",
      "\n",
      "66.249.71.65 - - [30/Jan/2010:00:12:06 +0200] \"GET /browse/one_node/1557 HTTP/1.1\" 200 39208 \"-\" \"Mozilla/5.0 (compatible; Googlebot/2.1; +http://www.google.com/bot.html)\"\n",
      "\n",
      "65.55.106.183 - - [30/Jan/2010:01:29:23 +0200] \"GET /robots.txt HTTP/1.1\" 200 99 \"-\" \"msnbot/2.0b (+http://search.msn.com/msnbot.htm)\"\n",
      "\n",
      "65.55.106.183 - - [30/Jan/2010:01:30:06 +0200] \"GET /browse/one_model/2162 HTTP/1.1\" 200 2181 \"-\" \"msnbot/2.0b (+http://search.msn.com/msnbot.htm)\"\n",
      "\n",
      "66.249.71.65 - - [30/Jan/2010:02:07:14 +0200] \"GET /browse/browse_applet_tab/2593 HTTP/1.1\" 200 10305 \"-\" \"Mozilla/5.0 (compatible; Googlebot/2.1; +http://www.google.com/bot.html)\"\n",
      "\n",
      "66.249.71.65 - - [30/Jan/2010:02:10:39 +0200] \"GET /browse/browse_files_tab/2499?tab=true HTTP/1.1\" 200 446 \"-\" \"Mozilla/5.0 (compatible; Googlebot/2.1; +http://www.google.com/bot.html)\"\n",
      "\n",
      "66.249.65.12 - - [30/Jan/2010:03:13:34 +0200] \"GET /robots.txt HTTP/1.1\" 200 99 \"-\" \"Mozilla/5.0 (compatible; Googlebot/2.1; +http://www.google.com/bot.html)\"\n",
      "\n",
      "66.249.65.12 - - [30/Jan/2010:03:13:34 +0200] \"GET /browse/one_node/2715 HTTP/1.1\" 200 26433 \"-\" \"Mozilla/5.0 (compatible; Googlebot/2.1; +http://www.google.com/bot.html)\"\n",
      "\n",
      "66.249.65.12 - - [30/Jan/2010:03:43:39 +0200] \"GET /browse/download_model/1969 HTTP/1.1\" 200 31713 \"-\" \"Mozilla/5.0 (compatible; Googlebot/2.1; +http://www.google.com/bot.html)\"\n",
      "\n",
      "66.249.65.12 - - [30/Jan/2010:04:05:43 +0200] \"GET /browse/one_node/1406 HTTP/1.1\" 302 118 \"-\" \"Mozilla/5.0 (compatible; Googlebot/2.1; +http://www.google.com/bot.html)\"\n",
      "\n",
      "66.249.65.12 - - [30/Jan/2010:04:05:51 +0200] \"GET /browse/one_model/1406 HTTP/1.1\" 200 2179 \"-\" \"Mozilla/5.0 (compatible; Googlebot/2.1; +http://www.google.com/bot.html)\"\n",
      "\n",
      "65.55.106.131 - - [30/Jan/2010:04:24:33 +0200] \"GET /robots.txt HTTP/1.1\" 200 99 \"-\" \"msnbot/2.0b (+http://search.msn.com/msnbot.htm)\"\n",
      "\n",
      "65.55.106.131 - - [30/Jan/2010:04:25:36 +0200] \"GET /browse/one_model/1200 HTTP/1.1\" 200 2180 \"-\" \"msnbot/2.0b (+http://search.msn.com/msnbot.htm)\"\n",
      "\n",
      "66.249.65.12 - - [30/Jan/2010:04:34:36 +0200] \"GET /browse/download_model/2170 HTTP/1.1\" 200 11772 \"-\" \"Mozilla/5.0 (compatible; Googlebot/2.1; +http://www.google.com/bot.html)\"\n",
      "\n",
      "66.249.65.12 - - [30/Jan/2010:04:39:37 +0200] \"GET /browse/browse_preview_tab/2499?tab=true HTTP/1.1\" 200 452 \"-\" \"Mozilla/5.0 (compatible; Googlebot/2.1; +http://www.google.com/bot.html)\"\n",
      "\n",
      "66.249.65.12 - - [30/Jan/2010:05:03:34 +0200] \"GET /browse/download_model/2244 HTTP/1.1\" 200 7215 \"-\" \"Mozilla/5.0 (compatible; Googlebot/2.1; +http://www.google.com/bot.html)\"\n",
      "\n",
      "66.249.65.12 - - [30/Jan/2010:05:32:31 +0200] \"GET /browse/download_model/1002 HTTP/1.1\" 200 3658 \"-\" \"Mozilla/5.0 (compatible; Googlebot/2.1; +http://www.google.com/bot.html)\"\n",
      "\n",
      "66.249.65.12 - - [30/Jan/2010:06:01:22 +0200] \"GET /browse/download_model/1200 HTTP/1.1\" 200 31950 \"-\" \"Mozilla/5.0 (compatible; Googlebot/2.1; +http://www.google.com/bot.html)\"\n",
      "\n",
      "66.249.65.12 - - [30/Jan/2010:06:30:19 +0200] \"GET /browse/download_model/2463 HTTP/1.1\" 200 3357 \"-\" \"Mozilla/5.0 (compatible; Googlebot/2.1; +http://www.google.com/bot.html)\"\n",
      "\n",
      "66.249.65.12 - - [30/Jan/2010:06:59:14 +0200] \"GET /browse/download_model/1861 HTTP/1.1\" 200 5136 \"-\" \"Mozilla/5.0 (compatible; Googlebot/2.1; +http://www.google.com/bot.html)\"\n",
      "\n",
      "65.55.106.186 - - [30/Jan/2010:07:07:13 +0200] \"GET /robots.txt HTTP/1.1\" 200 99 \"-\" \"msnbot/2.0b (+http://search.msn.com/msnbot.htm)\"\n",
      "\n",
      "65.55.106.186 - - [30/Jan/2010:07:08:06 +0200] \"GET /browse/about HTTP/1.1\" 200 2315 \"-\" \"msnbot/2.0b (+http://search.msn.com/msnbot.htm)\"\n",
      "\n",
      "66.249.65.12 - - [30/Jan/2010:07:28:09 +0200] \"GET /browse/download_model/1712 HTTP/1.1\" 200 11605 \"-\" \"Mozilla/5.0 (compatible; Googlebot/2.1; +http://www.google.com/bot.html)\"\n",
      "\n",
      "66.249.65.12 - - [30/Jan/2010:07:57:06 +0200] \"GET /browse/download_model/1192 HTTP/1.1\" 200 31656 \"-\" \"Mozilla/5.0 (compatible; Googlebot/2.1; +http://www.google.com/bot.html)\"\n",
      "\n",
      "66.249.65.12 - - [30/Jan/2010:08:26:00 +0200] \"GET /browse/download_model/1140 HTTP/1.1\" 200 4370 \"-\" \"Mozilla/5.0 (compatible; Googlebot/2.1; +http://www.google.com/bot.html)\"\n",
      "\n",
      "74.52.245.146 - - [30/Jan/2010:08:40:26 +0200] \"GET / HTTP/1.0\" 302 110 \"-\" \"Mozilla/5.0 (X11; U; Linux i686; en-US; rv:1.7.5) Gecko/20041107 Firefox/1.0\"\n",
      "\n",
      "74.52.245.146 - - [30/Jan/2010:08:40:26 +0200] \"GET /account/login HTTP/1.0\" 200 5801 \"-\" \"Mozilla/5.0 (X11; U; Linux i686; en-US; rv:1.7.5) Gecko/20041107 Firefox/1.0\"\n",
      "\n",
      "66.249.65.43 - - [30/Jan/2010:08:44:51 +0200] \"GET /robots.txt HTTP/1.1\" 200 99 \"-\" \"Mozilla/5.0 (compatible; Googlebot/2.1; +http://www.google.com/bot.html)\"\n",
      "\n",
      "66.249.65.43 - - [30/Jan/2010:08:44:52 +0200] \"GET / HTTP/1.1\" 302 112 \"-\" \"Mozilla/5.0 (compatible; Googlebot/2.1; +http://www.google.com/bot.html)\"\n",
      "\n",
      "66.249.65.43 - - [30/Jan/2010:08:44:52 +0200] \"GET /account/login HTTP/1.1\" 200 1935 \"-\" \"Mozilla/5.0 (compatible; Googlebot/2.1; +http://www.google.com/bot.html)\"\n",
      "\n",
      "66.249.65.12 - - [30/Jan/2010:08:54:53 +0200] \"GET /browse/download_model/2152 HTTP/1.1\" 200 7285 \"-\" \"Mozilla/5.0 (compatible; Googlebot/2.1; +http://www.google.com/bot.html)\"\n",
      "\n",
      "66.249.65.12 - - [30/Jan/2010:09:23:46 +0200] \"GET /browse/download_model/796 HTTP/1.1\" 200 3241 \"-\" \"Mozilla/5.0 (compatible; Googlebot/2.1; +http://www.google.com/bot.html)\"\n",
      "\n",
      "66.249.65.12 - - [30/Jan/2010:09:52:42 +0200] \"GET /browse/one_node/2177 HTTP/1.1\" 200 1556 \"-\" \"Mozilla/5.0 (compatible; Googlebot/2.1; +http://www.google.com/bot.html)\"\n",
      "\n",
      "66.249.65.12 - - [30/Jan/2010:10:21:43 +0200] \"GET /browse/one_node/2163 HTTP/1.1\" 200 4124 \"-\" \"Mozilla/5.0 (compatible; Googlebot/2.1; +http://www.google.com/bot.html)\"\n",
      "\n",
      "66.249.65.12 - - [30/Jan/2010:10:50:35 +0200] \"GET /browse/one_node/1193 HTTP/1.1\" 200 29168 \"-\" \"Mozilla/5.0 (compatible; Googlebot/2.1; +http://www.google.com/bot.html)\"\n",
      "\n",
      "66.249.65.12 - - [30/Jan/2010:11:19:27 +0200] \"GET /browse/one_node/1241 HTTP/1.1\" 200 7032 \"-\" \"Mozilla/5.0 (compatible; Googlebot/2.1; +http://www.google.com/bot.html)\"\n",
      "\n",
      "65.55.207.25 - - [30/Jan/2010:11:43:56 +0200] \"GET /robots.txt HTTP/1.1\" 200 99 \"-\" \"msnbot/2.0b (+http://search.msn.com/msnbot.htm)\"\n",
      "\n",
      "65.55.207.25 - - [30/Jan/2010:11:44:35 +0200] \"GET /help HTTP/1.1\" 304 - \"-\" \"msnbot/2.0b (+http://search.msn.com/msnbot.htm)\"\n",
      "\n",
      "66.249.65.12 - - [30/Jan/2010:11:48:31 +0200] \"GET /browse/download_model/2508 HTTP/1.1\" 200 11374 \"-\" \"Mozilla/5.0 (compatible; Googlebot/2.1; +http://www.google.com/bot.html)\"\n",
      "\n",
      "66.249.65.12 - - [30/Jan/2010:12:17:24 +0200] \"GET /browse/one_node/2509 HTTP/1.1\" 200 4766 \"-\" \"Mozilla/5.0 (compatible; Googlebot/2.1; +http://www.google.com/bot.html)\"\n",
      "\n",
      "66.249.65.12 - - [30/Jan/2010:12:46:17 +0200] \"GET /browse/one_node/1233 HTTP/1.1\" 200 79301 \"-\" \"Mozilla/5.0 (compatible; Googlebot/2.1; +http://www.google.com/bot.html)\"\n",
      "\n",
      "66.249.65.12 - - [30/Jan/2010:13:15:09 +0200] \"GET /browse/download_model/2508?version=1819 HTTP/1.1\" 200 11374 \"-\" \"Mozilla/5.0 (compatible; Googlebot/2.1; +http://www.google.com/bot.html)\"\n",
      "\n",
      "66.249.65.12 - - [30/Jan/2010:13:44:01 +0200] \"GET /browse/download_model/2508?version=1821 HTTP/1.1\" 200 11374 \"-\" \"Mozilla/5.0 (compatible; Googlebot/2.1; +http://www.google.com/bot.html)\"\n",
      "\n",
      "66.249.65.12 - - [30/Jan/2010:14:12:55 +0200] \"GET /browse/download_model/902 HTTP/1.1\" 200 5050 \"-\" \"Mozilla/5.0 (compatible; Googlebot/2.1; +http://www.google.com/bot.html)\"\n",
      "\n",
      "66.249.65.12 - - [30/Jan/2010:14:42:01 +0200] \"GET /browse/download_model/1679 HTTP/1.1\" 200 11290 \"-\" \"Mozilla/5.0 (compatible; Googlebot/2.1; +http://www.google.com/bot.html)\"\n",
      "\n",
      "65.55.207.94 - - [30/Jan/2010:15:02:52 +0200] \"GET /robots.txt HTTP/1.1\" 200 99 \"-\" \"msnbot/2.0b (+http://search.msn.com/msnbot.htm)\"\n",
      "\n",
      "65.55.207.94 - - [30/Jan/2010:15:03:36 +0200] \"GET /browse/one_model/900 HTTP/1.1\" 200 2165 \"-\" \"msnbot/2.0b (+http://search.msn.com/msnbot.htm)\"\n",
      "\n",
      "66.249.65.12 - - [30/Jan/2010:15:10:51 +0200] \"GET /browse/download_model/1612 HTTP/1.1\" 200 30540 \"-\" \"Mozilla/5.0 (compatible; Googlebot/2.1; +http://www.google.com/bot.html)\"\n",
      "\n",
      "65.55.207.71 - - [30/Jan/2010:15:32:04 +0200] \"GET /account/new HTTP/1.1\" 304 - \"-\" \"msnbot/2.0b (+http://search.msn.com/msnbot.htm)\"\n",
      "\n",
      "66.249.65.12 - - [30/Jan/2010:15:39:45 +0200] \"GET /browse/download_model/892 HTTP/1.1\" 200 4195 \"-\" \"Mozilla/5.0 (compatible; Googlebot/2.1; +http://www.google.com/bot.html)\"\n",
      "\n",
      "66.249.65.12 - - [30/Jan/2010:15:52:21 +0200] \"GET /system/avatars/7/thumb/fractal-tree-on-transparent-sm.png?1237131134 HTTP/1.1\" 304 - \"-\" \"Googlebot-Image/1.0\"\n",
      "\n",
      "66.249.65.12 - - [30/Jan/2010:16:08:36 +0200] \"GET /browse/download_model/1865 HTTP/1.1\" 200 19432 \"-\" \"Mozilla/5.0 (compatible; Googlebot/2.1; +http://www.google.com/bot.html)\"\n",
      "\n",
      "98.242.170.241 - - [30/Jan/2010:16:10:49 +0200] \"GET /dvdrental.com HTTP/1.1\" 404 947 \"http://www.dvdrental.com/modelingcommons.org\" \"Opera/9.80 (Windows NT 5.2; U; en) Presto/2.2.15 Version/10.10\"\n",
      "\n",
      "66.249.65.38 - - [30/Jan/2010:16:37:33 +0200] \"GET /browse/download_model/914 HTTP/1.1\" 200 6181 \"-\" \"Mozilla/5.0 (compatible; Googlebot/2.1; +http://www.google.com/bot.html)\"\n",
      "\n",
      "66.249.65.38 - - [30/Jan/2010:16:45:12 +0200] \"GET /browse/browse_applet_tab/2593?tab=true HTTP/1.1\" 200 10237 \"-\" \"Mozilla/5.0 (compatible; Googlebot/2.1; +http://www.google.com/bot.html)\"\n",
      "\n",
      "66.249.65.38 - - [30/Jan/2010:17:02:28 +0200] \"GET /javascripts/application.js?1264605648 HTTP/1.1\" 200 698 \"-\" \"Mozilla/5.0 (compatible; Googlebot/2.1; +http://www.google.com/bot.html)\"\n",
      "\n",
      "66.249.65.38 - - [30/Jan/2010:17:02:29 +0200] \"GET /stylesheets/browse.css?1264605648 HTTP/1.1\" 200 422 \"-\" \"Mozilla/5.0 (compatible; Googlebot/2.1; +http://www.google.com/bot.html)\"\n",
      "\n",
      "66.249.65.38 - - [30/Jan/2010:17:02:30 +0200] \"GET /javascripts/jquery.livequery.js?1264605648 HTTP/1.1\" 200 2135 \"-\" \"Mozilla/5.0 (compatible; Googlebot/2.1; +http://www.google.com/bot.html)\"\n",
      "\n",
      "66.249.65.38 - - [30/Jan/2010:17:02:30 +0200] \"GET /javascripts/jrails.js?1264605648 HTTP/1.1\" 200 1093 \"-\" \"Mozilla/5.0 (compatible; Googlebot/2.1; +http://www.google.com/bot.html)\"\n",
      "\n",
      "66.249.65.38 - - [30/Jan/2010:17:02:31 +0200] \"GET /stylesheets/themes/nlcommons/ui.all.css?1264605648 HTTP/1.1\" 200 52 \"-\" \"Mozilla/5.0 (compatible; Googlebot/2.1; +http://www.google.com/bot.html)\"\n",
      "\n",
      "66.249.65.38 - - [30/Jan/2010:17:02:31 +0200] \"GET /stylesheets/jquery.autocomplete.css?1264605648 HTTP/1.1\" 200 447 \"-\" \"Mozilla/5.0 (compatible; Googlebot/2.1; +http://www.google.com/bot.html)\"\n",
      "\n",
      "66.249.65.38 - - [30/Jan/2010:17:02:32 +0200] \"GET /stylesheets/nlcommons.css?1264605648 HTTP/1.1\" 200 1179 \"-\" \"Mozilla/5.0 (compatible; Googlebot/2.1; +http://www.google.com/bot.html)\"\n",
      "\n",
      "66.249.65.38 - - [30/Jan/2010:17:02:32 +0200] \"GET /javascripts/jquery.dataTables.js?1264605648 HTTP/1.1\" 200 15537 \"-\" \"Mozilla/5.0 (compatible; Googlebot/2.1; +http://www.google.com/bot.html)\"\n",
      "\n",
      "66.249.65.38 - - [30/Jan/2010:17:02:33 +0200] \"GET /javascripts/jquery.js?1264605648 HTTP/1.1\" 200 19740 \"-\" \"Mozilla/5.0 (compatible; Googlebot/2.1; +http://www.google.com/bot.html)\"\n",
      "\n",
      "66.249.65.38 - - [30/Jan/2010:17:02:34 +0200] \"GET /javascripts/nlcommons.js?1264605648 HTTP/1.1\" 200 20 \"-\" \"Mozilla/5.0 (compatible; Googlebot/2.1; +http://www.google.com/bot.html)\"\n",
      "\n",
      "66.249.65.38 - - [30/Jan/2010:17:02:34 +0200] \"GET /javascripts/jquery-ui.js?1264605648 HTTP/1.1\" 200 72080 \"-\" \"Mozilla/5.0 (compatible; Googlebot/2.1; +http://www.google.com/bot.html)\"\n",
      "\n",
      "66.249.65.38 - - [30/Jan/2010:17:02:35 +0200] \"GET /javascripts/jquery.autocomplete.js?1264605648 HTTP/1.1\" 200 6433 \"-\" \"Mozilla/5.0 (compatible; Googlebot/2.1; +http://www.google.com/bot.html)\"\n",
      "\n",
      "66.249.65.38 - - [30/Jan/2010:17:03:16 +0200] \"GET /stylesheets/themes/nlcommons/ui.base.css HTTP/1.1\" 200 111 \"-\" \"Mozilla/5.0 (compatible; Googlebot/2.1; +http://www.google.com/bot.html)\"\n",
      "\n",
      "66.249.65.38 - - [30/Jan/2010:17:03:16 +0200] \"GET /stylesheets/themes/nlcommons/ui.theme.css HTTP/1.1\" 200 2862 \"-\" \"Mozilla/5.0 (compatible; Googlebot/2.1; +http://www.google.com/bot.html)\"\n",
      "\n",
      "66.249.65.38 - - [30/Jan/2010:17:03:30 +0200] \"GET /stylesheets/themes/nlcommons/ui.core.css HTTP/1.1\" 200 624 \"-\" \"Mozilla/5.0 (compatible; Googlebot/2.1; +http://www.google.com/bot.html)\"\n",
      "\n",
      "66.249.65.38 - - [30/Jan/2010:17:03:31 +0200] \"GET /stylesheets/themes/nlcommons/ui.accordion.css HTTP/1.1\" 200 295 \"-\" \"Mozilla/5.0 (compatible; Googlebot/2.1; +http://www.google.com/bot.html)\"\n",
      "\n",
      "66.249.65.38 - - [30/Jan/2010:17:03:31 +0200] \"GET /stylesheets/themes/nlcommons/ui.datepicker.css HTTP/1.1\" 200 965 \"-\" \"Mozilla/5.0 (compatible; Googlebot/2.1; +http://www.google.com/bot.html)\"\n",
      "\n",
      "66.249.65.38 - - [30/Jan/2010:17:03:32 +0200] \"GET /stylesheets/themes/nlcommons/ui.dialog.css HTTP/1.1\" 200 442 \"-\" \"Mozilla/5.0 (compatible; Googlebot/2.1; +http://www.google.com/bot.html)\"\n",
      "\n",
      "66.249.65.38 - - [30/Jan/2010:17:03:32 +0200] \"GET /stylesheets/themes/nlcommons/ui.slider.css HTTP/1.1\" 200 318 \"-\" \"Mozilla/5.0 (compatible; Googlebot/2.1; +http://www.google.com/bot.html)\"\n",
      "\n",
      "66.249.65.38 - - [30/Jan/2010:17:03:33 +0200] \"GET /stylesheets/themes/nlcommons/ui.progressbar.css HTTP/1.1\" 200 114 \"-\" \"Mozilla/5.0 (compatible; Googlebot/2.1; +http://www.google.com/bot.html)\"\n",
      "\n",
      "66.249.65.38 - - [30/Jan/2010:17:03:34 +0200] \"GET /stylesheets/themes/nlcommons/ui.tabs.css HTTP/1.1\" 200 414 \"-\" \"Mozilla/5.0 (compatible; Googlebot/2.1; +http://www.google.com/bot.html)\"\n",
      "\n",
      "66.249.65.38 - - [30/Jan/2010:17:03:34 +0200] \"GET /stylesheets/themes/nlcommons/ui.resizable.css HTTP/1.1\" 200 307 \"-\" \"Mozilla/5.0 (compatible; Googlebot/2.1; +http://www.google.com/bot.html)\"\n",
      "\n",
      "66.249.65.38 - - [30/Jan/2010:17:06:29 +0200] \"GET /browse/download_model/743 HTTP/1.1\" 200 10552 \"-\" \"Mozilla/5.0 (compatible; Googlebot/2.1; +http://www.google.com/bot.html)\"\n",
      "\n",
      "66.249.65.38 - - [30/Jan/2010:17:35:24 +0200] \"GET /browse/download_model/2547 HTTP/1.1\" 200 40914 \"-\" \"Mozilla/5.0 (compatible; Googlebot/2.1; +http://www.google.com/bot.html)\"\n",
      "\n",
      "65.55.207.126 - - [30/Jan/2010:17:46:11 +0200] \"GET /robots.txt HTTP/1.1\" 200 99 \"-\" \"msnbot/2.0b (+http://search.msn.com/msnbot.htm)\"\n",
      "\n",
      "65.55.207.126 - - [30/Jan/2010:17:48:32 +0200] \"GET /browse/one_model/1002 HTTP/1.1\" 200 2173 \"-\" \"msnbot/2.0b (+http://search.msn.com/msnbot.htm)\"\n",
      "\n",
      "66.249.65.38 - - [30/Jan/2010:18:04:31 +0200] \"GET /browse/download_model/1210 HTTP/1.1\" 200 11948 \"-\" \"Mozilla/5.0 (compatible; Googlebot/2.1; +http://www.google.com/bot.html)\"\n",
      "\n",
      "66.249.65.38 - - [30/Jan/2010:18:33:30 +0200] \"GET /browse/download_model/849 HTTP/1.1\" 200 6836 \"-\" \"Mozilla/5.0 (compatible; Googlebot/2.1; +http://www.google.com/bot.html)\"\n",
      "\n",
      "66.249.65.38 - - [30/Jan/2010:18:53:53 +0200] \"GET /tags/one_tag/27 HTTP/1.1\" 200 2033 \"-\" \"Mozilla/5.0 (compatible; Googlebot/2.1; +http://www.google.com/bot.html)\"\n",
      "\n",
      "66.249.65.38 - - [30/Jan/2010:19:02:20 +0200] \"GET /browse/download_model/739 HTTP/1.1\" 200 11302 \"-\" \"Mozilla/5.0 (compatible; Googlebot/2.1; +http://www.google.com/bot.html)\"\n",
      "\n",
      "82.34.9.20 - - [30/Jan/2010:19:18:24 +0200] \"GET /account/models/33 HTTP/1.1\" 200 23774 \"http://www.google.co.uk/search?hl=en&q=%22netlogo%22+sokoban&btnG=Search&meta=&aq=f&oq=\" \"Mozilla/4.0 (compatible; MSIE 8.0; Windows NT 5.1; Trident/4.0; .NET CLR 2.0.50727; .NET CLR 3.0.4506.2152; .NET CLR 3.5.30729; InfoPath.1)\"\n",
      "\n",
      "82.34.9.20 - - [30/Jan/2010:19:18:18 +0200] \"GET /account/models/33 HTTP/1.1\" 200 23774 \"http://www.google.co.uk/search?hl=en&q=%22netlogo%22+sokoban&btnG=Search&meta=&aq=f&oq=\" \"Mozilla/4.0 (compatible; MSIE 8.0; Windows NT 5.1; Trident/4.0; .NET CLR 2.0.50727; .NET CLR 3.0.4506.2152; .NET CLR 3.5.30729; InfoPath.1)\"\n",
      "\n",
      "66.249.65.38 - - [30/Jan/2010:19:31:07 +0200] \"GET /browse/download_model/838 HTTP/1.1\" 200 7691 \"-\" \"Mozilla/5.0 (compatible; Googlebot/2.1; +http://www.google.com/bot.html)\"\n",
      "\n",
      "66.249.65.38 - - [30/Jan/2010:20:00:20 +0200] \"GET /browse/download_model/2316 HTTP/1.1\" 200 48709 \"-\" \"Mozilla/5.0 (compatible; Googlebot/2.1; +http://www.google.com/bot.html)\"\n",
      "\n",
      "66.249.65.38 - - [30/Jan/2010:20:28:55 +0200] \"GET /browse/download_model/840 HTTP/1.1\" 200 6063 \"-\" \"Mozilla/5.0 (compatible; Googlebot/2.1; +http://www.google.com/bot.html)\"\n",
      "\n",
      "66.249.65.38 - - [30/Jan/2010:20:47:05 +0200] \"GET /?id=7 HTTP/1.1\" 200 3058 \"-\" \"Mozilla/5.0 (compatible; Googlebot/2.1; +http://www.google.com/bot.html)\"\n",
      "\n",
      "66.249.65.38 - - [30/Jan/2010:20:57:43 +0200] \"GET /browse/download_model/806 HTTP/1.1\" 200 4263 \"-\" \"Mozilla/5.0 (compatible; Googlebot/2.1; +http://www.google.com/bot.html)\"\n",
      "\n",
      "66.249.65.38 - - [30/Jan/2010:21:07:44 +0200] \"GET /account/mypage/17 HTTP/1.1\" 200 3103 \"-\" \"Mozilla/5.0 (compatible; Googlebot/2.1; +http://www.google.com/bot.html)\"\n",
      "\n",
      "66.249.65.38 - - [30/Jan/2010:21:26:36 +0200] \"GET /browse/download_model/1891 HTTP/1.1\" 200 8570 \"-\" \"Mozilla/5.0 (compatible; Googlebot/2.1; +http://www.google.com/bot.html)\"\n",
      "\n",
      "66.249.65.38 - - [30/Jan/2010:21:56:01 +0200] \"GET /browse/download_model/1881 HTTP/1.1\" 200 9618 \"-\" \"Mozilla/5.0 (compatible; Googlebot/2.1; +http://www.google.com/bot.html)\"\n",
      "\n",
      "66.249.65.38 - - [30/Jan/2010:22:25:13 +0200] \"GET /browse/download_model/735 HTTP/1.1\" 200 16848 \"-\" \"Mozilla/5.0 (compatible; Googlebot/2.1; +http://www.google.com/bot.html)\"\n",
      "\n",
      "65.55.106.155 - - [30/Jan/2010:22:25:26 +0200] \"GET /robots.txt HTTP/1.1\" 200 99 \"-\" \"msnbot/2.0b (+http://search.msn.com/msnbot.htm)\"\n",
      "\n",
      "65.55.106.155 - - [30/Jan/2010:22:26:11 +0200] \"GET /account/send_password HTTP/1.1\" 304 - \"-\" \"msnbot/2.0b (+http://search.msn.com/msnbot.htm)\"\n",
      "\n",
      "66.249.65.38 - - [30/Jan/2010:22:53:40 +0200] \"GET /browse/download_model/1779 HTTP/1.1\" 200 8576 \"-\" \"Mozilla/5.0 (compatible; Googlebot/2.1; +http://www.google.com/bot.html)\"\n",
      "\n",
      "66.249.65.38 - - [30/Jan/2010:23:21:25 +0200] \"GET /browse/follow/2029.atom HTTP/1.1\" 200 653 \"-\" \"Mozilla/5.0 (compatible; Googlebot/2.1; +http://www.google.com/bot.html)\"\n",
      "\n",
      "66.249.65.38 - - [30/Jan/2010:23:22:21 +0200] \"GET /browse/download_model/788 HTTP/1.1\" 200 3865 \"-\" \"Mozilla/5.0 (compatible; Googlebot/2.1; +http://www.google.com/bot.html)\"\n",
      "\n",
      "66.249.65.38 - - [30/Jan/2010:23:28:41 +0200] \"GET /images/default-person.png?1245832850 HTTP/1.1\" 200 677 \"-\" \"Googlebot-Image/1.0\"\n",
      "\n",
      "66.249.65.38 - - [30/Jan/2010:23:53:12 +0200] \"GET /browse/download_model/2340 HTTP/1.1\" 200 30305 \"-\" \"Mozilla/5.0 (compatible; Googlebot/2.1; +http://www.google.com/bot.html)\"\n",
      "\n",
      "65.55.207.77 - - [31/Jan/2010:00:06:37 +0200] \"GET /robots.txt HTTP/1.1\" 200 99 \"-\" \"msnbot/2.0b (+http://search.msn.com/msnbot.htm)\"\n",
      "\n",
      "65.55.207.77 - - [31/Jan/2010:00:09:36 +0200] \"GET /browse/one_model/2152 HTTP/1.1\" 200 2195 \"-\" \"msnbot/2.0b (+http://search.msn.com/msnbot.htm)\"\n",
      "\n",
      "66.249.65.38 - - [31/Jan/2010:01:15:50 +0200] \"GET /account/follow/2029.atom HTTP/1.1\" 404 577 \"-\" \"Mozilla/5.0 (compatible; Googlebot/2.1; +http://www.google.com/bot.html)\"\n",
      "\n",
      "67.218.116.165 - - [31/Jan/2010:01:23:08 +0200] \"GET /robots.txt HTTP/1.0\" 200 99 \"-\" \"Mozilla/5.0 (Twiceler-0.9 http://www.cuil.com/twiceler/robot.html)\"\n",
      "\n",
      "66.249.65.38 - - [31/Jan/2010:01:35:43 +0200] \"GET /browse/one_model/2099 HTTP/1.1\" 200 2179 \"-\" \"Mozilla/5.0 (compatible; Googlebot/2.1; +http://www.google.com/bot.html)\"\n",
      "\n",
      "208.80.193.28 - - [31/Jan/2010:01:50:14 +0200] \"GET / HTTP/1.0\" 302 106 \"-\" \"Mozilla/4.0 (compatible; MSIE 6.0; Windows NT 5.1; SV1; FunWebProducts; .NET CLR 1.0.3705; .NET CLR 1.1.4322; Media Center PC 4.0; Hotbar 10.0.356.0)\"\n",
      "\n",
      "66.249.65.38 - - [31/Jan/2010:02:17:46 +0200] \"GET /browse/download_model/985 HTTP/1.1\" 200 3204 \"-\" \"Mozilla/5.0 (compatible; Googlebot/2.1; +http://www.google.com/bot.html)\"\n",
      "\n",
      "66.249.65.38 - - [31/Jan/2010:02:48:17 +0200] \"GET /browse/download_model/2162 HTTP/1.1\" 200 9362 \"-\" \"Mozilla/5.0 (compatible; Googlebot/2.1; +http://www.google.com/bot.html)\"\n",
      "\n",
      "66.249.65.38 - - [31/Jan/2010:02:51:11 +0200] \"GET /browse/display_preview/2099 HTTP/1.1\" 200 7563 \"-\" \"Googlebot-Image/1.0\"\n",
      "\n",
      "66.249.65.38 - - [31/Jan/2010:03:04:16 +0200] \"GET /browse/download_model/993 HTTP/1.1\" 200 3175 \"-\" \"Mozilla/5.0 (compatible; Googlebot/2.1; +http://www.google.com/bot.html)\"\n",
      "\n",
      "66.249.65.38 - - [31/Jan/2010:03:29:31 +0200] \"GET /robots.txt HTTP/1.1\" 200 99 \"-\" \"Mozilla/5.0 (compatible; Googlebot/2.1; +http://www.google.com/bot.html)\"\n",
      "\n",
      "66.249.65.38 - - [31/Jan/2010:03:29:31 +0200] \"GET /browse/download_model/977 HTTP/1.1\" 200 2992 \"-\" \"Mozilla/5.0 (compatible; Googlebot/2.1; +http://www.google.com/bot.html)\"\n",
      "\n",
      "66.249.65.38 - - [31/Jan/2010:03:49:42 +0200] \"GET /tags/one_tag/42 HTTP/1.1\" 200 2014 \"-\" \"Mozilla/5.0 (compatible; Googlebot/2.1; +http://www.google.com/bot.html)\"\n",
      "\n",
      "66.249.65.38 - - [31/Jan/2010:03:54:44 +0200] \"GET /browse/download_model/746 HTTP/1.1\" 200 12754 \"-\" \"Mozilla/5.0 (compatible; Googlebot/2.1; +http://www.google.com/bot.html)\"\n",
      "\n",
      "66.249.65.38 - - [31/Jan/2010:04:19:51 +0200] \"GET /browse/download_model/815 HTTP/1.1\" 200 6284 \"-\" \"Mozilla/5.0 (compatible; Googlebot/2.1; +http://www.google.com/bot.html)\"\n",
      "\n",
      "89.248.172.58 - - [31/Jan/2010:04:32:52 +0200] \"GET /account/mypage/7 HTTP/1.1\" 200 14292 \"-\" \"Mozilla/4.0 (compatible; MSIE 6.0; Windows NT 5.1; SV1)\"\n",
      "\n",
      "89.248.172.58 - - [31/Jan/2010:04:33:03 +0200] \"GET / HTTP/1.1\" 302 106 \"-\" \"Mozilla/4.0 (compatible; MSIE 6.0; Windows NT 5.1; SV1)\"\n",
      "\n",
      "89.248.172.58 - - [31/Jan/2010:04:33:03 +0200] \"GET /account/login HTTP/1.1\" 200 5998 \"-\" \"Mozilla/4.0 (compatible; MSIE 6.0; Windows NT 5.1; SV1)\"\n",
      "\n",
      "89.248.172.58 - - [31/Jan/2010:04:33:04 +0200] \"GET /browse/list_models HTTP/1.1\" 200 21752 \"-\" \"Mozilla/4.0 (compatible; MSIE 6.0; Windows NT 5.1; SV1)\"\n",
      "\n",
      "89.248.172.58 - - [31/Jan/2010:04:33:05 +0200] \"GET /browse/about HTTP/1.1\" 200 6801 \"-\" \"Mozilla/4.0 (compatible; MSIE 6.0; Windows NT 5.1; SV1)\"\n",
      "\n",
      "89.248.172.58 - - [31/Jan/2010:04:33:06 +0200] \"GET /help HTTP/1.1\" 200 5683 \"-\" \"Mozilla/4.0 (compatible; MSIE 6.0; Windows NT 5.1; SV1)\"\n",
      "\n",
      "89.248.172.58 - - [31/Jan/2010:04:33:06 +0200] \"GET /account/login HTTP/1.1\" 200 5801 \"-\" \"Mozilla/4.0 (compatible; MSIE 6.0; Windows NT 5.1; SV1)\"\n",
      "\n",
      "89.248.172.58 - - [31/Jan/2010:04:33:07 +0200] \"GET /account/follow/7.atom HTTP/1.1\" 200 4893 \"-\" \"Mozilla/4.0 (compatible; MSIE 6.0; Windows NT 5.1; SV1)\"\n",
      "\n",
      "89.248.172.58 - - [31/Jan/2010:04:33:07 +0200] \"GET /browse/one_model/1210 HTTP/1.1\" 200 6905 \"-\" \"Mozilla/4.0 (compatible; MSIE 6.0; Windows NT 5.1; SV1)\"\n",
      "\n",
      "89.248.172.58 - - [31/Jan/2010:04:33:08 +0200] \"GET /browse/one_model/1390 HTTP/1.1\" 200 6957 \"-\" \"Mozilla/4.0 (compatible; MSIE 6.0; Windows NT 5.1; SV1)\"\n",
      "\n",
      "89.248.172.58 - - [31/Jan/2010:04:33:09 +0200] \"GET /browse/one_model/2495 HTTP/1.1\" 200 7013 \"-\" \"Mozilla/4.0 (compatible; MSIE 6.0; Windows NT 5.1; SV1)\"\n",
      "\n",
      "89.248.172.58 - - [31/Jan/2010:04:33:09 +0200] \"GET /browse/one_model/2518 HTTP/1.1\" 200 6869 \"-\" \"Mozilla/4.0 (compatible; MSIE 6.0; Windows NT 5.1; SV1)\"\n",
      "\n",
      "89.248.172.58 - - [31/Jan/2010:04:33:10 +0200] \"GET /browse/one_model/1408 HTTP/1.1\" 200 6893 \"-\" \"Mozilla/4.0 (compatible; MSIE 6.0; Windows NT 5.1; SV1)\"\n",
      "\n",
      "89.248.172.58 - - [31/Jan/2010:04:33:11 +0200] \"GET /tags/one_tag/48 HTTP/1.1\" 200 6313 \"-\" \"Mozilla/4.0 (compatible; MSIE 6.0; Windows NT 5.1; SV1)\"\n",
      "\n",
      "89.248.172.58 - - [31/Jan/2010:04:33:11 +0200] \"GET /tags/one_tag/8 HTTP/1.1\" 200 6295 \"-\" \"Mozilla/4.0 (compatible; MSIE 6.0; Windows NT 5.1; SV1)\"\n",
      "\n",
      "89.248.172.58 - - [31/Jan/2010:04:33:12 +0200] \"GET /browse/one_model/815 HTTP/1.1\" 200 6839 \"-\" \"Mozilla/4.0 (compatible; MSIE 6.0; Windows NT 5.1; SV1)\"\n",
      "\n",
      "89.248.172.58 - - [31/Jan/2010:04:33:13 +0200] \"GET /browse/one_model/2547 HTTP/1.1\" 200 6890 \"-\" \"Mozilla/4.0 (compatible; MSIE 6.0; Windows NT 5.1; SV1)\"\n",
      "\n",
      "89.248.172.58 - - [31/Jan/2010:04:33:13 +0200] \"GET /browse/one_model/1578 HTTP/1.1\" 200 6913 \"-\" \"Mozilla/4.0 (compatible; MSIE 6.0; Windows NT 5.1; SV1)\"\n",
      "\n",
      "89.248.172.58 - - [31/Jan/2010:04:33:14 +0200] \"GET /browse/one_model/2510 HTTP/1.1\" 200 6829 \"-\" \"Mozilla/4.0 (compatible; MSIE 6.0; Windows NT 5.1; SV1)\"\n",
      "\n",
      "89.248.172.58 - - [31/Jan/2010:04:33:14 +0200] \"GET /browse/one_model/999 HTTP/1.1\" 200 6860 \"-\" \"Mozilla/4.0 (compatible; MSIE 6.0; Windows NT 5.1; SV1)\"\n",
      "\n",
      "89.248.172.58 - - [31/Jan/2010:04:33:15 +0200] \"GET /account/models/7 HTTP/1.1\" 200 8787 \"-\" \"Mozilla/4.0 (compatible; MSIE 6.0; Windows NT 5.1; SV1)\"\n",
      "\n",
      "89.248.172.58 - - [31/Jan/2010:04:33:16 +0200] \"GET /?id=17 HTTP/1.1\" 200 14542 \"-\" \"Mozilla/4.0 (compatible; MSIE 6.0; Windows NT 5.1; SV1)\"\n",
      "\n",
      "66.249.65.38 - - [31/Jan/2010:04:45:02 +0200] \"GET /browse/download_model/2182 HTTP/1.1\" 200 16607 \"-\" \"Mozilla/5.0 (compatible; Googlebot/2.1; +http://www.google.com/bot.html)\"\n",
      "\n",
      "66.249.65.38 - - [31/Jan/2010:05:10:16 +0200] \"GET /browse/download_model/900 HTTP/1.1\" 200 3440 \"-\" \"Mozilla/5.0 (compatible; Googlebot/2.1; +http://www.google.com/bot.html)\"\n",
      "\n",
      "66.249.65.38 - - [31/Jan/2010:05:17:05 +0200] \"GET /?id=8 HTTP/1.1\" 200 3018 \"-\" \"Mozilla/5.0 (compatible; Googlebot/2.1; +http://www.google.com/bot.html)\"\n",
      "\n",
      "66.249.65.38 - - [31/Jan/2010:05:35:29 +0200] \"GET /browse/download_model/797 HTTP/1.1\" 200 11950 \"-\" \"Mozilla/5.0 (compatible; Googlebot/2.1; +http://www.google.com/bot.html)\"\n",
      "\n",
      "66.249.65.38 - - [31/Jan/2010:06:00:42 +0200] \"GET /browse/download_model/2606 HTTP/1.1\" 200 357240 \"-\" \"Mozilla/5.0 (compatible; Googlebot/2.1; +http://www.google.com/bot.html)\"\n",
      "\n",
      "66.249.65.38 - - [31/Jan/2010:06:03:13 +0200] \"GET /browse/one_model/993 HTTP/1.1\" 200 2170 \"-\" \"Mozilla/5.0 (compatible; Googlebot/2.1; +http://www.google.com/bot.html)\"\n",
      "\n",
      "66.249.65.38 - - [31/Jan/2010:06:25:55 +0200] \"GET /browse/download_model/2601 HTTP/1.1\" 200 2498832 \"-\" \"Mozilla/5.0 (compatible; Googlebot/2.1; +http://www.google.com/bot.html)\"\n",
      "\n",
      "66.249.65.38 - - [31/Jan/2010:06:51:01 +0200] \"GET /browse/download_model/2596 HTTP/1.1\" 200 220990 \"-\" \"Mozilla/5.0 (compatible; Googlebot/2.1; +http://www.google.com/bot.html)\"\n",
      "\n",
      "66.249.65.38 - - [31/Jan/2010:07:06:26 +0200] \"GET /browse/display_preview/2244 HTTP/1.1\" 200 4072 \"-\" \"Googlebot-Image/1.0\"\n",
      "\n",
      "66.249.65.38 - - [31/Jan/2010:07:16:18 +0200] \"GET /browse/download_model/2752 HTTP/1.1\" 200 3146 \"-\" \"Mozilla/5.0 (compatible; Googlebot/2.1; +http://www.google.com/bot.html)\"\n",
      "\n",
      "66.249.65.38 - - [31/Jan/2010:07:41:27 +0200] \"GET /browse/download_model/2492 HTTP/1.1\" 200 1680079 \"-\" \"Mozilla/5.0 (compatible; Googlebot/2.1; +http://www.google.com/bot.html)\"\n",
      "\n",
      "66.249.65.38 - - [31/Jan/2010:08:06:40 +0200] \"GET /browse/download_model/1408 HTTP/1.1\" 200 25038 \"-\" \"Mozilla/5.0 (compatible; Googlebot/2.1; +http://www.google.com/bot.html)\"\n",
      "\n",
      "66.249.65.38 - - [31/Jan/2010:08:31:50 +0200] \"GET /browse/download_model/2511 HTTP/1.1\" 200 39499 \"-\" \"Mozilla/5.0 (compatible; Googlebot/2.1; +http://www.google.com/bot.html)\"\n",
      "\n",
      "66.249.65.38 - - [31/Jan/2010:08:56:59 +0200] \"GET /browse/download_model/2479 HTTP/1.1\" 200 39598 \"-\" \"Mozilla/5.0 (compatible; Googlebot/2.1; +http://www.google.com/bot.html)\"\n",
      "\n",
      "66.249.65.38 - - [31/Jan/2010:09:22:13 +0200] \"GET /browse/download_model/2754 HTTP/1.1\" 200 3279 \"-\" \"Mozilla/5.0 (compatible; Googlebot/2.1; +http://www.google.com/bot.html)\"\n",
      "\n",
      "66.249.65.38 - - [31/Jan/2010:09:47:25 +0200] \"GET /browse/download_model/2751 HTTP/1.1\" 200 3146 \"-\" \"Mozilla/5.0 (compatible; Googlebot/2.1; +http://www.google.com/bot.html)\"\n",
      "\n",
      "66.249.65.38 - - [31/Jan/2010:10:12:33 +0200] \"GET /browse/download_model/2656 HTTP/1.1\" 200 117532 \"-\" \"Mozilla/5.0 (compatible; Googlebot/2.1; +http://www.google.com/bot.html)\"\n",
      "\n",
      "66.249.65.38 - - [31/Jan/2010:10:30:53 +0200] \"GET /browse/one_node/2701 HTTP/1.1\" 200 39424 \"-\" \"Mozilla/5.0 (compatible; Googlebot/2.1; +http://www.google.com/bot.html)\"\n",
      "\n",
      "66.249.65.38 - - [31/Jan/2010:10:37:46 +0200] \"GET /browse/download_model/935 HTTP/1.1\" 200 5014 \"-\" \"Mozilla/5.0 (compatible; Googlebot/2.1; +http://www.google.com/bot.html)\"\n",
      "\n",
      "66.249.65.38 - - [31/Jan/2010:11:03:00 +0200] \"GET /browse/download_model/717 HTTP/1.1\" 200 30442 \"-\" \"Mozilla/5.0 (compatible; Googlebot/2.1; +http://www.google.com/bot.html)\"\n",
      "\n",
      "66.249.65.38 - - [31/Jan/2010:11:28:14 +0200] \"GET /browse/download_model/751 HTTP/1.1\" 200 7485 \"-\" \"Mozilla/5.0 (compatible; Googlebot/2.1; +http://www.google.com/bot.html)\"\n",
      "\n",
      "66.249.65.38 - - [31/Jan/2010:11:53:26 +0200] \"GET /browse/download_model/2549 HTTP/1.1\" 200 5052 \"-\" \"Mozilla/5.0 (compatible; Googlebot/2.1; +http://www.google.com/bot.html)\"\n",
      "\n",
      "66.249.65.38 - - [31/Jan/2010:12:18:38 +0200] \"GET /browse/download_model/2650 HTTP/1.1\" 200 57739 \"-\" \"Mozilla/5.0 (compatible; Googlebot/2.1; +http://www.google.com/bot.html)\"\n",
      "\n",
      "66.249.65.38 - - [31/Jan/2010:12:43:41 +0200] \"GET /browse/download_model/729 HTTP/1.1\" 200 13146 \"-\" \"Mozilla/5.0 (compatible; Googlebot/2.1; +http://www.google.com/bot.html)\"\n",
      "\n",
      "66.249.65.38 - - [31/Jan/2010:12:45:28 +0200] \"GET /browse/browse_applet_tab/2593 HTTP/1.1\" 200 10305 \"-\" \"Mozilla/5.0 (compatible; Googlebot/2.1; +http://www.google.com/bot.html)\"\n",
      "\n",
      "66.249.65.38 - - [31/Jan/2010:13:09:00 +0200] \"GET /browse/download_model/814 HTTP/1.1\" 200 3066 \"-\" \"Mozilla/5.0 (compatible; Googlebot/2.1; +http://www.google.com/bot.html)\"\n",
      "\n",
      "66.249.65.38 - - [31/Jan/2010:13:34:05 +0200] \"GET /browse/download_model/2629 HTTP/1.1\" 200 62903 \"-\" \"Mozilla/5.0 (compatible; Googlebot/2.1; +http://www.google.com/bot.html)\"\n",
      "\n",
      "66.249.65.38 - - [31/Jan/2010:13:59:27 +0200] \"GET /browse/download_model/2644 HTTP/1.1\" 200 12122 \"-\" \"Mozilla/5.0 (compatible; Googlebot/2.1; +http://www.google.com/bot.html)\"\n",
      "\n",
      "66.249.65.38 - - [31/Jan/2010:14:24:30 +0200] \"GET /browse/download_model/804 HTTP/1.1\" 200 4085 \"-\" \"Mozilla/5.0 (compatible; Googlebot/2.1; +http://www.google.com/bot.html)\"\n",
      "\n",
      "67.195.112.35 - - [31/Jan/2010:14:45:44 +0200] \"GET /robots.txt HTTP/1.0\" 200 99 \"-\" \"Mozilla/5.0 (compatible; Yahoo! Slurp; http://help.yahoo.com/help/us/ysearch/slurp)\"\n",
      "\n",
      "67.195.112.35 - - [31/Jan/2010:14:45:44 +0200] \"GET /account/new HTTP/1.0\" 200 2226 \"-\" \"Mozilla/5.0 (compatible; Yahoo! Slurp/3.0; http://help.yahoo.com/help/us/ysearch/slurp)\"\n",
      "\n",
      "67.195.112.35 - - [31/Jan/2010:14:45:47 +0200] \"GET /stylesheets/nlcommons.css?1264605648 HTTP/1.0\" 200 1179 \"http://modelingcommons.org/account/new\" \"Mozilla/5.0 (compatible; Yahoo! Slurp/3.0; http://help.yahoo.com/help/us/ysearch/slurp)\"\n",
      "\n",
      "67.195.112.35 - - [31/Jan/2010:14:45:50 +0200] \"GET /stylesheets/browse.css?1264605648 HTTP/1.0\" 200 422 \"http://modelingcommons.org/account/new\" \"Mozilla/5.0 (compatible; Yahoo! Slurp/3.0; http://help.yahoo.com/help/us/ysearch/slurp)\"\n",
      "\n",
      "67.195.112.35 - - [31/Jan/2010:14:45:52 +0200] \"GET /stylesheets/jquery.autocomplete.css?1264605648 HTTP/1.0\" 200 447 \"http://modelingcommons.org/account/new\" \"Mozilla/5.0 (compatible; Yahoo! Slurp/3.0; http://help.yahoo.com/help/us/ysearch/slurp)\"\n",
      "\n",
      "67.195.112.35 - - [31/Jan/2010:14:45:55 +0200] \"GET /stylesheets/themes/nlcommons/ui.all.css?1264605648 HTTP/1.0\" 200 52 \"http://modelingcommons.org/account/new\" \"Mozilla/5.0 (compatible; Yahoo! Slurp/3.0; http://help.yahoo.com/help/us/ysearch/slurp)\"\n",
      "\n",
      "67.195.112.35 - - [31/Jan/2010:14:45:57 +0200] \"GET /stylesheets/themes/nlcommons/ui.theme.css HTTP/1.0\" 200 2862 \"http://modelingcommons.org/stylesheets/themes/nlcommons/ui.all.css?1264605648\" \"Mozilla/5.0 (compatible; Yahoo! Slurp/3.0; http://help.yahoo.com/help/us/ysearch/slurp)\"\n",
      "\n",
      "67.195.112.35 - - [31/Jan/2010:14:45:57 +0200] \"GET /stylesheets/themes/nlcommons/ui.base.css HTTP/1.0\" 200 111 \"http://modelingcommons.org/stylesheets/themes/nlcommons/ui.all.css?1264605648\" \"Mozilla/5.0 (compatible; Yahoo! Slurp/3.0; http://help.yahoo.com/help/us/ysearch/slurp)\"\n",
      "\n",
      "67.195.112.35 - - [31/Jan/2010:14:45:59 +0200] \"GET /stylesheets/themes/nlcommons/ui.slider.css HTTP/1.0\" 200 318 \"http://modelingcommons.org/stylesheets/themes/nlcommons/ui.base.css\" \"Mozilla/5.0 (compatible; Yahoo! Slurp/3.0; http://help.yahoo.com/help/us/ysearch/slurp)\"\n",
      "\n",
      "67.195.112.35 - - [31/Jan/2010:14:45:59 +0200] \"GET /stylesheets/themes/nlcommons/ui.core.css HTTP/1.0\" 200 624 \"http://modelingcommons.org/stylesheets/themes/nlcommons/ui.base.css\" \"Mozilla/5.0 (compatible; Yahoo! Slurp/3.0; http://help.yahoo.com/help/us/ysearch/slurp)\"\n",
      "\n",
      "67.195.112.35 - - [31/Jan/2010:14:45:59 +0200] \"GET /stylesheets/themes/nlcommons/ui.tabs.css HTTP/1.0\" 200 414 \"http://modelingcommons.org/stylesheets/themes/nlcommons/ui.base.css\" \"Mozilla/5.0 (compatible; Yahoo! Slurp/3.0; http://help.yahoo.com/help/us/ysearch/slurp)\"\n",
      "\n",
      "67.195.112.35 - - [31/Jan/2010:14:45:59 +0200] \"GET /stylesheets/themes/nlcommons/ui.accordion.css HTTP/1.0\" 200 295 \"http://modelingcommons.org/stylesheets/themes/nlcommons/ui.base.css\" \"Mozilla/5.0 (compatible; Yahoo! Slurp/3.0; http://help.yahoo.com/help/us/ysearch/slurp)\"\n",
      "\n",
      "67.195.112.35 - - [31/Jan/2010:14:45:59 +0200] \"GET /stylesheets/themes/nlcommons/ui.dialog.css HTTP/1.0\" 200 442 \"http://modelingcommons.org/stylesheets/themes/nlcommons/ui.base.css\" \"Mozilla/5.0 (compatible; Yahoo! Slurp/3.0; http://help.yahoo.com/help/us/ysearch/slurp)\"\n",
      "\n",
      "67.195.112.35 - - [31/Jan/2010:14:45:59 +0200] \"GET /stylesheets/themes/nlcommons/ui.resizable.css HTTP/1.0\" 200 307 \"http://modelingcommons.org/stylesheets/themes/nlcommons/ui.base.css\" \"Mozilla/5.0 (compatible; Yahoo! Slurp/3.0; http://help.yahoo.com/help/us/ysearch/slurp)\"\n",
      "\n",
      "67.195.112.35 - - [31/Jan/2010:14:45:59 +0200] \"GET /stylesheets/themes/nlcommons/ui.datepicker.css HTTP/1.0\" 200 965 \"http://modelingcommons.org/stylesheets/themes/nlcommons/ui.base.css\" \"Mozilla/5.0 (compatible; Yahoo! Slurp/3.0; http://help.yahoo.com/help/us/ysearch/slurp)\"\n",
      "\n",
      "67.195.112.35 - - [31/Jan/2010:14:45:59 +0200] \"GET /stylesheets/themes/nlcommons/ui.progressbar.css HTTP/1.0\" 200 114 \"http://modelingcommons.org/stylesheets/themes/nlcommons/ui.base.css\" \"Mozilla/5.0 (compatible; Yahoo! Slurp/3.0; http://help.yahoo.com/help/us/ysearch/slurp)\"\n",
      "\n",
      "66.249.65.38 - - [31/Jan/2010:14:49:40 +0200] \"GET /browse/download_model/1420 HTTP/1.1\" 200 73293 \"-\" \"Mozilla/5.0 (compatible; Googlebot/2.1; +http://www.google.com/bot.html)\"\n",
      "\n",
      "65.55.207.50 - - [31/Jan/2010:15:07:49 +0200] \"GET /robots.txt HTTP/1.1\" 200 99 \"-\" \"msnbot/2.0b (+http://search.msn.com/msnbot.htm)\"\n",
      "\n",
      "65.55.207.50 - - [31/Jan/2010:15:09:06 +0200] \"GET / HTTP/1.1\" 302 109 \"-\" \"msnbot/2.0b (+http://search.msn.com/msnbot.htm)\"\n",
      "\n",
      "65.55.207.50 - - [31/Jan/2010:15:09:14 +0200] \"GET /account/login HTTP/1.1\" 200 1935 \"-\" \"msnbot/2.0b (+http://search.msn.com/msnbot.htm)\"\n",
      "\n",
      "66.249.65.38 - - [31/Jan/2010:15:14:55 +0200] \"GET /browse/download_model/766 HTTP/1.1\" 200 10923 \"-\" \"Mozilla/5.0 (compatible; Googlebot/2.1; +http://www.google.com/bot.html)\"\n",
      "\n",
      "66.249.65.38 - - [31/Jan/2010:15:40:01 +0200] \"GET /browse/download_model/756 HTTP/1.1\" 200 4632 \"-\" \"Mozilla/5.0 (compatible; Googlebot/2.1; +http://www.google.com/bot.html)\"\n",
      "\n",
      "66.249.65.38 - - [31/Jan/2010:16:05:28 +0200] \"GET /browse/download_model/757 HTTP/1.1\" 200 11079 \"-\" \"Mozilla/5.0 (compatible; Googlebot/2.1; +http://www.google.com/bot.html)\"\n",
      "\n",
      "66.249.65.38 - - [31/Jan/2010:16:30:36 +0200] \"GET /browse/download_model/725 HTTP/1.1\" 200 16082 \"-\" \"Mozilla/5.0 (compatible; Googlebot/2.1; +http://www.google.com/bot.html)\"\n",
      "\n",
      "66.249.65.38 - - [31/Jan/2010:16:55:37 +0200] \"GET /browse/download_model/2473 HTTP/1.1\" 200 211110 \"-\" \"Mozilla/5.0 (compatible; Googlebot/2.1; +http://www.google.com/bot.html)\"\n",
      "\n",
      "66.249.65.38 - - [31/Jan/2010:17:20:49 +0200] \"GET /browse/download_model/1510 HTTP/1.1\" 200 35814 \"-\" \"Mozilla/5.0 (compatible; Googlebot/2.1; +http://www.google.com/bot.html)\"\n",
      "\n",
      "65.55.215.75 - - [31/Jan/2010:17:39:03 +0200] \"GET /robots.txt HTTP/1.1\" 200 99 \"-\" \"msnbot/2.0b (+http://search.msn.com/msnbot.htm)\"\n",
      "\n",
      "65.55.215.75 - - [31/Jan/2010:17:40:02 +0200] \"GET /browse/list_models HTTP/1.1\" 304 - \"-\" \"msnbot/2.0b (+http://search.msn.com/msnbot.htm)\"\n",
      "\n",
      "66.249.65.38 - - [31/Jan/2010:17:46:08 +0200] \"GET /browse/download_model/802 HTTP/1.1\" 200 4800 \"-\" \"Mozilla/5.0 (compatible; Googlebot/2.1; +http://www.google.com/bot.html)\"\n",
      "\n",
      "66.249.65.38 - - [31/Jan/2010:18:11:17 +0200] \"GET /browse/download_model/2194 HTTP/1.1\" 200 11380 \"-\" \"Mozilla/5.0 (compatible; Googlebot/2.1; +http://www.google.com/bot.html)\"\n",
      "\n",
      "66.249.65.38 - - [31/Jan/2010:18:36:25 +0200] \"GET /browse/download_model/1572 HTTP/1.1\" 200 10239 \"-\" \"Mozilla/5.0 (compatible; Googlebot/2.1; +http://www.google.com/bot.html)\"\n",
      "\n",
      "66.249.65.38 - - [31/Jan/2010:19:01:55 +0200] \"GET /browse/download_model/1806 HTTP/1.1\" 200 12739 \"-\" \"Mozilla/5.0 (compatible; Googlebot/2.1; +http://www.google.com/bot.html)\"\n",
      "\n",
      "66.249.65.38 - - [31/Jan/2010:19:26:45 +0200] \"GET /browse/download_model/930 HTTP/1.1\" 200 8271 \"-\" \"Mozilla/5.0 (compatible; Googlebot/2.1; +http://www.google.com/bot.html)\"\n",
      "\n",
      "66.249.65.38 - - [31/Jan/2010:19:52:00 +0200] \"GET /browse/download_model/2041 HTTP/1.1\" 200 18891 \"-\" \"Mozilla/5.0 (compatible; Googlebot/2.1; +http://www.google.com/bot.html)\"\n",
      "\n",
      "66.249.65.38 - - [31/Jan/2010:20:17:07 +0200] \"GET /browse/download_model/1800 HTTP/1.1\" 200 14802 \"-\" \"Mozilla/5.0 (compatible; Googlebot/2.1; +http://www.google.com/bot.html)\"\n",
      "\n",
      "66.249.65.38 - - [31/Jan/2010:20:42:19 +0200] \"GET /browse/one_node/1613 HTTP/1.1\" 200 27080 \"-\" \"Mozilla/5.0 (compatible; Googlebot/2.1; +http://www.google.com/bot.html)\"\n",
      "\n",
      "66.249.65.38 - - [31/Jan/2010:21:08:00 +0200] \"GET /browse/one_node/1892 HTTP/1.1\" 200 1296 \"-\" \"Mozilla/5.0 (compatible; Googlebot/2.1; +http://www.google.com/bot.html)\"\n",
      "\n"
     ]
    }
   ],
   "source": [
    "# shorter way to do it \n",
    "\n",
    "for one_line in open('mini-access-log.txt'):  # The file mini-access-log.txt is the same directory Jupyter\n",
    "    print(one_line)"
   ]
  },
  {
   "cell_type": "markdown",
   "id": "a6b91723",
   "metadata": {},
   "source": [
    "# Exercise: Word count\n",
    "\n",
    "1. There is a Unix utility called `wc` which counts lines, words, and characters in a file. (You can run it, if you're on Unix, as `wc FILENAME`. \n",
    "2. I want you to write a short Python program that implements the same thing as `wc`. That is:\n",
    "    - It prints the number of lines in a file (including blank lines)\n",
    "    - It prints the number of words in a file \n",
    "    - It prints the number of characters in a file\n",
    "3. Ask the user what file they want to open, open it, iterate over it with a `for` loop, and accumulate the counts for `lines`, `characters`, and `words`.\n",
    "4. Finally, print their values.\n",
    "\n",
    "There is a file in the zipfile I gaveyou called `wcfile.txt`. It's probably a good idea to use it for this exercise."
   ]
  },
  {
   "cell_type": "code",
   "execution_count": 69,
   "id": "66d84059",
   "metadata": {},
   "outputs": [
    {
     "name": "stdout",
     "output_type": "stream",
     "text": [
      "This is a test file.\r\n",
      "\r\n",
      "It contains 28 words and 20 different words.\r\n",
      "\r\n",
      "It also contains 165 characters.\r\n",
      "\r\n",
      "It also contains 11 lines.\r\n",
      "\r\n",
      "It is also self-referential.\r\n",
      "\r\n",
      "Wow!\r\n"
     ]
    }
   ],
   "source": [
    "!cat wcfile.txt"
   ]
  },
  {
   "cell_type": "code",
   "execution_count": 72,
   "id": "1b4f80ce",
   "metadata": {
    "scrolled": true
   },
   "outputs": [
    {
     "name": "stdout",
     "output_type": "stream",
     "text": [
      "lines: 11\n",
      "characters: 165\n",
      "words: 28\n"
     ]
    }
   ],
   "source": [
    "# (1) I'm going to assume that wcfile.txt is in the same directory as Jupyter was run\n",
    "# (2) I'm going to iterate over the file, one line at a time using \"for\"\n",
    "\n",
    "number_of_lines = 0\n",
    "number_of_characters = 0\n",
    "number_of_words = 0\n",
    "\n",
    "for one_line in open('wcfile.txt'): \n",
    "    number_of_lines += 1   # each iteration means 1 more line\n",
    "    \n",
    "    number_of_characters += len(one_line)   # how many characters in the current line? add to number_of_characters\n",
    "    \n",
    "    words_on_line = one_line.split()\n",
    "    number_of_words += len(words_on_line)   # how many words on this line? Add to the running total\n",
    "    \n",
    "print(f'lines: {number_of_lines}')    \n",
    "print(f'characters: {number_of_characters}')    \n",
    "print(f'words: {number_of_words}')    "
   ]
  },
  {
   "cell_type": "code",
   "execution_count": 73,
   "id": "7e43fbf6",
   "metadata": {},
   "outputs": [
    {
     "name": "stdout",
     "output_type": "stream",
     "text": [
      "lines: 11\n",
      "characters: 165\n",
      "words: 28\n"
     ]
    }
   ],
   "source": [
    "# let's rewrite this code, so that we don't accumulate our information into\n",
    "# three variables, but rather into one.\n",
    "\n",
    "# I can use a dictionary to keep track of all of them!\n",
    "\n",
    "counts = {'lines':0,\n",
    "          'characters':0,\n",
    "         'words':0}\n",
    "\n",
    "for one_line in open('wcfile.txt'): \n",
    "    counts['lines'] += 1   # each iteration means 1 more line\n",
    "    \n",
    "    counts['characters'] += len(one_line)   # how many characters in the current line? add to number_of_characters\n",
    "    \n",
    "    words_on_line = one_line.split()\n",
    "    counts['words'] += len(words_on_line)   # how many words on this line? Add to the running total\n",
    "    \n",
    "for key, value in counts.items():\n",
    "    print(f'{key}: {value}')"
   ]
  },
  {
   "cell_type": "markdown",
   "id": "60e23dff",
   "metadata": {},
   "source": [
    "# Next up\n",
    "\n",
    "1. (More on) reading from files\n",
    "2. Using data structures + reading from files\n",
    "3. Writing to files and `with`"
   ]
  },
  {
   "cell_type": "code",
   "execution_count": 77,
   "id": "68997072",
   "metadata": {},
   "outputs": [
    {
     "name": "stdout",
     "output_type": "stream",
     "text": [
      "root\n",
      "daemon\n",
      "bin\n",
      "sys\n",
      "sync\n",
      "games\n",
      "man\n",
      "lp\n",
      "mail\n",
      "news\n",
      "uucp\n",
      "proxy\n",
      "www-data\n",
      "backup\n",
      "list\n",
      "irc\n",
      "gnats\n",
      "nobody\n",
      "syslog\n",
      "messagebus\n",
      "landscape\n",
      "jci\n",
      "sshd\n",
      "user\n",
      "reuven\n",
      "postfix\n",
      "colord\n",
      "postgres\n",
      "dovecot\n",
      "dovenull\n",
      "postgrey\n",
      "debian-spamd\n",
      "memcache\n",
      "genadi\n",
      "shira\n",
      "atara\n",
      "shikma\n",
      "amotz\n",
      "mysql\n",
      "clamav\n",
      "amavis\n",
      "opendkim\n",
      "gitlab-redis\n",
      "gitlab-psql\n",
      "git\n",
      "opendmarc\n",
      "dkim-milter-python\n",
      "deploy\n",
      "redis\n"
     ]
    }
   ],
   "source": [
    "# what if the file contains things we don't care about, or want?\n",
    "# we can always use an \"if\" statement to decide if the current line is interesting\n",
    "# if so, we go ahead and do our thing... if not, then we go onto the next line.\n",
    "\n",
    "# for example, I have a file here, linux-etc-passwd.txt, which is based on the standard\n",
    "# Linux (Unix) \"passwd\" file where usernames and info are stored.\n",
    "\n",
    "# Each line of the file should contain the username, user ID, group ID, etc., separated by : characters\n",
    "\n",
    "# We need to ignore comment lines and blank lines\n",
    "\n",
    "for one_line in open('linux-etc-passwd.txt'):\n",
    "    if one_line.startswith('#'):\n",
    "        continue  # ignore comment lines\n",
    "        \n",
    "    if one_line.strip() == '':\n",
    "        continue   # ignore blank lines\n",
    "    \n",
    "    print(one_line.split(':')[0])  # turn each line into a list of fields, and get index 0 -- the username"
   ]
  },
  {
   "cell_type": "markdown",
   "id": "a53da481",
   "metadata": {},
   "source": [
    "# Exercise: Summing numbers\n",
    "\n",
    "1. Define `total` to 0.\n",
    "2. Go through the file `nums.txt`.  Each line of this file might be:\n",
    "    - Blank (or contain only whitespace)\n",
    "    - Contain one integer with possible whitespace before or after it\n",
    "3. If the line contains an integer, then call `int` on it and add the result to `total`.\n",
    "4. If the line contains only whitespace, which you can find by running `strip` on it and getting an empty string back, then ignore it.\n",
    "5. Print `total`, which should be 83."
   ]
  },
  {
   "cell_type": "code",
   "execution_count": 78,
   "id": "a922ed1c",
   "metadata": {},
   "outputs": [
    {
     "data": {
      "text/plain": [
       "'abcd'"
      ]
     },
     "execution_count": 78,
     "metadata": {},
     "output_type": "execute_result"
    }
   ],
   "source": [
    "s = '     abcd      '\n",
    "\n",
    "s.strip()"
   ]
  },
  {
   "cell_type": "code",
   "execution_count": 79,
   "id": "dfd05476",
   "metadata": {},
   "outputs": [
    {
     "data": {
      "text/plain": [
       "'     ABCD      '"
      ]
     },
     "execution_count": 79,
     "metadata": {},
     "output_type": "execute_result"
    }
   ],
   "source": [
    "s.upper()"
   ]
  },
  {
   "cell_type": "code",
   "execution_count": 81,
   "id": "971373d1",
   "metadata": {},
   "outputs": [
    {
     "data": {
      "text/plain": [
       "'ABCD'"
      ]
     },
     "execution_count": 81,
     "metadata": {},
     "output_type": "execute_result"
    }
   ],
   "source": [
    "s.strip().upper()   # method chaining -- we're only running one method on each string"
   ]
  },
  {
   "cell_type": "code",
   "execution_count": 83,
   "id": "ad555fb1",
   "metadata": {},
   "outputs": [
    {
     "name": "stdout",
     "output_type": "stream",
     "text": [
      "83\n"
     ]
    }
   ],
   "source": [
    "total = 0\n",
    "\n",
    "for one_line in open('nums.txt'):\n",
    "    s = one_line.strip()   # remove leading/trailing whitespace from one_line\n",
    "    \n",
    "    if s.isdigit():\n",
    "        total += int(one_line)\n",
    "    \n",
    "print(total)    "
   ]
  },
  {
   "cell_type": "code",
   "execution_count": 84,
   "id": "863af05d",
   "metadata": {},
   "outputs": [
    {
     "name": "stdout",
     "output_type": "stream",
     "text": [
      "83\n"
     ]
    }
   ],
   "source": [
    "total = 0\n",
    "\n",
    "for one_line in open('nums.txt'):\n",
    "\n",
    "    if one_line.strip().isdigit():  # remove leading/trailing whitespace, and check if it contains only digits\n",
    "        total += int(one_line)\n",
    "    \n",
    "print(total)    "
   ]
  },
  {
   "cell_type": "code",
   "execution_count": 85,
   "id": "905b061c",
   "metadata": {},
   "outputs": [
    {
     "data": {
      "text/plain": [
       "0"
      ]
     },
     "execution_count": 85,
     "metadata": {},
     "output_type": "execute_result"
    }
   ],
   "source": [
    "# there's a big difference between the empty string, '', and a space character, ' '\n",
    "\n",
    "len('')   # how big is the empty string"
   ]
  },
  {
   "cell_type": "code",
   "execution_count": 86,
   "id": "36095edd",
   "metadata": {},
   "outputs": [
    {
     "data": {
      "text/plain": [
       "1"
      ]
     },
     "execution_count": 86,
     "metadata": {},
     "output_type": "execute_result"
    }
   ],
   "source": [
    "len(' ')  # how big is the space character?"
   ]
  },
  {
   "cell_type": "code",
   "execution_count": null,
   "id": "88176294",
   "metadata": {},
   "outputs": [],
   "source": [
    "# if you compare one_line.strip() with the empty string, that'll check to see if\n",
    "# nothing at all survived the stripping\n",
    "\n",
    "# if you compare it with the space character... "
   ]
  },
  {
   "cell_type": "code",
   "execution_count": 87,
   "id": "7b574478",
   "metadata": {},
   "outputs": [
    {
     "data": {
      "text/plain": [
       "5"
      ]
     },
     "execution_count": 87,
     "metadata": {},
     "output_type": "execute_result"
    }
   ],
   "source": [
    "# it turns out that int is very forgiving if you have whitespace before or after the numbers\n",
    "int('5')"
   ]
  },
  {
   "cell_type": "code",
   "execution_count": 88,
   "id": "ca20c17d",
   "metadata": {},
   "outputs": [
    {
     "data": {
      "text/plain": [
       "5"
      ]
     },
     "execution_count": 88,
     "metadata": {},
     "output_type": "execute_result"
    }
   ],
   "source": [
    "int('     5      ')"
   ]
  },
  {
   "cell_type": "code",
   "execution_count": 89,
   "id": "5b804057",
   "metadata": {},
   "outputs": [
    {
     "data": {
      "text/plain": [
       "5"
      ]
     },
     "execution_count": 89,
     "metadata": {},
     "output_type": "execute_result"
    }
   ],
   "source": [
    "int('\\n\\n\\n\\r\\r\\r\\t\\t\\t   5  \\t\\t\\t')"
   ]
  },
  {
   "cell_type": "code",
   "execution_count": 90,
   "id": "91a1acc6",
   "metadata": {},
   "outputs": [
    {
     "ename": "ValueError",
     "evalue": "invalid literal for int() with base 10: ''",
     "output_type": "error",
     "traceback": [
      "\u001b[0;31m---------------------------------------------------------------------------\u001b[0m",
      "\u001b[0;31mValueError\u001b[0m                                Traceback (most recent call last)",
      "Cell \u001b[0;32mIn [90], line 2\u001b[0m\n\u001b[1;32m      1\u001b[0m \u001b[38;5;66;03m# but....\u001b[39;00m\n\u001b[0;32m----> 2\u001b[0m \u001b[38;5;28;43mint\u001b[39;49m\u001b[43m(\u001b[49m\u001b[38;5;124;43m'\u001b[39;49m\u001b[38;5;124;43m'\u001b[39;49m\u001b[43m)\u001b[49m\n",
      "\u001b[0;31mValueError\u001b[0m: invalid literal for int() with base 10: ''"
     ]
    }
   ],
   "source": [
    "# but....\n",
    "int('')"
   ]
  },
  {
   "cell_type": "markdown",
   "id": "0ef60cbc",
   "metadata": {},
   "source": [
    "# Writing to files\n",
    "\n",
    "So far, we've only read from files. If you call `open` with only a filename as an argument, it'll open that file for reading."
   ]
  }
 ],
 "metadata": {
  "kernelspec": {
   "display_name": "Python 3 (ipykernel)",
   "language": "python",
   "name": "python3"
  },
  "language_info": {
   "codemirror_mode": {
    "name": "ipython",
    "version": 3
   },
   "file_extension": ".py",
   "mimetype": "text/x-python",
   "name": "python",
   "nbconvert_exporter": "python",
   "pygments_lexer": "ipython3",
   "version": "3.11.0"
  }
 },
 "nbformat": 4,
 "nbformat_minor": 5
}
