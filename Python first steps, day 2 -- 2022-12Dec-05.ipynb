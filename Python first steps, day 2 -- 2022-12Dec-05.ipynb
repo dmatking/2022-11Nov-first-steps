{
 "cells": [
  {
   "cell_type": "markdown",
   "id": "7f4b193d",
   "metadata": {},
   "source": [
    "# Agenda: Week 3 (Dictionaries and files)\n",
    "\n",
    "1. Recap data structures so far\n",
    "2. Dictionaries (\"dicts\")\n",
    "    - Storing\n",
    "    - Retrieving\n",
    "    - Keys and values\n",
    "    - Modifying dictionaries\n",
    "3. Accumulating in dicts\n",
    "4. Acuumulating the unknown\n",
    "5. Looping over dicts\n",
    "6. Files\n",
    "    - File objects\n",
    "    - Reading from files\n",
    "    - Writing to files\n",
    "    - Using with `with` statement when working with files\n",
    "    \n",
    "We'll use files from this zipfile: https://files.lerner.co.il/exercise-files.zip    "
   ]
  },
  {
   "cell_type": "markdown",
   "id": "4b78c478",
   "metadata": {},
   "source": [
    "# Data structures so far\n",
    "\n",
    "We've seen that different types of data can be stored in different types of structures. Each structure provides us with different functionality and speed trade-offs.\n",
    "\n",
    "Integers are really small and very fast -- but very annoying if we're going to use them for text.\n",
    "\n",
    "Strings are great for text - but very annoying if we want to store multiple things (that aren't characters).\n",
    "\n",
    "Lists are great for collections -- but very annoying if I just want to hold onto the text of a book or article.\n",
    "\n",
    "Generally speaking:\n",
    "- Integers are for whole numbers, and floats are for numbers with a fractional part\n",
    "- Strings are for text (of any length), or collections of characters\n",
    "- Lists are the go-to ordered collection in Python.  Lists can contain anything at all, and can be any size we want. We can append to the end, and we can remove from anywhere.\n",
    "- Tuples are Python's version of structs or records. They are immutable, but more importantly, we typically use tuples when we have a collection of different types.\n",
    "\n",
    "Some examples:\n",
    "- If I have a text document, I'll store that in a string.\n",
    "- If I have a few words that our company wants to be sure are never used in a press release, then we could put those in a list, and search for each of them in outgoing correspondence.\n",
    "- If I have information about an employee -- their name, age, address, and salary -- then I'll put those in a tuple, because it's a collection of information of different types."
   ]
  },
  {
   "cell_type": "markdown",
   "id": "69fbf348",
   "metadata": {},
   "source": [
    "# Getting help in Jupyter\n",
    "\n",
    "Every Python environment is a bit different, but in Jupyter, you have a few ways to get help, and to find out what your options are.\n",
    "\n",
    "1. At any point, you can press `TAB` to complete your options. If you press `TAB` halfway through a variable name, then Python will try to complete it. If the completion is ambiguous, then it'll show you a menu of possibilities. If you're after a `.`, then it'll show you all of the methods that you can invoke on that type of object.\n",
    "2. You can use the `help` function to find out more about something, as in `help(len)` or `help(str.upper)`. Notice that if I'm getting help on a function, I don't invoke it with `()`, but just pass its name as an argument to `help`.\n",
    "3. You can put any variable, function, or other name in Jupyter, and put a `?` after it, to get information about it. If you use `??`, you'll sometimes get more information, such as the definition of a function."
   ]
  },
  {
   "cell_type": "code",
   "execution_count": 2,
   "id": "c5340937",
   "metadata": {},
   "outputs": [],
   "source": [
    "variable_x = 100\n",
    "variable_y = [10, 20, 30]\n",
    "variable_z = 'Hello, out there!'"
   ]
  },
  {
   "cell_type": "code",
   "execution_count": 3,
   "id": "69397e63",
   "metadata": {},
   "outputs": [
    {
     "name": "stdout",
     "output_type": "stream",
     "text": [
      "Help on list object:\n",
      "\n",
      "class list(object)\n",
      " |  list(iterable=(), /)\n",
      " |  \n",
      " |  Built-in mutable sequence.\n",
      " |  \n",
      " |  If no argument is given, the constructor creates a new empty list.\n",
      " |  The argument must be an iterable if specified.\n",
      " |  \n",
      " |  Methods defined here:\n",
      " |  \n",
      " |  __add__(self, value, /)\n",
      " |      Return self+value.\n",
      " |  \n",
      " |  __contains__(self, key, /)\n",
      " |      Return key in self.\n",
      " |  \n",
      " |  __delitem__(self, key, /)\n",
      " |      Delete self[key].\n",
      " |  \n",
      " |  __eq__(self, value, /)\n",
      " |      Return self==value.\n",
      " |  \n",
      " |  __ge__(self, value, /)\n",
      " |      Return self>=value.\n",
      " |  \n",
      " |  __getattribute__(self, name, /)\n",
      " |      Return getattr(self, name).\n",
      " |  \n",
      " |  __getitem__(...)\n",
      " |      x.__getitem__(y) <==> x[y]\n",
      " |  \n",
      " |  __gt__(self, value, /)\n",
      " |      Return self>value.\n",
      " |  \n",
      " |  __iadd__(self, value, /)\n",
      " |      Implement self+=value.\n",
      " |  \n",
      " |  __imul__(self, value, /)\n",
      " |      Implement self*=value.\n",
      " |  \n",
      " |  __init__(self, /, *args, **kwargs)\n",
      " |      Initialize self.  See help(type(self)) for accurate signature.\n",
      " |  \n",
      " |  __iter__(self, /)\n",
      " |      Implement iter(self).\n",
      " |  \n",
      " |  __le__(self, value, /)\n",
      " |      Return self<=value.\n",
      " |  \n",
      " |  __len__(self, /)\n",
      " |      Return len(self).\n",
      " |  \n",
      " |  __lt__(self, value, /)\n",
      " |      Return self<value.\n",
      " |  \n",
      " |  __mul__(self, value, /)\n",
      " |      Return self*value.\n",
      " |  \n",
      " |  __ne__(self, value, /)\n",
      " |      Return self!=value.\n",
      " |  \n",
      " |  __repr__(self, /)\n",
      " |      Return repr(self).\n",
      " |  \n",
      " |  __reversed__(self, /)\n",
      " |      Return a reverse iterator over the list.\n",
      " |  \n",
      " |  __rmul__(self, value, /)\n",
      " |      Return value*self.\n",
      " |  \n",
      " |  __setitem__(self, key, value, /)\n",
      " |      Set self[key] to value.\n",
      " |  \n",
      " |  __sizeof__(self, /)\n",
      " |      Return the size of the list in memory, in bytes.\n",
      " |  \n",
      " |  append(self, object, /)\n",
      " |      Append object to the end of the list.\n",
      " |  \n",
      " |  clear(self, /)\n",
      " |      Remove all items from list.\n",
      " |  \n",
      " |  copy(self, /)\n",
      " |      Return a shallow copy of the list.\n",
      " |  \n",
      " |  count(self, value, /)\n",
      " |      Return number of occurrences of value.\n",
      " |  \n",
      " |  extend(self, iterable, /)\n",
      " |      Extend list by appending elements from the iterable.\n",
      " |  \n",
      " |  index(self, value, start=0, stop=9223372036854775807, /)\n",
      " |      Return first index of value.\n",
      " |      \n",
      " |      Raises ValueError if the value is not present.\n",
      " |  \n",
      " |  insert(self, index, object, /)\n",
      " |      Insert object before index.\n",
      " |  \n",
      " |  pop(self, index=-1, /)\n",
      " |      Remove and return item at index (default last).\n",
      " |      \n",
      " |      Raises IndexError if list is empty or index is out of range.\n",
      " |  \n",
      " |  remove(self, value, /)\n",
      " |      Remove first occurrence of value.\n",
      " |      \n",
      " |      Raises ValueError if the value is not present.\n",
      " |  \n",
      " |  reverse(self, /)\n",
      " |      Reverse *IN PLACE*.\n",
      " |  \n",
      " |  sort(self, /, *, key=None, reverse=False)\n",
      " |      Sort the list in ascending order and return None.\n",
      " |      \n",
      " |      The sort is in-place (i.e. the list itself is modified) and stable (i.e. the\n",
      " |      order of two equal elements is maintained).\n",
      " |      \n",
      " |      If a key function is given, apply it once to each list item and sort them,\n",
      " |      ascending or descending, according to their function values.\n",
      " |      \n",
      " |      The reverse flag can be set to sort in descending order.\n",
      " |  \n",
      " |  ----------------------------------------------------------------------\n",
      " |  Class methods defined here:\n",
      " |  \n",
      " |  __class_getitem__(...) from builtins.type\n",
      " |      See PEP 585\n",
      " |  \n",
      " |  ----------------------------------------------------------------------\n",
      " |  Static methods defined here:\n",
      " |  \n",
      " |  __new__(*args, **kwargs) from builtins.type\n",
      " |      Create and return a new object.  See help(type) for accurate signature.\n",
      " |  \n",
      " |  ----------------------------------------------------------------------\n",
      " |  Data and other attributes defined here:\n",
      " |  \n",
      " |  __hash__ = None\n",
      "\n"
     ]
    }
   ],
   "source": [
    "help(variable_y)"
   ]
  },
  {
   "cell_type": "code",
   "execution_count": 5,
   "id": "1febcb2a",
   "metadata": {},
   "outputs": [],
   "source": [
    "variable_y??"
   ]
  },
  {
   "cell_type": "markdown",
   "id": "cd92e918",
   "metadata": {},
   "source": [
    "# Dictionaries (aka \"dicts\")\n",
    "\n",
    "When we store data in a list, we know several things:\n",
    "\n",
    "1. We can store any type of data that we want.\n",
    "2. Each new element in the list is put at a new index, 1 higher than the previous final element's index. Indexes start at 0.\n",
    "3. We can update the values in a list by assigning to the list at a particular index.\n",
    "\n",
    "There are some problems with this, though:\n",
    "\n",
    "1. We have to use integers to retrieve our values.\n",
    "2. Those integers start at 0, and are rather inflexible.\n",
    "3. If we want to search for a value in our list, we need to (potentially) go through all of the values until we'll either find it or see that it's not there.\n",
    "\n",
    "Imagine we're running a new streaming service. Someone wants to know whether we have a particular movie in stock. Can you imagine looking through 1m films in a list, one at a time, to see if we have it in stock? That would take forever!\n",
    "\n",
    "Dictionaries provide a wonderful alternative:\n",
    "- They are more flexible with their indexes (known as \"keys\")\n",
    "- They are far faster to search through than lists\n",
    "- They also provide us with more semantic power than lists do"
   ]
  },
  {
   "cell_type": "markdown",
   "id": "9b0ea084",
   "metadata": {},
   "source": [
    "A dict is also known by many other names in other languages:\n",
    "- key-value store\n",
    "- name-value store\n",
    "- hash table\n",
    "- hash map\n",
    "- hash\n",
    "- map\n",
    "- associative array\n",
    "\n",
    "You can think of a dict as a two-column table, in which the left column contains keys and the right column contains values.\n",
    "\n",
    "A list can only have integer keys, and they start with 0, and go up by 1.\n",
    "\n",
    "A dict, by contrast, can have keys of *any immutable type* (which basically means integers and strings), and values of any type at all. We, the users, can say what the dict keys are. We aren't restricted to 0, 1, 2, etc. We can use:\n",
    "\n",
    "- ID numbers\n",
    "- names\n",
    "- usernames\n",
    "- IP addresses"
   ]
  },
  {
   "cell_type": "code",
   "execution_count": 6,
   "id": "183f24fb",
   "metadata": {},
   "outputs": [],
   "source": [
    "# to define a dict, we use {}\n",
    "# each key-value pair is defined with the key, then :, then the value\n",
    "# pairs are separated by ,\n",
    "\n",
    "# in a dict, every key must have a value, and every value must have a key\n",
    "# also: keys are unique! It's impossible for a dict to have the same key twice\n",
    "\n",
    "d = {'a':10, 'b':20, 'c':30}   # here, I define a dict and assign it to d"
   ]
  },
  {
   "cell_type": "code",
   "execution_count": 7,
   "id": "3d200597",
   "metadata": {},
   "outputs": [
    {
     "data": {
      "text/plain": [
       "dict"
      ]
     },
     "execution_count": 7,
     "metadata": {},
     "output_type": "execute_result"
    }
   ],
   "source": [
    "type(d)"
   ]
  },
  {
   "cell_type": "code",
   "execution_count": 8,
   "id": "bdc84b60",
   "metadata": {},
   "outputs": [
    {
     "data": {
      "text/plain": [
       "3"
      ]
     },
     "execution_count": 8,
     "metadata": {},
     "output_type": "execute_result"
    }
   ],
   "source": [
    "# how big is this dict?\n",
    "\n",
    "len(d)  # len usually gives us the number of elements in a data structure. Here, it gives us the number of *pairs*."
   ]
  },
  {
   "cell_type": "code",
   "execution_count": 9,
   "id": "4246a1e2",
   "metadata": {},
   "outputs": [
    {
     "data": {
      "text/plain": [
       "True"
      ]
     },
     "execution_count": 9,
     "metadata": {},
     "output_type": "execute_result"
    }
   ],
   "source": [
    "# I can search the keys for something, and find out if it's there, with \"in\"\n",
    "'a' in d"
   ]
  },
  {
   "cell_type": "code",
   "execution_count": 10,
   "id": "9dd00b25",
   "metadata": {},
   "outputs": [
    {
     "data": {
      "text/plain": [
       "False"
      ]
     },
     "execution_count": 10,
     "metadata": {},
     "output_type": "execute_result"
    }
   ],
   "source": [
    "30 in d   # we only look at keys, so this is False"
   ]
  },
  {
   "cell_type": "code",
   "execution_count": 11,
   "id": "15a84357",
   "metadata": {},
   "outputs": [
    {
     "data": {
      "text/plain": [
       "10"
      ]
     },
     "execution_count": 11,
     "metadata": {},
     "output_type": "execute_result"
    }
   ],
   "source": [
    "# I can retrieve from the dict using []\n",
    "\n",
    "d['a']   "
   ]
  },
  {
   "cell_type": "code",
   "execution_count": 12,
   "id": "d80c32e1",
   "metadata": {},
   "outputs": [
    {
     "data": {
      "text/plain": [
       "20"
      ]
     },
     "execution_count": 12,
     "metadata": {},
     "output_type": "execute_result"
    }
   ],
   "source": [
    "d['b']"
   ]
  },
  {
   "cell_type": "code",
   "execution_count": 13,
   "id": "a6231098",
   "metadata": {},
   "outputs": [
    {
     "data": {
      "text/plain": [
       "30"
      ]
     },
     "execution_count": 13,
     "metadata": {},
     "output_type": "execute_result"
    }
   ],
   "source": [
    "d['c']"
   ]
  },
  {
   "cell_type": "code",
   "execution_count": 15,
   "id": "08d1c7db",
   "metadata": {},
   "outputs": [
    {
     "ename": "KeyError",
     "evalue": "'x'",
     "output_type": "error",
     "traceback": [
      "\u001b[0;31m---------------------------------------------------------------------------\u001b[0m",
      "\u001b[0;31mKeyError\u001b[0m                                  Traceback (most recent call last)",
      "Cell \u001b[0;32mIn [15], line 1\u001b[0m\n\u001b[0;32m----> 1\u001b[0m \u001b[43md\u001b[49m\u001b[43m[\u001b[49m\u001b[38;5;124;43m'\u001b[39;49m\u001b[38;5;124;43mx\u001b[39;49m\u001b[38;5;124;43m'\u001b[39;49m\u001b[43m]\u001b[49m   \u001b[38;5;66;03m# this key does not exist, thus there is no value for it\u001b[39;00m\n",
      "\u001b[0;31mKeyError\u001b[0m: 'x'"
     ]
    }
   ],
   "source": [
    "d['x']   # this key does not exist, thus there is no value for it"
   ]
  },
  {
   "cell_type": "markdown",
   "id": "d7eb37e9",
   "metadata": {},
   "source": [
    "# First paradigm for dict use: A read-only database\n",
    "\n",
    "Many times, we'll create a dict and never modify it. Then, inside of the program, we can read from that dict and use it as a database, but we won't change it.\n",
    "\n",
    "Example: Months -> numbers. Or numbers -> months."
   ]
  },
  {
   "cell_type": "code",
   "execution_count": 17,
   "id": "2774ddd4",
   "metadata": {},
   "outputs": [],
   "source": [
    "months = {'Jan':1, 'Feb':2, 'Mar':3, 'Apr':4}"
   ]
  },
  {
   "cell_type": "code",
   "execution_count": 18,
   "id": "6b787a65",
   "metadata": {},
   "outputs": [
    {
     "data": {
      "text/plain": [
       "1"
      ]
     },
     "execution_count": 18,
     "metadata": {},
     "output_type": "execute_result"
    }
   ],
   "source": [
    "months['Jan']  # we use [] to retrieve from dicts and strings, not just lists"
   ]
  },
  {
   "cell_type": "code",
   "execution_count": 19,
   "id": "9183fbc4",
   "metadata": {},
   "outputs": [
    {
     "ename": "KeyError",
     "evalue": "'Dec'",
     "output_type": "error",
     "traceback": [
      "\u001b[0;31m---------------------------------------------------------------------------\u001b[0m",
      "\u001b[0;31mKeyError\u001b[0m                                  Traceback (most recent call last)",
      "Cell \u001b[0;32mIn [19], line 1\u001b[0m\n\u001b[0;32m----> 1\u001b[0m \u001b[43mmonths\u001b[49m\u001b[43m[\u001b[49m\u001b[38;5;124;43m'\u001b[39;49m\u001b[38;5;124;43mDec\u001b[39;49m\u001b[38;5;124;43m'\u001b[39;49m\u001b[43m]\u001b[49m\n",
      "\u001b[0;31mKeyError\u001b[0m: 'Dec'"
     ]
    }
   ],
   "source": [
    "months['Dec']"
   ]
  },
  {
   "cell_type": "markdown",
   "id": "9448e8ab",
   "metadata": {},
   "source": [
    "# Exercise: Restuarant\n",
    "\n",
    "0. Define `total` to be 0.\n",
    "1. Define a dict called `menu` whose keys are the entree names and whose values are their prices.\n",
    "2. Ask the user, repeatedly, to enter an order:\n",
    "    - If the order is empty (empty string), then stop asking and exit the program\n",
    "    - If the order is key in the dict, then add the price to `total`, and print the item, new total, and price.\n",
    "    - If the order is *not* in the dict, then give the user a scolding\n",
    "    \n",
    "Example:\n",
    "\n",
    "    Order: sandwich\n",
    "    sandwich is 12, total is 12\n",
    "    Order: tea\n",
    "    tea is 10, total is 22\n",
    "    Order: elephant\n",
    "    we are fresh out of elephant today!"
   ]
  },
  {
   "cell_type": "code",
   "execution_count": 20,
   "id": "bdd81c8a",
   "metadata": {},
   "outputs": [],
   "source": [
    "total = 0\n",
    "\n",
    "\n",
    "menu = {'sandwich':12, 'tea':10, 'apple':1, 'cake':5}   # 4 key-value pairs"
   ]
  },
  {
   "cell_type": "code",
   "execution_count": 21,
   "id": "de89f1d2",
   "metadata": {},
   "outputs": [
    {
     "data": {
      "text/plain": [
       "4"
      ]
     },
     "execution_count": 21,
     "metadata": {},
     "output_type": "execute_result"
    }
   ],
   "source": [
    "len(menu)"
   ]
  },
  {
   "cell_type": "code",
   "execution_count": 22,
   "id": "b1509792",
   "metadata": {},
   "outputs": [
    {
     "data": {
      "text/plain": [
       "12"
      ]
     },
     "execution_count": 22,
     "metadata": {},
     "output_type": "execute_result"
    }
   ],
   "source": [
    "menu['sandwich']"
   ]
  },
  {
   "cell_type": "code",
   "execution_count": 23,
   "id": "793033bf",
   "metadata": {},
   "outputs": [
    {
     "data": {
      "text/plain": [
       "12"
      ]
     },
     "execution_count": 23,
     "metadata": {},
     "output_type": "execute_result"
    }
   ],
   "source": [
    "order = 'sandwich'   # assign to a variable\n",
    "menu[order]"
   ]
  },
  {
   "cell_type": "code",
   "execution_count": 25,
   "id": "16013dd3",
   "metadata": {},
   "outputs": [
    {
     "name": "stdout",
     "output_type": "stream",
     "text": [
      "Order: sandwich\n",
      "sandwich costs 12; total is now 12\n",
      "Order: sandwich\n",
      "sandwich costs 12; total is now 24\n",
      "Order: tea\n",
      "tea costs 10; total is now 34\n",
      "Order: cake\n",
      "cake costs 5; total is now 39\n",
      "Order: apple\n",
      "apple costs 1; total is now 40\n",
      "Order: table\n",
      "We are out of table today!\n",
      "Order: \n",
      "Price is 40\n"
     ]
    }
   ],
   "source": [
    "total = 0\n",
    "\n",
    "menu = {'sandwich':12, 'tea':10, 'apple':1, 'cake':5}   # 4 key-value pairs\n",
    "\n",
    "while True:   # infinite loop -- it'll last until we encounter \"break\"\n",
    "\n",
    "    order = input('Order: ').strip()\n",
    "\n",
    "    if order == '':   # this is how we can get out of the infinite loop!\n",
    "        break\n",
    "        \n",
    "    # is this order on the menu?\n",
    "    if order in menu:\n",
    "        price = menu[order]\n",
    "        total += price\n",
    "        print(f'{order} costs {price}; total is now {total}')\n",
    "    else:\n",
    "        print(f'We are out of {order} today!')\n",
    "        \n",
    "print(f'Price is {total}')        "
   ]
  },
  {
   "cell_type": "code",
   "execution_count": 26,
   "id": "b49314e8",
   "metadata": {},
   "outputs": [
    {
     "name": "stdout",
     "output_type": "stream",
     "text": [
      "The value of x is 10\n"
     ]
    }
   ],
   "source": [
    "# f-strings are special\n",
    "\n",
    "x = 10\n",
    "\n",
    "print('The value of x is ' + str(x))   # here, we're combining two strings into a new one"
   ]
  },
  {
   "cell_type": "code",
   "execution_count": 27,
   "id": "dcda3856",
   "metadata": {},
   "outputs": [
    {
     "name": "stdout",
     "output_type": "stream",
     "text": [
      "The value of x is 10\n"
     ]
    }
   ],
   "source": [
    "# I can also say:\n",
    "\n",
    "print(f'The value of x is {x}')  # here, we're depending on {} returning a string, no matter the type of x"
   ]
  },
  {
   "cell_type": "code",
   "execution_count": null,
   "id": "9726e496",
   "metadata": {},
   "outputs": [],
   "source": []
  },
  {
   "cell_type": "markdown",
   "id": "fff3c652",
   "metadata": {},
   "source": [
    "\n",
    "# Dicts are mutable\n",
    "\n",
    "You might remember that Python data can be *mutable* or *immutable*. The question is whether we can change an existing data structure. This is *not* the same as whether we can assign a value to a variable!\n",
    "\n",
    "We can *always* assign a new value to a variable. For example:\n",
    "\n",
    "```python\n",
    "s = 'abcd'      # assigning a string to s\n",
    "s = s.upper()   # assigning a new string to s \n",
    "```\n",
    "\n",
    "The above is *not* mutable data, though.  Strings are immutable.\n",
    "\n",
    "By contrast, lists are mutable. We change a list with `append` and the like, without assigning or re-assigning it to a variable.\n",
    "\n",
    "Dictionaries are also mutable. We can change them without re-assigning them to a variable."
   ]
  },
  {
   "cell_type": "code",
   "execution_count": 29,
   "id": "9a554161",
   "metadata": {},
   "outputs": [
    {
     "data": {
      "text/plain": [
       "{'a': 2345, 'b': 20, 'c': 30}"
      ]
     },
     "execution_count": 29,
     "metadata": {},
     "output_type": "execute_result"
    }
   ],
   "source": [
    "d = {'a':10, 'b':20, 'c':30}\n",
    "\n",
    "# how can I modify an existing key-value pair?\n",
    "# I can update the value by assigning to it\n",
    "\n",
    "d['a'] = 2345    # the key 'a' already exists, and we change/update/modify the existing value\n",
    "\n",
    "d"
   ]
  },
  {
   "cell_type": "code",
   "execution_count": 30,
   "id": "9a3a533c",
   "metadata": {},
   "outputs": [
    {
     "data": {
      "text/plain": [
       "{'a': 2345, 'b': 20, 'c': 30, 'x': 987}"
      ]
     },
     "execution_count": 30,
     "metadata": {},
     "output_type": "execute_result"
    }
   ],
   "source": [
    "# how can I add a new key-value pair to my dict?\n",
    "# in exactly the same way -- we just assign to a key that doesn't (yet) exist\n",
    "\n",
    "d['x'] = 987   # 'x' doesn't exist as a key, so we add a new key-value pair\n",
    "\n",
    "d"
   ]
  },
  {
   "cell_type": "code",
   "execution_count": 31,
   "id": "fe449584",
   "metadata": {},
   "outputs": [
    {
     "data": {
      "text/plain": [
       "987"
      ]
     },
     "execution_count": 31,
     "metadata": {},
     "output_type": "execute_result"
    }
   ],
   "source": [
    "# how can I remove a key-value pair?\n",
    "# (by the way, I almost never remove key-value pairs from a dicts)\n",
    "\n",
    "d.pop('x')  # this removes the pair with 'x' as a key, and returns its value"
   ]
  },
  {
   "cell_type": "code",
   "execution_count": 32,
   "id": "32184824",
   "metadata": {},
   "outputs": [
    {
     "data": {
      "text/plain": [
       "{'a': 2345, 'b': 20, 'c': 30}"
      ]
     },
     "execution_count": 32,
     "metadata": {},
     "output_type": "execute_result"
    }
   ],
   "source": [
    "d"
   ]
  },
  {
   "cell_type": "markdown",
   "id": "6ba71612",
   "metadata": {},
   "source": [
    "# Dicts are always key -> value\n",
    "\n",
    "In a dict, keys are unique. There's no way for the same key to exist more than once. Values can repeat, if we want.\n",
    "\n",
    "Thus, we can retrieve values from dicts with simple retrieval, using `d[k]`. We know that `k` either exists as a key, or not.\n",
    "\n",
    "Can we retrieve keys based on values? The answer is: No! You always want to think about dicts as using the keys to get values, but not the other way around. "
   ]
  },
  {
   "cell_type": "code",
   "execution_count": 33,
   "id": "7a0543c4",
   "metadata": {},
   "outputs": [
    {
     "data": {
      "text/plain": [
       "dict_keys(['a', 'b', 'c'])"
      ]
     },
     "execution_count": 33,
     "metadata": {},
     "output_type": "execute_result"
    }
   ],
   "source": [
    "d.keys()  # this returns a list-like object that contains all dict keys"
   ]
  },
  {
   "cell_type": "markdown",
   "id": "9b0ef433",
   "metadata": {},
   "source": [
    "# Next up\n",
    "\n",
    "1. Using dicts for accumulation\n",
    "2. Using dicts to accumulate starting from nothing"
   ]
  },
  {
   "cell_type": "markdown",
   "id": "afc53583",
   "metadata": {},
   "source": [
    "# Dicts for accumulation (paradigm 2)\n",
    "\n",
    "The idea of this dict paradigm is that we create a dictionary with keys and initialized values, typically 0. We won't add keys to the dict while the program runs, but we will increment the values over time, to reflect data we've found.\n",
    "\n",
    "For example: Let's say that a list contains integers, and I want to know how many of them are odd, and how many are even."
   ]
  },
  {
   "cell_type": "code",
   "execution_count": 34,
   "id": "86f1c394",
   "metadata": {},
   "outputs": [
    {
     "name": "stdout",
     "output_type": "stream",
     "text": [
      "{'evens': 3, 'odds': 2}\n"
     ]
    }
   ],
   "source": [
    "numbers = [10, 15, 20, 25, 30]\n",
    "\n",
    "# create a dict to keep track of the numbers\n",
    "counts = {'evens': 0,\n",
    "          'odds': 0}\n",
    "\n",
    "for one_number in numbers:\n",
    "    \n",
    "    if one_number % 2 == 0:    # if there is no remainder after dividing by 2... it must be even\n",
    "        counts['evens'] += 1   # add 1 to the current value of counts['evens']\n",
    "    else:\n",
    "        counts['odds'] += 1\n",
    "        \n",
    "print(counts)        "
   ]
  },
  {
   "cell_type": "markdown",
   "id": "ff6266e6",
   "metadata": {},
   "source": [
    "# Exercise: Vowels, digits, and others (dict edition)\n",
    "\n",
    "1. Create a dict called `counts`, with three keys: `vowels`, `digits`, and `others`. The values for all three keys should be 0.\n",
    "2. Ask the user to enter a string.\n",
    "3. Go through the string, one character at a time:\n",
    "    - If the character is a vowel (a, e, i, o, u), then add 1 to `vowels`\n",
    "    - If the character is a digit (0-9), then add 1 to `digits`\n",
    "    - Otherwise, add 1 to `others`\n",
    "4. Print the dict at the end of the program's run    "
   ]
  },
  {
   "cell_type": "code",
   "execution_count": 36,
   "id": "c0db4789",
   "metadata": {},
   "outputs": [
    {
     "name": "stdout",
     "output_type": "stream",
     "text": [
      "Enter a string: hello 123 !!\n",
      "{'vowels': 0, 'digits': 12, 'others': 0}\n"
     ]
    }
   ],
   "source": [
    "counts = {'vowels':0, \n",
    "          'digits':0,\n",
    "          'others':0}\n",
    "\n",
    "s = input('Enter a string: ').strip()\n",
    "\n",
    "for one_character in s:            # go through s, one character at a time\n",
    "    if one_character.isdigit():    # if one_character is the string '0' through '9'\n",
    "        counts['digits'] += 1      # add 1 to counts['digits']\n",
    "    elif one_character in 'aeiou': # if it's a vowel...\n",
    "        counts['vowels'] += 1      # add 1 to counts['vowels']\n",
    "    else:\n",
    "        counts['others'] += 1\n",
    "        \n",
    "print(counts)        \n",
    "    "
   ]
  },
  {
   "cell_type": "code",
   "execution_count": 37,
   "id": "3db0e04c",
   "metadata": {},
   "outputs": [
    {
     "data": {
      "text/plain": [
       "5"
      ]
     },
     "execution_count": 37,
     "metadata": {},
     "output_type": "execute_result"
    }
   ],
   "source": [
    "s = '     '  # 5 spaces\n",
    "len(s)"
   ]
  },
  {
   "cell_type": "markdown",
   "id": "c9b45147",
   "metadata": {},
   "source": [
    "# Accumulating the unknown (paradigm 3)\n",
    "\n",
    "Sometimes, we don't know what we're going to want to accumulate, but we do want to count it. For example, let's say that I want to know how many times each letter appears in a book. I can use paradigm 2, set up a dict with a-z as keys, and then count how many times each appears.\n",
    "\n",
    "But if I want to count words, I'm not going to use paradigm 2, going through the whole article or book, creating a key-value pair for each unique words, and then iterating through it again, and accumulating.\n",
    "\n",
    "In such cases, we can create an empty dict at the start of the program and then populate it -- keys and values alike -- as we encounter them. "
   ]
  },
  {
   "cell_type": "code",
   "execution_count": 38,
   "id": "64ecc112",
   "metadata": {},
   "outputs": [
    {
     "name": "stdout",
     "output_type": "stream",
     "text": [
      "Enter a string: hello\n"
     ]
    },
    {
     "ename": "KeyError",
     "evalue": "'h'",
     "output_type": "error",
     "traceback": [
      "\u001b[0;31m---------------------------------------------------------------------------\u001b[0m",
      "\u001b[0;31mKeyError\u001b[0m                                  Traceback (most recent call last)",
      "Cell \u001b[0;32mIn [38], line 8\u001b[0m\n\u001b[1;32m      5\u001b[0m s \u001b[38;5;241m=\u001b[39m \u001b[38;5;28minput\u001b[39m(\u001b[38;5;124m'\u001b[39m\u001b[38;5;124mEnter a string: \u001b[39m\u001b[38;5;124m'\u001b[39m)\u001b[38;5;241m.\u001b[39mstrip()\n\u001b[1;32m      7\u001b[0m \u001b[38;5;28;01mfor\u001b[39;00m one_character \u001b[38;5;129;01min\u001b[39;00m s:\n\u001b[0;32m----> 8\u001b[0m     \u001b[43mcounts\u001b[49m\u001b[43m[\u001b[49m\u001b[43mone_character\u001b[49m\u001b[43m]\u001b[49m \u001b[38;5;241m+\u001b[39m\u001b[38;5;241m=\u001b[39m \u001b[38;5;241m1\u001b[39m\n",
      "\u001b[0;31mKeyError\u001b[0m: 'h'"
     ]
    }
   ],
   "source": [
    "# example: letter frequencies\n",
    "\n",
    "counts = {}   # empty dict\n",
    "\n",
    "s = input('Enter a string: ').strip()\n",
    "\n",
    "for one_character in s:\n",
    "    counts[one_character] += 1   # add 1 to the existing value of one_character, whatever was there before \n",
    "    "
   ]
  },
  {
   "cell_type": "code",
   "execution_count": 39,
   "id": "890daaa7",
   "metadata": {},
   "outputs": [
    {
     "name": "stdout",
     "output_type": "stream",
     "text": [
      "Enter a string: hello out there, this is a great new day\n"
     ]
    }
   ],
   "source": [
    "# example: letter frequencies\n",
    "\n",
    "counts = {}   # empty dict\n",
    "\n",
    "s = input('Enter a string: ').strip()\n",
    "\n",
    "for one_character in s:\n",
    "    if one_character in counts:    # does one_character exist in counts?\n",
    "        counts[one_character] += 1  \n",
    "    else:\n",
    "        counts[one_character] = 1  # first time, just assign 1 "
   ]
  },
  {
   "cell_type": "code",
   "execution_count": 40,
   "id": "b49c6fee",
   "metadata": {},
   "outputs": [
    {
     "data": {
      "text/plain": [
       "{'h': 3,\n",
       " 'e': 5,\n",
       " 'l': 2,\n",
       " 'o': 2,\n",
       " ' ': 8,\n",
       " 'u': 1,\n",
       " 't': 4,\n",
       " 'r': 2,\n",
       " ',': 1,\n",
       " 'i': 2,\n",
       " 's': 2,\n",
       " 'a': 3,\n",
       " 'g': 1,\n",
       " 'n': 1,\n",
       " 'w': 1,\n",
       " 'd': 1,\n",
       " 'y': 1}"
      ]
     },
     "execution_count": 40,
     "metadata": {},
     "output_type": "execute_result"
    }
   ],
   "source": [
    "counts"
   ]
  },
  {
   "cell_type": "markdown",
   "id": "b024e27d",
   "metadata": {},
   "source": [
    "# Rainfall \n",
    "\n",
    "1. Define an empty dict. Eventually, the dict's keys will be cities, and the dict's values will be how much rain (in mm) fell there in the last 24 hours.\n",
    "2. Ask the user repeatedly to enter the name of a city.\n",
    "    - If they give us an empty string, then stop asking.\n",
    "3. Ask the user how much rain fell there in the last 24 hours.\n",
    "4. Check if the city was already mentioned in our dict:\n",
    "    - If not, then add the new city and amount to the dict as a key-value pair\n",
    "    - If so, then just add the new amount to the old amount\n",
    "5. Print the entire dict.\n",
    "\n",
    "```\n",
    "Exmaple:\n",
    "\n",
    "    City: Chicago\n",
    "    Rain: 5\n",
    "    City: New York\n",
    "    Rain: 3\n",
    "    City: Seattle\n",
    "    Rain: 4\n",
    "    City: Seattle\n",
    "    Rain: 2 \n",
    "    Rain: [ENTER]\n",
    "    \n",
    "\n",
    "{'Chicago']:5, 'New York':3, 'Seattle':6}\n",
    "```\n",
    "\n"
   ]
  },
  {
   "cell_type": "code",
   "execution_count": 44,
   "id": "ebec2f22",
   "metadata": {},
   "outputs": [
    {
     "name": "stdout",
     "output_type": "stream",
     "text": [
      "City: Chicago\n",
      "Rain: 5\n",
      "City: New York\n",
      "Rain: 3\n",
      "City: Seattle\n",
      "Rain: 4\n",
      "City: Seattle\n",
      "Rain: 2\n",
      "City: \n",
      "{'Chicago': 5, 'New York': 3, 'Seattle': 6}\n"
     ]
    }
   ],
   "source": [
    "rainfall = {}    # empty dict, eventually with string keys (city names) and integer values (mm rain)\n",
    "\n",
    "while True:  \n",
    "    city_name = input('City: ').strip()\n",
    "    \n",
    "    if city_name == '':   # no city name? exit the loop!\n",
    "        break\n",
    "        \n",
    "    mm_rain = input('Rain: ').strip()\n",
    "    mm_rain = int(mm_rain)\n",
    "    \n",
    "    if city_name in rainfall:\n",
    "        rainfall[city_name] += mm_rain  # add to existing value\n",
    "    else:   \n",
    "        rainfall[city_name] = mm_rain   # no existing value, so add one\n",
    "    \n",
    "print(rainfall)    \n",
    "    "
   ]
  },
  {
   "cell_type": "markdown",
   "id": "675b9825",
   "metadata": {},
   "source": [
    "# Next up\n",
    "\n",
    "1. Looping over dicts\n",
    "2. How do dicts work?\n",
    "3. Intro to files (please remember to download the zipfile from https://files.lerner.co.il/exercise-files.zip)\n"
   ]
  },
  {
   "cell_type": "markdown",
   "id": "571296f7",
   "metadata": {},
   "source": [
    "# Looping over dicts\n",
    "\n",
    "We've seen that we can use `for` loops to iterate over a bunch of different data structures:\n",
    "\n",
    "- Strings -- we get one character at a time\n",
    "- Lists -- we get one element at a time\n",
    "- Tuples -- we get one element at a time\n",
    "\n",
    "What happens when we iterate over a dictionary?"
   ]
  },
  {
   "cell_type": "code",
   "execution_count": 45,
   "id": "b7c7f4cb",
   "metadata": {},
   "outputs": [
    {
     "name": "stdout",
     "output_type": "stream",
     "text": [
      "a\n",
      "b\n",
      "c\n"
     ]
    }
   ],
   "source": [
    "d = {'a':10, 'b':20, 'c':30}\n",
    "\n",
    "for one_item in d:    # when we iterate over a dict, we get the keys (in chronological order of insertion)\n",
    "    print(one_item)"
   ]
  },
  {
   "cell_type": "code",
   "execution_count": 46,
   "id": "9d64b705",
   "metadata": {},
   "outputs": [
    {
     "name": "stdout",
     "output_type": "stream",
     "text": [
      "a: 10\n",
      "b: 20\n",
      "c: 30\n"
     ]
    }
   ],
   "source": [
    "# one way to get keys and values is this:\n",
    "\n",
    "for one_key in d:\n",
    "    print(f'{one_key}: {d[one_key]}')   # key + the value"
   ]
  },
  {
   "cell_type": "code",
   "execution_count": 47,
   "id": "103cd097",
   "metadata": {},
   "outputs": [
    {
     "name": "stdout",
     "output_type": "stream",
     "text": [
      "('a', 10)\n",
      "('b', 20)\n",
      "('c', 30)\n"
     ]
    }
   ],
   "source": [
    "# I prefer a slightly different way, though\n",
    "\n",
    "for t in d.items():  # d.items() gives us one (key, value) tuple for each pair in d\n",
    "    print(t)"
   ]
  },
  {
   "cell_type": "code",
   "execution_count": 48,
   "id": "4c66cc0b",
   "metadata": {},
   "outputs": [
    {
     "name": "stdout",
     "output_type": "stream",
     "text": [
      "a: 10\n",
      "b: 20\n",
      "c: 30\n"
     ]
    }
   ],
   "source": [
    "# we can use tuple unpacking to make this more readable\n",
    "# we know that the tuple we get with each iteration will be (key, value) -- two elements\n",
    "\n",
    "for key, value in d.items(): \n",
    "    print(f'{key}: {value}')"
   ]
  },
  {
   "cell_type": "code",
   "execution_count": 49,
   "id": "cfa2b869",
   "metadata": {},
   "outputs": [
    {
     "name": "stdout",
     "output_type": "stream",
     "text": [
      "a\n",
      "b\n",
      "c\n"
     ]
    }
   ],
   "source": [
    "# what about iterating over d.keys()?\n",
    "\n",
    "for one_key in d.keys():  # this works just fine... but please don't do it!\n",
    "    print(one_key)"
   ]
  },
  {
   "cell_type": "code",
   "execution_count": 50,
   "id": "b5d0db8a",
   "metadata": {},
   "outputs": [
    {
     "data": {
      "text/plain": [
       "True"
      ]
     },
     "execution_count": 50,
     "metadata": {},
     "output_type": "execute_result"
    }
   ],
   "source": [
    "# similarly, we can search in a dict with \"in\" (remember, it only looks at the keys)\n",
    "\n",
    "'b' in d"
   ]
  },
  {
   "cell_type": "code",
   "execution_count": 51,
   "id": "516e9704",
   "metadata": {},
   "outputs": [
    {
     "data": {
      "text/plain": [
       "True"
      ]
     },
     "execution_count": 51,
     "metadata": {},
     "output_type": "execute_result"
    }
   ],
   "source": [
    "'c' in d"
   ]
  },
  {
   "cell_type": "code",
   "execution_count": 52,
   "id": "e0ca1cad",
   "metadata": {},
   "outputs": [
    {
     "data": {
      "text/plain": [
       "True"
      ]
     },
     "execution_count": 52,
     "metadata": {},
     "output_type": "execute_result"
    }
   ],
   "source": [
    "# can we search in d.keys()?  -- but why do this, when you can say \"'b' in d\"?\n",
    "\n",
    "'b' in d.keys()"
   ]
  },
  {
   "cell_type": "code",
   "execution_count": 53,
   "id": "903b14b3",
   "metadata": {},
   "outputs": [
    {
     "data": {
      "text/plain": [
       "dict_values([10, 20, 30])"
      ]
     },
     "execution_count": 53,
     "metadata": {},
     "output_type": "execute_result"
    }
   ],
   "source": [
    "# there is, however, d.values()\n",
    "\n",
    "d.values()"
   ]
  },
  {
   "cell_type": "code",
   "execution_count": 54,
   "id": "f2fdba75",
   "metadata": {},
   "outputs": [
    {
     "data": {
      "text/plain": [
       "{'a': 10, 'b': 20, 'c': 30, 'd': 30, 'e': 20, 'f': 10}"
      ]
     },
     "execution_count": 54,
     "metadata": {},
     "output_type": "execute_result"
    }
   ],
   "source": [
    "d = {'a':10, 'b':20, 'c':30, 'd':30, 'e':20, 'f':10}\n",
    "d"
   ]
  },
  {
   "cell_type": "code",
   "execution_count": 55,
   "id": "a18dbb84",
   "metadata": {},
   "outputs": [
    {
     "data": {
      "text/plain": [
       "dict_values([10, 20, 30, 30, 20, 10])"
      ]
     },
     "execution_count": 55,
     "metadata": {},
     "output_type": "execute_result"
    }
   ],
   "source": [
    "d.values()"
   ]
  },
  {
   "cell_type": "code",
   "execution_count": null,
   "id": "2deb73b6",
   "metadata": {},
   "outputs": [],
   "source": [
    "# can a key have more than one value?\n",
    "\n",
    "# no, because keys are unique (only one instance per dict) and they only get one value.\n",
    "# BUT that value could be a list, tuple, or dict containing other values."
   ]
  },
  {
   "cell_type": "markdown",
   "id": "b07779a4",
   "metadata": {},
   "source": [
    "# Exercise: Age statistics\n",
    "\n",
    "1. Define a dict in which the keys are names of people in your family, and the values are their ages.\n",
    "2. Print the average (mean) age of all these people."
   ]
  },
  {
   "cell_type": "code",
   "execution_count": 57,
   "id": "711d69c2",
   "metadata": {},
   "outputs": [
    {
     "name": "stdout",
     "output_type": "stream",
     "text": [
      "27.25\n"
     ]
    }
   ],
   "source": [
    "people = {'Reuven': 52,\n",
    "          'Atara': 21,\n",
    "          'Shikma': 19,\n",
    "          'Amotz': 17}\n",
    "\n",
    "# a few different possibilities!\n",
    "\n",
    "# option 1: grab the values in a for loop, put them into a list, and then calculate\n",
    "\n",
    "ages = []\n",
    "for one_item in people.values():\n",
    "    ages.append(one_item)\n",
    "    \n",
    "print(sum(ages) / len(ages))    "
   ]
  },
  {
   "cell_type": "code",
   "execution_count": 58,
   "id": "1df909bf",
   "metadata": {},
   "outputs": [
    {
     "name": "stdout",
     "output_type": "stream",
     "text": [
      "27.25\n"
     ]
    }
   ],
   "source": [
    "# option 1a (variation): calculate while we're iterating\n",
    "\n",
    "counter = 0\n",
    "total = 0\n",
    "\n",
    "for one_item in people.values():\n",
    "    counter += 1\n",
    "    total += one_item\n",
    "    \n",
    "print(total / counter)"
   ]
  },
  {
   "cell_type": "code",
   "execution_count": 59,
   "id": "8aeaa7c2",
   "metadata": {},
   "outputs": [
    {
     "data": {
      "text/plain": [
       "[52, 21, 19, 17]"
      ]
     },
     "execution_count": 59,
     "metadata": {},
     "output_type": "execute_result"
    }
   ],
   "source": [
    "# another way: just turn the ages (values) into a list\n",
    "\n",
    "list(people.values())"
   ]
  },
  {
   "cell_type": "code",
   "execution_count": null,
   "id": "5ae854f0",
   "metadata": {},
   "outputs": [],
   "source": []
  }
 ],
 "metadata": {
  "kernelspec": {
   "display_name": "Python 3 (ipykernel)",
   "language": "python",
   "name": "python3"
  },
  "language_info": {
   "codemirror_mode": {
    "name": "ipython",
    "version": 3
   },
   "file_extension": ".py",
   "mimetype": "text/x-python",
   "name": "python",
   "nbconvert_exporter": "python",
   "pygments_lexer": "ipython3",
   "version": "3.11.0"
  }
 },
 "nbformat": 4,
 "nbformat_minor": 5
}
