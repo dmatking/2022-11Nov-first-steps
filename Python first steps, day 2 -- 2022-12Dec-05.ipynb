{
 "cells": [
  {
   "cell_type": "markdown",
   "id": "0754097c",
   "metadata": {},
   "source": [
    "# Agenda: Week 3 (Dictionaries and files)\n",
    "\n",
    "1. Recap data structures so far\n",
    "2. Dictionaries (\"dicts\")\n",
    "    - Storing\n",
    "    - Retrieving\n",
    "    - Keys and values\n",
    "    - Modifying dictionaries\n",
    "3. Accumulating in dicts\n",
    "4. Acuumulating the unknown\n",
    "5. Looping over dicts\n",
    "6. Files\n",
    "    - File objects\n",
    "    - Reading from files\n",
    "    - Writing to files\n",
    "    - Using with `with` statement when working with files\n",
    "    \n",
    "We'll use files from this zipfile: https://files.lerner.co.il/exercise-files.zip    "
   ]
  },
  {
   "cell_type": "code",
   "execution_count": null,
   "id": "499cc7a3",
   "metadata": {},
   "outputs": [],
   "source": []
  }
 ],
 "metadata": {
  "kernelspec": {
   "display_name": "Python 3 (ipykernel)",
   "language": "python",
   "name": "python3"
  },
  "language_info": {
   "codemirror_mode": {
    "name": "ipython",
    "version": 3
   },
   "file_extension": ".py",
   "mimetype": "text/x-python",
   "name": "python",
   "nbconvert_exporter": "python",
   "pygments_lexer": "ipython3",
   "version": "3.11.0"
  }
 },
 "nbformat": 4,
 "nbformat_minor": 5
}
