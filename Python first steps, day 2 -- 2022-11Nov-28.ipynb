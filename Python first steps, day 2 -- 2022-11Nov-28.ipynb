{
 "cells": [
  {
   "cell_type": "markdown",
   "id": "f880583e",
   "metadata": {},
   "source": [
    "# Agenda, week 2: Loops, lists, and tuples\n",
    "\n",
    "1. Q&A from last time\n",
    "2. Loops\n",
    "    - what are loops?\n",
    "    - `for` loops\n",
    "    - looping a number of times\n",
    "    - `while` loops\n",
    "    - where's the index?\n",
    "    - control structures in our loops\n",
    "3. Lists\n",
    "    - What are they?\n",
    "    - How are they similar to strings?\n",
    "    - How are they different from strings?\n",
    "    - Mutable vs. immutable data structures\n",
    "4. Strings to lists, and back\n",
    "    - Using `str.split`\n",
    "    - Using `str.join`\n",
    "5. Tuples (just a little!)\n",
    "    - What are they?\n",
    "    - Working with tuples?\n",
    "    - Who cares about tuples?\n",
    "    - Tuple unpacking"
   ]
  },
  {
   "cell_type": "code",
   "execution_count": null,
   "id": "b32e1004",
   "metadata": {},
   "outputs": [],
   "source": [
    "# Get input from the user, a number from 1-100\n",
    "# Using a single condition, give one error message\n",
    "\n"
   ]
  }
 ],
 "metadata": {
  "kernelspec": {
   "display_name": "Python 3 (ipykernel)",
   "language": "python",
   "name": "python3"
  },
  "language_info": {
   "codemirror_mode": {
    "name": "ipython",
    "version": 3
   },
   "file_extension": ".py",
   "mimetype": "text/x-python",
   "name": "python",
   "nbconvert_exporter": "python",
   "pygments_lexer": "ipython3",
   "version": "3.11.0"
  }
 },
 "nbformat": 4,
 "nbformat_minor": 5
}
