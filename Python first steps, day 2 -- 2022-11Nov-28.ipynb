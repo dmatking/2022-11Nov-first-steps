{
 "cells": [
  {
   "cell_type": "markdown",
   "id": "6da0a203",
   "metadata": {},
   "source": [
    "# Agenda, week 2: Loops, lists, and tuples\n",
    "\n",
    "1. Q&A from last time\n",
    "2. Loops\n",
    "    - what are loops?\n",
    "    - `for` loops\n",
    "    - looping a number of times\n",
    "    - `while` loops\n",
    "    - where's the index?\n",
    "    - control structures in our loops\n",
    "3. Lists\n",
    "    - What are they?\n",
    "    - How are they similar to strings?\n",
    "    - How are they different from strings?\n",
    "    - Mutable vs. immutable data structures\n",
    "4. Strings to lists, and back\n",
    "    - Using `str.split`\n",
    "    - Using `str.join`\n",
    "5. Tuples (just a little!)\n",
    "    - What are they?\n",
    "    - Working with tuples?\n",
    "    - Who cares about tuples?\n",
    "    - Tuple unpacking"
   ]
  },
  {
   "cell_type": "code",
   "execution_count": 4,
   "id": "1b82edd1",
   "metadata": {},
   "outputs": [
    {
     "name": "stdout",
     "output_type": "stream",
     "text": [
      "Enter a number from 1-100: -5\n",
      "-5 is not an integer\n"
     ]
    }
   ],
   "source": [
    "# Get input from the user, a number from 1-100\n",
    "# Using a single condition, give one error message\n",
    "\n",
    "s = input('Enter a number from 1-100: ').strip()\n",
    "\n",
    "# I want to make sure:\n",
    "# - s contains only digits\n",
    "# - s is between 1 and 100\n",
    "\n",
    "if s.isdigit():\n",
    "    n = int(s)\n",
    "    if n >= 1 and n <= 100:\n",
    "        print(f'You gave me a good number, {n}')\n",
    "    else:\n",
    "        print(f'Your number is outside of the boundaries')\n",
    "else:\n",
    "    print(f'{s} is not an integer')"
   ]
  },
  {
   "cell_type": "code",
   "execution_count": 12,
   "id": "4e9e6423",
   "metadata": {},
   "outputs": [
    {
     "name": "stdout",
     "output_type": "stream",
     "text": [
      "Enter a number from 1-100: abc\n",
      "Your input, abc, is bad in some way\n"
     ]
    }
   ],
   "source": [
    "# how can we squish all of these tests into one?\n",
    "\n",
    "s = input('Enter a number from 1-100: ').strip()\n",
    "\n",
    "# if s.isdigit() is True, then (and only then) we go onto the 2nd and 3rd tests\n",
    "# if s.isdigit() is False, then we don't run int(s) at all, and avoid that trouble\n",
    "\n",
    "if s.isdigit() and int(s) >= 1 and int(s) <= 100:\n",
    "    print(f'Your input, {s}, is good!')\n",
    "else:\n",
    "    print(f'Your input, {s}, is bad in some way')\n"
   ]
  },
  {
   "cell_type": "code",
   "execution_count": 13,
   "id": "d692962f",
   "metadata": {},
   "outputs": [],
   "source": [
    "# my free, e-mail course teaching regular expressions\n",
    "# https://RegexpCrashCourse.com"
   ]
  },
  {
   "cell_type": "markdown",
   "id": "e7e0d454",
   "metadata": {},
   "source": [
    "# Loops\n",
    "\n",
    "One of the most important ideas in programming is \"DRY,\" short for \"don't repeat yourself.\"  (I learned this from the Pragmatic Programmer book.)\n",
    "\n",
    "The idea is that if you have identical code that repeats itself -- several lines in a row, or several places in the same program , this is a problem:\n",
    "\n",
    "- You're writing too much code!\n",
    "- You'll need to test and debug that code in several places\n",
    "- If/when you need to fix that code, you'll need to do so in several places\n",
    "- It's harder to explain the code to someone else"
   ]
  },
  {
   "cell_type": "code",
   "execution_count": 14,
   "id": "e0fc2ba1",
   "metadata": {},
   "outputs": [
    {
     "name": "stdout",
     "output_type": "stream",
     "text": [
      "a\n",
      "b\n",
      "c\n",
      "d\n"
     ]
    }
   ],
   "source": [
    "# keeping that in mind, let's assume that I have a string, and I want to print each character in it\n",
    "\n",
    "s = 'abcd'\n",
    "\n",
    "print(s[0])\n",
    "print(s[1])\n",
    "print(s[2])\n",
    "print(s[3])"
   ]
  },
  {
   "cell_type": "markdown",
   "id": "ebcbef27",
   "metadata": {},
   "source": [
    "There are some problems with the above code:\n",
    "\n",
    "- It violates the DRY rule. (I've heard this called WET -- \"write everything twice\"\n",
    "- What if the string is of a different length? We have no flexibility here\n",
    "\n",
    "We can solve both of these problems with a loop.  Python provides us with two (and only two!) types of loops:\n",
    "\n",
    "- `for` loops -- used more often, and allow us to go through each element of a sequence\n",
    "- `while` loops -- we'll get to these later"
   ]
  },
  {
   "cell_type": "code",
   "execution_count": 15,
   "id": "02575d72",
   "metadata": {},
   "outputs": [
    {
     "name": "stdout",
     "output_type": "stream",
     "text": [
      "a\n",
      "b\n",
      "c\n",
      "d\n"
     ]
    }
   ],
   "source": [
    "# a for loop that prints the characters in our string\n",
    "\n",
    "s = 'abcd'\n",
    "\n",
    "for one_character in s:\n",
    "    print(one_character)"
   ]
  },
  {
   "cell_type": "markdown",
   "id": "a5d2cbf8",
   "metadata": {},
   "source": [
    "How does our `for` loop work?\n",
    "\n",
    "1. The word `for` is at the start of the line, followed by:\n",
    "    - a variable name \n",
    "    - the word `in`\n",
    "    - an object, what we'll be looping over\n",
    "    - a `:` indicating the end of the line\n",
    "2. An indented block.  It can be as long or as short as you want, so long as it's indented\n",
    "    - You can have any code you want inside of that block -- `if`, `print`, `len`, `input`, or even another `for` loop.\n",
    "    - When the indented block ends, the \"body\" of the loop ends, as well.\n",
    "    \n",
    "What's happening?\n",
    "\n",
    "1. The `for` loop turns to `s`, the object, and asks it: Are you iterable? Can I run a loop on you?\n",
    "    - If the answer is \"no,\" we get an exception.\n",
    "2. If the object is iterable, then the `for` loop says: Give me your next value.\n",
    "    - If there are no more values, then the object says so, and the loop ends.\n",
    "3. If there is a value, then it is assigned to `one_character`, our variable\n",
    "4. The loop body executes\n",
    "5. We return to step 2, asking for the next value.\n",
    "\n",
    "From this, we learn at least two things:\n",
    "\n",
    "1. The name of the variable has **no effect** on what we get with each iteration. You can call your variable whatever you want; the name is useful to developers, and Python couldn't care less.\n",
    "2. In Python, what we get with each iteration depends 100% on the object we're iterating over. The `for` loop doesn't control the number or type of values we get."
   ]
  },
  {
   "cell_type": "markdown",
   "id": "5538a833",
   "metadata": {},
   "source": [
    "# Exercise: Vowels, digits, and others\n",
    "\n",
    "1. Define three variables -- `vowels`, `digits`, and `others`, and all three should be set to the integer 0.\n",
    "2. Ask the user to enter a string, and assign it to `s`.\n",
    "3. Go through each character in `s`:\n",
    "    - If it's a vowel (aeiou), then add 1 to `vowels`\n",
    "    - If it's a digit (0-9), then add 1 to `digits`\n",
    "    - If it's neither, then add 1 to `others`\n",
    "4. After the loop runs, print the values of each of our counter variables.\n",
    "\n",
    "Hints/reminders:\n",
    "\n",
    "1. We can check if a string only contains digits with the `isdigit()` method\n",
    "2. We can check if a one-character string is a vowel with `in` and the string `'aeiou'`\n"
   ]
  },
  {
   "cell_type": "code",
   "execution_count": 16,
   "id": "ca48e11b",
   "metadata": {},
   "outputs": [
    {
     "name": "stdout",
     "output_type": "stream",
     "text": [
      "Enter a string: hello 123 !?\n",
      "digits = 3\n",
      "vowels = 2\n",
      "others = 7\n"
     ]
    }
   ],
   "source": [
    "vowels = 0\n",
    "digits = 0\n",
    "others = 0\n",
    "\n",
    "s = input('Enter a string: ').strip()\n",
    "\n",
    "for one_character in s.lower():\n",
    "    if one_character.isdigit():   # remember that one_character is a string! A string of length 1\n",
    "        digits += 1\n",
    "    elif one_character in 'aeiou':\n",
    "        vowels += 1\n",
    "    else:\n",
    "        others += 1\n",
    "        \n",
    "print(f'digits = {digits}')        \n",
    "print(f'vowels = {vowels}')        \n",
    "print(f'others = {others}')        "
   ]
  },
  {
   "cell_type": "code",
   "execution_count": 17,
   "id": "262b37fd",
   "metadata": {},
   "outputs": [
    {
     "name": "stdout",
     "output_type": "stream",
     "text": [
      "Hooray!\n",
      "Hooray!\n",
      "Hooray!\n"
     ]
    }
   ],
   "source": [
    "# earlier, I mentioned that if we try to iterate over an object that isn't iterable,\n",
    "# we'll get an error\n",
    "\n",
    "# I'm in a great mood, because I'm teaching Python. I want to say \"Hooray!\" three times\n",
    "\n",
    "print('Hooray!')\n",
    "print('Hooray!')\n",
    "print('Hooray!')\n"
   ]
  },
  {
   "cell_type": "code",
   "execution_count": 18,
   "id": "21524f52",
   "metadata": {},
   "outputs": [
    {
     "ename": "TypeError",
     "evalue": "'int' object is not iterable",
     "output_type": "error",
     "traceback": [
      "\u001b[0;31m---------------------------------------------------------------------------\u001b[0m",
      "\u001b[0;31mTypeError\u001b[0m                                 Traceback (most recent call last)",
      "Cell \u001b[0;32mIn [18], line 5\u001b[0m\n\u001b[1;32m      1\u001b[0m \u001b[38;5;66;03m# then I realize I've violated the DRY rule -- I want to \"DRY up\" my code\u001b[39;00m\n\u001b[1;32m      2\u001b[0m \n\u001b[1;32m      3\u001b[0m \u001b[38;5;66;03m# I figure that I can iterate over 3, thus printing 3 times\u001b[39;00m\n\u001b[0;32m----> 5\u001b[0m \u001b[38;5;28;01mfor\u001b[39;00m counter \u001b[38;5;129;01min\u001b[39;00m \u001b[38;5;241m3\u001b[39m:\n\u001b[1;32m      6\u001b[0m     \u001b[38;5;28mprint\u001b[39m(\u001b[38;5;124m'\u001b[39m\u001b[38;5;124mHooray!\u001b[39m\u001b[38;5;124m'\u001b[39m)\n",
      "\u001b[0;31mTypeError\u001b[0m: 'int' object is not iterable"
     ]
    }
   ],
   "source": [
    "# then I realize I've violated the DRY rule -- I want to \"DRY up\" my code\n",
    "\n",
    "# I figure that I can iterate over 3, thus printing 3 times\n",
    "\n",
    "for counter in 3:       # this feels like it should work -- but it doesn't!\n",
    "    print('Hooray!')"
   ]
  },
  {
   "cell_type": "code",
   "execution_count": 19,
   "id": "c60accba",
   "metadata": {},
   "outputs": [
    {
     "name": "stdout",
     "output_type": "stream",
     "text": [
      "Hooray!\n",
      "Hooray!\n",
      "Hooray!\n"
     ]
    }
   ],
   "source": [
    "# iterate a number of times with range\n",
    "for counter in range(3):       # if we use range(number), then we get that many iterations\n",
    "    print('Hooray!')"
   ]
  },
  {
   "cell_type": "code",
   "execution_count": 20,
   "id": "6971f7dd",
   "metadata": {},
   "outputs": [
    {
     "name": "stdout",
     "output_type": "stream",
     "text": [
      "0 Hooray!\n",
      "1 Hooray!\n",
      "2 Hooray!\n"
     ]
    }
   ],
   "source": [
    "# what is \"counter\" in each iteration?\n",
    "\n",
    "for counter in range(3):   # range(3) gives us an iterable from 0 up to (and not including) 3 -- so, 3 times\n",
    "    print(f'{counter} Hooray!')"
   ]
  },
  {
   "cell_type": "markdown",
   "id": "03ff65d6",
   "metadata": {},
   "source": [
    "When we say\n",
    "\n",
    "    thing.action()\n",
    "    \n",
    "that's known as a \"method call,\" which is very similar to a function call (i.e., executing a function). The difference is that methods are closely tied to particular types of objects. So you have string methods, list methods, dict methods, etc., and it's harder to mix them up.\n",
    "\n",
    "So when I say\n",
    "\n",
    "    s = '1234'\n",
    "    if s.isdigit():  # here, we're running the isdigit() method on s, a string -- getting True/False\n",
    "        print('Yes, s is an integer')"
   ]
  },
  {
   "cell_type": "code",
   "execution_count": 21,
   "id": "5f21cdd6",
   "metadata": {},
   "outputs": [
    {
     "name": "stdout",
     "output_type": "stream",
     "text": [
      "0\n",
      "1\n",
      "2\n"
     ]
    }
   ],
   "source": [
    "# here, we'll get from 0 until (and not including 3)\n",
    "for one_item in range(3):\n",
    "    print(one_item)"
   ]
  },
  {
   "cell_type": "code",
   "execution_count": 22,
   "id": "5a0538bd",
   "metadata": {},
   "outputs": [],
   "source": [
    "# here, we'll get from 0 until (and not including) -3\n",
    "for one_item in range(-3):\n",
    "    print(one_item)"
   ]
  },
  {
   "cell_type": "code",
   "execution_count": 23,
   "id": "f8b95356",
   "metadata": {},
   "outputs": [
    {
     "name": "stdout",
     "output_type": "stream",
     "text": [
      "digits = 3\n",
      "vowels = 2\n",
      "others = 7\n"
     ]
    }
   ],
   "source": [
    "# the f before the opening quote means it's a \"format string\" or \"fancy string\"\n",
    "# It's a regular string, except that inside, if you have {}, you can put variables\n",
    "# or expressions (e.g., method calls)\n",
    "\n",
    "print(f'digits = {digits}')        \n",
    "print(f'vowels = {vowels}')        \n",
    "print(f'others = {others}')        "
   ]
  },
  {
   "cell_type": "code",
   "execution_count": 24,
   "id": "02d4af37",
   "metadata": {},
   "outputs": [
    {
     "name": "stdout",
     "output_type": "stream",
     "text": [
      "3\n",
      "2\n",
      "7\n"
     ]
    }
   ],
   "source": [
    "print(digits)\n",
    "print(vowels)\n",
    "print(others)"
   ]
  },
  {
   "cell_type": "code",
   "execution_count": 27,
   "id": "2bceb62e",
   "metadata": {},
   "outputs": [
    {
     "name": "stdout",
     "output_type": "stream",
     "text": [
      "digits = 3\n",
      "vowels = 2\n",
      "others = 7\n"
     ]
    }
   ],
   "source": [
    "# we can even do this:\n",
    "\n",
    "print(f'{digits = }')    # this prints digits = (the value of digits)\n",
    "print(f'{vowels = }')    # this prints vowels = (the value of vowels)\n",
    "print(f'{others = }')    # this prints others = (the value of others)\n"
   ]
  },
  {
   "cell_type": "code",
   "execution_count": 29,
   "id": "152282be",
   "metadata": {},
   "outputs": [
    {
     "name": "stdout",
     "output_type": "stream",
     "text": [
      "Enter your name:      hello     \n",
      "Hello,      hello     !\n"
     ]
    }
   ],
   "source": [
    "# input returns a string\n",
    "# every string can run string methods\n",
    "# one method is .strip(), which returns a new string without leading/trailing spaces\n",
    "\n",
    "name = input('Enter your name: ')\n",
    "print(f'Hello, {name}!')"
   ]
  },
  {
   "cell_type": "code",
   "execution_count": 30,
   "id": "0161cbcd",
   "metadata": {},
   "outputs": [
    {
     "name": "stdout",
     "output_type": "stream",
     "text": [
      "Enter your name:      Reuven    \n",
      "Hello, Reuven!\n"
     ]
    }
   ],
   "source": [
    "name = input('Enter your name: ').strip()  # this ensures that name has no spaces at its start and end\n",
    "print(f'Hello, {name}!')"
   ]
  },
  {
   "cell_type": "code",
   "execution_count": 31,
   "id": "f3755a76",
   "metadata": {},
   "outputs": [
    {
     "data": {
      "text/plain": [
       "True"
      ]
     },
     "execution_count": 31,
     "metadata": {},
     "output_type": "execute_result"
    }
   ],
   "source": [
    "# in is an \"operator\"\n",
    "# it returns True or False\n",
    "# it always works as LITTLE in BIG\n",
    "\n",
    "# can a smaller string be found in a bigger string?\n",
    "\n",
    "'abc' in 'I like to sing abc before bathtime'"
   ]
  },
  {
   "cell_type": "code",
   "execution_count": 32,
   "id": "6e861c2a",
   "metadata": {},
   "outputs": [
    {
     "data": {
      "text/plain": [
       "True"
      ]
     },
     "execution_count": 32,
     "metadata": {},
     "output_type": "execute_result"
    }
   ],
   "source": [
    "'sing' in 'I like to sing abc before bathtime'"
   ]
  },
  {
   "cell_type": "code",
   "execution_count": 33,
   "id": "0a2aa411",
   "metadata": {},
   "outputs": [
    {
     "data": {
      "text/plain": [
       "False"
      ]
     },
     "execution_count": 33,
     "metadata": {},
     "output_type": "execute_result"
    }
   ],
   "source": [
    "'sg' in 'I like to sing abc before bathtime'"
   ]
  },
  {
   "cell_type": "code",
   "execution_count": 35,
   "id": "6f28c38e",
   "metadata": {},
   "outputs": [
    {
     "name": "stdout",
     "output_type": "stream",
     "text": [
      "How many numbers will you total? 2\n",
      "0 Enter number: 100\n",
      "1 Enter number: 500\n",
      "total=600\n"
     ]
    }
   ],
   "source": [
    "# Ask the user how many numbers they want to sum, then sum them\n",
    "\n",
    "total = 0\n",
    "\n",
    "s = input('How many numbers will you total? ').strip()\n",
    "\n",
    "# assume it's numeric\n",
    "n = int(s)\n",
    "\n",
    "for counter in range(n):\n",
    "    s = input(f'{counter} Enter number: ').strip()\n",
    "    \n",
    "    if s.isdigit():\n",
    "        total += int(s)\n",
    "    else:\n",
    "        print(f'Ignoring {s}; not numeric')\n",
    "        \n",
    "print(f'total = {total}')          "
   ]
  },
  {
   "cell_type": "markdown",
   "id": "3fae94a1",
   "metadata": {},
   "source": [
    "# Exercise: Name triangles\n",
    "\n",
    "1. Ask the user to enter their name.\n",
    "2. Print a \"name triangle\" based on that name:\n",
    "    - On the first line, print the 1st letter only\n",
    "    - On the second line, print the first 2 characters\n",
    "    - ...\n",
    "    - On the final line, print the full name\n",
    "    \n",
    "In order to do this, consider:\n",
    "\n",
    "- The index for strings starts with 0\n",
    "- Slices on a string look like `s[start:finish+1]`, so `s[10:15]` is giving us `s[10]` until (and not including) `s[15]`.\n",
    "    - Slices can go beyond the border of the string\n",
    "    - To get a slice from the start of a string, just start with the `:`\n",
    "- You can get the length of a string with `len(s)`.    "
   ]
  },
  {
   "cell_type": "code",
   "execution_count": 38,
   "id": "139d5eae",
   "metadata": {},
   "outputs": [
    {
     "name": "stdout",
     "output_type": "stream",
     "text": [
      "R\n",
      "Re\n",
      "Reu\n",
      "Reuv\n",
      "Reuve\n",
      "Reuven\n"
     ]
    }
   ],
   "source": [
    "# let's think about what we want here\n",
    "\n",
    "name = 'Reuven'\n",
    "\n",
    "print(name[:1])   # first character\n",
    "print(name[:2])   # first 2 characters\n",
    "print(name[:3])   # first 3 characters\n",
    "print(name[:4])   # first 4 characters\n",
    "print(name[:5])   # first 5 characters\n",
    "print(name[:6])   # first 6 characters"
   ]
  },
  {
   "cell_type": "code",
   "execution_count": 39,
   "id": "dbc6cfe7",
   "metadata": {},
   "outputs": [
    {
     "name": "stdout",
     "output_type": "stream",
     "text": [
      "\n",
      "R\n",
      "Re\n",
      "Reu\n",
      "Reuv\n",
      "Reuve\n"
     ]
    }
   ],
   "source": [
    "# name = 'Reuven'\n",
    "# len(name) == 6\n",
    "# range(len(name)) == from 0 up to (and not including) 6\n",
    "\n",
    "# an off-by-one error!\n",
    "for counter in range(len(name)):\n",
    "    print(name[:counter])"
   ]
  },
  {
   "cell_type": "code",
   "execution_count": 44,
   "id": "7a6dee0d",
   "metadata": {},
   "outputs": [
    {
     "name": "stdout",
     "output_type": "stream",
     "text": [
      "Enter your name: Encyclopedia\n",
      "E\n",
      "En\n",
      "Enc\n",
      "Ency\n",
      "Encyc\n",
      "Encycl\n",
      "Encyclo\n",
      "Encyclop\n",
      "Encyclope\n",
      "Encycloped\n",
      "Encyclopedi\n",
      "Encyclopedia\n"
     ]
    }
   ],
   "source": [
    "# name = 'Reuven'\n",
    "# len(name) == 6\n",
    "# range(len(name)) == from 0 up to (and not including) 6\n",
    "\n",
    "name = input('Enter your name: ').strip()\n",
    "\n",
    "for counter in range(len(name)):\n",
    "    print(name[:counter+1])"
   ]
  },
  {
   "cell_type": "markdown",
   "id": "45e1fc9a",
   "metadata": {},
   "source": [
    "# Next up\n",
    "\n",
    "1. Where's the index?\n",
    "2. `while` loops\n",
    "3. Controlling our loops with `break` and `continue`\n"
   ]
  },
  {
   "cell_type": "code",
   "execution_count": 45,
   "id": "52c22361",
   "metadata": {},
   "outputs": [
    {
     "name": "stdout",
     "output_type": "stream",
     "text": [
      "a\n",
      "b\n",
      "c\n",
      "d\n",
      "e\n"
     ]
    }
   ],
   "source": [
    "s = 'abcde'\n",
    "\n",
    "for one_character in s:\n",
    "    print(one_character)"
   ]
  },
  {
   "cell_type": "code",
   "execution_count": 46,
   "id": "3a6c1a40",
   "metadata": {},
   "outputs": [
    {
     "name": "stdout",
     "output_type": "stream",
     "text": [
      "a\n",
      "b\n",
      "c\n",
      "d\n",
      "e\n"
     ]
    }
   ],
   "source": [
    "# In C and similar languages, you have to do this:\n",
    "\n",
    "s = 'abcde'\n",
    "\n",
    "for index in range(len(s)):   # iterate over the indexes in s, 0 through 4\n",
    "    print(s[index])           # print the character at index"
   ]
  },
  {
   "cell_type": "markdown",
   "id": "f6d5cfcf",
   "metadata": {},
   "source": [
    "# `while` loops\n",
    "\n",
    "`for` loops are great if you want to go through every element of a string, one at a time.  This is good for searching, and it's good for printing each element.\n",
    "\n",
    "It's also good if you know how many times you want to iterate -- once per character, or a certain number of times (with `range`).\n",
    "\n",
    "But sometimes, you don't know how many iterations you'll need.  You know when you'll want to stop, though.  For such times, we have `while` loops.\n",
    "\n",
    "Picking up clothing (metaphor):\n",
    "\n",
    "- If I say, \"I want you to pick up every piece of clothing and put it away,\" that's a `for` loop.\n",
    "- If I say, \"So long as there is clothing on the floor, pick something up and put it away,\" that's a `while` loop.\n",
    "\n",
    "You can think of a `while` loop as an `if` statement that repeats itself so long as the condition is `True`.  As soon as the condition is `False`, the `while` loop stops."
   ]
  },
  {
   "cell_type": "code",
   "execution_count": 47,
   "id": "a4e459b8",
   "metadata": {
    "scrolled": true
   },
   "outputs": [
    {
     "name": "stdout",
     "output_type": "stream",
     "text": [
      "5\n",
      "4\n",
      "3\n",
      "2\n",
      "1\n"
     ]
    }
   ],
   "source": [
    "# Example\n",
    "\n",
    "x = 5\n",
    "\n",
    "while x > 0:\n",
    "    print(x)  # print x\n",
    "    x -= 1    # decrement x by 1  -- if we leave this line off, then x will never change, and we have an INFINITE LOOP!"
   ]
  },
  {
   "cell_type": "markdown",
   "id": "5e3d8ff4",
   "metadata": {},
   "source": [
    "# Exercise: Sum to 100\n",
    "\n",
    "1. Define `total` to be 0.\n",
    "2. Ask the user, repeatedly, to enter a number.\n",
    "    - If the user enters a non-number, then scold them\n",
    "    - If the user enters a number, add it to `total`\n",
    "    - Print the user's number and `total`\n",
    "3. When `total` is >= 100, stop asking + printing, and exit the loop.\n",
    "\n",
    "Example:\n",
    "\n",
    "    Enter a number: 30\n",
    "    You entered 30, total is now 30\n",
    "    Enter a number: 15\n",
    "    You entered 15, total is now 45\n",
    "    Enter a number: 50\n",
    "    You entered 50, total is now 95\n",
    "    Enter a number: hello\n",
    "    hello is not a number\n",
    "    Enter a number: 20\n",
    "    You entered 20, total is now 115\n",
    "        "
   ]
  },
  {
   "cell_type": "code",
   "execution_count": 49,
   "id": "82e6e827",
   "metadata": {},
   "outputs": [
    {
     "name": "stdout",
     "output_type": "stream",
     "text": [
      "Enter a number: 50\n",
      "You entered 50, total is now 50\n",
      "Enter a number: 40\n",
      "You entered 40, total is now 90\n",
      "Enter a number: 30\n",
      "You entered 30, total is now 120\n",
      "Done.\n"
     ]
    }
   ],
   "source": [
    "total = 0\n",
    "\n",
    "while total < 100:   # this is our condition for exiting the loop, checking each time we restart the loop body\n",
    "    s = input('Enter a number: ').strip()\n",
    "    \n",
    "    if s.isdigit():\n",
    "        n = int(s)\n",
    "        total += n\n",
    "        print(f'You entered {n}, total is now {total}')\n",
    "    else:\n",
    "        print(f'{s} is not a number')\n",
    "\n",
    "print('Done.')              "
   ]
  },
  {
   "cell_type": "markdown",
   "id": "46c30fbb",
   "metadata": {},
   "source": [
    "# `isdigit` is a *string* method\n",
    "\n",
    "`str.isdigit` is a method that runs on strings. It tells us whether a string contains only the digits 0-9. You cannot run it on an integer.  So this will work:\n",
    "\n",
    "    if s.isdigit():\n",
    "        n = int(s)\n",
    "        \n",
    "But this will not:\n",
    "\n",
    "    n = int(s).isdigit()\n",
    "    \n",
    "First of all, you'll get an error from Python saying that integers don't have the method `isdigit`.  But the real reason we're running `isdigit` is to avoid problems when we run `int` on our string, to get an integer from it. If we first run `int` and then run `isdigit`, then we aren't preventing problems.    "
   ]
  },
  {
   "cell_type": "code",
   "execution_count": 50,
   "id": "bab698c4",
   "metadata": {},
   "outputs": [
    {
     "name": "stdout",
     "output_type": "stream",
     "text": [
      "Enter a number: 10\n",
      "You entered 10, total is now 10\n",
      "You entered 10, total is now 20\n",
      "You entered 10, total is now 30\n",
      "You entered 10, total is now 40\n",
      "You entered 10, total is now 50\n",
      "You entered 10, total is now 60\n",
      "You entered 10, total is now 70\n",
      "You entered 10, total is now 80\n",
      "You entered 10, total is now 90\n",
      "You entered 10, total is now 100\n",
      "Done.\n"
     ]
    }
   ],
   "source": [
    "total = 0\n",
    "\n",
    "s = input('Enter a number: ').strip()  # potentially dangerous -- also not quite what we want\n",
    "while total < 100:\n",
    "    \n",
    "    if s.isdigit():\n",
    "        n = int(s)\n",
    "        total += n    # this is known, in Python, as \"inplace add,\" or \"iadd\".  \n",
    "        print(f'You entered {n}, total is now {total}')\n",
    "    else:\n",
    "        print(f'{s} is not a number')\n",
    "\n",
    "print('Done.')              "
   ]
  },
  {
   "cell_type": "markdown",
   "id": "3147409a",
   "metadata": {},
   "source": [
    "# Full list of methods on strings\n",
    "\n",
    "1. Go to https://docs.python.org/3/library/stdtypes.html#text-sequence-type-str\n",
    "2. If you're in Jupyter, then having a string variable, followed by a `.`, followed by pressing `TAB` will give you a menu of methods.\n",
    "3. In PyCharm and VSCode, typing a `.` after a string will show all of the options."
   ]
  },
  {
   "cell_type": "markdown",
   "id": "b005b68c",
   "metadata": {},
   "source": [
    "# Controlling our loops\n",
    "\n",
    "Sometimes, if we're reached our goal, but the loop hasn't ended, we might want to stop the loop early. We can do that with the `break` statement. It exits from the closest loop to where we are.\n",
    "\n",
    "Another option is to use `continue`, which finishes the current iteration, but doesn't exit the loop.  This typically used if we encounter a value we don't need or care about. So we can ignore it, and go onto the next value."
   ]
  },
  {
   "cell_type": "code",
   "execution_count": 52,
   "id": "d160efe0",
   "metadata": {},
   "outputs": [
    {
     "name": "stdout",
     "output_type": "stream",
     "text": [
      "Enter your name: asdfa\n",
      "Hello, asdfa!\n",
      "Enter your name: asdfadfafsa\n",
      "Hello, asdfadfafsa!\n",
      "Enter your name: \n",
      "Continuing after the while loop...\n"
     ]
    }
   ],
   "source": [
    "# classic example of using break\n",
    "\n",
    "while True:    # yes, this is an infinite loop!\n",
    "    name = input('Enter your name: ').strip()\n",
    "    \n",
    "    if name == '':  # empty string?\n",
    "        break       # stop asking, break from the loop\n",
    "        \n",
    "    print(f'Hello, {name}!')\n",
    "    \n",
    "print('Continuing after the while loop...')    "
   ]
  },
  {
   "cell_type": "code",
   "execution_count": null,
   "id": "b33e40fc",
   "metadata": {},
   "outputs": [],
   "source": [
    "total = 0\n",
    "\n",
    "s = input('Enter a number: ').strip()  # potentially dangerous -- also not quite what we want\n",
    "while total < 100:\n",
    "    \n",
    "    # here, we have an if-else -- we could replace this with a \"continue\"\n",
    "    if s.isdigit():\n",
    "        n = int(s)\n",
    "        total += n    # this is known, in Python, as \"inplace add,\" or \"iadd\".  \n",
    "        print(f'You entered {n}, total is now {total}')\n",
    "    else:\n",
    "        print(f'{s} is not a number')\n",
    "\n",
    "print('Done.')              "
   ]
  },
  {
   "cell_type": "code",
   "execution_count": null,
   "id": "d0ee6454",
   "metadata": {},
   "outputs": [],
   "source": [
    "# rewriting with continue\n",
    "\n",
    "total = 0\n",
    "\n",
    "s = input('Enter a number: ').strip()  # potentially dangerous -- also not quite what we want\n",
    "while total < 100:\n",
    "    if not s.isdigit():   # not numeric; go back for more\n",
    "        continue\n",
    "    \n",
    "    n = int(s)\n",
    "    total += n \n",
    "    print(f'You entered {n}, total is now {total}')\n",
    "\n",
    "print('Done.')              "
   ]
  },
  {
   "cell_type": "markdown",
   "id": "1471b3d8",
   "metadata": {},
   "source": [
    "# Exercise: "
   ]
  }
 ],
 "metadata": {
  "kernelspec": {
   "display_name": "Python 3 (ipykernel)",
   "language": "python",
   "name": "python3"
  },
  "language_info": {
   "codemirror_mode": {
    "name": "ipython",
    "version": 3
   },
   "file_extension": ".py",
   "mimetype": "text/x-python",
   "name": "python",
   "nbconvert_exporter": "python",
   "pygments_lexer": "ipython3",
   "version": "3.11.0"
  }
 },
 "nbformat": 4,
 "nbformat_minor": 5
}
