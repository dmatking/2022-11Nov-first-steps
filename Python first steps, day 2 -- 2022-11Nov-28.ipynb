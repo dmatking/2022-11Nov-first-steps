{
 "cells": [
  {
   "cell_type": "markdown",
   "id": "c96c2184",
   "metadata": {},
   "source": [
    "# Agenda, week 2: Loops, lists, and tuples\n",
    "\n",
    "1. Q&A from last time\n",
    "2. Loops\n",
    "    - what are loops?\n",
    "    - `for` loops\n",
    "    - looping a number of times\n",
    "    - `while` loops\n",
    "    - where's the index?\n",
    "    - control structures in our loops\n",
    "3. Lists\n",
    "    - What are they?\n",
    "    - How are they similar to strings?\n",
    "    - How are they different from strings?\n",
    "    - Mutable vs. immutable data structures\n",
    "4. Strings to lists, and back\n",
    "    - Using `str.split`\n",
    "    - Using `str.join`\n",
    "5. Tuples (just a little!)\n",
    "    - What are they?\n",
    "    - Working with tuples?\n",
    "    - Who cares about tuples?\n",
    "    - Tuple unpacking"
   ]
  },
  {
   "cell_type": "code",
   "execution_count": 4,
   "id": "c0057d66",
   "metadata": {},
   "outputs": [
    {
     "name": "stdout",
     "output_type": "stream",
     "text": [
      "Enter a number from 1-100: -5\n",
      "-5 is not an integer\n"
     ]
    }
   ],
   "source": [
    "# Get input from the user, a number from 1-100\n",
    "# Using a single condition, give one error message\n",
    "\n",
    "s = input('Enter a number from 1-100: ').strip()\n",
    "\n",
    "# I want to make sure:\n",
    "# - s contains only digits\n",
    "# - s is between 1 and 100\n",
    "\n",
    "if s.isdigit():\n",
    "    n = int(s)\n",
    "    if n >= 1 and n <= 100:\n",
    "        print(f'You gave me a good number, {n}')\n",
    "    else:\n",
    "        print(f'Your number is outside of the boundaries')\n",
    "else:\n",
    "    print(f'{s} is not an integer')"
   ]
  },
  {
   "cell_type": "code",
   "execution_count": 12,
   "id": "c52ac060",
   "metadata": {},
   "outputs": [
    {
     "name": "stdout",
     "output_type": "stream",
     "text": [
      "Enter a number from 1-100: abc\n",
      "Your input, abc, is bad in some way\n"
     ]
    }
   ],
   "source": [
    "# how can we squish all of these tests into one?\n",
    "\n",
    "s = input('Enter a number from 1-100: ').strip()\n",
    "\n",
    "# if s.isdigit() is True, then (and only then) we go onto the 2nd and 3rd tests\n",
    "# if s.isdigit() is False, then we don't run int(s) at all, and avoid that trouble\n",
    "\n",
    "if s.isdigit() and int(s) >= 1 and int(s) <= 100:\n",
    "    print(f'Your input, {s}, is good!')\n",
    "else:\n",
    "    print(f'Your input, {s}, is bad in some way')\n"
   ]
  },
  {
   "cell_type": "code",
   "execution_count": 13,
   "id": "bf2d26ec",
   "metadata": {},
   "outputs": [],
   "source": [
    "# my free, e-mail course teaching regular expressions\n",
    "# https://RegexpCrashCourse.com"
   ]
  },
  {
   "cell_type": "markdown",
   "id": "297982c1",
   "metadata": {},
   "source": [
    "# Loops\n",
    "\n",
    "One of the most important ideas in programming is \"DRY,\" short for \"don't repeat yourself.\"  (I learned this from the Pragmatic Programmer book.)\n",
    "\n",
    "The idea is that if you have identical code that repeats itself -- several lines in a row, or several places in the same program , this is a problem:\n",
    "\n",
    "- You're writing too much code!\n",
    "- You'll need to test and debug that code in several places\n",
    "- If/when you need to fix that code, you'll need to do so in several places\n",
    "- It's harder to explain the code to someone else"
   ]
  },
  {
   "cell_type": "code",
   "execution_count": 14,
   "id": "6dfe2407",
   "metadata": {},
   "outputs": [
    {
     "name": "stdout",
     "output_type": "stream",
     "text": [
      "a\n",
      "b\n",
      "c\n",
      "d\n"
     ]
    }
   ],
   "source": [
    "# keeping that in mind, let's assume that I have a string, and I want to print each character in it\n",
    "\n",
    "s = 'abcd'\n",
    "\n",
    "print(s[0])\n",
    "print(s[1])\n",
    "print(s[2])\n",
    "print(s[3])"
   ]
  },
  {
   "cell_type": "markdown",
   "id": "ba6ba424",
   "metadata": {},
   "source": [
    "There are some problems with the above code:\n",
    "\n",
    "- It violates the DRY rule. (I've heard this called WET -- \"write everything twice\"\n",
    "- What if the string is of a different length? We have no flexibility here\n",
    "\n",
    "We can solve both of these problems with a loop.  Python provides us with two (and only two!) types of loops:\n",
    "\n",
    "- `for` loops -- used more often, and allow us to go through each element of a sequence\n",
    "- `while` loops -- we'll get to these later"
   ]
  },
  {
   "cell_type": "code",
   "execution_count": null,
   "id": "66e2b8da",
   "metadata": {},
   "outputs": [],
   "source": []
  }
 ],
 "metadata": {
  "kernelspec": {
   "display_name": "Python 3 (ipykernel)",
   "language": "python",
   "name": "python3"
  },
  "language_info": {
   "codemirror_mode": {
    "name": "ipython",
    "version": 3
   },
   "file_extension": ".py",
   "mimetype": "text/x-python",
   "name": "python",
   "nbconvert_exporter": "python",
   "pygments_lexer": "ipython3",
   "version": "3.11.0"
  }
 },
 "nbformat": 4,
 "nbformat_minor": 5
}
