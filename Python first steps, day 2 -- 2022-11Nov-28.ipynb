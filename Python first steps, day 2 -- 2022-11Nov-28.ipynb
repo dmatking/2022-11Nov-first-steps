{
 "cells": [
  {
   "cell_type": "markdown",
   "id": "cf0c2f7f",
   "metadata": {},
   "source": [
    "# Agenda, week 2: Loops, lists, and tuples\n",
    "\n",
    "1. Q&A from last time\n",
    "2. Loops\n",
    "    - what are loops?\n",
    "    - `for` loops\n",
    "    - looping a number of times\n",
    "    - `while` loops\n",
    "    - where's the index?\n",
    "    - control structures in our loops\n",
    "3. Lists\n",
    "    - What are they?\n",
    "    - How are they similar to strings?\n",
    "    - How are they different from strings?\n",
    "    - Mutable vs. immutable data structures\n",
    "4. Strings to lists, and back\n",
    "    - Using `str.split`\n",
    "    - Using `str.join`\n",
    "5. Tuples (just a little!)\n",
    "    - What are they?\n",
    "    - Working with tuples?\n",
    "    - Who cares about tuples?\n",
    "    - Tuple unpacking"
   ]
  },
  {
   "cell_type": "code",
   "execution_count": 4,
   "id": "e0812899",
   "metadata": {},
   "outputs": [
    {
     "name": "stdout",
     "output_type": "stream",
     "text": [
      "Enter a number from 1-100: -5\n",
      "-5 is not an integer\n"
     ]
    }
   ],
   "source": [
    "# Get input from the user, a number from 1-100\n",
    "# Using a single condition, give one error message\n",
    "\n",
    "s = input('Enter a number from 1-100: ').strip()\n",
    "\n",
    "# I want to make sure:\n",
    "# - s contains only digits\n",
    "# - s is between 1 and 100\n",
    "\n",
    "if s.isdigit():\n",
    "    n = int(s)\n",
    "    if n >= 1 and n <= 100:\n",
    "        print(f'You gave me a good number, {n}')\n",
    "    else:\n",
    "        print(f'Your number is outside of the boundaries')\n",
    "else:\n",
    "    print(f'{s} is not an integer')"
   ]
  },
  {
   "cell_type": "code",
   "execution_count": 12,
   "id": "c5de55e3",
   "metadata": {},
   "outputs": [
    {
     "name": "stdout",
     "output_type": "stream",
     "text": [
      "Enter a number from 1-100: abc\n",
      "Your input, abc, is bad in some way\n"
     ]
    }
   ],
   "source": [
    "# how can we squish all of these tests into one?\n",
    "\n",
    "s = input('Enter a number from 1-100: ').strip()\n",
    "\n",
    "# if s.isdigit() is True, then (and only then) we go onto the 2nd and 3rd tests\n",
    "# if s.isdigit() is False, then we don't run int(s) at all, and avoid that trouble\n",
    "\n",
    "if s.isdigit() and int(s) >= 1 and int(s) <= 100:\n",
    "    print(f'Your input, {s}, is good!')\n",
    "else:\n",
    "    print(f'Your input, {s}, is bad in some way')\n"
   ]
  },
  {
   "cell_type": "code",
   "execution_count": 13,
   "id": "0db91356",
   "metadata": {},
   "outputs": [],
   "source": [
    "# my free, e-mail course teaching regular expressions\n",
    "# https://RegexpCrashCourse.com"
   ]
  },
  {
   "cell_type": "markdown",
   "id": "035fc969",
   "metadata": {},
   "source": [
    "# Loops\n",
    "\n",
    "One of the most important ideas in programming is \"DRY,\" short for \"don't repeat yourself.\"  (I learned this from the Pragmatic Programmer book.)\n",
    "\n",
    "The idea is that if you have identical code that repeats itself -- several lines in a row, or several places in the same program , this is a problem:\n",
    "\n",
    "- You're writing too much code!\n",
    "- You'll need to test and debug that code in several places\n",
    "- If/when you need to fix that code, you'll need to do so in several places\n",
    "- It's harder to explain the code to someone else"
   ]
  },
  {
   "cell_type": "code",
   "execution_count": 14,
   "id": "851834c2",
   "metadata": {},
   "outputs": [
    {
     "name": "stdout",
     "output_type": "stream",
     "text": [
      "a\n",
      "b\n",
      "c\n",
      "d\n"
     ]
    }
   ],
   "source": [
    "# keeping that in mind, let's assume that I have a string, and I want to print each character in it\n",
    "\n",
    "s = 'abcd'\n",
    "\n",
    "print(s[0])\n",
    "print(s[1])\n",
    "print(s[2])\n",
    "print(s[3])"
   ]
  },
  {
   "cell_type": "markdown",
   "id": "21805d6e",
   "metadata": {},
   "source": [
    "There are some problems with the above code:\n",
    "\n",
    "- It violates the DRY rule. (I've heard this called WET -- \"write everything twice\"\n",
    "- What if the string is of a different length? We have no flexibility here\n",
    "\n",
    "We can solve both of these problems with a loop.  Python provides us with two (and only two!) types of loops:\n",
    "\n",
    "- `for` loops -- used more often, and allow us to go through each element of a sequence\n",
    "- `while` loops -- we'll get to these later"
   ]
  },
  {
   "cell_type": "code",
   "execution_count": 15,
   "id": "a6c5f1ad",
   "metadata": {},
   "outputs": [
    {
     "name": "stdout",
     "output_type": "stream",
     "text": [
      "a\n",
      "b\n",
      "c\n",
      "d\n"
     ]
    }
   ],
   "source": [
    "# a for loop that prints the characters in our string\n",
    "\n",
    "s = 'abcd'\n",
    "\n",
    "for one_character in s:\n",
    "    print(one_character)"
   ]
  },
  {
   "cell_type": "markdown",
   "id": "43d2b213",
   "metadata": {},
   "source": [
    "How does our `for` loop work?\n",
    "\n",
    "1. The word `for` is at the start of the line, followed by:\n",
    "    - a variable name \n",
    "    - the word `in`\n",
    "    - an object, what we'll be looping over\n",
    "    - a `:` indicating the end of the line\n",
    "2. An indented block.  It can be as long or as short as you want, so long as it's indented\n",
    "    - You can have any code you want inside of that block -- `if`, `print`, `len`, `input`, or even another `for` loop.\n",
    "    - When the indented block ends, the \"body\" of the loop ends, as well.\n",
    "    \n",
    "What's happening?\n",
    "\n",
    "1. The `for` loop turns to `s`, the object, and asks it: Are you iterable? Can I run a loop on you?\n",
    "    - If the answer is \"no,\" we get an exception.\n",
    "2. If the object is iterable, then the `for` loop says: Give me your next value.\n",
    "    - If there are no more values, then the object says so, and the loop ends.\n",
    "3. If there is a value, then it is assigned to `one_character`, our variable\n",
    "4. The loop body executes\n",
    "5. We return to step 2, asking for the next value.\n",
    "\n",
    "From this, we learn at least two things:\n",
    "\n",
    "1. The name of the variable has **no effect** on what we get with each iteration. You can call your variable whatever you want; the name is useful to developers, and Python couldn't care less.\n",
    "2. In Python, what we get with each iteration depends 100% on the object we're iterating over. The `for` loop doesn't control the number or type of values we get."
   ]
  },
  {
   "cell_type": "markdown",
   "id": "6ac08afe",
   "metadata": {},
   "source": [
    "# Exercise: Vowels, digits, and others\n",
    "\n",
    "1. Define three variables -- `vowels`, `digits`, and `others`, and all three should be set to the integer 0.\n",
    "2. Ask the user to enter a string, and assign it to `s`.\n",
    "3. Go through each character in `s`:\n",
    "    - If it's a vowel (aeiou), then add 1 to `vowels`\n",
    "    - If it's a digit (0-9), then add 1 to `digits`\n",
    "    - If it's neither, then add 1 to `others`\n",
    "4. After the loop runs, print the values of each of our counter variables.\n",
    "\n",
    "Hints/reminders:\n",
    "\n",
    "1. We can check if a string only contains digits with the `isdigit()` method\n",
    "2. We can check if a one-character string is a vowel with `in` and the string `'aeiou'`\n"
   ]
  },
  {
   "cell_type": "code",
   "execution_count": 16,
   "id": "6fc18a91",
   "metadata": {},
   "outputs": [
    {
     "name": "stdout",
     "output_type": "stream",
     "text": [
      "Enter a string: hello 123 !?\n",
      "digits = 3\n",
      "vowels = 2\n",
      "others = 7\n"
     ]
    }
   ],
   "source": [
    "vowels = 0\n",
    "digits = 0\n",
    "others = 0\n",
    "\n",
    "s = input('Enter a string: ').strip()\n",
    "\n",
    "for one_character in s.lower():\n",
    "    if one_character.isdigit():   # remember that one_character is a string! A string of length 1\n",
    "        digits += 1\n",
    "    elif one_character in 'aeiou':\n",
    "        vowels += 1\n",
    "    else:\n",
    "        others += 1\n",
    "        \n",
    "print(f'digits = {digits}')        \n",
    "print(f'vowels = {vowels}')        \n",
    "print(f'others = {others}')        "
   ]
  },
  {
   "cell_type": "code",
   "execution_count": 17,
   "id": "a0a44c03",
   "metadata": {},
   "outputs": [
    {
     "name": "stdout",
     "output_type": "stream",
     "text": [
      "Hooray!\n",
      "Hooray!\n",
      "Hooray!\n"
     ]
    }
   ],
   "source": [
    "# earlier, I mentioned that if we try to iterate over an object that isn't iterable,\n",
    "# we'll get an error\n",
    "\n",
    "# I'm in a great mood, because I'm teaching Python. I want to say \"Hooray!\" three times\n",
    "\n",
    "print('Hooray!')\n",
    "print('Hooray!')\n",
    "print('Hooray!')\n"
   ]
  },
  {
   "cell_type": "code",
   "execution_count": 18,
   "id": "599a4acd",
   "metadata": {},
   "outputs": [
    {
     "ename": "TypeError",
     "evalue": "'int' object is not iterable",
     "output_type": "error",
     "traceback": [
      "\u001b[0;31m---------------------------------------------------------------------------\u001b[0m",
      "\u001b[0;31mTypeError\u001b[0m                                 Traceback (most recent call last)",
      "Cell \u001b[0;32mIn [18], line 5\u001b[0m\n\u001b[1;32m      1\u001b[0m \u001b[38;5;66;03m# then I realize I've violated the DRY rule -- I want to \"DRY up\" my code\u001b[39;00m\n\u001b[1;32m      2\u001b[0m \n\u001b[1;32m      3\u001b[0m \u001b[38;5;66;03m# I figure that I can iterate over 3, thus printing 3 times\u001b[39;00m\n\u001b[0;32m----> 5\u001b[0m \u001b[38;5;28;01mfor\u001b[39;00m counter \u001b[38;5;129;01min\u001b[39;00m \u001b[38;5;241m3\u001b[39m:\n\u001b[1;32m      6\u001b[0m     \u001b[38;5;28mprint\u001b[39m(\u001b[38;5;124m'\u001b[39m\u001b[38;5;124mHooray!\u001b[39m\u001b[38;5;124m'\u001b[39m)\n",
      "\u001b[0;31mTypeError\u001b[0m: 'int' object is not iterable"
     ]
    }
   ],
   "source": [
    "# then I realize I've violated the DRY rule -- I want to \"DRY up\" my code\n",
    "\n",
    "# I figure that I can iterate over 3, thus printing 3 times\n",
    "\n",
    "for counter in 3:       # this feels like it should work -- but it doesn't!\n",
    "    print('Hooray!')"
   ]
  },
  {
   "cell_type": "code",
   "execution_count": 19,
   "id": "335e161f",
   "metadata": {},
   "outputs": [
    {
     "name": "stdout",
     "output_type": "stream",
     "text": [
      "Hooray!\n",
      "Hooray!\n",
      "Hooray!\n"
     ]
    }
   ],
   "source": [
    "# iterate a number of times with range\n",
    "for counter in range(3):       # if we use range(number), then we get that many iterations\n",
    "    print('Hooray!')"
   ]
  },
  {
   "cell_type": "code",
   "execution_count": 20,
   "id": "8ac79d8c",
   "metadata": {},
   "outputs": [
    {
     "name": "stdout",
     "output_type": "stream",
     "text": [
      "0 Hooray!\n",
      "1 Hooray!\n",
      "2 Hooray!\n"
     ]
    }
   ],
   "source": [
    "# what is \"counter\" in each iteration?\n",
    "\n",
    "for counter in range(3):   # range(3) gives us an iterable from 0 up to (and not including) 3 -- so, 3 times\n",
    "    print(f'{counter} Hooray!')"
   ]
  },
  {
   "cell_type": "markdown",
   "id": "63737fc6",
   "metadata": {},
   "source": [
    "When we say\n",
    "\n",
    "    thing.action()\n",
    "    \n",
    "that's known as a \"method call,\" which is very similar to a function call (i.e., executing a function). The difference is that methods are closely tied to particular types of objects. So you have string methods, list methods, dict methods, etc., and it's harder to mix them up.\n",
    "\n",
    "So when I say\n",
    "\n",
    "    s = '1234'\n",
    "    if s.isdigit():  # here, we're running the isdigit() method on s, a string -- getting True/False\n",
    "        print('Yes, s is an integer')"
   ]
  },
  {
   "cell_type": "code",
   "execution_count": 21,
   "id": "72c56057",
   "metadata": {},
   "outputs": [
    {
     "name": "stdout",
     "output_type": "stream",
     "text": [
      "0\n",
      "1\n",
      "2\n"
     ]
    }
   ],
   "source": [
    "# here, we'll get from 0 until (and not including 3)\n",
    "for one_item in range(3):\n",
    "    print(one_item)"
   ]
  },
  {
   "cell_type": "code",
   "execution_count": 22,
   "id": "890d2d40",
   "metadata": {},
   "outputs": [],
   "source": [
    "# here, we'll get from 0 until (and not including) -3\n",
    "for one_item in range(-3):\n",
    "    print(one_item)"
   ]
  },
  {
   "cell_type": "code",
   "execution_count": 23,
   "id": "8c5be4fb",
   "metadata": {},
   "outputs": [
    {
     "name": "stdout",
     "output_type": "stream",
     "text": [
      "digits = 3\n",
      "vowels = 2\n",
      "others = 7\n"
     ]
    }
   ],
   "source": [
    "# the f before the opening quote means it's a \"format string\" or \"fancy string\"\n",
    "# It's a regular string, except that inside, if you have {}, you can put variables\n",
    "# or expressions (e.g., method calls)\n",
    "\n",
    "print(f'digits = {digits}')        \n",
    "print(f'vowels = {vowels}')        \n",
    "print(f'others = {others}')        "
   ]
  },
  {
   "cell_type": "code",
   "execution_count": 24,
   "id": "fdb90069",
   "metadata": {},
   "outputs": [
    {
     "name": "stdout",
     "output_type": "stream",
     "text": [
      "3\n",
      "2\n",
      "7\n"
     ]
    }
   ],
   "source": [
    "print(digits)\n",
    "print(vowels)\n",
    "print(others)"
   ]
  },
  {
   "cell_type": "code",
   "execution_count": 27,
   "id": "d1ad5898",
   "metadata": {},
   "outputs": [
    {
     "name": "stdout",
     "output_type": "stream",
     "text": [
      "digits = 3\n",
      "vowels = 2\n",
      "others = 7\n"
     ]
    }
   ],
   "source": [
    "# we can even do this:\n",
    "\n",
    "print(f'{digits = }')    # this prints digits = (the value of digits)\n",
    "print(f'{vowels = }')    # this prints vowels = (the value of vowels)\n",
    "print(f'{others = }')    # this prints others = (the value of others)\n"
   ]
  },
  {
   "cell_type": "code",
   "execution_count": 29,
   "id": "2581e329",
   "metadata": {},
   "outputs": [
    {
     "name": "stdout",
     "output_type": "stream",
     "text": [
      "Enter your name:      hello     \n",
      "Hello,      hello     !\n"
     ]
    }
   ],
   "source": [
    "# input returns a string\n",
    "# every string can run string methods\n",
    "# one method is .strip(), which returns a new string without leading/trailing spaces\n",
    "\n",
    "name = input('Enter your name: ')\n",
    "print(f'Hello, {name}!')"
   ]
  },
  {
   "cell_type": "code",
   "execution_count": 30,
   "id": "6b4f3720",
   "metadata": {},
   "outputs": [
    {
     "name": "stdout",
     "output_type": "stream",
     "text": [
      "Enter your name:      Reuven    \n",
      "Hello, Reuven!\n"
     ]
    }
   ],
   "source": [
    "name = input('Enter your name: ').strip()  # this ensures that name has no spaces at its start and end\n",
    "print(f'Hello, {name}!')"
   ]
  },
  {
   "cell_type": "code",
   "execution_count": 31,
   "id": "fd186492",
   "metadata": {},
   "outputs": [
    {
     "data": {
      "text/plain": [
       "True"
      ]
     },
     "execution_count": 31,
     "metadata": {},
     "output_type": "execute_result"
    }
   ],
   "source": [
    "# in is an \"operator\"\n",
    "# it returns True or False\n",
    "# it always works as LITTLE in BIG\n",
    "\n",
    "# can a smaller string be found in a bigger string?\n",
    "\n",
    "'abc' in 'I like to sing abc before bathtime'"
   ]
  },
  {
   "cell_type": "code",
   "execution_count": 32,
   "id": "1965649b",
   "metadata": {},
   "outputs": [
    {
     "data": {
      "text/plain": [
       "True"
      ]
     },
     "execution_count": 32,
     "metadata": {},
     "output_type": "execute_result"
    }
   ],
   "source": [
    "'sing' in 'I like to sing abc before bathtime'"
   ]
  },
  {
   "cell_type": "code",
   "execution_count": 33,
   "id": "174e51ec",
   "metadata": {},
   "outputs": [
    {
     "data": {
      "text/plain": [
       "False"
      ]
     },
     "execution_count": 33,
     "metadata": {},
     "output_type": "execute_result"
    }
   ],
   "source": [
    "'sg' in 'I like to sing abc before bathtime'"
   ]
  },
  {
   "cell_type": "code",
   "execution_count": 35,
   "id": "828c12b9",
   "metadata": {},
   "outputs": [
    {
     "name": "stdout",
     "output_type": "stream",
     "text": [
      "How many numbers will you total? 2\n",
      "0 Enter number: 100\n",
      "1 Enter number: 500\n",
      "total=600\n"
     ]
    }
   ],
   "source": [
    "# Ask the user how many numbers they want to sum, then sum them\n",
    "\n",
    "total = 0\n",
    "\n",
    "s = input('How many numbers will you total? ').strip()\n",
    "\n",
    "# assume it's numeric\n",
    "n = int(s)\n",
    "\n",
    "for counter in range(n):\n",
    "    s = input(f'{counter} Enter number: ').strip()\n",
    "    \n",
    "    if s.isdigit():\n",
    "        total += int(s)\n",
    "    else:\n",
    "        print(f'Ignoring {s}; not numeric')\n",
    "        \n",
    "print(f'total = {total}')          "
   ]
  },
  {
   "cell_type": "markdown",
   "id": "7c39878d",
   "metadata": {},
   "source": [
    "# Exercise: Name triangles\n",
    "\n",
    "1. Ask the user to enter their name.\n",
    "2. Print a \"name triangle\" based on that name:\n",
    "    - On the first line, print the 1st letter only\n",
    "    - On the second line, print the first 2 characters\n",
    "    - ...\n",
    "    - On the final line, print the full name\n",
    "    \n",
    "In order to do this, consider:\n",
    "\n",
    "- The index for strings starts with 0\n",
    "- Slices on a string look like `s[start:finish+1]`, so `s[10:15]` is giving us `s[10]` until (and not including) `s[15]`.\n",
    "    - Slices can go beyond the border of the string\n",
    "    - To get a slice from the start of a string, just start with the `:`\n",
    "- You can get the length of a string with `len(s)`.    "
   ]
  },
  {
   "cell_type": "code",
   "execution_count": 38,
   "id": "abb1a800",
   "metadata": {},
   "outputs": [
    {
     "name": "stdout",
     "output_type": "stream",
     "text": [
      "R\n",
      "Re\n",
      "Reu\n",
      "Reuv\n",
      "Reuve\n",
      "Reuven\n"
     ]
    }
   ],
   "source": [
    "# let's think about what we want here\n",
    "\n",
    "name = 'Reuven'\n",
    "\n",
    "print(name[:1])   # first character\n",
    "print(name[:2])   # first 2 characters\n",
    "print(name[:3])   # first 3 characters\n",
    "print(name[:4])   # first 4 characters\n",
    "print(name[:5])   # first 5 characters\n",
    "print(name[:6])   # first 6 characters"
   ]
  },
  {
   "cell_type": "code",
   "execution_count": 39,
   "id": "06aabecf",
   "metadata": {},
   "outputs": [
    {
     "name": "stdout",
     "output_type": "stream",
     "text": [
      "\n",
      "R\n",
      "Re\n",
      "Reu\n",
      "Reuv\n",
      "Reuve\n"
     ]
    }
   ],
   "source": [
    "# name = 'Reuven'\n",
    "# len(name) == 6\n",
    "# range(len(name)) == from 0 up to (and not including) 6\n",
    "\n",
    "# an off-by-one error!\n",
    "for counter in range(len(name)):\n",
    "    print(name[:counter])"
   ]
  },
  {
   "cell_type": "code",
   "execution_count": 44,
   "id": "ec44feca",
   "metadata": {},
   "outputs": [
    {
     "name": "stdout",
     "output_type": "stream",
     "text": [
      "Enter your name: Encyclopedia\n",
      "E\n",
      "En\n",
      "Enc\n",
      "Ency\n",
      "Encyc\n",
      "Encycl\n",
      "Encyclo\n",
      "Encyclop\n",
      "Encyclope\n",
      "Encycloped\n",
      "Encyclopedi\n",
      "Encyclopedia\n"
     ]
    }
   ],
   "source": [
    "# name = 'Reuven'\n",
    "# len(name) == 6\n",
    "# range(len(name)) == from 0 up to (and not including) 6\n",
    "\n",
    "name = input('Enter your name: ').strip()\n",
    "\n",
    "for counter in range(len(name)):\n",
    "    print(name[:counter+1])"
   ]
  },
  {
   "cell_type": "markdown",
   "id": "f68e3517",
   "metadata": {},
   "source": [
    "# Next up\n",
    "\n",
    "1. Where's the index?\n",
    "2. `while` loops\n",
    "3. Controlling our loops with `break` and `continue`\n"
   ]
  },
  {
   "cell_type": "code",
   "execution_count": 45,
   "id": "4bb71d37",
   "metadata": {},
   "outputs": [
    {
     "name": "stdout",
     "output_type": "stream",
     "text": [
      "a\n",
      "b\n",
      "c\n",
      "d\n",
      "e\n"
     ]
    }
   ],
   "source": [
    "s = 'abcde'\n",
    "\n",
    "for one_character in s:\n",
    "    print(one_character)"
   ]
  },
  {
   "cell_type": "code",
   "execution_count": 46,
   "id": "2e02503b",
   "metadata": {},
   "outputs": [
    {
     "name": "stdout",
     "output_type": "stream",
     "text": [
      "a\n",
      "b\n",
      "c\n",
      "d\n",
      "e\n"
     ]
    }
   ],
   "source": [
    "# In C and similar languages, you have to do this:\n",
    "\n",
    "s = 'abcde'\n",
    "\n",
    "for index in range(len(s)):   # iterate over the indexes in s, 0 through 4\n",
    "    print(s[index])           # print the character at index"
   ]
  },
  {
   "cell_type": "markdown",
   "id": "ed607460",
   "metadata": {},
   "source": [
    "# `while` loops\n",
    "\n",
    "`for` loops are great if you want to go through every element of a string, one at a time.  This is good for searching, and it's good for printing each element.\n",
    "\n",
    "It's also good if you know how many times you want to iterate -- once per character, or a certain number of times (with `range`).\n",
    "\n",
    "But sometimes, you don't know how many iterations you'll need.  You know when you'll want to stop, though.  For such times, we have `while` loops.\n",
    "\n",
    "Picking up clothing (metaphor):\n",
    "\n",
    "- If I say, \"I want you to pick up every piece of clothing and put it away,\" that's a `for` loop.\n",
    "- If I say, \"So long as there is clothing on the floor, pick something up and put it away,\" that's a `while` loop.\n",
    "\n",
    "You can think of a `while` loop as an `if` statement that repeats itself so long as the condition is `True`.  As soon as the condition is `False`, the `while` loop stops."
   ]
  },
  {
   "cell_type": "code",
   "execution_count": 47,
   "id": "5807dd04",
   "metadata": {
    "scrolled": true
   },
   "outputs": [
    {
     "name": "stdout",
     "output_type": "stream",
     "text": [
      "5\n",
      "4\n",
      "3\n",
      "2\n",
      "1\n"
     ]
    }
   ],
   "source": [
    "# Example\n",
    "\n",
    "x = 5\n",
    "\n",
    "while x > 0:\n",
    "    print(x)  # print x\n",
    "    x -= 1    # decrement x by 1  -- if we leave this line off, then x will never change, and we have an INFINITE LOOP!"
   ]
  },
  {
   "cell_type": "markdown",
   "id": "56c13dc4",
   "metadata": {},
   "source": [
    "# Exercise: Sum to 100\n",
    "\n",
    "1. Define `total` to be 0.\n",
    "2. Ask the user, repeatedly, to enter a number.\n",
    "    - If the user enters a non-number, then scold them\n",
    "    - If the user enters a number, add it to `total`\n",
    "    - Print the user's number and `total`\n",
    "3. When `total` is >= 100, stop asking + printing, and exit the loop.\n",
    "\n",
    "Example:\n",
    "\n",
    "    Enter a number: 30\n",
    "    You entered 30, total is now 30\n",
    "    Enter a number: 15\n",
    "    You entered 15, total is now 45\n",
    "    Enter a number: 50\n",
    "    You entered 50, total is now 95\n",
    "    Enter a number: hello\n",
    "    hello is not a number\n",
    "    Enter a number: 20\n",
    "    You entered 20, total is now 115\n",
    "        "
   ]
  },
  {
   "cell_type": "code",
   "execution_count": 49,
   "id": "9863d1e2",
   "metadata": {},
   "outputs": [
    {
     "name": "stdout",
     "output_type": "stream",
     "text": [
      "Enter a number: 50\n",
      "You entered 50, total is now 50\n",
      "Enter a number: 40\n",
      "You entered 40, total is now 90\n",
      "Enter a number: 30\n",
      "You entered 30, total is now 120\n",
      "Done.\n"
     ]
    }
   ],
   "source": [
    "total = 0\n",
    "\n",
    "while total < 100:   # this is our condition for exiting the loop, checking each time we restart the loop body\n",
    "    s = input('Enter a number: ').strip()\n",
    "    \n",
    "    if s.isdigit():\n",
    "        n = int(s)\n",
    "        total += n\n",
    "        print(f'You entered {n}, total is now {total}')\n",
    "    else:\n",
    "        print(f'{s} is not a number')\n",
    "\n",
    "print('Done.')              "
   ]
  },
  {
   "cell_type": "markdown",
   "id": "140bbb4c",
   "metadata": {},
   "source": [
    "# `isdigit` is a *string* method\n",
    "\n",
    "`str.isdigit` is a method that runs on strings. It tells us whether a string contains only the digits 0-9. You cannot run it on an integer.  So this will work:\n",
    "\n",
    "    if s.isdigit():\n",
    "        n = int(s)\n",
    "        \n",
    "But this will not:\n",
    "\n",
    "    n = int(s).isdigit()\n",
    "    \n",
    "First of all, you'll get an error from Python saying that integers don't have the method `isdigit`.  But the real reason we're running `isdigit` is to avoid problems when we run `int` on our string, to get an integer from it. If we first run `int` and then run `isdigit`, then we aren't preventing problems.    "
   ]
  },
  {
   "cell_type": "code",
   "execution_count": 50,
   "id": "e2d847b5",
   "metadata": {},
   "outputs": [
    {
     "name": "stdout",
     "output_type": "stream",
     "text": [
      "Enter a number: 10\n",
      "You entered 10, total is now 10\n",
      "You entered 10, total is now 20\n",
      "You entered 10, total is now 30\n",
      "You entered 10, total is now 40\n",
      "You entered 10, total is now 50\n",
      "You entered 10, total is now 60\n",
      "You entered 10, total is now 70\n",
      "You entered 10, total is now 80\n",
      "You entered 10, total is now 90\n",
      "You entered 10, total is now 100\n",
      "Done.\n"
     ]
    }
   ],
   "source": [
    "total = 0\n",
    "\n",
    "s = input('Enter a number: ').strip()  # potentially dangerous -- also not quite what we want\n",
    "while total < 100:\n",
    "    \n",
    "    if s.isdigit():\n",
    "        n = int(s)\n",
    "        total += n    # this is known, in Python, as \"inplace add,\" or \"iadd\".  \n",
    "        print(f'You entered {n}, total is now {total}')\n",
    "    else:\n",
    "        print(f'{s} is not a number')\n",
    "\n",
    "print('Done.')              "
   ]
  },
  {
   "cell_type": "markdown",
   "id": "6a571ceb",
   "metadata": {},
   "source": [
    "# Full list of methods on strings\n",
    "\n",
    "1. Go to https://docs.python.org/3/library/stdtypes.html#text-sequence-type-str\n",
    "2. If you're in Jupyter, then having a string variable, followed by a `.`, followed by pressing `TAB` will give you a menu of methods.\n",
    "3. In PyCharm and VSCode, typing a `.` after a string will show all of the options."
   ]
  },
  {
   "cell_type": "markdown",
   "id": "0ecc57c3",
   "metadata": {},
   "source": [
    "# Controlling our loops\n",
    "\n",
    "Sometimes, if we're reached our goal, but the loop hasn't ended, we might want to stop the loop early. We can do that with the `break` statement. It exits from the closest loop to where we are.\n",
    "\n",
    "Another option is to use `continue`, which finishes the current iteration, but doesn't exit the loop.  This typically used if we encounter a value we don't need or care about. So we can ignore it, and go onto the next value."
   ]
  },
  {
   "cell_type": "code",
   "execution_count": 52,
   "id": "8aee5000",
   "metadata": {},
   "outputs": [
    {
     "name": "stdout",
     "output_type": "stream",
     "text": [
      "Enter your name: asdfa\n",
      "Hello, asdfa!\n",
      "Enter your name: asdfadfafsa\n",
      "Hello, asdfadfafsa!\n",
      "Enter your name: \n",
      "Continuing after the while loop...\n"
     ]
    }
   ],
   "source": [
    "# classic example of using break\n",
    "\n",
    "while True:    # yes, this is an infinite loop!\n",
    "    name = input('Enter your name: ').strip()\n",
    "    \n",
    "    if name == '':  # empty string?\n",
    "        break       # stop asking, break from the loop\n",
    "        \n",
    "    print(f'Hello, {name}!')\n",
    "    \n",
    "print('Continuing after the while loop...')    "
   ]
  },
  {
   "cell_type": "code",
   "execution_count": null,
   "id": "92d448f9",
   "metadata": {},
   "outputs": [],
   "source": [
    "total = 0\n",
    "\n",
    "\n",
    "while total < 100:\n",
    "    s = input('Enter a number: ').strip()     \n",
    "\n",
    "    # here, we have an if-else -- we could replace this with a \"continue\"\n",
    "    if s.isdigit():\n",
    "        n = int(s)\n",
    "        total += n    # this is known, in Python, as \"inplace add,\" or \"iadd\".  \n",
    "        print(f'You entered {n}, total is now {total}')\n",
    "    else:\n",
    "        print(f'{s} is not a number')\n",
    "\n",
    "print('Done.')              "
   ]
  },
  {
   "cell_type": "code",
   "execution_count": 53,
   "id": "c4d0febe",
   "metadata": {},
   "outputs": [
    {
     "name": "stdout",
     "output_type": "stream",
     "text": [
      "Enter a number: 30\n",
      "You entered 30, total is now 30\n",
      "Enter a number: asdfafa\n",
      "Enter a number: asdfafsafa\n",
      "Enter a number: 90\n",
      "You entered 90, total is now 120\n",
      "Done.\n"
     ]
    }
   ],
   "source": [
    "# rewriting with continue\n",
    "\n",
    "total = 0\n",
    "\n",
    "while total < 100:\n",
    "    s = input('Enter a number: ').strip()\n",
    "    if not s.isdigit():   # not numeric; go back for more\n",
    "        continue\n",
    "    \n",
    "    n = int(s)\n",
    "    total += n \n",
    "    print(f'You entered {n}, total is now {total}')\n",
    "\n",
    "print('Done.')              "
   ]
  },
  {
   "cell_type": "markdown",
   "id": "753ba9c0",
   "metadata": {},
   "source": [
    "# Exercise: Sum digits\n",
    "\n",
    "1. Ask the user to enter a string containing digits.\n",
    "2. Set `total` to 0.\n",
    "3. Go through each character in the string.\n",
    "    - If it's a digit, then add it to `total`\n",
    "    - If not, then scold the user\n",
    "4. Print the total    "
   ]
  },
  {
   "cell_type": "code",
   "execution_count": 56,
   "id": "73136662",
   "metadata": {},
   "outputs": [
    {
     "name": "stdout",
     "output_type": "stream",
     "text": [
      "Enter a string: 123abc45!\n",
      "Added 1; total is now 1\n",
      "Added 2; total is now 3\n",
      "Added 3; total is now 6\n",
      "a is not numeric\n",
      "b is not numeric\n",
      "c is not numeric\n",
      "Added 4; total is now 10\n",
      "Added 5; total is now 15\n",
      "! is not numeric\n",
      "Done\n"
     ]
    }
   ],
   "source": [
    "total = 0\n",
    "\n",
    "s = input('Enter a string: ').strip()\n",
    "\n",
    "for one_character in s:\n",
    "\n",
    "    if not one_character.isdigit():\n",
    "        print(f'{one_character} is not numeric')\n",
    "        continue\n",
    "        \n",
    "    total += int(one_character)\n",
    "    print(f'Added {one_character}; total is now {total}')\n",
    "    \n",
    "print('Done')    \n",
    "    "
   ]
  },
  {
   "cell_type": "markdown",
   "id": "0933e085",
   "metadata": {},
   "source": [
    "# Exercise: Sum digits (part 2)\n",
    "\n",
    "Repeat the previous exercise, except that we should keep asking the user for input strings, until we get an empty string.  Sum all of the digits in all of the strings.\n",
    "\n",
    "Hint: You can have a `for` loop inside of a `while` loop."
   ]
  },
  {
   "cell_type": "code",
   "execution_count": 57,
   "id": "94c7eb94",
   "metadata": {
    "scrolled": true
   },
   "outputs": [
    {
     "name": "stdout",
     "output_type": "stream",
     "text": [
      "Enter a string: 123abc\n",
      "Added 1; total is now 1\n",
      "Added 2; total is now 3\n",
      "Added 3; total is now 6\n",
      "a is not numeric\n",
      "b is not numeric\n",
      "c is not numeric\n",
      "Enter a string: 987\n",
      "Added 9; total is now 15\n",
      "Added 8; total is now 23\n",
      "Added 7; total is now 30\n",
      "Enter a string: be right back\n",
      "b is not numeric\n",
      "e is not numeric\n",
      "  is not numeric\n",
      "r is not numeric\n",
      "i is not numeric\n",
      "g is not numeric\n",
      "h is not numeric\n",
      "t is not numeric\n",
      "  is not numeric\n",
      "b is not numeric\n",
      "a is not numeric\n",
      "c is not numeric\n",
      "k is not numeric\n",
      "Enter a string: 562\n",
      "Added 5; total is now 35\n",
      "Added 6; total is now 41\n",
      "Added 2; total is now 43\n",
      "Enter a string: \n",
      "Done\n"
     ]
    }
   ],
   "source": [
    "total = 0\n",
    "\n",
    "while True:   # infinite loop -- be careful! We need an escape hatch\n",
    "\n",
    "    s = input('Enter a string: ').strip()\n",
    "       \n",
    "    if s == '':   # empty string?\n",
    "        break     # exit the loop\n",
    "\n",
    "    # not empty? Go through each character in s...\n",
    "    for one_character in s:\n",
    "\n",
    "        if not one_character.isdigit():\n",
    "            print(f'{one_character} is not numeric')\n",
    "            continue\n",
    "\n",
    "        total += int(one_character)\n",
    "        print(f'Added {one_character}; total is now {total}')\n",
    "    \n",
    "print('Done')    \n",
    "    "
   ]
  },
  {
   "cell_type": "code",
   "execution_count": 58,
   "id": "2c6babfd",
   "metadata": {},
   "outputs": [
    {
     "ename": "SyntaxError",
     "evalue": "invalid syntax. Maybe you meant '==' or ':=' instead of '='? (295368048.py, line 3)",
     "output_type": "error",
     "traceback": [
      "\u001b[0;36m  Cell \u001b[0;32mIn [58], line 3\u001b[0;36m\u001b[0m\n\u001b[0;31m    while s = input('Enter a string: ').strip():\u001b[0m\n\u001b[0m          ^\u001b[0m\n\u001b[0;31mSyntaxError\u001b[0m\u001b[0;31m:\u001b[0m invalid syntax. Maybe you meant '==' or ':=' instead of '='?\n"
     ]
    }
   ],
   "source": [
    "total = 0\n",
    "\n",
    "# assignment isn't an expression -- so it doesn't return a value,\n",
    "# and cannot be used in a while loop's condition\n",
    "\n",
    "while s = input('Enter a string: ').strip():\n",
    "\n",
    "    for one_character in s:\n",
    "\n",
    "        if not one_character.isdigit():\n",
    "            print(f'{one_character} is not numeric')\n",
    "            continue\n",
    "\n",
    "        total += int(one_character)\n",
    "        print(f'Added {one_character}; total is now {total}')\n",
    "    \n",
    "print('Done')    \n",
    "    "
   ]
  },
  {
   "cell_type": "code",
   "execution_count": null,
   "id": "2fa1af17",
   "metadata": {},
   "outputs": [],
   "source": [
    "total = 0\n",
    "\n",
    "# The := operator, known as \"assignment expression\" or \"the walrus\"\n",
    "# both assigns and returns a value. So it is an expression and can be used here\n",
    "\n",
    "while s := input('Enter a string: ').strip():\n",
    "\n",
    "    for one_character in s:\n",
    "\n",
    "        if not one_character.isdigit():\n",
    "            print(f'{one_character} is not numeric')\n",
    "            continue\n",
    "\n",
    "        total += int(one_character)\n",
    "        print(f'Added {one_character}; total is now {total}')\n",
    "    \n",
    "print('Done')    \n",
    "    "
   ]
  },
  {
   "cell_type": "markdown",
   "id": "d2a46087",
   "metadata": {},
   "source": [
    "# Next up\n",
    "\n",
    "1. Lists\n",
    "    - Creating them\n",
    "    - How they're the same as strings\n",
    "    - How they're different from strings\n",
    "    - Mutable vs. immutable data\n",
    "2. Strings to lists, and back    "
   ]
  },
  {
   "cell_type": "markdown",
   "id": "22c4aaa9",
   "metadata": {},
   "source": [
    "# Data structure: List\n",
    "\n",
    "Lists are Python's generic, ordered containers for other objects.\n",
    "\n",
    "A few things about lists:\n",
    "\n",
    "- They can contain anything at all\n",
    "- They are sequences (like strings), so they support many of the same things as strings"
   ]
  },
  {
   "cell_type": "code",
   "execution_count": 59,
   "id": "4273d1ac",
   "metadata": {},
   "outputs": [],
   "source": [
    "# if you've learned another language before, you might think that this is an array\n",
    "# IT IS NOT AN ARRAY! It is a list\n",
    "\n",
    "# square brackets\n",
    "# elements are separated by commas\n",
    "# you can have an empty list defined as []\n",
    "mylist = [10, 20, 30, 40, 50]  "
   ]
  },
  {
   "cell_type": "code",
   "execution_count": 60,
   "id": "dbfdc6ee",
   "metadata": {},
   "outputs": [
    {
     "data": {
      "text/plain": [
       "list"
      ]
     },
     "execution_count": 60,
     "metadata": {},
     "output_type": "execute_result"
    }
   ],
   "source": [
    "type(mylist)  # what kind of data structure is mylist?"
   ]
  },
  {
   "cell_type": "code",
   "execution_count": 61,
   "id": "2d32504d",
   "metadata": {},
   "outputs": [
    {
     "data": {
      "text/plain": [
       "5"
      ]
     },
     "execution_count": 61,
     "metadata": {},
     "output_type": "execute_result"
    }
   ],
   "source": [
    "# a few things we can do, just like with strings\n",
    "len(mylist)"
   ]
  },
  {
   "cell_type": "code",
   "execution_count": 62,
   "id": "303f1e14",
   "metadata": {},
   "outputs": [
    {
     "data": {
      "text/plain": [
       "10"
      ]
     },
     "execution_count": 62,
     "metadata": {},
     "output_type": "execute_result"
    }
   ],
   "source": [
    "mylist[0]"
   ]
  },
  {
   "cell_type": "code",
   "execution_count": 63,
   "id": "b05b5092",
   "metadata": {},
   "outputs": [
    {
     "data": {
      "text/plain": [
       "20"
      ]
     },
     "execution_count": 63,
     "metadata": {},
     "output_type": "execute_result"
    }
   ],
   "source": [
    "mylist[1]"
   ]
  },
  {
   "cell_type": "code",
   "execution_count": 64,
   "id": "78bc30db",
   "metadata": {},
   "outputs": [
    {
     "data": {
      "text/plain": [
       "50"
      ]
     },
     "execution_count": 64,
     "metadata": {},
     "output_type": "execute_result"
    }
   ],
   "source": [
    "mylist[-1]  # final element"
   ]
  },
  {
   "cell_type": "code",
   "execution_count": 65,
   "id": "a0870eda",
   "metadata": {},
   "outputs": [
    {
     "data": {
      "text/plain": [
       "40"
      ]
     },
     "execution_count": 65,
     "metadata": {},
     "output_type": "execute_result"
    }
   ],
   "source": [
    "mylist[-2]  # 2nd to last element"
   ]
  },
  {
   "cell_type": "code",
   "execution_count": 67,
   "id": "aa59a3fd",
   "metadata": {},
   "outputs": [
    {
     "data": {
      "text/plain": [
       "[30, 40]"
      ]
     },
     "execution_count": 67,
     "metadata": {},
     "output_type": "execute_result"
    }
   ],
   "source": [
    "# slices\n",
    "mylist[2:4]"
   ]
  },
  {
   "cell_type": "code",
   "execution_count": 68,
   "id": "30f13d72",
   "metadata": {},
   "outputs": [
    {
     "name": "stdout",
     "output_type": "stream",
     "text": [
      "10\n",
      "20\n",
      "30\n",
      "40\n",
      "50\n"
     ]
    }
   ],
   "source": [
    "# loop over the elements of mylist\n",
    "for one_item in mylist:\n",
    "    print(one_item)"
   ]
  },
  {
   "cell_type": "code",
   "execution_count": 69,
   "id": "bbba3d20",
   "metadata": {},
   "outputs": [
    {
     "data": {
      "text/plain": [
       "True"
      ]
     },
     "execution_count": 69,
     "metadata": {},
     "output_type": "execute_result"
    }
   ],
   "source": [
    "# search in a list with \"in\"\n",
    "\n",
    "30 in mylist"
   ]
  },
  {
   "cell_type": "code",
   "execution_count": 70,
   "id": "a45690e9",
   "metadata": {},
   "outputs": [
    {
     "data": {
      "text/plain": [
       "True"
      ]
     },
     "execution_count": 70,
     "metadata": {},
     "output_type": "execute_result"
    }
   ],
   "source": [
    "50 in mylist"
   ]
  },
  {
   "cell_type": "code",
   "execution_count": 71,
   "id": "dbc73424",
   "metadata": {},
   "outputs": [
    {
     "data": {
      "text/plain": [
       "False"
      ]
     },
     "execution_count": 71,
     "metadata": {},
     "output_type": "execute_result"
    }
   ],
   "source": [
    "500 in mylist"
   ]
  },
  {
   "cell_type": "code",
   "execution_count": 72,
   "id": "d08c670d",
   "metadata": {},
   "outputs": [],
   "source": [
    "mylist = [10, 20, 30]               # list of 3 integers\n",
    "biglist = [mylist, mylist, mylist]  # list of 3 lists"
   ]
  },
  {
   "cell_type": "code",
   "execution_count": 73,
   "id": "d4a0ddf3",
   "metadata": {},
   "outputs": [
    {
     "data": {
      "text/plain": [
       "list"
      ]
     },
     "execution_count": 73,
     "metadata": {},
     "output_type": "execute_result"
    }
   ],
   "source": [
    "type(mylist)"
   ]
  },
  {
   "cell_type": "code",
   "execution_count": 74,
   "id": "2d136029",
   "metadata": {},
   "outputs": [
    {
     "data": {
      "text/plain": [
       "list"
      ]
     },
     "execution_count": 74,
     "metadata": {},
     "output_type": "execute_result"
    }
   ],
   "source": [
    "type(biglist)"
   ]
  },
  {
   "cell_type": "code",
   "execution_count": 75,
   "id": "ff70bd0f",
   "metadata": {},
   "outputs": [
    {
     "data": {
      "text/plain": [
       "'a'"
      ]
     },
     "execution_count": 75,
     "metadata": {},
     "output_type": "execute_result"
    }
   ],
   "source": [
    "# there is something else that's important\n",
    "\n",
    "s = 'abcde'\n",
    "s[0] # we can retrieve s[0]"
   ]
  },
  {
   "cell_type": "code",
   "execution_count": 76,
   "id": "393f75b3",
   "metadata": {},
   "outputs": [
    {
     "ename": "TypeError",
     "evalue": "'str' object does not support item assignment",
     "output_type": "error",
     "traceback": [
      "\u001b[0;31m---------------------------------------------------------------------------\u001b[0m",
      "\u001b[0;31mTypeError\u001b[0m                                 Traceback (most recent call last)",
      "Cell \u001b[0;32mIn [76], line 3\u001b[0m\n\u001b[1;32m      1\u001b[0m \u001b[38;5;66;03m# what happens if I try to assign to s[0]?\u001b[39;00m\n\u001b[0;32m----> 3\u001b[0m \u001b[43ms\u001b[49m\u001b[43m[\u001b[49m\u001b[38;5;241;43m0\u001b[39;49m\u001b[43m]\u001b[49m \u001b[38;5;241m=\u001b[39m \u001b[38;5;124m'\u001b[39m\u001b[38;5;124m!\u001b[39m\u001b[38;5;124m'\u001b[39m\n",
      "\u001b[0;31mTypeError\u001b[0m: 'str' object does not support item assignment"
     ]
    }
   ],
   "source": [
    "# what happens if I try to assign to s[0]?\n",
    "\n",
    "s[0] = '!'"
   ]
  },
  {
   "cell_type": "code",
   "execution_count": 77,
   "id": "edade4c1",
   "metadata": {},
   "outputs": [],
   "source": [
    "# what about if I try to do it to a list?\n",
    "\n",
    "mylist[0] = '!'"
   ]
  },
  {
   "cell_type": "code",
   "execution_count": 78,
   "id": "fbe8ff12",
   "metadata": {},
   "outputs": [
    {
     "data": {
      "text/plain": [
       "['!', 20, 30]"
      ]
     },
     "execution_count": 78,
     "metadata": {},
     "output_type": "execute_result"
    }
   ],
   "source": [
    "mylist"
   ]
  },
  {
   "cell_type": "code",
   "execution_count": 79,
   "id": "dc9b32f9",
   "metadata": {},
   "outputs": [
    {
     "data": {
      "text/plain": [
       "[['!', 20, 30], ['!', 20, 30], ['!', 20, 30]]"
      ]
     },
     "execution_count": 79,
     "metadata": {},
     "output_type": "execute_result"
    }
   ],
   "source": [
    "# even more important...\n",
    "\n",
    "biglist"
   ]
  },
  {
   "cell_type": "code",
   "execution_count": 80,
   "id": "2b71e906",
   "metadata": {},
   "outputs": [
    {
     "data": {
      "text/plain": [
       "[10, 20, 30, 40]"
      ]
     },
     "execution_count": 80,
     "metadata": {},
     "output_type": "execute_result"
    }
   ],
   "source": [
    "# we can add an element to the end of a list with the .append method\n",
    "\n",
    "mylist = [10, 20, 30]\n",
    "mylist.append(40)   # whatever we pass to append is added to the list\n",
    "mylist"
   ]
  },
  {
   "cell_type": "code",
   "execution_count": 81,
   "id": "50fee52b",
   "metadata": {},
   "outputs": [
    {
     "data": {
      "text/plain": [
       "[10, 20, 30, 40, [50, 60, 70]]"
      ]
     },
     "execution_count": 81,
     "metadata": {},
     "output_type": "execute_result"
    }
   ],
   "source": [
    "mylist.append([50, 60, 70])\n",
    "mylist"
   ]
  },
  {
   "cell_type": "markdown",
   "id": "248367cd",
   "metadata": {},
   "source": [
    "# Exercise: Vowels, digits, and others (list edition)\n",
    "\n",
    "1. Define three empty lists -- `vowels`, `digits`, and `others`.\n",
    "2. Ask the user to enter a string.\n",
    "3. Go through the string, one element at a time, and determine whether each character is a vowel (a, e, i, o u), a digit (0-9), or something else.  Add it to the appropriate list.\n",
    "4. Finally, print each of the lists, and how they categorized our data."
   ]
  },
  {
   "cell_type": "code",
   "execution_count": 82,
   "id": "e66cf830",
   "metadata": {},
   "outputs": [
    {
     "name": "stdout",
     "output_type": "stream",
     "text": [
      "Enter a string: hello 123!!\n",
      "vowels=['e', 'o']\n",
      "digits=['1', '2', '3']\n",
      "others=['h', 'l', 'l', ' ', '!', '!']\n"
     ]
    }
   ],
   "source": [
    "vowels = []\n",
    "digits = []\n",
    "others = []\n",
    "\n",
    "s = input('Enter a string: ').strip()\n",
    "\n",
    "for one_character in s.lower():\n",
    "    if one_character in 'aeiou':\n",
    "        vowels.append(one_character)  # this adds one_character to the end of vowels\n",
    "    elif one_character.isdigit():\n",
    "        digits.append(one_character)  # this adds one_character to the end of digits\n",
    "    else:\n",
    "        others.append(one_character)  # this adds one_character to the end of others\n",
    "        \n",
    "print(f'{vowels=}')    \n",
    "print(f'{digits=}')    \n",
    "print(f'{others=}')    "
   ]
  },
  {
   "cell_type": "code",
   "execution_count": 83,
   "id": "28bad8e6",
   "metadata": {},
   "outputs": [
    {
     "data": {
      "text/plain": [
       "[10, 20, 30, [40, 50, 60]]"
      ]
     },
     "execution_count": 83,
     "metadata": {},
     "output_type": "execute_result"
    }
   ],
   "source": [
    "mylist = [10, 20, 30]\n",
    "\n",
    "mylist.append([40, 50, 60])  # we apppend the list [40, 50, 60] to mylist\n",
    "\n",
    "mylist"
   ]
  },
  {
   "cell_type": "code",
   "execution_count": 84,
   "id": "b99686cb",
   "metadata": {},
   "outputs": [
    {
     "data": {
      "text/plain": [
       "4"
      ]
     },
     "execution_count": 84,
     "metadata": {},
     "output_type": "execute_result"
    }
   ],
   "source": [
    "len(mylist)"
   ]
  },
  {
   "cell_type": "code",
   "execution_count": 85,
   "id": "63c3feeb",
   "metadata": {},
   "outputs": [
    {
     "data": {
      "text/plain": [
       "[10, 20, 30, 40, 50, 60]"
      ]
     },
     "execution_count": 85,
     "metadata": {},
     "output_type": "execute_result"
    }
   ],
   "source": [
    "# what if I want to add each of the elements of [40, 50, 60] to mylist?\n",
    "\n",
    "mylist = [10, 20, 30]\n",
    "\n",
    "mylist += [40, 50, 60]  # this runs a for loop on the list, appending each element in turn\n",
    "\n",
    "mylist"
   ]
  },
  {
   "cell_type": "code",
   "execution_count": 86,
   "id": "202f0129",
   "metadata": {},
   "outputs": [
    {
     "data": {
      "text/plain": [
       "[10, 20, 30, 'abcd']"
      ]
     },
     "execution_count": 86,
     "metadata": {},
     "output_type": "execute_result"
    }
   ],
   "source": [
    "# list.append adds one item, whatever it is, to the end of the list\n",
    "# += runs a for loop on what it has to its right, and appends each element in turn\n",
    "\n",
    "mylist = [10, 20, 30]\n",
    "mylist.append('abcd')\n",
    "mylist"
   ]
  },
  {
   "cell_type": "code",
   "execution_count": 87,
   "id": "b15d57cc",
   "metadata": {},
   "outputs": [
    {
     "data": {
      "text/plain": [
       "[10, 20, 30, 'abcd', 'e', 'f', 'g', 'h']"
      ]
     },
     "execution_count": 87,
     "metadata": {},
     "output_type": "execute_result"
    }
   ],
   "source": [
    "mylist += 'efgh'  # what will happen here?\n",
    "mylist"
   ]
  },
  {
   "cell_type": "markdown",
   "id": "574bccbb",
   "metadata": {},
   "source": [
    "# Mutable vs. immutable data\n",
    "\n",
    "So far, all data we've encountered in Python is *immutable* -- it cannot be changed.  Only lists, so far, are mutable.\n",
    "\n",
    "Don't confuse constants with mutable.  Python doesn't have constants, and the fact that we can reassign a variable a new string value is confusing."
   ]
  },
  {
   "cell_type": "code",
   "execution_count": 88,
   "id": "a670103c",
   "metadata": {},
   "outputs": [],
   "source": [
    "s = 'abcd'\n",
    "\n",
    "s = s + 'efgh'   # this might make it seem like s is mutable... but we're just assigning a new string to s"
   ]
  },
  {
   "cell_type": "code",
   "execution_count": 89,
   "id": "440ee37d",
   "metadata": {},
   "outputs": [
    {
     "data": {
      "text/plain": [
       "'abcdefgh'"
      ]
     },
     "execution_count": 89,
     "metadata": {},
     "output_type": "execute_result"
    }
   ],
   "source": [
    "# same thing\n",
    "\n",
    "s = 'abcd'\n",
    "s += 'efgh'   # now, s will be 'abcdefgh'\n",
    "\n",
    "s"
   ]
  },
  {
   "cell_type": "code",
   "execution_count": 90,
   "id": "65cd4841",
   "metadata": {},
   "outputs": [
    {
     "data": {
      "text/plain": [
       "'abcdefgh'"
      ]
     },
     "execution_count": 90,
     "metadata": {},
     "output_type": "execute_result"
    }
   ],
   "source": [
    "# we can see that strings are immutable here:\n",
    "\n",
    "x = 'abcd'\n",
    "y = x\n",
    "\n",
    "# x and y both refer to the same string\n",
    "\n",
    "x += 'efgh'\n",
    "x"
   ]
  },
  {
   "cell_type": "code",
   "execution_count": 91,
   "id": "dda8f5ab",
   "metadata": {},
   "outputs": [
    {
     "data": {
      "text/plain": [
       "'abcd'"
      ]
     },
     "execution_count": 91,
     "metadata": {},
     "output_type": "execute_result"
    }
   ],
   "source": [
    "# what about y?\n",
    "y"
   ]
  },
  {
   "cell_type": "code",
   "execution_count": 92,
   "id": "d8caee83",
   "metadata": {},
   "outputs": [
    {
     "data": {
      "text/plain": [
       "[10, 20, 30, 40]"
      ]
     },
     "execution_count": 92,
     "metadata": {},
     "output_type": "execute_result"
    }
   ],
   "source": [
    "# let's take a look at lists\n",
    "\n",
    "x = [10, 20, 30]\n",
    "y = x        \n",
    "\n",
    "# x and y now both refer to the same list\n",
    "\n",
    "x.append(40)\n",
    "\n",
    "y"
   ]
  },
  {
   "cell_type": "markdown",
   "id": "6db23090",
   "metadata": {},
   "source": [
    "# \"Changing\" is a bad term in Python\n",
    "\n",
    "- It can mean: I'm assigning a new value to a variable (any data can do this)\n",
    "- It can also mean: I'm modifying the value that a variable already refers to (only mutable data can do this)\n",
    "\n"
   ]
  },
  {
   "cell_type": "markdown",
   "id": "7b24b0a4",
   "metadata": {},
   "source": [
    "# Exercise: Odds and evens\n",
    "\n",
    "1. Define two empty lists, `odds` and `evens`.\n",
    "2. Ask the user, repeatedly, to enter a number.\n",
    "     - If they enter an empty string, stop asking -- exit the loop\n",
    "     - If the user enters a non-number, scold them and let them try again\n",
    "     - If the user enters a number, check if it's odd or even. Run `% 2` on the number. If the result is 1, it's odd. If it's 0, then the number is even.\n",
    "3. Append the number to either `odds` or `evens`, as appropriate.\n",
    "4. At the end of the loop, print both `odds` and `evens`.\n",
    "     "
   ]
  },
  {
   "cell_type": "code",
   "execution_count": 93,
   "id": "66b561e2",
   "metadata": {},
   "outputs": [],
   "source": [
    "mylist = [10, 20, 30]  # mylist is mutable"
   ]
  },
  {
   "cell_type": "code",
   "execution_count": null,
   "id": "5179659e",
   "metadata": {},
   "outputs": [],
   "source": [
    "# can I have a list of lists? YES!\n",
    "\n",
    "mylist = [[10, 20, 30], [40, 50, 60], [70, 80, 90]]"
   ]
  },
  {
   "cell_type": "code",
   "execution_count": 94,
   "id": "94adf1f7",
   "metadata": {},
   "outputs": [
    {
     "name": "stdout",
     "output_type": "stream",
     "text": [
      "Enter a number: 10\n",
      "Enter a number: 15\n",
      "Enter a number: 22\n",
      "Enter a number: 27\n",
      "Enter a number: 915\n",
      "Enter a number: 814\n",
      "Enter a number: hello\n",
      "hello is not numeric!\n",
      "Enter a number: \n",
      "odds=[15, 27, 915]\n",
      "evens=[10, 22, 814]\n"
     ]
    }
   ],
   "source": [
    "odds = []\n",
    "evens = []\n",
    "\n",
    "while True:   \n",
    "    s = input('Enter a number: ').strip()\n",
    "    \n",
    "    if s == '':   # empty string?\n",
    "        break     # exit the while loop\n",
    "        \n",
    "    if not s.isdigit():  # not numeric?\n",
    "        print(f'{s} is not numeric!')\n",
    "        continue\n",
    "        \n",
    "    n = int(s)\n",
    "    \n",
    "    if n % 2 == 1:   # odd\n",
    "        odds.append(n)\n",
    "    else:\n",
    "        evens.append(n)\n",
    "        \n",
    "print(f'{odds=}')        \n",
    "print(f'{evens=}')"
   ]
  },
  {
   "cell_type": "markdown",
   "id": "81b8dc09",
   "metadata": {},
   "source": [
    "# Next up\n",
    "\n",
    "1. Splitting strings into lists\n",
    "2. Joining lists into strings\n",
    "3. Tuples\n",
    "4. Unpacking"
   ]
  },
  {
   "cell_type": "markdown",
   "id": "b57e2fc8",
   "metadata": {},
   "source": [
    "# `break` vs. `continue`\n",
    "\n",
    "`break` means: Stop the loop. The entire loop. Do nothing more. That's it. End.  I normally use `break` if I've encountered a condition to leave the loop: I've found what I need, or I got input that indicates I should exit.\n",
    "\n",
    "`continue` means: Stop this current iteration of the loop, but go onto the next iteration, assuming that there is one.  This doesn't actually exit from the loop. But it does skip over the rest of the loop body, and continues onto the next iteration.  `continue` is, in my experience, typically used when the current iteration isn't necessary, but future ones might be.  For example: I'm reading through a file, and find a comment line. Or I get input from the user, and it's invalid.\n",
    "\n"
   ]
  },
  {
   "cell_type": "markdown",
   "id": "af62a8ae",
   "metadata": {},
   "source": [
    "# Splitting\n",
    "\n",
    "It's common to get a string from a file, or from the network, that needs to be broken up into pieces.\n",
    "\n",
    "We've seen that if we have a string, we can get an integer from it with `int`, and a float from it with `float`.\n",
    "\n",
    "Similarly, we can get a string from an int or a float with `str`.\n",
    "\n",
    "It stands to reason that if we apply `list` to a string, we'll get a list back.\n"
   ]
  },
  {
   "cell_type": "code",
   "execution_count": 96,
   "id": "1f54fe71",
   "metadata": {},
   "outputs": [
    {
     "data": {
      "text/plain": [
       "['a', 'b', 'c', 'd', ',', 'e', 'f', ',', 'g', 'h', 'i', 'j']"
      ]
     },
     "execution_count": 96,
     "metadata": {},
     "output_type": "execute_result"
    }
   ],
   "source": [
    "s = 'abcd,ef,ghij'\n",
    "\n",
    "# applying list to a string returns a new list, in which each of the string's characters\n",
    "# has been turned into a list element.\n",
    "\n",
    "list(s)   # I'd like to get a list of strings, ['abcd', 'ef', 'ghij']"
   ]
  },
  {
   "cell_type": "code",
   "execution_count": 97,
   "id": "de177a06",
   "metadata": {},
   "outputs": [
    {
     "data": {
      "text/plain": [
       "['abcd', 'ef', 'ghij']"
      ]
     },
     "execution_count": 97,
     "metadata": {},
     "output_type": "execute_result"
    }
   ],
   "source": [
    "# what can we do instead? Run the str.split method\n",
    "\n",
    "s.split(',')  # this means: return a list of strings, based on s, using , as the delimited"
   ]
  },
  {
   "cell_type": "code",
   "execution_count": 98,
   "id": "9bc563be",
   "metadata": {},
   "outputs": [
    {
     "data": {
      "text/plain": [
       "['This', 'is', 'a', 'bunch', 'of', 'words', 'for', 'my', 'Python', 'course']"
      ]
     },
     "execution_count": 98,
     "metadata": {},
     "output_type": "execute_result"
    }
   ],
   "source": [
    "# how about words in a sentence?\n",
    "\n",
    "s = 'This is a bunch of words for my Python course'\n",
    "\n",
    "s.split(' ')"
   ]
  },
  {
   "cell_type": "code",
   "execution_count": 99,
   "id": "807c4afa",
   "metadata": {},
   "outputs": [
    {
     "data": {
      "text/plain": [
       "['This',\n",
       " '',\n",
       " '',\n",
       " 'is',\n",
       " 'a',\n",
       " '',\n",
       " '',\n",
       " '',\n",
       " '',\n",
       " 'bunch',\n",
       " 'of',\n",
       " '',\n",
       " '',\n",
       " '',\n",
       " 'words',\n",
       " 'for',\n",
       " '',\n",
       " '',\n",
       " '',\n",
       " '',\n",
       " '',\n",
       " '',\n",
       " '',\n",
       " '',\n",
       " '',\n",
       " '',\n",
       " 'my',\n",
       " 'Python',\n",
       " '',\n",
       " '',\n",
       " '',\n",
       " '',\n",
       " '',\n",
       " '',\n",
       " '',\n",
       " '',\n",
       " 'course']"
      ]
     },
     "execution_count": 99,
     "metadata": {},
     "output_type": "execute_result"
    }
   ],
   "source": [
    "# what if things go a bit awry?\n",
    "\n",
    "s = 'This   is a     bunch of    words for           my Python         course'\n",
    "\n",
    "s.split(' ')  # every time you see a ' ', cut"
   ]
  },
  {
   "cell_type": "code",
   "execution_count": 100,
   "id": "c2b30855",
   "metadata": {},
   "outputs": [
    {
     "data": {
      "text/plain": [
       "['This', 'is', 'a', 'bunch', 'of', 'words', 'for', 'my', 'Python', 'course']"
      ]
     },
     "execution_count": 100,
     "metadata": {},
     "output_type": "execute_result"
    }
   ],
   "source": [
    "# much better is to tell str.split that it should cut on whitespace,\n",
    "# but if it sees multiple whitespace characters in a row, treat them as just one\n",
    "\n",
    "# I can do that by not passing any argument to str.split\n",
    "\n",
    "s.split()   # no argument!  probably the most common way to run str.split"
   ]
  },
  {
   "cell_type": "markdown",
   "id": "d76f0193",
   "metadata": {},
   "source": [
    "# Exercise: Odds and evens\n",
    "\n",
    "1. Define two empty lists, `odds` and `evens`\n",
    "2. Ask the user to enter numbers, separated by spaces.\n",
    "3. Go through the numbers that the users entered.  \n",
    "    - If it's not numeric, scold the user\n",
    "    - If it is even, append to `evens`\n",
    "    - If it's odd, append to `odds`\n",
    "4. Print `odds` and `evens`    "
   ]
  },
  {
   "cell_type": "code",
   "execution_count": 101,
   "id": "0193de06",
   "metadata": {},
   "outputs": [
    {
     "data": {
      "text/plain": [
       "int"
      ]
     },
     "execution_count": 101,
     "metadata": {},
     "output_type": "execute_result"
    }
   ],
   "source": [
    "type(1234)"
   ]
  },
  {
   "cell_type": "code",
   "execution_count": 102,
   "id": "22404cac",
   "metadata": {},
   "outputs": [
    {
     "data": {
      "text/plain": [
       "float"
      ]
     },
     "execution_count": 102,
     "metadata": {},
     "output_type": "execute_result"
    }
   ],
   "source": [
    "type(12.34)"
   ]
  },
  {
   "cell_type": "code",
   "execution_count": 103,
   "id": "7cc08c62",
   "metadata": {},
   "outputs": [
    {
     "name": "stdout",
     "output_type": "stream",
     "text": [
      "Enter numbers: 123 456 789 242\n",
      "evens=[456, 242]\n",
      "odds=[123, 789]\n"
     ]
    }
   ],
   "source": [
    "odds = []\n",
    "evens = []\n",
    "\n",
    "s = input('Enter numbers: ').strip()\n",
    "\n",
    "all_numbers = s.split()   # we'll get a list of strings back, without the spaces between them\n",
    "\n",
    "for one_number in all_numbers:  # we can iterate over a list\n",
    "\n",
    "    if not one_number.isdigit():\n",
    "        print(f'{one_number} is not numeric; skipping')\n",
    "        continue\n",
    "        \n",
    "    n = int(one_number)\n",
    "    \n",
    "    if n % 2 == 1:   # odd\n",
    "        odds.append(n)\n",
    "    else:\n",
    "        evens.append(n)\n",
    "        \n",
    "print(f'{evens=}')        \n",
    "print(f'{odds=}')"
   ]
  },
  {
   "cell_type": "markdown",
   "id": "48cbdc8a",
   "metadata": {},
   "source": [
    "# From lists to strings with `str.join`\n",
    "\n",
    "If you have a list of strings and you want turn it into a single string, you can use `str.join`.\n",
    "\n",
    "NOTE that `str.join` is a *string* method, not a list method. You invoke it on the string you want to be connecting each of the list elements.\n",
    "\n",
    "In other words, if I say\n",
    "\n",
    "    mylist = ['ab', 'cde', 'fg']\n",
    "    '*'.join(mylist)   # the result is 'ab*cde*fg\n",
    "    \n",
    "    "
   ]
  },
  {
   "cell_type": "code",
   "execution_count": 104,
   "id": "dbb00670",
   "metadata": {},
   "outputs": [
    {
     "data": {
      "text/plain": [
       "'ab*cde*fg'"
      ]
     },
     "execution_count": 104,
     "metadata": {},
     "output_type": "execute_result"
    }
   ],
   "source": [
    "mylist = ['ab', 'cde', 'fg']\n",
    "'*'.join(mylist)"
   ]
  },
  {
   "cell_type": "markdown",
   "id": "94096677",
   "metadata": {},
   "source": [
    "# Exercise: Pig Latin sentence\n",
    "\n",
    "You might remember that last time, we wrote a Pig Latin translator. In that program, we got one word, and translated it into Pig Latin. \n",
    "\n",
    "This time, I want you to ask the user to enter a sentence (all lowercase, no punctuation), and then print that sentence in Pig Latin, all on one line.\n",
    "\n",
    "If I write:\n",
    "\n",
    "    this is a test\n",
    "    \n",
    "It will respond\n",
    "\n",
    "    histay isway away esttay\n",
    "    \n",
    "    "
   ]
  },
  {
   "cell_type": "code",
   "execution_count": 105,
   "id": "282a9664",
   "metadata": {},
   "outputs": [
    {
     "name": "stdout",
     "output_type": "stream",
     "text": [
      "Enter a word: whatever\n",
      "hateverway\n"
     ]
    }
   ],
   "source": [
    "# program from last time\n",
    "\n",
    "word = input('Enter a word: ').strip()\n",
    "\n",
    "if word[0] in 'aeiou':\n",
    "    print(word + 'way')\n",
    "else:\n",
    "    print(word[1:] + word[0] + 'ay')"
   ]
  },
  {
   "cell_type": "code",
   "execution_count": null,
   "id": "cc5ab125",
   "metadata": {},
   "outputs": [],
   "source": [
    "# program from last time\n",
    "\n",
    "word = input('Enter a word: ').strip()\n",
    "\n",
    "if word[0] in 'aeiou':\n",
    "    print(word + 'way')\n",
    "else:\n",
    "    print(word[1:] + word[0] + 'ay')"
   ]
  }
 ],
 "metadata": {
  "kernelspec": {
   "display_name": "Python 3 (ipykernel)",
   "language": "python",
   "name": "python3"
  },
  "language_info": {
   "codemirror_mode": {
    "name": "ipython",
    "version": 3
   },
   "file_extension": ".py",
   "mimetype": "text/x-python",
   "name": "python",
   "nbconvert_exporter": "python",
   "pygments_lexer": "ipython3",
   "version": "3.11.0"
  }
 },
 "nbformat": 4,
 "nbformat_minor": 5
}
