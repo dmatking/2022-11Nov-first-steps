{
 "cells": [
  {
   "cell_type": "markdown",
   "id": "7fedb9c4",
   "metadata": {},
   "source": [
    "# Agenda, day 4: Functions!\n",
    "\n",
    "- What are functions? Why do we need them?\n",
    "- Writing simple functions with `def`\n",
    "- Arguments and parameters\n",
    "- Return values\n",
    "- Default argument values\n",
    "- Complex return values\n",
    "- Local vs. global variables\n",
    "- Online challenge"
   ]
  },
  {
   "cell_type": "markdown",
   "id": "c661ae94",
   "metadata": {},
   "source": [
    "# What are functions?\n",
    "\n",
    "We've already seen that functions (and methods) are the *verbs* in a programming language. They do things to the data structures.\n",
    "\n",
    "Examples:\n",
    "\n",
    "```python\n",
    "x = 'abcde'\n",
    "len(x)   # we \"call\" the \"len\" function on the data x, and get back an integer (5)\n",
    "\n",
    "x.upper()  # we \"call\" the \"upper\" method on the data x, and get back a string ('ABCDE')\n",
    "```\n",
    "\n",
    "We call a function/method, and we get back a value.\n",
    "\n",
    "Sometimes, we don't care about the value we get back.  Instead, we care about what the function is doing to the data structure.  In many cases, such functions change the data structure.\n",
    "\n",
    "For example:\n",
    "\n",
    "```python\n",
    "mylist = [10, 20, 30]\n",
    "\n",
    "mylist.append(40)   # the result of calling mylist.append is to change mylist. It returns None\n",
    "```\n",
    "\n",
    "We've seen a variety of functions and methods, for example:\n",
    "\n",
    "- `print`\n",
    "- `input`\n",
    "- `len`\n",
    "- Methods on strings:\n",
    "    - `str.upper`\n",
    "    - `str.lower`\n",
    "    - `str.strip`\n",
    "    - `str.isdigit`\n",
    "- Methods on lists:\n",
    "    - `list.append`\n",
    "    - `list.pop`\n",
    "- Methods on dicts:\n",
    "    - `dict.items`\n",
    "    - `dict.keys`\n",
    "    \n",
    "# Do we really need functions?\n",
    "\n",
    "Answer: No, but we really benefit from them.  They give us the power of **abstraction**. This is one of the most important concepts in all of computer science.\n",
    "\n",
    "The idea of abstraction is that you can think at a higher level if you ignore, or paper over, the underlying details."
   ]
  },
  {
   "cell_type": "markdown",
   "id": "c0726695",
   "metadata": {},
   "source": [
    "# To define a new function:\n",
    "\n",
    "- We'll use the `def` keyword\n",
    "- We need to give the function a name\n",
    "- We need to decide what parameters (variables that get values assigned when the function is called) the function will have\n",
    "- We need to write the function's body, which can contain *any* Python code we want, including `if`, `with`, `while`, `for`, and anything else you can imagine."
   ]
  },
  {
   "cell_type": "code",
   "execution_count": 1,
   "id": "efa52c17",
   "metadata": {},
   "outputs": [],
   "source": [
    "# let's create a simple function that prints \"Hello!\"\n",
    "\n",
    "def hello():         # no parameters -- empty parentheses\n",
    "    print('Hello!')  # function body has 1 line, printing \"Hello!\""
   ]
  },
  {
   "cell_type": "markdown",
   "id": "eca74efb",
   "metadata": {},
   "source": [
    "# What happens when I define a function?\n",
    "\n",
    "1. I create a new \"function object.\"\n",
    "2. I assign that function object to a variable -- in this case, to `hello`.\n",
    "\n",
    "What does this mean to have a \"function object\"? In Python, functions aren't just verbs -- they're also nouns. When we define a function, we're creating a function object, which can (in theory) be stored in a variable, or in a list, or in a dict.  We're not going to do that here, but you can.\n",
    "\n",
    "The difference between string objects, list objects, dict objects, and function objects, is that the last (functions) can execute. But strings, lists, and dicts, cannot."
   ]
  },
  {
   "cell_type": "code",
   "execution_count": 2,
   "id": "6ce2c1a5",
   "metadata": {},
   "outputs": [
    {
     "name": "stdout",
     "output_type": "stream",
     "text": [
      "Hello!\n"
     ]
    }
   ],
   "source": [
    "# how can I call the function? I name it, and give it parentheses\n",
    "\n",
    "hello()"
   ]
  },
  {
   "cell_type": "code",
   "execution_count": 3,
   "id": "46e717c9",
   "metadata": {},
   "outputs": [
    {
     "name": "stdout",
     "output_type": "stream",
     "text": [
      "Hello!\n"
     ]
    }
   ],
   "source": [
    "# what value did this function return? We know that len() returns the length of an object,\n",
    "# so what value did \"hello\" return?\n",
    "\n",
    "# answer: None, because we didn't say it should return anything else.\n",
    "\n",
    "x = hello()   # assign x the value we got back from calling hello"
   ]
  },
  {
   "cell_type": "code",
   "execution_count": 4,
   "id": "e915d354",
   "metadata": {},
   "outputs": [
    {
     "name": "stdout",
     "output_type": "stream",
     "text": [
      "None\n"
     ]
    }
   ],
   "source": [
    "print(x)"
   ]
  },
  {
   "cell_type": "code",
   "execution_count": 5,
   "id": "3f4d2340",
   "metadata": {},
   "outputs": [],
   "source": [
    "# a function can print however much it wants on the screen, on as many lines\n",
    "# as you want, as many times as it wants... but you only get to return one value."
   ]
  },
  {
   "cell_type": "code",
   "execution_count": 6,
   "id": "8f90042e",
   "metadata": {},
   "outputs": [
    {
     "name": "stdout",
     "output_type": "stream",
     "text": [
      "Hello!\n"
     ]
    }
   ],
   "source": [
    "# how can we return a value? The \"return\" keyword:\n",
    "\n",
    "def hello():\n",
    "    return 'Hello!'   # now our function, when called, with return a string. We can decide to print (or not)\n",
    "\n",
    "print(hello())        # the function is called, it returns a string, and print displays it on the screen."
   ]
  },
  {
   "cell_type": "code",
   "execution_count": 7,
   "id": "aa6f5cb1",
   "metadata": {},
   "outputs": [
    {
     "data": {
      "text/plain": [
       "str"
      ]
     },
     "execution_count": 7,
     "metadata": {},
     "output_type": "execute_result"
    }
   ],
   "source": [
    "# DF asks: does type(hello()) return function\n",
    "\n",
    "type(hello())   # I run hello, and then we're running type on hello's return value"
   ]
  },
  {
   "cell_type": "code",
   "execution_count": 8,
   "id": "619fc895",
   "metadata": {},
   "outputs": [
    {
     "data": {
      "text/plain": [
       "function"
      ]
     },
     "execution_count": 8,
     "metadata": {},
     "output_type": "execute_result"
    }
   ],
   "source": [
    "# but if we don't use the parentheses, and thus don't call hello, but merely pass it to type...\n",
    "type(hello)"
   ]
  },
  {
   "cell_type": "markdown",
   "id": "69872fb8",
   "metadata": {},
   "source": [
    "# Exercise: Calculator\n",
    "\n",
    "1. Write a function, `calc`, which will act as a simple calculator.  It takes no arguments, but does ask the user to enter three pieces of information:\n",
    "    - `first`, the first number\n",
    "    - `op`, the operator\n",
    "    - `second`, the second number\n",
    "2. Have the function ask the user to enter these three pieces of information. Implement logic to handle `+` and `-`. \n",
    "3. Return the result from this calculation as a string, including the orignal numbers and operator.\n",
    "\n",
    "Example:\n",
    "\n",
    "    First number: 5\n",
    "    Operator: +\n",
    "    First number: 11\n",
    "    5 + 11 = 16\n",
    "    \n",
    "Do try to add some error checking, so that we don't try to turn (non-numeric) strings into integers.    "
   ]
  },
  {
   "cell_type": "code",
   "execution_count": 9,
   "id": "066b1e19",
   "metadata": {},
   "outputs": [],
   "source": [
    "def calc():\n",
    "    first = input('First number: ').strip()\n",
    "    op = input('Operator: ').strip()\n",
    "    second = input('Second number: ').strip()\n",
    "    \n",
    "    if first.isdigit() and second.isdigit():\n",
    "        first = int(first)\n",
    "        second = int(second)\n",
    "        \n",
    "        if op == '+':\n",
    "            result = first + second\n",
    "            \n",
    "        elif op == '-':\n",
    "            result = first - second\n",
    "            \n",
    "        else:\n",
    "            result = 'Not supported'\n",
    "            \n",
    "        print(f'{first} {op} {second} = {result}')\n",
    "        \n",
    "    else:\n",
    "        \n",
    "        print(f'{first} and {second} must both be numeric')"
   ]
  },
  {
   "cell_type": "code",
   "execution_count": 10,
   "id": "3db71d7b",
   "metadata": {},
   "outputs": [
    {
     "name": "stdout",
     "output_type": "stream",
     "text": [
      "First number: 11\n",
      "Operator: +\n",
      "Second number: 5\n",
      "11 + 5 = 16\n"
     ]
    }
   ],
   "source": [
    "calc()"
   ]
  },
  {
   "cell_type": "code",
   "execution_count": 12,
   "id": "b62da085",
   "metadata": {},
   "outputs": [
    {
     "name": "stdout",
     "output_type": "stream",
     "text": [
      "First number: 20\n",
      "Operator: -\n",
      "Second number: 8\n",
      "20 - 8 = 12\n"
     ]
    }
   ],
   "source": [
    "calc()"
   ]
  },
  {
   "cell_type": "markdown",
   "id": "03ea2d7c",
   "metadata": {},
   "source": [
    "# Arguments and parameters\n",
    "\n",
    "What we've done, in writing `calc`, works.  But it would be better/nicer/easier if, when we call the function, it doesn't then start asking our end user questions. Instead, it would be better if we could pass the values (`first`, `op`, and `second`) to `calc`, and have it print the result.\n",
    "\n",
    "I want to get the values for those variables from outside of `calc`, such as from a GUI or command line prompt, and then not interrupt the function when it's running.\n",
    "\n",
    "The way to do this is with *parameters*, special variables that are guaranteed to be assigned values when the function is called.  The values that are assigned to parameters are known as *arguments*."
   ]
  },
  {
   "cell_type": "code",
   "execution_count": 13,
   "id": "45b82d26",
   "metadata": {},
   "outputs": [],
   "source": [
    "# let's rewrite \"hello\" to take an argument\n",
    "\n",
    "def hello(name):               # here, we're defining the function with 1 parameters\n",
    "    return f'Hello, {name}!'   # here, we're using that parameter (variable), assuming it's set"
   ]
  },
  {
   "cell_type": "code",
   "execution_count": 14,
   "id": "9f2a1eb8",
   "metadata": {},
   "outputs": [
    {
     "data": {
      "text/plain": [
       "'Hello, world!'"
      ]
     },
     "execution_count": 14,
     "metadata": {},
     "output_type": "execute_result"
    }
   ],
   "source": [
    "hello('world')"
   ]
  },
  {
   "cell_type": "code",
   "execution_count": 15,
   "id": "2cc17bff",
   "metadata": {},
   "outputs": [
    {
     "data": {
      "text/plain": [
       "'Hello, Reuven!'"
      ]
     },
     "execution_count": 15,
     "metadata": {},
     "output_type": "execute_result"
    }
   ],
   "source": [
    "hello('Reuven')"
   ]
  },
  {
   "cell_type": "code",
   "execution_count": 16,
   "id": "c790946f",
   "metadata": {},
   "outputs": [
    {
     "ename": "TypeError",
     "evalue": "hello() missing 1 required positional argument: 'name'",
     "output_type": "error",
     "traceback": [
      "\u001b[0;31m---------------------------------------------------------------------------\u001b[0m",
      "\u001b[0;31mTypeError\u001b[0m                                 Traceback (most recent call last)",
      "Cell \u001b[0;32mIn [16], line 1\u001b[0m\n\u001b[0;32m----> 1\u001b[0m \u001b[43mhello\u001b[49m\u001b[43m(\u001b[49m\u001b[43m)\u001b[49m  \u001b[38;5;66;03m# no arguments -- it won't work!\u001b[39;00m\n",
      "\u001b[0;31mTypeError\u001b[0m: hello() missing 1 required positional argument: 'name'"
     ]
    }
   ],
   "source": [
    "hello()  # no arguments -- it won't work!"
   ]
  },
  {
   "cell_type": "markdown",
   "id": "2a765fb0",
   "metadata": {},
   "source": [
    "# Recap on simple parameters\n",
    "\n",
    "1. If I want to write a function that takes one or more arguments, it'll need to have the same number of parameters.\n",
    "2. When the function is called, we'll need to provide arguments that'll be assigned to those parameters."
   ]
  },
  {
   "cell_type": "markdown",
   "id": "51b22c51",
   "metadata": {},
   "source": [
    "# Exercise: Rewrite `calc` to use parameters\n",
    "\n",
    "1. Rewrite the `calc` program we just did (you can use my version, if you want!), so that it takes `first`, `op`, and `second` as arguments to the function.  We won't use `input` inside of the function any more.\n",
    "2. Aside from getting the values passed as arguments, you shouldn't have to make many (any?) changes.\n",
    "\n"
   ]
  },
  {
   "cell_type": "code",
   "execution_count": 17,
   "id": "7daffb5f",
   "metadata": {},
   "outputs": [],
   "source": [
    "def calc(first, op, second):  # all three of these are now parameters\n",
    "    \n",
    "    if first.isdigit() and second.isdigit():   # first and second still need to be strings!\n",
    "        first = int(first)\n",
    "        second = int(second)\n",
    "        \n",
    "        if op == '+':\n",
    "            result = first + second\n",
    "            \n",
    "        elif op == '-':\n",
    "            result = first - second\n",
    "            \n",
    "        else:\n",
    "            result = 'Not supported'\n",
    "            \n",
    "        print(f'{first} {op} {second} = {result}')\n",
    "        \n",
    "    else:\n",
    "        \n",
    "        print(f'{first} and {second} must both be numeric')"
   ]
  },
  {
   "cell_type": "code",
   "execution_count": 20,
   "id": "8106ef07",
   "metadata": {},
   "outputs": [
    {
     "name": "stdout",
     "output_type": "stream",
     "text": [
      "10 + 3 = 13\n"
     ]
    }
   ],
   "source": [
    "# parameters: first, op, second\n",
    "# arguments:   '10', '+', '3'     these are known as \"positional arguments,\" assigned to parameters per position\n",
    "\n",
    "calc('10', '+', '3')           "
   ]
  },
  {
   "cell_type": "code",
   "execution_count": 21,
   "id": "2c4972d0",
   "metadata": {},
   "outputs": [
    {
     "name": "stdout",
     "output_type": "stream",
     "text": [
      "7\n"
     ]
    }
   ],
   "source": [
    "# What happens here:\n",
    "\n",
    "x = 5\n",
    "\n",
    "x = 7\n",
    "\n",
    "print(x)   # what will Python print?  7, because 7 was assigned to x most recently"
   ]
  },
  {
   "cell_type": "code",
   "execution_count": 22,
   "id": "78f48063",
   "metadata": {},
   "outputs": [
    {
     "ename": "TypeError",
     "evalue": "hello() missing 1 required positional argument: 'name'",
     "output_type": "error",
     "traceback": [
      "\u001b[0;31m---------------------------------------------------------------------------\u001b[0m",
      "\u001b[0;31mTypeError\u001b[0m                                 Traceback (most recent call last)",
      "Cell \u001b[0;32mIn [22], line 7\u001b[0m\n\u001b[1;32m      4\u001b[0m \u001b[38;5;28;01mdef\u001b[39;00m \u001b[38;5;21mhello\u001b[39m(name):\n\u001b[1;32m      5\u001b[0m     \u001b[38;5;28mprint\u001b[39m(\u001b[38;5;124mf\u001b[39m\u001b[38;5;124m'\u001b[39m\u001b[38;5;124mHello, \u001b[39m\u001b[38;5;132;01m{\u001b[39;00mname\u001b[38;5;132;01m}\u001b[39;00m\u001b[38;5;124m!\u001b[39m\u001b[38;5;124m'\u001b[39m)\n\u001b[0;32m----> 7\u001b[0m \u001b[43mhello\u001b[49m\u001b[43m(\u001b[49m\u001b[43m)\u001b[49m  \u001b[38;5;66;03m# what will happen here? We'll get an error, because the most recent definition of hello is #2\u001b[39;00m\n",
      "\u001b[0;31mTypeError\u001b[0m: hello() missing 1 required positional argument: 'name'"
     ]
    }
   ],
   "source": [
    "def hello():\n",
    "    print(\"Hi!\")\n",
    "    \n",
    "def hello(name):\n",
    "    print(f'Hello, {name}!')\n",
    "    \n",
    "hello()  # what will happen here? We'll get an error, because the most recent definition of hello is #2"
   ]
  },
  {
   "cell_type": "markdown",
   "id": "85efebe6",
   "metadata": {},
   "source": [
    "# Next up:\n",
    "\n",
    "- Return values\n",
    "- Positional vs. keyword arguments\n",
    "- Default argument values"
   ]
  },
  {
   "cell_type": "markdown",
   "id": "5925ab16",
   "metadata": {},
   "source": [
    "# Return values\n",
    "\n",
    "So far, we've had our functions use `print` to display their results. But that's not very useful! A good function will *return* a value to its caller. The caller can then grab that returned value and:\n",
    "\n",
    "- Assign it to a variable\n",
    "- `print` it\n",
    "- Compare it with something else\n",
    "- Pass it as an argument to another function\n",
    "\n",
    "But if we print from the function, then there isn't any way to \"capture\" that return value, and do something with it.\n",
    "\n",
    "For that reason, it's a good idea to `return` values from functions, and not `print` them.  If you `return`, you have lots of options -- but if you `print`, you've basically boxed yourself into a corner.\n",
    "\n",
    "The keyword `return` in a function immediately returns that value from the function to the caller. You can return any data type you want!"
   ]
  },
  {
   "cell_type": "code",
   "execution_count": 23,
   "id": "03fd6bec",
   "metadata": {},
   "outputs": [],
   "source": [
    "def hello(name):\n",
    "    return f'Hello, {name}!'    # when I execute this function, it'll return a new string based on name\n",
    "\n"
   ]
  },
  {
   "cell_type": "code",
   "execution_count": 25,
   "id": "90cacbfc",
   "metadata": {},
   "outputs": [
    {
     "data": {
      "text/plain": [
       "'Hello, world!'"
      ]
     },
     "execution_count": 25,
     "metadata": {},
     "output_type": "execute_result"
    }
   ],
   "source": [
    "# In Jupyter, if the final line of a cell is an expression (i.e., has a value), then it's displayed\n",
    "# so it's easy to be fooled into thinking that this code prints something on the screen:\n",
    "\n",
    "hello('world')\n",
    "\n",
    "# Normally, in Python, if you don't print something, it doesn't appear."
   ]
  },
  {
   "cell_type": "code",
   "execution_count": 26,
   "id": "f99a8590",
   "metadata": {},
   "outputs": [],
   "source": [
    "# how can I rewrite calc so that it returns a string, rather than printing one?\n",
    "\n",
    "def calc(first, op, second):  # all three of these are now parameters\n",
    "    \n",
    "    if first.isdigit() and second.isdigit():   # first and second still need to be strings!\n",
    "        first = int(first)\n",
    "        second = int(second)\n",
    "        \n",
    "        if op == '+':\n",
    "            result = first + second\n",
    "            \n",
    "        elif op == '-':\n",
    "            result = first - second\n",
    "            \n",
    "        else:\n",
    "            result = 'Not supported'\n",
    "            \n",
    "        return f'{first} {op} {second} = {result}'    # return a string\n",
    "        \n",
    "    else:\n",
    "        \n",
    "        return f'{first} and {second} must both be numeric'  # return a string"
   ]
  },
  {
   "cell_type": "code",
   "execution_count": 29,
   "id": "eb9d42a1",
   "metadata": {},
   "outputs": [
    {
     "name": "stdout",
     "output_type": "stream",
     "text": [
      "10 + 3 = 13\n"
     ]
    }
   ],
   "source": [
    "answer = calc('10', '+', '3')   # capture the string returned by cal...\n",
    "print(answer)                   # ... print that captured string"
   ]
  },
  {
   "cell_type": "markdown",
   "id": "02c4664a",
   "metadata": {},
   "source": [
    "# What might we return from a function?\n",
    "\n",
    "- We can return a string (if the function did something with text)\n",
    "- We can return a boolean (`True`/ `False`) if we just want know if something is true or not\n",
    "- We can return an integer or float, if we calculated something...\n",
    "- ... basically, we can return *any value* at all."
   ]
  },
  {
   "cell_type": "markdown",
   "id": "0525cc74",
   "metadata": {},
   "source": [
    "# Exercise: Biggest and smallest\n",
    "\n",
    "1. Write a function, `biggest_and_smallest`, which will take one argument -- a list of integers. \n",
    "2. The function will return a 2-element list.  On that list will be:\n",
    "    - the smallest value in the input argument list\n",
    "    - the biggest value in the input argument list\n",
    "\n",
    "Example:\n",
    "\n",
    "```python\n",
    "biggest_and_smallest([10, 30, 5, 18, 27, 42, 15])   # returns [5, 42]\n",
    "```"
   ]
  },
  {
   "cell_type": "code",
   "execution_count": 32,
   "id": "f9af7072",
   "metadata": {},
   "outputs": [],
   "source": [
    "def biggest_and_smallest(numbers):   # numbers will be a list of integers\n",
    "    biggest = numbers[0]             # assume that numbers[0] is the largest\n",
    "    smallest = numbers[0]            # assume that numbers[0] is also the smallest\n",
    "    \n",
    "    for one_number in numbers:       # go through each element in numbers\n",
    "\n",
    "        if one_number > biggest:     # is it bigger than what we've seen before?\n",
    "            biggest = one_number     # if so, declare it the biggest (so far)\n",
    "            \n",
    "        if one_number < smallest:    # is it smaller than what we've seen before?\n",
    "            smallest = one_number    # if so, declare it the smallest\n",
    "    \n",
    "    return [smallest, biggest]       # return a 2-element list with smallest and biggest"
   ]
  },
  {
   "cell_type": "code",
   "execution_count": 33,
   "id": "849b0ee1",
   "metadata": {},
   "outputs": [
    {
     "data": {
      "text/plain": [
       "[5, 42]"
      ]
     },
     "execution_count": 33,
     "metadata": {},
     "output_type": "execute_result"
    }
   ],
   "source": [
    "biggest_and_smallest([10, 30, 5, 18, 27, 42, 15])"
   ]
  },
  {
   "cell_type": "code",
   "execution_count": 34,
   "id": "bdd62cde",
   "metadata": {},
   "outputs": [
    {
     "data": {
      "text/plain": [
       "5"
      ]
     },
     "execution_count": 34,
     "metadata": {},
     "output_type": "execute_result"
    }
   ],
   "source": [
    "numbers = [10, 30, 5, 18, 27, 42, 15]\n",
    "min(numbers)"
   ]
  },
  {
   "cell_type": "code",
   "execution_count": 35,
   "id": "abe7b0c7",
   "metadata": {},
   "outputs": [
    {
     "data": {
      "text/plain": [
       "42"
      ]
     },
     "execution_count": 35,
     "metadata": {},
     "output_type": "execute_result"
    }
   ],
   "source": [
    "max(numbers)"
   ]
  },
  {
   "cell_type": "code",
   "execution_count": 36,
   "id": "e3620abf",
   "metadata": {},
   "outputs": [
    {
     "data": {
      "text/plain": [
       "['a', 'b', 'c', 'd']"
      ]
     },
     "execution_count": 36,
     "metadata": {},
     "output_type": "execute_result"
    }
   ],
   "source": [
    "list('abcd')  # this should work -- if it doesn't, you probably assigned to a variable you called \"list\" -- BAD!"
   ]
  },
  {
   "cell_type": "code",
   "execution_count": 37,
   "id": "4e5b164a",
   "metadata": {},
   "outputs": [],
   "source": [
    "# NEVER EVER EVER EVER EVER EVER EVER EVER EVER EVER use list, str, int, etc., as variable names\n",
    "# Python will let you do this, but it's a *REALLY* bad idea.\n",
    "\n",
    "# will this work? yes, absolutely.\n",
    "# but we hadn't learned min and max, so I didn't expect you to use it!\n",
    "\n",
    "def min_max_val(mylist):\n",
    "    return [min(mylist), max(mylist)]"
   ]
  },
  {
   "cell_type": "markdown",
   "id": "ac563d13",
   "metadata": {},
   "source": [
    "# Types of arguments in Python\n",
    "\n",
    "Python has two different types of arguments. This has **nothing** to do with what types of data the arguments contain. Any argument can contain any value of any type. \n",
    "\n",
    "These two types of arguments are:\n",
    "\n",
    "- Positional arguments -- this is what we've seen so far. If a function has three parameters, then we'll pass three arguments. The arguments are assigned to parameters in the order that they're passed.\n",
    "- Keyword arguments -- we haven't seen these yet, but they exist. These arguments look like `name=value`, with an `=` sign between them, and a `name` that refers to a parameter."
   ]
  },
  {
   "cell_type": "code",
   "execution_count": 38,
   "id": "c290d0c8",
   "metadata": {},
   "outputs": [
    {
     "data": {
      "text/plain": [
       "36"
      ]
     },
     "execution_count": 38,
     "metadata": {},
     "output_type": "execute_result"
    }
   ],
   "source": [
    "def add(x, y):\n",
    "    return x + y\n",
    "\n",
    "add(10, 3)       # both are positional; x will get 10 and y will get 3\n",
    "add(x=30, y=6)   # both are keyword arguments; x gets 30 and y gets 6"
   ]
  },
  {
   "cell_type": "code",
   "execution_count": 39,
   "id": "cd41e074",
   "metadata": {},
   "outputs": [
    {
     "data": {
      "text/plain": [
       "36"
      ]
     },
     "execution_count": 39,
     "metadata": {},
     "output_type": "execute_result"
    }
   ],
   "source": [
    "add(30, y=6)     # can I do this? YES, if all positional are before all keyword"
   ]
  },
  {
   "cell_type": "code",
   "execution_count": 41,
   "id": "281eddef",
   "metadata": {},
   "outputs": [
    {
     "ename": "SyntaxError",
     "evalue": "positional argument follows keyword argument (1922317509.py, line 1)",
     "output_type": "error",
     "traceback": [
      "\u001b[0;36m  Cell \u001b[0;32mIn [41], line 1\u001b[0;36m\u001b[0m\n\u001b[0;31m    add(x=30, 6)    # all positional arguments MUST come before all keyword arguments\u001b[0m\n\u001b[0m               ^\u001b[0m\n\u001b[0;31mSyntaxError\u001b[0m\u001b[0;31m:\u001b[0m positional argument follows keyword argument\n"
     ]
    }
   ],
   "source": [
    "add(x=30, 6)    # all positional arguments MUST come before all keyword arguments"
   ]
  },
  {
   "cell_type": "markdown",
   "id": "1ff47e55",
   "metadata": {},
   "source": [
    "# Exercise: Name and age\n",
    "\n",
    "1. Write a function that expects to get two argument values, one that'll be assigned to `name` and the other to `age`.\n",
    "2. The function should return both of these in a string.\n",
    "3. Call the function in as many different ways as possible, with different types of arguments (positional and keyword)."
   ]
  },
  {
   "cell_type": "code",
   "execution_count": 42,
   "id": "efc7823e",
   "metadata": {},
   "outputs": [
    {
     "data": {
      "text/plain": [
       "'Hello, Reuven. You are 52 years old.'"
      ]
     },
     "execution_count": 42,
     "metadata": {},
     "output_type": "execute_result"
    }
   ],
   "source": [
    "def hello(name, age):   # the function expects to get two arguments, which will be assigned to name and age\n",
    "    return f'Hello, {name}. You are {age} years old.'\n",
    "\n",
    "\n",
    "# let's call this with two positional arguments\n",
    "# the arguments will be assigned to the parameters in order\n",
    "\n",
    "hello('Reuven', 52)  # positional, positional\n",
    "    "
   ]
  },
  {
   "cell_type": "code",
   "execution_count": 43,
   "id": "bf1bd9ad",
   "metadata": {},
   "outputs": [
    {
     "data": {
      "text/plain": [
       "'Hello, Reuven. You are 52 years old.'"
      ]
     },
     "execution_count": 43,
     "metadata": {},
     "output_type": "execute_result"
    }
   ],
   "source": [
    "hello(name='Reuven', age=52)  # keyword, keyword\n"
   ]
  },
  {
   "cell_type": "code",
   "execution_count": 44,
   "id": "8953b1a9",
   "metadata": {},
   "outputs": [
    {
     "data": {
      "text/plain": [
       "'Hello, Reuven. You are 52 years old.'"
      ]
     },
     "execution_count": 44,
     "metadata": {},
     "output_type": "execute_result"
    }
   ],
   "source": [
    "hello('Reuven', age=52)  # positional, keyword\n"
   ]
  },
  {
   "cell_type": "code",
   "execution_count": 45,
   "id": "c36b557f",
   "metadata": {},
   "outputs": [
    {
     "ename": "SyntaxError",
     "evalue": "positional argument follows keyword argument (270408891.py, line 3)",
     "output_type": "error",
     "traceback": [
      "\u001b[0;36m  Cell \u001b[0;32mIn [45], line 3\u001b[0;36m\u001b[0m\n\u001b[0;31m    hello(name='Reuven', 52)  # keyword then positional...\u001b[0m\n\u001b[0m                           ^\u001b[0m\n\u001b[0;31mSyntaxError\u001b[0m\u001b[0;31m:\u001b[0m positional argument follows keyword argument\n"
     ]
    }
   ],
   "source": [
    "# what if we put keyword first? (Not good!)\n",
    "\n",
    "hello(name='Reuven', 52)  # keyword then positional...\n"
   ]
  },
  {
   "cell_type": "markdown",
   "id": "93d732ed",
   "metadata": {},
   "source": [
    "# Optional arguments\n",
    "\n",
    "Normally, when we call a function, we have to pass the same number of arguments as there are parameters. But what if I want one of my parameters to not be mandatory, to have a default argument value?\n",
    "\n",
    "We can do this by defining our function such that one or more parameters have default values.\n",
    "\n",
    "The way we do this is by putting `=` and the value in our function definition:\n",
    "\n"
   ]
  },
  {
   "cell_type": "code",
   "execution_count": 46,
   "id": "10d19296",
   "metadata": {},
   "outputs": [
    {
     "data": {
      "text/plain": [
       "10"
      ]
     },
     "execution_count": 46,
     "metadata": {},
     "output_type": "execute_result"
    }
   ],
   "source": [
    "def add(x, y):\n",
    "    return x + y\n",
    "\n",
    "add(10, 3)\n",
    "add(2, 8)"
   ]
  },
  {
   "cell_type": "code",
   "execution_count": 47,
   "id": "ef3c92d1",
   "metadata": {},
   "outputs": [
    {
     "ename": "TypeError",
     "evalue": "add() missing 1 required positional argument: 'y'",
     "output_type": "error",
     "traceback": [
      "\u001b[0;31m---------------------------------------------------------------------------\u001b[0m",
      "\u001b[0;31mTypeError\u001b[0m                                 Traceback (most recent call last)",
      "Cell \u001b[0;32mIn [47], line 5\u001b[0m\n\u001b[1;32m      1\u001b[0m \u001b[38;5;66;03m# I must pass two arguments\u001b[39;00m\n\u001b[1;32m      2\u001b[0m \n\u001b[1;32m      3\u001b[0m \u001b[38;5;66;03m# If I pass only one, Python will complain!\u001b[39;00m\n\u001b[0;32m----> 5\u001b[0m \u001b[43madd\u001b[49m\u001b[43m(\u001b[49m\u001b[38;5;241;43m10\u001b[39;49m\u001b[43m)\u001b[49m   \u001b[38;5;66;03m# this will give us an error\u001b[39;00m\n",
      "\u001b[0;31mTypeError\u001b[0m: add() missing 1 required positional argument: 'y'"
     ]
    }
   ],
   "source": [
    "# I must pass two arguments\n",
    "\n",
    "# If I pass only one, Python will complain!\n",
    "\n",
    "add(10)   # this will give us an error"
   ]
  },
  {
   "cell_type": "code",
   "execution_count": 48,
   "id": "b5989d8a",
   "metadata": {},
   "outputs": [],
   "source": [
    "# I want y to be optional, with a default value of 10\n",
    "\n",
    "# I can say:\n",
    "\n",
    "def add(x, y=10):   # this is how we write a default value\n",
    "    return x + y"
   ]
  },
  {
   "cell_type": "code",
   "execution_count": 49,
   "id": "897a2e18",
   "metadata": {},
   "outputs": [
    {
     "data": {
      "text/plain": [
       "13"
      ]
     },
     "execution_count": 49,
     "metadata": {},
     "output_type": "execute_result"
    }
   ],
   "source": [
    "add(3)  # y got the default value"
   ]
  },
  {
   "cell_type": "code",
   "execution_count": 50,
   "id": "48a93922",
   "metadata": {},
   "outputs": [
    {
     "data": {
      "text/plain": [
       "20"
      ]
     },
     "execution_count": 50,
     "metadata": {},
     "output_type": "execute_result"
    }
   ],
   "source": [
    "add(10)  # y got the default value"
   ]
  },
  {
   "cell_type": "code",
   "execution_count": 51,
   "id": "81680cbb",
   "metadata": {},
   "outputs": [
    {
     "data": {
      "text/plain": [
       "50"
      ]
     },
     "execution_count": 51,
     "metadata": {},
     "output_type": "execute_result"
    }
   ],
   "source": [
    "add(10, 40)"
   ]
  },
  {
   "cell_type": "markdown",
   "id": "9ca12db1",
   "metadata": {},
   "source": [
    "# Next up:\n",
    "\n",
    "1. A bit about parameter typing\n",
    "2. Complex return values\n",
    "3. Local vs. global variables"
   ]
  },
  {
   "cell_type": "markdown",
   "id": "d3c2f69b",
   "metadata": {},
   "source": [
    "# f-strings (\"format strings\" or \"fancy strings\")\n",
    "\n",
    "Normally, a string contains precisely the characters that we write in it:\n",
    "\n",
    "    s = 'abcde'\n",
    "    \n",
    "`s` now contains 5 characters, exactly what we've written.  This is fine, until we want to have the value of a variable in a string. Then things get tricky:\n",
    "\n",
    "    name = 'Reuven'\n",
    "    print('Hello', + name)\n",
    "    \n",
    "A better (and more modern) way is to use an f-string, aka a \"format string,\" which is just like a regular string *except* that inside of `{}`, it lets us put Python expressions -- including variables. Any value in the `{}` is turned into a string before it's then connected with its surroundings:\n",
    "\n",
    "    name = 'Reuven'\n",
    "    print(f'Hello, {name}!')   # using an f-string makes it more natural to include name in the output\n",
    "    \n",
    "There is **ZERO** connection between f-strings and `print`, and f-strings and `return`. f-strings are just used to create new strings. But since we're often printing and returning strings, they do show up there a fair amount.    \n",
    "\n",
    "Because an f-string handles any Python expression, we can do things like this:\n",
    "\n",
    "    name = 'Reuven'\n",
    "    print(f'Hello, {name.upper()}!'   # this will print my name as REUVEN in all caps\n",
    "    \n",
    "I can also say:\n",
    "\n",
    "    x = 10\n",
    "    y = 20\n",
    "    print(f'{x} + {y} = {x+y}')       # here, we're adding x+y inside of {} in an f-string..."
   ]
  },
  {
   "cell_type": "code",
   "execution_count": 52,
   "id": "fa63bb1b",
   "metadata": {},
   "outputs": [],
   "source": [
    "def myfunc(a, b, c, d):\n",
    "    return f'{a=}, {b=}, {c=}, {d=}'  # in an f-string, {varname=} will print the name=value"
   ]
  },
  {
   "cell_type": "code",
   "execution_count": 53,
   "id": "fcb62ced",
   "metadata": {},
   "outputs": [
    {
     "data": {
      "text/plain": [
       "'a=10, b=20, c=30, d=40'"
      ]
     },
     "execution_count": 53,
     "metadata": {},
     "output_type": "execute_result"
    }
   ],
   "source": [
    "myfunc(10, 20, 30, 40)   # all positional"
   ]
  },
  {
   "cell_type": "code",
   "execution_count": 54,
   "id": "ea9ef05e",
   "metadata": {},
   "outputs": [
    {
     "data": {
      "text/plain": [
       "'a=10, b=20, c=30, d=40'"
      ]
     },
     "execution_count": 54,
     "metadata": {},
     "output_type": "execute_result"
    }
   ],
   "source": [
    "# parameters: a   b   c  d\n",
    "# arguments:  10 20   30 40\n",
    "\n",
    "myfunc(10, 20, c=30, d=40)  # a and b are positional, c and d are keyword"
   ]
  },
  {
   "cell_type": "code",
   "execution_count": 55,
   "id": "5a3ed92d",
   "metadata": {},
   "outputs": [
    {
     "ename": "TypeError",
     "evalue": "myfunc() got multiple values for argument 'a'",
     "output_type": "error",
     "traceback": [
      "\u001b[0;31m---------------------------------------------------------------------------\u001b[0m",
      "\u001b[0;31mTypeError\u001b[0m                                 Traceback (most recent call last)",
      "Cell \u001b[0;32mIn [55], line 3\u001b[0m\n\u001b[1;32m      1\u001b[0m \u001b[38;5;66;03m# What if I do this?\u001b[39;00m\n\u001b[0;32m----> 3\u001b[0m \u001b[43mmyfunc\u001b[49m\u001b[43m(\u001b[49m\u001b[38;5;241;43m10\u001b[39;49m\u001b[43m,\u001b[49m\u001b[43m \u001b[49m\u001b[38;5;241;43m20\u001b[39;49m\u001b[43m,\u001b[49m\u001b[43m \u001b[49m\u001b[43ma\u001b[49m\u001b[38;5;241;43m=\u001b[39;49m\u001b[38;5;241;43m30\u001b[39;49m\u001b[43m,\u001b[49m\u001b[43m \u001b[49m\u001b[43mb\u001b[49m\u001b[38;5;241;43m=\u001b[39;49m\u001b[38;5;241;43m40\u001b[39;49m\u001b[43m)\u001b[49m  \u001b[38;5;66;03m# this will fail\u001b[39;00m\n",
      "\u001b[0;31mTypeError\u001b[0m: myfunc() got multiple values for argument 'a'"
     ]
    }
   ],
   "source": [
    "# What if I do this?\n",
    "\n",
    "myfunc(10, 20, a=30, b=40)  # this will fail"
   ]
  },
  {
   "cell_type": "markdown",
   "id": "06e441b2",
   "metadata": {},
   "source": [
    "# Argument typing"
   ]
  },
  {
   "cell_type": "code",
   "execution_count": 56,
   "id": "fb2eaeac",
   "metadata": {},
   "outputs": [],
   "source": [
    "def hello(name):\n",
    "    return f'Hello, {name}!'\n",
    "\n"
   ]
  },
  {
   "cell_type": "code",
   "execution_count": 57,
   "id": "7c968bb8",
   "metadata": {},
   "outputs": [
    {
     "data": {
      "text/plain": [
       "'Hello, Reuven!'"
      ]
     },
     "execution_count": 57,
     "metadata": {},
     "output_type": "execute_result"
    }
   ],
   "source": [
    "hello('Reuven')"
   ]
  },
  {
   "cell_type": "code",
   "execution_count": 58,
   "id": "e1fb7f17",
   "metadata": {},
   "outputs": [
    {
     "data": {
      "text/plain": [
       "'Hello, 5!'"
      ]
     },
     "execution_count": 58,
     "metadata": {},
     "output_type": "execute_result"
    }
   ],
   "source": [
    "# can I pass an integer?\n",
    "hello(5)"
   ]
  },
  {
   "cell_type": "code",
   "execution_count": 59,
   "id": "50246f98",
   "metadata": {},
   "outputs": [
    {
     "data": {
      "text/plain": [
       "'Hello, [10, 20, 30]!'"
      ]
     },
     "execution_count": 59,
     "metadata": {},
     "output_type": "execute_result"
    }
   ],
   "source": [
    "# can I pass a list?\n",
    "hello([10, 20, 30])"
   ]
  },
  {
   "cell_type": "code",
   "execution_count": 60,
   "id": "b9950661",
   "metadata": {},
   "outputs": [
    {
     "data": {
      "text/plain": [
       "'Hello, <function hello at 0x109ac1f80>!'"
      ]
     },
     "execution_count": 60,
     "metadata": {},
     "output_type": "execute_result"
    }
   ],
   "source": [
    "# can I pass something else?\n",
    "hello(hello)"
   ]
  },
  {
   "cell_type": "code",
   "execution_count": 61,
   "id": "3f7298e4",
   "metadata": {},
   "outputs": [],
   "source": [
    "# how can I enforce the idea that I only want to get strings as arguments?\n",
    "# answer: you switch to another programming language...\n",
    "\n",
    "# Python is a dynamic language. We have no way to really stop people from passing\n",
    "# arguments that are inappropriate to what we want to do.\n",
    "\n",
    "# our best bet is to write good documentation, so that people will call\n",
    "# our function(s) with the right values.\n",
    "\n",
    "# one way to write the documentation is as a \"docstring\" in your function. If the first\n",
    "# line of the function contains a string, then that string is the documentation\n",
    "# for other developers who want to use your function.\n",
    "\n",
    "def hello(name):\n",
    "    \"\"\"Function to greet people nicely.\n",
    "    \n",
    "    Expects: string\n",
    "    Modifies: nothing\n",
    "    Returns: string\n",
    "    \n",
    "    \"\"\"\n",
    "    return f'Hello, {name}!'"
   ]
  },
  {
   "cell_type": "code",
   "execution_count": 62,
   "id": "fc61d5ab",
   "metadata": {},
   "outputs": [
    {
     "data": {
      "text/plain": [
       "'Hello, 234515325!'"
      ]
     },
     "execution_count": 62,
     "metadata": {},
     "output_type": "execute_result"
    }
   ],
   "source": [
    "hello(234515325)"
   ]
  },
  {
   "cell_type": "code",
   "execution_count": 63,
   "id": "9ca7f8b2",
   "metadata": {},
   "outputs": [
    {
     "name": "stdout",
     "output_type": "stream",
     "text": [
      "Help on function hello in module __main__:\n",
      "\n",
      "hello(name)\n",
      "    Function to greet people nicely.\n",
      "    \n",
      "    Expects: string\n",
      "    Modifies: nothing\n",
      "    Returns: string\n",
      "\n"
     ]
    }
   ],
   "source": [
    "help(hello)  # notice -- not calling hello! I'm passing it as an argument to help"
   ]
  },
  {
   "cell_type": "markdown",
   "id": "7b1934b6",
   "metadata": {},
   "source": [
    "# Exercise: Vowel count\n",
    "\n",
    "1. Write a function, `vowel_count`, that takes a filename (string) as an argument.\n",
    "2. At the start of the function, define an `output` dict in which vowels (a, e, i, o, u) are the keys are 0s are the values.\n",
    "3. The function should open the file, and go through it -- one line at a time, and one character at a time.\n",
    "4. If you encounter a vowel, increment its count.\n",
    "5. Return the dict."
   ]
  },
  {
   "cell_type": "code",
   "execution_count": 66,
   "id": "4f4aaca6",
   "metadata": {},
   "outputs": [
    {
     "data": {
      "text/plain": [
       "{'a': 481, 'e': 624, 'i': 348, 'o': 257, 'u': 178}"
      ]
     },
     "execution_count": 66,
     "metadata": {},
     "output_type": "execute_result"
    }
   ],
   "source": [
    "def vowel_count(filename):\n",
    "    \"\"\"Returns a dict in which the keys are vowels and the values are vowel counts.\n",
    "    \n",
    "    Expects: That filename is a string, the name of a text file\n",
    "    Modifies: Nothing\n",
    "    Returns: A dict with 5 (a, e, i, o, u) keys and values reflecting the file we read from.\n",
    "    \"\"\"\n",
    "    \n",
    "    output = {'a':0, 'e':0, 'i':0, 'o':0, 'u':0}\n",
    "    \n",
    "    for one_line in open(filename):\n",
    "        for one_character in one_line:\n",
    "            if one_character in output:      # is this character a vowel?\n",
    "                output[one_character] += 1   # increase its count by 1\n",
    "    \n",
    "    return output\n",
    "\n",
    "vowel_count('/etc/passwd')  # we pass a string to the function, which will be assigned to filename\n",
    "    "
   ]
  },
  {
   "cell_type": "markdown",
   "id": "e2d2beb0",
   "metadata": {},
   "source": [
    "# Complex return values\n",
    "\n",
    "We've now seen that a function can return any type of Python data:\n",
    "\n",
    "- numbers\n",
    "- strings\n",
    "- lists and tuples\n",
    "- dicts\n",
    "\n",
    "If we want to return different types to the caller, then we can return a tuple. Better yet, it consumes very little memory. Even better than that is the fact that we can take advantage of tuple unpacking.\n",
    "\n",
    "\n"
   ]
  },
  {
   "cell_type": "markdown",
   "id": "fcf04aba",
   "metadata": {},
   "source": [
    "# Exercise: Filter vowels\n",
    "\n",
    "1. Write a function, `filter_vowels`, which takes a string (not a filename) and goes through the string, one character at a time.\n",
    "2. Define `vowels`, a dictionary whose keys are vowels.\n",
    "3. Go through the string, one character at a time:\n",
    "    - If the character is a vowel, increment its count in the dict.\n",
    "    - If it's not a vowel, then add it to the string of non-vowel output characters.\n",
    "4. When you're done going through the string, return a tuple of two elements: \n",
    "    - the output string, aka the input string minus its vowels\n",
    "    - the dict of vowel counts we did"
   ]
  },
  {
   "cell_type": "code",
   "execution_count": null,
   "id": "f02f0698",
   "metadata": {},
   "outputs": [],
   "source": []
  }
 ],
 "metadata": {
  "kernelspec": {
   "display_name": "Python 3 (ipykernel)",
   "language": "python",
   "name": "python3"
  },
  "language_info": {
   "codemirror_mode": {
    "name": "ipython",
    "version": 3
   },
   "file_extension": ".py",
   "mimetype": "text/x-python",
   "name": "python",
   "nbconvert_exporter": "python",
   "pygments_lexer": "ipython3",
   "version": "3.11.0"
  }
 },
 "nbformat": 4,
 "nbformat_minor": 5
}
