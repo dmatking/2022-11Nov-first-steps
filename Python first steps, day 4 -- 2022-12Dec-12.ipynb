{
 "cells": [
  {
   "cell_type": "markdown",
   "id": "78165356",
   "metadata": {},
   "source": [
    "# Agenda, day 4: Functions!\n",
    "\n",
    "- What are functions? Why do we need them?\n",
    "- Writing simple functions with `def`\n",
    "- Arguments and parameters\n",
    "- Return values\n",
    "- Default argument values\n",
    "- Complex return values\n",
    "- Local vs. global variables\n",
    "- Online challenge"
   ]
  },
  {
   "cell_type": "markdown",
   "id": "3ce3e610",
   "metadata": {},
   "source": [
    "# What are functions?\n",
    "\n",
    "We've already seen that functions (and methods) are the *verbs* in a programming language. They do things to the data structures.\n",
    "\n",
    "Examples:\n",
    "\n",
    "```python\n",
    "x = 'abcde'\n",
    "len(x)   # we \"call\" the \"len\" function on the data x, and get back an integer (5)\n",
    "\n",
    "x.upper()  # we \"call\" the \"upper\" method on the data x, and get back a string ('ABCDE')\n",
    "```\n",
    "\n",
    "We call a function/method, and we get back a value.\n",
    "\n",
    "Sometimes, we don't care about the value we get back.  Instead, we care about what the function is doing to the data structure.  In many cases, such functions change the data structure.\n",
    "\n",
    "For example:\n",
    "\n",
    "```python\n",
    "mylist = [10, 20, 30]\n",
    "\n",
    "mylist.append(40)   # the result of calling mylist.append is to change mylist. It returns None\n",
    "```\n",
    "\n",
    "We've seen a variety of functions and methods, for example:\n",
    "\n",
    "- `print`\n",
    "- `input`\n",
    "- `len`\n",
    "- Methods on strings:\n",
    "    - `str.upper`\n",
    "    - `str.lower`\n",
    "    - `str.strip`\n",
    "    - `str.isdigit`\n",
    "- Methods on lists:\n",
    "    - `list.append`\n",
    "    - `list.pop`\n",
    "- Methods on dicts:\n",
    "    - `dict.items`\n",
    "    - `dict.keys`\n",
    "    \n",
    "# Do we really need functions?\n",
    "\n",
    "Answer: No, but we really benefit from them.  They give us the power of **abstraction**. This is one of the most important concepts in all of computer science.\n",
    "\n",
    "The idea of abstraction is that you can think at a higher level if you ignore, or paper over, the underlying details."
   ]
  },
  {
   "cell_type": "markdown",
   "id": "70e98ce0",
   "metadata": {},
   "source": [
    "# To define a new function:\n",
    "\n",
    "- We'll use the `def` keyword\n",
    "- We need to give the function a name\n",
    "- We need to decide what parameters (variables that get values assigned when the function is called) the function will have\n",
    "- We need to write the function's body, which can contain *any* Python code we want, including `if`, `with`, `while`, `for`, and anything else you can imagine."
   ]
  },
  {
   "cell_type": "code",
   "execution_count": 1,
   "id": "80ee0d66",
   "metadata": {},
   "outputs": [],
   "source": [
    "# let's create a simple function that prints \"Hello!\"\n",
    "\n",
    "def hello():         # no parameters -- empty parentheses\n",
    "    print('Hello!')  # function body has 1 line, printing \"Hello!\""
   ]
  },
  {
   "cell_type": "markdown",
   "id": "20a2880d",
   "metadata": {},
   "source": [
    "# What happens when I define a function?\n",
    "\n",
    "1. I create a new \"function object.\"\n",
    "2. I assign that function object to a variable -- in this case, to `hello`.\n",
    "\n",
    "What does this mean to have a \"function object\"? In Python, functions aren't just verbs -- they're also nouns. When we define a function, we're creating a function object, which can (in theory) be stored in a variable, or in a list, or in a dict.  We're not going to do that here, but you can.\n",
    "\n",
    "The difference between string objects, list objects, dict objects, and function objects, is that the last (functions) can execute. But strings, lists, and dicts, cannot."
   ]
  },
  {
   "cell_type": "code",
   "execution_count": 2,
   "id": "153a841e",
   "metadata": {},
   "outputs": [
    {
     "name": "stdout",
     "output_type": "stream",
     "text": [
      "Hello!\n"
     ]
    }
   ],
   "source": [
    "# how can I call the function? I name it, and give it parentheses\n",
    "\n",
    "hello()"
   ]
  },
  {
   "cell_type": "code",
   "execution_count": 3,
   "id": "8ce78d8a",
   "metadata": {},
   "outputs": [
    {
     "name": "stdout",
     "output_type": "stream",
     "text": [
      "Hello!\n"
     ]
    }
   ],
   "source": [
    "# what value did this function return? We know that len() returns the length of an object,\n",
    "# so what value did \"hello\" return?\n",
    "\n",
    "# answer: None, because we didn't say it should return anything else.\n",
    "\n",
    "x = hello()   # assign x the value we got back from calling hello"
   ]
  },
  {
   "cell_type": "code",
   "execution_count": 4,
   "id": "ba595b05",
   "metadata": {},
   "outputs": [
    {
     "name": "stdout",
     "output_type": "stream",
     "text": [
      "None\n"
     ]
    }
   ],
   "source": [
    "print(x)"
   ]
  },
  {
   "cell_type": "code",
   "execution_count": 5,
   "id": "50cdac0e",
   "metadata": {},
   "outputs": [],
   "source": [
    "# a function can print however much it wants on the screen, on as many lines\n",
    "# as you want, as many times as it wants... but you only get to return one value."
   ]
  },
  {
   "cell_type": "code",
   "execution_count": 6,
   "id": "e95158d0",
   "metadata": {},
   "outputs": [
    {
     "name": "stdout",
     "output_type": "stream",
     "text": [
      "Hello!\n"
     ]
    }
   ],
   "source": [
    "# how can we return a value? The \"return\" keyword:\n",
    "\n",
    "def hello():\n",
    "    return 'Hello!'   # now our function, when called, with return a string. We can decide to print (or not)\n",
    "\n",
    "print(hello())        # the function is called, it returns a string, and print displays it on the screen."
   ]
  },
  {
   "cell_type": "code",
   "execution_count": 7,
   "id": "cdbb5c49",
   "metadata": {},
   "outputs": [
    {
     "data": {
      "text/plain": [
       "str"
      ]
     },
     "execution_count": 7,
     "metadata": {},
     "output_type": "execute_result"
    }
   ],
   "source": [
    "# DF asks: does type(hello()) return function\n",
    "\n",
    "type(hello())   # I run hello, and then we're running type on hello's return value"
   ]
  },
  {
   "cell_type": "code",
   "execution_count": 8,
   "id": "6f3d222f",
   "metadata": {},
   "outputs": [
    {
     "data": {
      "text/plain": [
       "function"
      ]
     },
     "execution_count": 8,
     "metadata": {},
     "output_type": "execute_result"
    }
   ],
   "source": [
    "# but if we don't use the parentheses, and thus don't call hello, but merely pass it to type...\n",
    "type(hello)"
   ]
  },
  {
   "cell_type": "markdown",
   "id": "e12c206f",
   "metadata": {},
   "source": [
    "# Exercise: Calculator\n",
    "\n",
    "1. Write a function, `calc`, which will act as a simple calculator.  It takes no arguments, but does ask the user to enter three pieces of information:\n",
    "    - `first`, the first number\n",
    "    - `op`, the operator\n",
    "    - `second`, the second number\n",
    "2. Have the function ask the user to enter these three pieces of information. Implement logic to handle `+` and `-`. \n",
    "3. Return the result from this calculation as a string, including the orignal numbers and operator.\n",
    "\n",
    "Example:\n",
    "\n",
    "    First number: 5\n",
    "    Operator: +\n",
    "    First number: 11\n",
    "    5 + 11 = 16\n",
    "    \n",
    "Do try to add some error checking, so that we don't try to turn (non-numeric) strings into integers.    "
   ]
  },
  {
   "cell_type": "code",
   "execution_count": 9,
   "id": "81b26c9e",
   "metadata": {},
   "outputs": [],
   "source": [
    "def calc():\n",
    "    first = input('First number: ').strip()\n",
    "    op = input('Operator: ').strip()\n",
    "    second = input('Second number: ').strip()\n",
    "    \n",
    "    if first.isdigit() and second.isdigit():\n",
    "        first = int(first)\n",
    "        second = int(second)\n",
    "        \n",
    "        if op == '+':\n",
    "            result = first + second\n",
    "            \n",
    "        elif op == '-':\n",
    "            result = first - second\n",
    "            \n",
    "        else:\n",
    "            result = 'Not supported'\n",
    "            \n",
    "        print(f'{first} {op} {second} = {result}')\n",
    "        \n",
    "    else:\n",
    "        \n",
    "        print(f'{first} and {second} must both be numeric')"
   ]
  },
  {
   "cell_type": "code",
   "execution_count": 10,
   "id": "4043d7cf",
   "metadata": {},
   "outputs": [
    {
     "name": "stdout",
     "output_type": "stream",
     "text": [
      "First number: 11\n",
      "Operator: +\n",
      "Second number: 5\n",
      "11 + 5 = 16\n"
     ]
    }
   ],
   "source": [
    "calc()"
   ]
  },
  {
   "cell_type": "code",
   "execution_count": 12,
   "id": "82b2b878",
   "metadata": {},
   "outputs": [
    {
     "name": "stdout",
     "output_type": "stream",
     "text": [
      "First number: 20\n",
      "Operator: -\n",
      "Second number: 8\n",
      "20 - 8 = 12\n"
     ]
    }
   ],
   "source": [
    "calc()"
   ]
  },
  {
   "cell_type": "markdown",
   "id": "7c54de07",
   "metadata": {},
   "source": [
    "# Arguments and parameters\n",
    "\n",
    "What we've done, in writing `calc`, works.  But it would be better/nicer/easier if, when we call the function, it doesn't then start asking our end user questions. Instead, it would be better if we could pass the values (`first`, `op`, and `second`) to `calc`, and have it print the result.\n",
    "\n",
    "I want to get the values for those variables from outside of `calc`, such as from a GUI or command line prompt, and then not interrupt the function when it's running.\n",
    "\n",
    "The way to do this is with *parameters*, special variables that are guaranteed to be assigned values when the function is called.  The values that are assigned to parameters are known as *arguments*."
   ]
  },
  {
   "cell_type": "code",
   "execution_count": 13,
   "id": "2e14fa8c",
   "metadata": {},
   "outputs": [],
   "source": [
    "# let's rewrite \"hello\" to take an argument\n",
    "\n",
    "def hello(name):               # here, we're defining the function with 1 parameters\n",
    "    return f'Hello, {name}!'   # here, we're using that parameter (variable), assuming it's set"
   ]
  },
  {
   "cell_type": "code",
   "execution_count": 14,
   "id": "cfd2ad0b",
   "metadata": {},
   "outputs": [
    {
     "data": {
      "text/plain": [
       "'Hello, world!'"
      ]
     },
     "execution_count": 14,
     "metadata": {},
     "output_type": "execute_result"
    }
   ],
   "source": [
    "hello('world')"
   ]
  },
  {
   "cell_type": "code",
   "execution_count": 15,
   "id": "ea4b1d1e",
   "metadata": {},
   "outputs": [
    {
     "data": {
      "text/plain": [
       "'Hello, Reuven!'"
      ]
     },
     "execution_count": 15,
     "metadata": {},
     "output_type": "execute_result"
    }
   ],
   "source": [
    "hello('Reuven')"
   ]
  },
  {
   "cell_type": "code",
   "execution_count": 16,
   "id": "113cd1dd",
   "metadata": {},
   "outputs": [
    {
     "ename": "TypeError",
     "evalue": "hello() missing 1 required positional argument: 'name'",
     "output_type": "error",
     "traceback": [
      "\u001b[0;31m---------------------------------------------------------------------------\u001b[0m",
      "\u001b[0;31mTypeError\u001b[0m                                 Traceback (most recent call last)",
      "Cell \u001b[0;32mIn [16], line 1\u001b[0m\n\u001b[0;32m----> 1\u001b[0m \u001b[43mhello\u001b[49m\u001b[43m(\u001b[49m\u001b[43m)\u001b[49m  \u001b[38;5;66;03m# no arguments -- it won't work!\u001b[39;00m\n",
      "\u001b[0;31mTypeError\u001b[0m: hello() missing 1 required positional argument: 'name'"
     ]
    }
   ],
   "source": [
    "hello()  # no arguments -- it won't work!"
   ]
  },
  {
   "cell_type": "markdown",
   "id": "bb3d8740",
   "metadata": {},
   "source": [
    "# Recap on simple parameters\n",
    "\n",
    "1. If I want to write a function that takes one or more arguments, it'll need to have the same number of parameters.\n",
    "2. When the function is called, we'll need to provide arguments that'll be assigned to those parameters."
   ]
  },
  {
   "cell_type": "markdown",
   "id": "f79934f5",
   "metadata": {},
   "source": [
    "# Exercise: Rewrite `calc` to use parameters\n",
    "\n",
    "1. Rewrite the `calc` program we just did (you can use my version, if you want!), so that it takes `first`, `op`, and `second` as arguments to the function.  We won't use `input` inside of the function any more.\n",
    "2. Aside from getting the values passed as arguments, you shouldn't have to make many (any?) changes.\n",
    "\n"
   ]
  },
  {
   "cell_type": "code",
   "execution_count": 17,
   "id": "4e0c97a0",
   "metadata": {},
   "outputs": [],
   "source": [
    "def calc(first, op, second):  # all three of these are now parameters\n",
    "    \n",
    "    if first.isdigit() and second.isdigit():   # first and second still need to be strings!\n",
    "        first = int(first)\n",
    "        second = int(second)\n",
    "        \n",
    "        if op == '+':\n",
    "            result = first + second\n",
    "            \n",
    "        elif op == '-':\n",
    "            result = first - second\n",
    "            \n",
    "        else:\n",
    "            result = 'Not supported'\n",
    "            \n",
    "        print(f'{first} {op} {second} = {result}')\n",
    "        \n",
    "    else:\n",
    "        \n",
    "        print(f'{first} and {second} must both be numeric')"
   ]
  },
  {
   "cell_type": "code",
   "execution_count": 20,
   "id": "d2045397",
   "metadata": {},
   "outputs": [
    {
     "name": "stdout",
     "output_type": "stream",
     "text": [
      "10 + 3 = 13\n"
     ]
    }
   ],
   "source": [
    "# parameters: first, op, second\n",
    "# arguments:   '10', '+', '3'     these are known as \"positional arguments,\" assigned to parameters per position\n",
    "\n",
    "calc('10', '+', '3')           "
   ]
  },
  {
   "cell_type": "code",
   "execution_count": 21,
   "id": "2d540cf5",
   "metadata": {},
   "outputs": [
    {
     "name": "stdout",
     "output_type": "stream",
     "text": [
      "7\n"
     ]
    }
   ],
   "source": [
    "# What happens here:\n",
    "\n",
    "x = 5\n",
    "\n",
    "x = 7\n",
    "\n",
    "print(x)   # what will Python print?  7, because 7 was assigned to x most recently"
   ]
  },
  {
   "cell_type": "code",
   "execution_count": 22,
   "id": "d4b0ed38",
   "metadata": {},
   "outputs": [
    {
     "ename": "TypeError",
     "evalue": "hello() missing 1 required positional argument: 'name'",
     "output_type": "error",
     "traceback": [
      "\u001b[0;31m---------------------------------------------------------------------------\u001b[0m",
      "\u001b[0;31mTypeError\u001b[0m                                 Traceback (most recent call last)",
      "Cell \u001b[0;32mIn [22], line 7\u001b[0m\n\u001b[1;32m      4\u001b[0m \u001b[38;5;28;01mdef\u001b[39;00m \u001b[38;5;21mhello\u001b[39m(name):\n\u001b[1;32m      5\u001b[0m     \u001b[38;5;28mprint\u001b[39m(\u001b[38;5;124mf\u001b[39m\u001b[38;5;124m'\u001b[39m\u001b[38;5;124mHello, \u001b[39m\u001b[38;5;132;01m{\u001b[39;00mname\u001b[38;5;132;01m}\u001b[39;00m\u001b[38;5;124m!\u001b[39m\u001b[38;5;124m'\u001b[39m)\n\u001b[0;32m----> 7\u001b[0m \u001b[43mhello\u001b[49m\u001b[43m(\u001b[49m\u001b[43m)\u001b[49m  \u001b[38;5;66;03m# what will happen here? We'll get an error, because the most recent definition of hello is #2\u001b[39;00m\n",
      "\u001b[0;31mTypeError\u001b[0m: hello() missing 1 required positional argument: 'name'"
     ]
    }
   ],
   "source": [
    "def hello():\n",
    "    print(\"Hi!\")\n",
    "    \n",
    "def hello(name):\n",
    "    print(f'Hello, {name}!')\n",
    "    \n",
    "hello()  # what will happen here? We'll get an error, because the most recent definition of hello is #2"
   ]
  },
  {
   "cell_type": "markdown",
   "id": "74fd0f80",
   "metadata": {},
   "source": [
    "# Next up:\n",
    "\n",
    "- Return values\n",
    "- Positional vs. keyword arguments\n",
    "- Default argument values"
   ]
  },
  {
   "cell_type": "markdown",
   "id": "8cb8765c",
   "metadata": {},
   "source": [
    "# Return values\n",
    "\n",
    "So far, we've had our functions use `print` to display their results. But that's not very useful! A good function will *return* a value to its caller. The caller can then grab that returned value and:\n",
    "\n",
    "- Assign it to a variable\n",
    "- `print` it\n",
    "- Compare it with something else\n",
    "- Pass it as an argument to another function\n",
    "\n",
    "But if we print from the function, then there isn't any way to \"capture\" that return value, and do something with it.\n",
    "\n",
    "For that reason, it's a good idea to `return` values from functions, and not `print` them.  If you `return`, you have lots of options -- but if you `print`, you've basically boxed yourself into a corner.\n",
    "\n",
    "The keyword `return` in a function immediately returns that value from the function to the caller. You can return any data type you want!"
   ]
  },
  {
   "cell_type": "code",
   "execution_count": 23,
   "id": "953ecd9b",
   "metadata": {},
   "outputs": [],
   "source": [
    "def hello(name):\n",
    "    return f'Hello, {name}!'    # when I execute this function, it'll return a new string based on name\n",
    "\n"
   ]
  },
  {
   "cell_type": "code",
   "execution_count": 25,
   "id": "dfa52735",
   "metadata": {},
   "outputs": [
    {
     "data": {
      "text/plain": [
       "'Hello, world!'"
      ]
     },
     "execution_count": 25,
     "metadata": {},
     "output_type": "execute_result"
    }
   ],
   "source": [
    "# In Jupyter, if the final line of a cell is an expression (i.e., has a value), then it's displayed\n",
    "# so it's easy to be fooled into thinking that this code prints something on the screen:\n",
    "\n",
    "hello('world')\n",
    "\n",
    "# Normally, in Python, if you don't print something, it doesn't appear."
   ]
  },
  {
   "cell_type": "code",
   "execution_count": 26,
   "id": "106ba14c",
   "metadata": {},
   "outputs": [],
   "source": [
    "# how can I rewrite calc so that it returns a string, rather than printing one?\n",
    "\n",
    "def calc(first, op, second):  # all three of these are now parameters\n",
    "    \n",
    "    if first.isdigit() and second.isdigit():   # first and second still need to be strings!\n",
    "        first = int(first)\n",
    "        second = int(second)\n",
    "        \n",
    "        if op == '+':\n",
    "            result = first + second\n",
    "            \n",
    "        elif op == '-':\n",
    "            result = first - second\n",
    "            \n",
    "        else:\n",
    "            result = 'Not supported'\n",
    "            \n",
    "        return f'{first} {op} {second} = {result}'    # return a string\n",
    "        \n",
    "    else:\n",
    "        \n",
    "        return f'{first} and {second} must both be numeric'  # return a string"
   ]
  },
  {
   "cell_type": "code",
   "execution_count": 29,
   "id": "ea030a39",
   "metadata": {},
   "outputs": [
    {
     "name": "stdout",
     "output_type": "stream",
     "text": [
      "10 + 3 = 13\n"
     ]
    }
   ],
   "source": [
    "answer = calc('10', '+', '3')   # capture the string returned by cal...\n",
    "print(answer)                   # ... print that captured string"
   ]
  },
  {
   "cell_type": "markdown",
   "id": "62b6f18c",
   "metadata": {},
   "source": [
    "# What might we return from a function?\n",
    "\n",
    "- We can return a string (if the function did something with text)\n",
    "- We can return a boolean (`True`/ `False`) if we just want know if something is true or not\n",
    "- We can return an integer or float, if we calculated something...\n",
    "- ... basically, we can return *any value* at all."
   ]
  },
  {
   "cell_type": "markdown",
   "id": "e32ee8d0",
   "metadata": {},
   "source": [
    "# Exercise: Biggest and smallest\n",
    "\n",
    "1. Write a function, `biggest_and_smallest`, which will take one argument -- a list of integers. \n",
    "2. The function will return a 2-element list.  On that list will be:\n",
    "    - the smallest value in the input argument list\n",
    "    - the biggest value in the input argument list\n",
    "\n",
    "Example:\n",
    "\n",
    "```python\n",
    "biggest_and_smallest([10, 30, 5, 18, 27, 42, 15])   # returns [5, 42]\n",
    "```"
   ]
  },
  {
   "cell_type": "code",
   "execution_count": null,
   "id": "836dbfdc",
   "metadata": {},
   "outputs": [],
   "source": []
  }
 ],
 "metadata": {
  "kernelspec": {
   "display_name": "Python 3 (ipykernel)",
   "language": "python",
   "name": "python3"
  },
  "language_info": {
   "codemirror_mode": {
    "name": "ipython",
    "version": 3
   },
   "file_extension": ".py",
   "mimetype": "text/x-python",
   "name": "python",
   "nbconvert_exporter": "python",
   "pygments_lexer": "ipython3",
   "version": "3.11.0"
  }
 },
 "nbformat": 4,
 "nbformat_minor": 5
}
