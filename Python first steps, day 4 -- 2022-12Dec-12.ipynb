{
 "cells": [
  {
   "cell_type": "markdown",
   "id": "fa898dad",
   "metadata": {},
   "source": [
    "# Agenda, day 4: Functions!\n",
    "\n",
    "- What are functions? Why do we need them?\n",
    "- Writing simple functions with `def`\n",
    "- Arguments and parameters\n",
    "- Return values\n",
    "- Default argument values\n",
    "- Complex return values\n",
    "- Local vs. global variables\n",
    "- Online challenge"
   ]
  },
  {
   "cell_type": "markdown",
   "id": "dc032821",
   "metadata": {},
   "source": [
    "# What are functions?\n",
    "\n",
    "We've already seen that functions (and methods) are the *verbs* in a programming language. They do things to the data structures.\n",
    "\n",
    "Examples:\n",
    "\n",
    "```python\n",
    "x = 'abcde'\n",
    "len(x)   # we \"call\" the \"len\" function on the data x, and get back an integer (5)\n",
    "\n",
    "x.upper()  # we \"call\" the \"upper\" method on the data x, and get back a string ('ABCDE')\n",
    "```\n",
    "\n",
    "We call a function/method, and we get back a value.\n",
    "\n",
    "Sometimes, we don't care about the value we get back.  Instead, we care about what the function is doing to the data structure.  In many cases, such functions change the data structure.\n",
    "\n",
    "For example:\n",
    "\n",
    "```python\n",
    "mylist = [10, 20, 30]\n",
    "\n",
    "mylist.append(40)   # the result of calling mylist.append is to change mylist. It returns None\n",
    "```\n",
    "\n",
    "We've seen a variety of functions and methods, for example:\n",
    "\n",
    "- `print`\n",
    "- `input`\n",
    "- `len`\n",
    "- Methods on strings:\n",
    "    - `str.upper`\n",
    "    - `str.lower`\n",
    "    - `str.strip`\n",
    "    - `str.isdigit`\n",
    "- Methods on lists:\n",
    "    - `list.append`\n",
    "    - `list.pop`\n",
    "- Methods on dicts:\n",
    "    - `dict.items`\n",
    "    - `dict.keys`\n",
    "    \n",
    "# Do we really need functions?\n",
    "\n",
    "Answer: No, but we really benefit from them.  They give us the power of **abstraction**. This is one of the most important concepts in all of computer science.\n",
    "\n",
    "The idea of abstraction is that you can think at a higher level if you ignore, or paper over, the underlying details."
   ]
  },
  {
   "cell_type": "markdown",
   "id": "6ce079d9",
   "metadata": {},
   "source": [
    "# To define a new function:\n",
    "\n",
    "- We'll use the `def` keyword\n",
    "- We need to give the function a name\n",
    "- We need to decide what parameters (variables that get values assigned when the function is called) the function will have\n",
    "- We need to write the function's body, which can contain *any* Python code we want, including `if`, `with`, `while`, `for`, and anything else you can imagine."
   ]
  },
  {
   "cell_type": "code",
   "execution_count": 1,
   "id": "8afed3c5",
   "metadata": {},
   "outputs": [],
   "source": [
    "# let's create a simple function that prints \"Hello!\"\n",
    "\n",
    "def hello():         # no parameters -- empty parentheses\n",
    "    print('Hello!')  # function body has 1 line, printing \"Hello!\""
   ]
  },
  {
   "cell_type": "markdown",
   "id": "3f7bc580",
   "metadata": {},
   "source": [
    "# What happens when I define a function?\n",
    "\n",
    "1. I create a new \"function object.\"\n",
    "2. I assign that function object to a variable -- in this case, to `hello`.\n",
    "\n",
    "What does this mean to have a \"function object\"? In Python, functions aren't just verbs -- they're also nouns. When we define a function, we're creating a function object, which can (in theory) be stored in a variable, or in a list, or in a dict.  We're not going to do that here, but you can.\n",
    "\n",
    "The difference between string objects, list objects, dict objects, and function objects, is that the last (functions) can execute. But strings, lists, and dicts, cannot."
   ]
  },
  {
   "cell_type": "code",
   "execution_count": 2,
   "id": "686c653c",
   "metadata": {},
   "outputs": [
    {
     "name": "stdout",
     "output_type": "stream",
     "text": [
      "Hello!\n"
     ]
    }
   ],
   "source": [
    "# how can I call the function? I name it, and give it parentheses\n",
    "\n",
    "hello()"
   ]
  },
  {
   "cell_type": "code",
   "execution_count": 3,
   "id": "3bf66e25",
   "metadata": {},
   "outputs": [
    {
     "name": "stdout",
     "output_type": "stream",
     "text": [
      "Hello!\n"
     ]
    }
   ],
   "source": [
    "# what value did this function return? We know that len() returns the length of an object,\n",
    "# so what value did \"hello\" return?\n",
    "\n",
    "# answer: None, because we didn't say it should return anything else.\n",
    "\n",
    "x = hello()   # assign x the value we got back from calling hello"
   ]
  },
  {
   "cell_type": "code",
   "execution_count": 4,
   "id": "d7f54b32",
   "metadata": {},
   "outputs": [
    {
     "name": "stdout",
     "output_type": "stream",
     "text": [
      "None\n"
     ]
    }
   ],
   "source": [
    "print(x)"
   ]
  },
  {
   "cell_type": "code",
   "execution_count": 5,
   "id": "722cd784",
   "metadata": {},
   "outputs": [],
   "source": [
    "# a function can print however much it wants on the screen, on as many lines\n",
    "# as you want, as many times as it wants... but you only get to return one value."
   ]
  },
  {
   "cell_type": "code",
   "execution_count": 6,
   "id": "33f3d4e7",
   "metadata": {},
   "outputs": [
    {
     "name": "stdout",
     "output_type": "stream",
     "text": [
      "Hello!\n"
     ]
    }
   ],
   "source": [
    "# how can we return a value? The \"return\" keyword:\n",
    "\n",
    "def hello():\n",
    "    return 'Hello!'   # now our function, when called, with return a string. We can decide to print (or not)\n",
    "\n",
    "print(hello())        # the function is called, it returns a string, and print displays it on the screen."
   ]
  },
  {
   "cell_type": "code",
   "execution_count": 7,
   "id": "498cf17a",
   "metadata": {},
   "outputs": [
    {
     "data": {
      "text/plain": [
       "str"
      ]
     },
     "execution_count": 7,
     "metadata": {},
     "output_type": "execute_result"
    }
   ],
   "source": [
    "# DF asks: does type(hello()) return function\n",
    "\n",
    "type(hello())   # I run hello, and then we're running type on hello's return value"
   ]
  },
  {
   "cell_type": "code",
   "execution_count": 8,
   "id": "adf4058e",
   "metadata": {},
   "outputs": [
    {
     "data": {
      "text/plain": [
       "function"
      ]
     },
     "execution_count": 8,
     "metadata": {},
     "output_type": "execute_result"
    }
   ],
   "source": [
    "# but if we don't use the parentheses, and thus don't call hello, but merely pass it to type...\n",
    "type(hello)"
   ]
  },
  {
   "cell_type": "markdown",
   "id": "7c6f9f87",
   "metadata": {},
   "source": [
    "# Exercise: Calculator\n",
    "\n",
    "1. Write a function, `calc`, which will act as a simple calculator.  It takes no arguments, but does ask the user to enter three pieces of information:\n",
    "    - `first`, the first number\n",
    "    - `op`, the operator\n",
    "    - `second`, the second number\n",
    "2. Have the function ask the user to enter these three pieces of information. Implement logic to handle `+` and `-`. \n",
    "3. Return the result from this calculation as a string, including the orignal numbers and operator.\n",
    "\n",
    "Example:\n",
    "\n",
    "    First number: 5\n",
    "    Operator: +\n",
    "    First number: 11\n",
    "    5 + 11 = 16\n",
    "    \n",
    "Do try to add some error checking, so that we don't try to turn (non-numeric) strings into integers.    "
   ]
  },
  {
   "cell_type": "code",
   "execution_count": 9,
   "id": "807cc858",
   "metadata": {},
   "outputs": [],
   "source": [
    "def calc():\n",
    "    first = input('First number: ').strip()\n",
    "    op = input('Operator: ').strip()\n",
    "    second = input('Second number: ').strip()\n",
    "    \n",
    "    if first.isdigit() and second.isdigit():\n",
    "        first = int(first)\n",
    "        second = int(second)\n",
    "        \n",
    "        if op == '+':\n",
    "            result = first + second\n",
    "            \n",
    "        elif op == '-':\n",
    "            result = first - second\n",
    "            \n",
    "        else:\n",
    "            result = 'Not supported'\n",
    "            \n",
    "        print(f'{first} {op} {second} = {result}')\n",
    "        \n",
    "    else:\n",
    "        \n",
    "        print(f'{first} and {second} must both be numeric')"
   ]
  },
  {
   "cell_type": "code",
   "execution_count": 10,
   "id": "887a4d77",
   "metadata": {},
   "outputs": [
    {
     "name": "stdout",
     "output_type": "stream",
     "text": [
      "First number: 11\n",
      "Operator: +\n",
      "Second number: 5\n",
      "11 + 5 = 16\n"
     ]
    }
   ],
   "source": [
    "calc()"
   ]
  },
  {
   "cell_type": "code",
   "execution_count": 12,
   "id": "666f2c86",
   "metadata": {},
   "outputs": [
    {
     "name": "stdout",
     "output_type": "stream",
     "text": [
      "First number: 20\n",
      "Operator: -\n",
      "Second number: 8\n",
      "20 - 8 = 12\n"
     ]
    }
   ],
   "source": [
    "calc()"
   ]
  },
  {
   "cell_type": "markdown",
   "id": "80ec1f3a",
   "metadata": {},
   "source": [
    "# Arguments and parameters\n",
    "\n",
    "What we've done, in writing `calc`, works.  But it would be better/nicer/easier if, when we call the function, it doesn't then start asking our end user questions. Instead, it would be better if we could pass the values (`first`, `op`, and `second`) to `calc`, and have it print the result.\n",
    "\n",
    "I want to get the values for those variables from outside of `calc`, such as from a GUI or command line prompt, and then not interrupt the function when it's running.\n",
    "\n",
    "The way to do this is with *parameters*, special variables that are guaranteed to be assigned values when the function is called.  The values that are assigned to parameters are known as *arguments*."
   ]
  },
  {
   "cell_type": "code",
   "execution_count": 13,
   "id": "373e4661",
   "metadata": {},
   "outputs": [],
   "source": [
    "# let's rewrite \"hello\" to take an argument\n",
    "\n",
    "def hello(name):               # here, we're defining the function with 1 parameters\n",
    "    return f'Hello, {name}!'   # here, we're using that parameter (variable), assuming it's set"
   ]
  },
  {
   "cell_type": "code",
   "execution_count": 14,
   "id": "0ae51463",
   "metadata": {},
   "outputs": [
    {
     "data": {
      "text/plain": [
       "'Hello, world!'"
      ]
     },
     "execution_count": 14,
     "metadata": {},
     "output_type": "execute_result"
    }
   ],
   "source": [
    "hello('world')"
   ]
  },
  {
   "cell_type": "code",
   "execution_count": 15,
   "id": "5cf9431f",
   "metadata": {},
   "outputs": [
    {
     "data": {
      "text/plain": [
       "'Hello, Reuven!'"
      ]
     },
     "execution_count": 15,
     "metadata": {},
     "output_type": "execute_result"
    }
   ],
   "source": [
    "hello('Reuven')"
   ]
  },
  {
   "cell_type": "code",
   "execution_count": 16,
   "id": "29a2daf4",
   "metadata": {},
   "outputs": [
    {
     "ename": "TypeError",
     "evalue": "hello() missing 1 required positional argument: 'name'",
     "output_type": "error",
     "traceback": [
      "\u001b[0;31m---------------------------------------------------------------------------\u001b[0m",
      "\u001b[0;31mTypeError\u001b[0m                                 Traceback (most recent call last)",
      "Cell \u001b[0;32mIn [16], line 1\u001b[0m\n\u001b[0;32m----> 1\u001b[0m \u001b[43mhello\u001b[49m\u001b[43m(\u001b[49m\u001b[43m)\u001b[49m  \u001b[38;5;66;03m# no arguments -- it won't work!\u001b[39;00m\n",
      "\u001b[0;31mTypeError\u001b[0m: hello() missing 1 required positional argument: 'name'"
     ]
    }
   ],
   "source": [
    "hello()  # no arguments -- it won't work!"
   ]
  },
  {
   "cell_type": "markdown",
   "id": "e85d65db",
   "metadata": {},
   "source": [
    "# Recap on simple parameters\n",
    "\n",
    "1. If I want to write a function that takes one or more arguments, it'll need to have the same number of parameters.\n",
    "2. When the function is called, we'll need to provide arguments that'll be assigned to those parameters."
   ]
  },
  {
   "cell_type": "markdown",
   "id": "c09be9a2",
   "metadata": {},
   "source": [
    "# Exercise: Rewrite `calc` to use parameters\n",
    "\n",
    "1. Rewrite the `calc` program we just did (you can use my version, if you want!), so that it takes `first`, `op`, and `second` as arguments to the function.  We won't use `input` inside of the function any more.\n",
    "2. Aside from getting the values passed as arguments, you shouldn't have to make many (any?) changes.\n",
    "\n"
   ]
  },
  {
   "cell_type": "code",
   "execution_count": 17,
   "id": "c4c5f054",
   "metadata": {},
   "outputs": [],
   "source": [
    "def calc(first, op, second):  # all three of these are now parameters\n",
    "    \n",
    "    if first.isdigit() and second.isdigit():   # first and second still need to be strings!\n",
    "        first = int(first)\n",
    "        second = int(second)\n",
    "        \n",
    "        if op == '+':\n",
    "            result = first + second\n",
    "            \n",
    "        elif op == '-':\n",
    "            result = first - second\n",
    "            \n",
    "        else:\n",
    "            result = 'Not supported'\n",
    "            \n",
    "        print(f'{first} {op} {second} = {result}')\n",
    "        \n",
    "    else:\n",
    "        \n",
    "        print(f'{first} and {second} must both be numeric')"
   ]
  },
  {
   "cell_type": "code",
   "execution_count": 20,
   "id": "656e83f2",
   "metadata": {},
   "outputs": [
    {
     "name": "stdout",
     "output_type": "stream",
     "text": [
      "10 + 3 = 13\n"
     ]
    }
   ],
   "source": [
    "# parameters: first, op, second\n",
    "# arguments:   '10', '+', '3'     these are known as \"positional arguments,\" assigned to parameters per position\n",
    "\n",
    "calc('10', '+', '3')           "
   ]
  },
  {
   "cell_type": "code",
   "execution_count": 21,
   "id": "8763eb59",
   "metadata": {},
   "outputs": [
    {
     "name": "stdout",
     "output_type": "stream",
     "text": [
      "7\n"
     ]
    }
   ],
   "source": [
    "# What happens here:\n",
    "\n",
    "x = 5\n",
    "\n",
    "x = 7\n",
    "\n",
    "print(x)   # what will Python print?  7, because 7 was assigned to x most recently"
   ]
  },
  {
   "cell_type": "code",
   "execution_count": 22,
   "id": "700cc51a",
   "metadata": {},
   "outputs": [
    {
     "ename": "TypeError",
     "evalue": "hello() missing 1 required positional argument: 'name'",
     "output_type": "error",
     "traceback": [
      "\u001b[0;31m---------------------------------------------------------------------------\u001b[0m",
      "\u001b[0;31mTypeError\u001b[0m                                 Traceback (most recent call last)",
      "Cell \u001b[0;32mIn [22], line 7\u001b[0m\n\u001b[1;32m      4\u001b[0m \u001b[38;5;28;01mdef\u001b[39;00m \u001b[38;5;21mhello\u001b[39m(name):\n\u001b[1;32m      5\u001b[0m     \u001b[38;5;28mprint\u001b[39m(\u001b[38;5;124mf\u001b[39m\u001b[38;5;124m'\u001b[39m\u001b[38;5;124mHello, \u001b[39m\u001b[38;5;132;01m{\u001b[39;00mname\u001b[38;5;132;01m}\u001b[39;00m\u001b[38;5;124m!\u001b[39m\u001b[38;5;124m'\u001b[39m)\n\u001b[0;32m----> 7\u001b[0m \u001b[43mhello\u001b[49m\u001b[43m(\u001b[49m\u001b[43m)\u001b[49m  \u001b[38;5;66;03m# what will happen here? We'll get an error, because the most recent definition of hello is #2\u001b[39;00m\n",
      "\u001b[0;31mTypeError\u001b[0m: hello() missing 1 required positional argument: 'name'"
     ]
    }
   ],
   "source": [
    "def hello():\n",
    "    print(\"Hi!\")\n",
    "    \n",
    "def hello(name):\n",
    "    print(f'Hello, {name}!')\n",
    "    \n",
    "hello()  # what will happen here? We'll get an error, because the most recent definition of hello is #2"
   ]
  },
  {
   "cell_type": "markdown",
   "id": "3225aa52",
   "metadata": {},
   "source": [
    "# Next up:\n",
    "\n",
    "- Return values\n",
    "- Positional vs. keyword arguments\n",
    "- Default argument values"
   ]
  },
  {
   "cell_type": "markdown",
   "id": "e3575ded",
   "metadata": {},
   "source": [
    "# Return values\n",
    "\n",
    "So far, we've had our functions use `print` to display their results. But that's not very useful! A good function will *return* a value to its caller. The caller can then grab that returned value and:\n",
    "\n",
    "- Assign it to a variable\n",
    "- `print` it\n",
    "- Compare it with something else\n",
    "- Pass it as an argument to another function\n",
    "\n",
    "But if we print from the function, then there isn't any way to \"capture\" that return value, and do something with it.\n",
    "\n",
    "For that reason, it's a good idea to `return` values from functions, and not `print` them.  If you `return`, you have lots of options -- but if you `print`, you've basically boxed yourself into a corner.\n",
    "\n",
    "The keyword `return` in a function immediately returns that value from the function to the caller. You can return any data type you want!"
   ]
  },
  {
   "cell_type": "code",
   "execution_count": 23,
   "id": "57fe4636",
   "metadata": {},
   "outputs": [],
   "source": [
    "def hello(name):\n",
    "    return f'Hello, {name}!'    # when I execute this function, it'll return a new string based on name\n",
    "\n"
   ]
  },
  {
   "cell_type": "code",
   "execution_count": 25,
   "id": "8ed0cb32",
   "metadata": {},
   "outputs": [
    {
     "data": {
      "text/plain": [
       "'Hello, world!'"
      ]
     },
     "execution_count": 25,
     "metadata": {},
     "output_type": "execute_result"
    }
   ],
   "source": [
    "# In Jupyter, if the final line of a cell is an expression (i.e., has a value), then it's displayed\n",
    "# so it's easy to be fooled into thinking that this code prints something on the screen:\n",
    "\n",
    "hello('world')\n",
    "\n",
    "# Normally, in Python, if you don't print something, it doesn't appear."
   ]
  },
  {
   "cell_type": "code",
   "execution_count": 26,
   "id": "534dc76d",
   "metadata": {},
   "outputs": [],
   "source": [
    "# how can I rewrite calc so that it returns a string, rather than printing one?\n",
    "\n",
    "def calc(first, op, second):  # all three of these are now parameters\n",
    "    \n",
    "    if first.isdigit() and second.isdigit():   # first and second still need to be strings!\n",
    "        first = int(first)\n",
    "        second = int(second)\n",
    "        \n",
    "        if op == '+':\n",
    "            result = first + second\n",
    "            \n",
    "        elif op == '-':\n",
    "            result = first - second\n",
    "            \n",
    "        else:\n",
    "            result = 'Not supported'\n",
    "            \n",
    "        return f'{first} {op} {second} = {result}'    # return a string\n",
    "        \n",
    "    else:\n",
    "        \n",
    "        return f'{first} and {second} must both be numeric'  # return a string"
   ]
  },
  {
   "cell_type": "code",
   "execution_count": 29,
   "id": "d179b06d",
   "metadata": {},
   "outputs": [
    {
     "name": "stdout",
     "output_type": "stream",
     "text": [
      "10 + 3 = 13\n"
     ]
    }
   ],
   "source": [
    "answer = calc('10', '+', '3')   # capture the string returned by cal...\n",
    "print(answer)                   # ... print that captured string"
   ]
  },
  {
   "cell_type": "markdown",
   "id": "80048918",
   "metadata": {},
   "source": [
    "# What might we return from a function?\n",
    "\n",
    "- We can return a string (if the function did something with text)\n",
    "- We can return a boolean (`True`/ `False`) if we just want know if something is true or not\n",
    "- We can return an integer or float, if we calculated something...\n",
    "- ... basically, we can return *any value* at all."
   ]
  },
  {
   "cell_type": "markdown",
   "id": "432a6f1b",
   "metadata": {},
   "source": [
    "# Exercise: Biggest and smallest\n",
    "\n",
    "1. Write a function, `biggest_and_smallest`, which will take one argument -- a list of integers. \n",
    "2. The function will return a 2-element list.  On that list will be:\n",
    "    - the smallest value in the input argument list\n",
    "    - the biggest value in the input argument list\n",
    "\n",
    "Example:\n",
    "\n",
    "```python\n",
    "biggest_and_smallest([10, 30, 5, 18, 27, 42, 15])   # returns [5, 42]\n",
    "```"
   ]
  },
  {
   "cell_type": "code",
   "execution_count": 32,
   "id": "1308dd83",
   "metadata": {},
   "outputs": [],
   "source": [
    "def biggest_and_smallest(numbers):   # numbers will be a list of integers\n",
    "    biggest = numbers[0]             # assume that numbers[0] is the largest\n",
    "    smallest = numbers[0]            # assume that numbers[0] is also the smallest\n",
    "    \n",
    "    for one_number in numbers:       # go through each element in numbers\n",
    "\n",
    "        if one_number > biggest:     # is it bigger than what we've seen before?\n",
    "            biggest = one_number     # if so, declare it the biggest (so far)\n",
    "            \n",
    "        if one_number < smallest:    # is it smaller than what we've seen before?\n",
    "            smallest = one_number    # if so, declare it the smallest\n",
    "    \n",
    "    return [smallest, biggest]       # return a 2-element list with smallest and biggest"
   ]
  },
  {
   "cell_type": "code",
   "execution_count": 33,
   "id": "5c4cf0ba",
   "metadata": {},
   "outputs": [
    {
     "data": {
      "text/plain": [
       "[5, 42]"
      ]
     },
     "execution_count": 33,
     "metadata": {},
     "output_type": "execute_result"
    }
   ],
   "source": [
    "biggest_and_smallest([10, 30, 5, 18, 27, 42, 15])"
   ]
  },
  {
   "cell_type": "code",
   "execution_count": 34,
   "id": "d96326be",
   "metadata": {},
   "outputs": [
    {
     "data": {
      "text/plain": [
       "5"
      ]
     },
     "execution_count": 34,
     "metadata": {},
     "output_type": "execute_result"
    }
   ],
   "source": [
    "numbers = [10, 30, 5, 18, 27, 42, 15]\n",
    "min(numbers)"
   ]
  },
  {
   "cell_type": "code",
   "execution_count": 35,
   "id": "5fceea61",
   "metadata": {},
   "outputs": [
    {
     "data": {
      "text/plain": [
       "42"
      ]
     },
     "execution_count": 35,
     "metadata": {},
     "output_type": "execute_result"
    }
   ],
   "source": [
    "max(numbers)"
   ]
  },
  {
   "cell_type": "code",
   "execution_count": 36,
   "id": "fcaf02f3",
   "metadata": {},
   "outputs": [
    {
     "data": {
      "text/plain": [
       "['a', 'b', 'c', 'd']"
      ]
     },
     "execution_count": 36,
     "metadata": {},
     "output_type": "execute_result"
    }
   ],
   "source": [
    "list('abcd')  # this should work -- if it doesn't, you probably assigned to a variable you called \"list\" -- BAD!"
   ]
  },
  {
   "cell_type": "code",
   "execution_count": 37,
   "id": "eb060bfa",
   "metadata": {},
   "outputs": [],
   "source": [
    "# NEVER EVER EVER EVER EVER EVER EVER EVER EVER EVER use list, str, int, etc., as variable names\n",
    "# Python will let you do this, but it's a *REALLY* bad idea.\n",
    "\n",
    "# will this work? yes, absolutely.\n",
    "# but we hadn't learned min and max, so I didn't expect you to use it!\n",
    "\n",
    "def min_max_val(mylist):\n",
    "    return [min(mylist), max(mylist)]"
   ]
  },
  {
   "cell_type": "markdown",
   "id": "62a9d158",
   "metadata": {},
   "source": [
    "# Types of arguments in Python\n",
    "\n",
    "Python has two different types of arguments. This has **nothing** to do with what types of data the arguments contain. Any argument can contain any value of any type. \n",
    "\n",
    "These two types of arguments are:\n",
    "\n",
    "- Positional arguments -- this is what we've seen so far. If a function has three parameters, then we'll pass three arguments. The arguments are assigned to parameters in the order that they're passed.\n",
    "- Keyword arguments -- we haven't seen these yet, but they exist. These arguments look like `name=value`, with an `=` sign between them, and a `name` that refers to a parameter."
   ]
  },
  {
   "cell_type": "code",
   "execution_count": 38,
   "id": "69b98808",
   "metadata": {},
   "outputs": [
    {
     "data": {
      "text/plain": [
       "36"
      ]
     },
     "execution_count": 38,
     "metadata": {},
     "output_type": "execute_result"
    }
   ],
   "source": [
    "def add(x, y):\n",
    "    return x + y\n",
    "\n",
    "add(10, 3)       # both are positional; x will get 10 and y will get 3\n",
    "add(x=30, y=6)   # both are keyword arguments; x gets 30 and y gets 6"
   ]
  },
  {
   "cell_type": "code",
   "execution_count": 39,
   "id": "f16ff12d",
   "metadata": {},
   "outputs": [
    {
     "data": {
      "text/plain": [
       "36"
      ]
     },
     "execution_count": 39,
     "metadata": {},
     "output_type": "execute_result"
    }
   ],
   "source": [
    "add(30, y=6)     # can I do this? YES, if all positional are before all keyword"
   ]
  },
  {
   "cell_type": "code",
   "execution_count": 41,
   "id": "3535827b",
   "metadata": {},
   "outputs": [
    {
     "ename": "SyntaxError",
     "evalue": "positional argument follows keyword argument (1922317509.py, line 1)",
     "output_type": "error",
     "traceback": [
      "\u001b[0;36m  Cell \u001b[0;32mIn [41], line 1\u001b[0;36m\u001b[0m\n\u001b[0;31m    add(x=30, 6)    # all positional arguments MUST come before all keyword arguments\u001b[0m\n\u001b[0m               ^\u001b[0m\n\u001b[0;31mSyntaxError\u001b[0m\u001b[0;31m:\u001b[0m positional argument follows keyword argument\n"
     ]
    }
   ],
   "source": [
    "add(x=30, 6)    # all positional arguments MUST come before all keyword arguments"
   ]
  },
  {
   "cell_type": "markdown",
   "id": "56bfe12b",
   "metadata": {},
   "source": [
    "# Exercise: Name and age\n",
    "\n",
    "1. Write a function that expects to get two argument values, one that'll be assigned to `name` and the other to `age`.\n",
    "2. The function should return both of these in a string.\n",
    "3. Call the function in as many different ways as possible, with different types of arguments (positional and keyword)."
   ]
  },
  {
   "cell_type": "code",
   "execution_count": 42,
   "id": "9eb1e0f3",
   "metadata": {},
   "outputs": [
    {
     "data": {
      "text/plain": [
       "'Hello, Reuven. You are 52 years old.'"
      ]
     },
     "execution_count": 42,
     "metadata": {},
     "output_type": "execute_result"
    }
   ],
   "source": [
    "def hello(name, age):   # the function expects to get two arguments, which will be assigned to name and age\n",
    "    return f'Hello, {name}. You are {age} years old.'\n",
    "\n",
    "\n",
    "# let's call this with two positional arguments\n",
    "# the arguments will be assigned to the parameters in order\n",
    "\n",
    "hello('Reuven', 52)  # positional, positional\n",
    "    "
   ]
  },
  {
   "cell_type": "code",
   "execution_count": 43,
   "id": "7a9caa50",
   "metadata": {},
   "outputs": [
    {
     "data": {
      "text/plain": [
       "'Hello, Reuven. You are 52 years old.'"
      ]
     },
     "execution_count": 43,
     "metadata": {},
     "output_type": "execute_result"
    }
   ],
   "source": [
    "hello(name='Reuven', age=52)  # keyword, keyword\n"
   ]
  },
  {
   "cell_type": "code",
   "execution_count": 44,
   "id": "481156af",
   "metadata": {},
   "outputs": [
    {
     "data": {
      "text/plain": [
       "'Hello, Reuven. You are 52 years old.'"
      ]
     },
     "execution_count": 44,
     "metadata": {},
     "output_type": "execute_result"
    }
   ],
   "source": [
    "hello('Reuven', age=52)  # positional, keyword\n"
   ]
  },
  {
   "cell_type": "code",
   "execution_count": 45,
   "id": "5f0ee09d",
   "metadata": {},
   "outputs": [
    {
     "ename": "SyntaxError",
     "evalue": "positional argument follows keyword argument (270408891.py, line 3)",
     "output_type": "error",
     "traceback": [
      "\u001b[0;36m  Cell \u001b[0;32mIn [45], line 3\u001b[0;36m\u001b[0m\n\u001b[0;31m    hello(name='Reuven', 52)  # keyword then positional...\u001b[0m\n\u001b[0m                           ^\u001b[0m\n\u001b[0;31mSyntaxError\u001b[0m\u001b[0;31m:\u001b[0m positional argument follows keyword argument\n"
     ]
    }
   ],
   "source": [
    "# what if we put keyword first? (Not good!)\n",
    "\n",
    "hello(name='Reuven', 52)  # keyword then positional...\n"
   ]
  },
  {
   "cell_type": "markdown",
   "id": "d40b1096",
   "metadata": {},
   "source": [
    "# Optional arguments\n",
    "\n",
    "Normally, when we call a function, we have to pass the same number of arguments as there are parameters. But what if I want one of my parameters to not be mandatory, to have a default argument value?\n",
    "\n",
    "We can do this by defining our function such that one or more parameters have default values.\n",
    "\n",
    "The way we do this is by putting `=` and the value in our function definition:\n",
    "\n"
   ]
  },
  {
   "cell_type": "code",
   "execution_count": 46,
   "id": "5f00b1b0",
   "metadata": {},
   "outputs": [
    {
     "data": {
      "text/plain": [
       "10"
      ]
     },
     "execution_count": 46,
     "metadata": {},
     "output_type": "execute_result"
    }
   ],
   "source": [
    "def add(x, y):\n",
    "    return x + y\n",
    "\n",
    "add(10, 3)\n",
    "add(2, 8)"
   ]
  },
  {
   "cell_type": "code",
   "execution_count": 47,
   "id": "065d2e23",
   "metadata": {},
   "outputs": [
    {
     "ename": "TypeError",
     "evalue": "add() missing 1 required positional argument: 'y'",
     "output_type": "error",
     "traceback": [
      "\u001b[0;31m---------------------------------------------------------------------------\u001b[0m",
      "\u001b[0;31mTypeError\u001b[0m                                 Traceback (most recent call last)",
      "Cell \u001b[0;32mIn [47], line 5\u001b[0m\n\u001b[1;32m      1\u001b[0m \u001b[38;5;66;03m# I must pass two arguments\u001b[39;00m\n\u001b[1;32m      2\u001b[0m \n\u001b[1;32m      3\u001b[0m \u001b[38;5;66;03m# If I pass only one, Python will complain!\u001b[39;00m\n\u001b[0;32m----> 5\u001b[0m \u001b[43madd\u001b[49m\u001b[43m(\u001b[49m\u001b[38;5;241;43m10\u001b[39;49m\u001b[43m)\u001b[49m   \u001b[38;5;66;03m# this will give us an error\u001b[39;00m\n",
      "\u001b[0;31mTypeError\u001b[0m: add() missing 1 required positional argument: 'y'"
     ]
    }
   ],
   "source": [
    "# I must pass two arguments\n",
    "\n",
    "# If I pass only one, Python will complain!\n",
    "\n",
    "add(10)   # this will give us an error"
   ]
  },
  {
   "cell_type": "code",
   "execution_count": 48,
   "id": "e473c664",
   "metadata": {},
   "outputs": [],
   "source": [
    "# I want y to be optional, with a default value of 10\n",
    "\n",
    "# I can say:\n",
    "\n",
    "def add(x, y=10):   # this is how we write a default value\n",
    "    return x + y"
   ]
  },
  {
   "cell_type": "code",
   "execution_count": 49,
   "id": "e35d7ba8",
   "metadata": {},
   "outputs": [
    {
     "data": {
      "text/plain": [
       "13"
      ]
     },
     "execution_count": 49,
     "metadata": {},
     "output_type": "execute_result"
    }
   ],
   "source": [
    "add(3)  # y got the default value"
   ]
  },
  {
   "cell_type": "code",
   "execution_count": 50,
   "id": "105ac05f",
   "metadata": {},
   "outputs": [
    {
     "data": {
      "text/plain": [
       "20"
      ]
     },
     "execution_count": 50,
     "metadata": {},
     "output_type": "execute_result"
    }
   ],
   "source": [
    "add(10)  # y got the default value"
   ]
  },
  {
   "cell_type": "code",
   "execution_count": 51,
   "id": "4d630b55",
   "metadata": {},
   "outputs": [
    {
     "data": {
      "text/plain": [
       "50"
      ]
     },
     "execution_count": 51,
     "metadata": {},
     "output_type": "execute_result"
    }
   ],
   "source": [
    "add(10, 40)"
   ]
  },
  {
   "cell_type": "markdown",
   "id": "0ef15dd0",
   "metadata": {},
   "source": [
    "# Next up:\n",
    "\n",
    "1. A bit about parameter typing\n",
    "2. Complex return values\n",
    "3. Local vs. global variables"
   ]
  },
  {
   "cell_type": "markdown",
   "id": "324e9095",
   "metadata": {},
   "source": [
    "# f-strings (\"format strings\" or \"fancy strings\")\n",
    "\n",
    "Normally, a string contains precisely the characters that we write in it:\n",
    "\n",
    "    s = 'abcde'\n",
    "    \n",
    "`s` now contains 5 characters, exactly what we've written.  This is fine, until we want to have the value of a variable in a string. Then things get tricky:\n",
    "\n",
    "    name = 'Reuven'\n",
    "    print('Hello', + name)\n",
    "    \n",
    "A better (and more modern) way is to use an f-string, aka a \"format string,\" which is just like a regular string *except* that inside of `{}`, it lets us put Python expressions -- including variables. Any value in the `{}` is turned into a string before it's then connected with its surroundings:\n",
    "\n",
    "    name = 'Reuven'\n",
    "    print(f'Hello, {name}!')   # using an f-string makes it more natural to include name in the output\n",
    "    \n",
    "There is **ZERO** connection between f-strings and `print`, and f-strings and `return`. f-strings are just used to create new strings. But since we're often printing and returning strings, they do show up there a fair amount.    \n",
    "\n",
    "Because an f-string handles any Python expression, we can do things like this:\n",
    "\n",
    "    name = 'Reuven'\n",
    "    print(f'Hello, {name.upper()}!'   # this will print my name as REUVEN in all caps\n",
    "    \n",
    "I can also say:\n",
    "\n",
    "    x = 10\n",
    "    y = 20\n",
    "    print(f'{x} + {y} = {x+y}')       # here, we're adding x+y inside of {} in an f-string..."
   ]
  },
  {
   "cell_type": "code",
   "execution_count": 52,
   "id": "1e98ded8",
   "metadata": {},
   "outputs": [],
   "source": [
    "def myfunc(a, b, c, d):\n",
    "    return f'{a=}, {b=}, {c=}, {d=}'  # in an f-string, {varname=} will print the name=value"
   ]
  },
  {
   "cell_type": "code",
   "execution_count": 53,
   "id": "16813a49",
   "metadata": {},
   "outputs": [
    {
     "data": {
      "text/plain": [
       "'a=10, b=20, c=30, d=40'"
      ]
     },
     "execution_count": 53,
     "metadata": {},
     "output_type": "execute_result"
    }
   ],
   "source": [
    "myfunc(10, 20, 30, 40)   # all positional"
   ]
  },
  {
   "cell_type": "code",
   "execution_count": 54,
   "id": "0ebc4d4f",
   "metadata": {},
   "outputs": [
    {
     "data": {
      "text/plain": [
       "'a=10, b=20, c=30, d=40'"
      ]
     },
     "execution_count": 54,
     "metadata": {},
     "output_type": "execute_result"
    }
   ],
   "source": [
    "# parameters: a   b   c  d\n",
    "# arguments:  10 20   30 40\n",
    "\n",
    "myfunc(10, 20, c=30, d=40)  # a and b are positional, c and d are keyword"
   ]
  },
  {
   "cell_type": "code",
   "execution_count": 55,
   "id": "23673548",
   "metadata": {},
   "outputs": [
    {
     "ename": "TypeError",
     "evalue": "myfunc() got multiple values for argument 'a'",
     "output_type": "error",
     "traceback": [
      "\u001b[0;31m---------------------------------------------------------------------------\u001b[0m",
      "\u001b[0;31mTypeError\u001b[0m                                 Traceback (most recent call last)",
      "Cell \u001b[0;32mIn [55], line 3\u001b[0m\n\u001b[1;32m      1\u001b[0m \u001b[38;5;66;03m# What if I do this?\u001b[39;00m\n\u001b[0;32m----> 3\u001b[0m \u001b[43mmyfunc\u001b[49m\u001b[43m(\u001b[49m\u001b[38;5;241;43m10\u001b[39;49m\u001b[43m,\u001b[49m\u001b[43m \u001b[49m\u001b[38;5;241;43m20\u001b[39;49m\u001b[43m,\u001b[49m\u001b[43m \u001b[49m\u001b[43ma\u001b[49m\u001b[38;5;241;43m=\u001b[39;49m\u001b[38;5;241;43m30\u001b[39;49m\u001b[43m,\u001b[49m\u001b[43m \u001b[49m\u001b[43mb\u001b[49m\u001b[38;5;241;43m=\u001b[39;49m\u001b[38;5;241;43m40\u001b[39;49m\u001b[43m)\u001b[49m  \u001b[38;5;66;03m# this will fail\u001b[39;00m\n",
      "\u001b[0;31mTypeError\u001b[0m: myfunc() got multiple values for argument 'a'"
     ]
    }
   ],
   "source": [
    "# What if I do this?\n",
    "\n",
    "myfunc(10, 20, a=30, b=40)  # this will fail"
   ]
  },
  {
   "cell_type": "markdown",
   "id": "38c2828e",
   "metadata": {},
   "source": [
    "# Argument typing"
   ]
  },
  {
   "cell_type": "code",
   "execution_count": 56,
   "id": "ad6859df",
   "metadata": {},
   "outputs": [],
   "source": [
    "def hello(name):\n",
    "    return f'Hello, {name}!'\n",
    "\n"
   ]
  },
  {
   "cell_type": "code",
   "execution_count": 57,
   "id": "39c690d3",
   "metadata": {},
   "outputs": [
    {
     "data": {
      "text/plain": [
       "'Hello, Reuven!'"
      ]
     },
     "execution_count": 57,
     "metadata": {},
     "output_type": "execute_result"
    }
   ],
   "source": [
    "hello('Reuven')"
   ]
  },
  {
   "cell_type": "code",
   "execution_count": 58,
   "id": "f3148cf4",
   "metadata": {},
   "outputs": [
    {
     "data": {
      "text/plain": [
       "'Hello, 5!'"
      ]
     },
     "execution_count": 58,
     "metadata": {},
     "output_type": "execute_result"
    }
   ],
   "source": [
    "# can I pass an integer?\n",
    "hello(5)"
   ]
  },
  {
   "cell_type": "code",
   "execution_count": 59,
   "id": "204f5bca",
   "metadata": {},
   "outputs": [
    {
     "data": {
      "text/plain": [
       "'Hello, [10, 20, 30]!'"
      ]
     },
     "execution_count": 59,
     "metadata": {},
     "output_type": "execute_result"
    }
   ],
   "source": [
    "# can I pass a list?\n",
    "hello([10, 20, 30])"
   ]
  },
  {
   "cell_type": "code",
   "execution_count": 60,
   "id": "9a227b2e",
   "metadata": {},
   "outputs": [
    {
     "data": {
      "text/plain": [
       "'Hello, <function hello at 0x109ac1f80>!'"
      ]
     },
     "execution_count": 60,
     "metadata": {},
     "output_type": "execute_result"
    }
   ],
   "source": [
    "# can I pass something else?\n",
    "hello(hello)"
   ]
  },
  {
   "cell_type": "code",
   "execution_count": 61,
   "id": "a52ce99c",
   "metadata": {},
   "outputs": [],
   "source": [
    "# how can I enforce the idea that I only want to get strings as arguments?\n",
    "# answer: you switch to another programming language...\n",
    "\n",
    "# Python is a dynamic language. We have no way to really stop people from passing\n",
    "# arguments that are inappropriate to what we want to do.\n",
    "\n",
    "# our best bet is to write good documentation, so that people will call\n",
    "# our function(s) with the right values.\n",
    "\n",
    "# one way to write the documentation is as a \"docstring\" in your function. If the first\n",
    "# line of the function contains a string, then that string is the documentation\n",
    "# for other developers who want to use your function.\n",
    "\n",
    "def hello(name):\n",
    "    \"\"\"Function to greet people nicely.\n",
    "    \n",
    "    Expects: string\n",
    "    Modifies: nothing\n",
    "    Returns: string\n",
    "    \n",
    "    \"\"\"\n",
    "    return f'Hello, {name}!'"
   ]
  },
  {
   "cell_type": "code",
   "execution_count": 62,
   "id": "5551ed07",
   "metadata": {},
   "outputs": [
    {
     "data": {
      "text/plain": [
       "'Hello, 234515325!'"
      ]
     },
     "execution_count": 62,
     "metadata": {},
     "output_type": "execute_result"
    }
   ],
   "source": [
    "hello(234515325)"
   ]
  },
  {
   "cell_type": "code",
   "execution_count": 63,
   "id": "32dbfc93",
   "metadata": {},
   "outputs": [
    {
     "name": "stdout",
     "output_type": "stream",
     "text": [
      "Help on function hello in module __main__:\n",
      "\n",
      "hello(name)\n",
      "    Function to greet people nicely.\n",
      "    \n",
      "    Expects: string\n",
      "    Modifies: nothing\n",
      "    Returns: string\n",
      "\n"
     ]
    }
   ],
   "source": [
    "help(hello)  # notice -- not calling hello! I'm passing it as an argument to help"
   ]
  },
  {
   "cell_type": "markdown",
   "id": "2fcba84b",
   "metadata": {},
   "source": [
    "# Exercise: Vowel count\n",
    "\n",
    "1. Write a function, `vowel_count`, that takes a filename (string) as an argument.\n",
    "2. At the start of the function, define an `output` dict in which vowels (a, e, i, o, u) are the keys are 0s are the values.\n",
    "3. The function should open the file, and go through it -- one line at a time, and one character at a time.\n",
    "4. If you encounter a vowel, increment its count.\n",
    "5. Return the dict."
   ]
  },
  {
   "cell_type": "code",
   "execution_count": 66,
   "id": "ca741f47",
   "metadata": {},
   "outputs": [
    {
     "data": {
      "text/plain": [
       "{'a': 481, 'e': 624, 'i': 348, 'o': 257, 'u': 178}"
      ]
     },
     "execution_count": 66,
     "metadata": {},
     "output_type": "execute_result"
    }
   ],
   "source": [
    "def vowel_count(filename):\n",
    "    \"\"\"Returns a dict in which the keys are vowels and the values are vowel counts.\n",
    "    \n",
    "    Expects: That filename is a string, the name of a text file\n",
    "    Modifies: Nothing\n",
    "    Returns: A dict with 5 (a, e, i, o, u) keys and values reflecting the file we read from.\n",
    "    \"\"\"\n",
    "    \n",
    "    output = {'a':0, 'e':0, 'i':0, 'o':0, 'u':0}\n",
    "    \n",
    "    for one_line in open(filename):\n",
    "        for one_character in one_line:\n",
    "            if one_character in output:      # is this character a vowel?\n",
    "                output[one_character] += 1   # increase its count by 1\n",
    "    \n",
    "    return output\n",
    "\n",
    "vowel_count('/etc/passwd')  # we pass a string to the function, which will be assigned to filename\n",
    "    "
   ]
  },
  {
   "cell_type": "markdown",
   "id": "ce6b6be4",
   "metadata": {},
   "source": [
    "# Complex return values\n",
    "\n",
    "We've now seen that a function can return any type of Python data:\n",
    "\n",
    "- numbers\n",
    "- strings\n",
    "- lists and tuples\n",
    "- dicts\n",
    "\n",
    "If we want to return different types to the caller, then we can return a tuple. Better yet, it consumes very little memory. Even better than that is the fact that we can take advantage of tuple unpacking.\n",
    "\n",
    "\n"
   ]
  },
  {
   "cell_type": "markdown",
   "id": "c6f1bd0d",
   "metadata": {},
   "source": [
    "# Exercise: Filter vowels\n",
    "\n",
    "1. Write a function, `filter_vowels`, which takes a string (not a filename) and goes through the string, one character at a time.\n",
    "2. Define `vowels`, a dictionary whose keys are vowels.\n",
    "3. Go through the string, one character at a time:\n",
    "    - If the character is a vowel, increment its count in the dict.\n",
    "    - If it's not a vowel, then add it to the string of non-vowel output characters.\n",
    "4. When you're done going through the string, return a tuple of two elements: \n",
    "    - the output string, aka the input string minus its vowels\n",
    "    - the dict of vowel counts we did"
   ]
  },
  {
   "cell_type": "code",
   "execution_count": 67,
   "id": "8cb4866f",
   "metadata": {},
   "outputs": [],
   "source": [
    "def filter_vowels(s):\n",
    "    output = ''\n",
    "    \n",
    "    for one_character in s:\n",
    "        if one_character in 'aeiou':\n",
    "            print(f'Ignoring vowel {one_character}')\n",
    "        else:\n",
    "            output += one_character   # ignore vowels, keep others\n",
    "            \n",
    "    return output\n",
    "            "
   ]
  },
  {
   "cell_type": "code",
   "execution_count": 68,
   "id": "054884a5",
   "metadata": {},
   "outputs": [
    {
     "name": "stdout",
     "output_type": "stream",
     "text": [
      "Ignoring vowel e\n",
      "Ignoring vowel o\n",
      "Ignoring vowel o\n",
      "Ignoring vowel a\n",
      "Ignoring vowel o\n",
      "Ignoring vowel o\n",
      "Ignoring vowel u\n"
     ]
    },
    {
     "data": {
      "text/plain": [
       "'hll t ll f y!'"
      ]
     },
     "execution_count": 68,
     "metadata": {},
     "output_type": "execute_result"
    }
   ],
   "source": [
    "filter_vowels('hello to all of you!')"
   ]
  },
  {
   "cell_type": "code",
   "execution_count": 70,
   "id": "eb9fd158",
   "metadata": {},
   "outputs": [],
   "source": [
    "def filter_vowels(s):\n",
    "    output = ''\n",
    "    count = {'a':0, 'e':0, 'i':0, 'o':0, 'u':0}\n",
    "    \n",
    "    for one_character in s:\n",
    "        if one_character in count:\n",
    "            count[one_character] += 1  # count the vowel characters we've enocuntered\n",
    "        else:\n",
    "            output += one_character   # ignore vowels, keep others\n",
    "            \n",
    "    return output, count   # return a tuple of the output string and also the count\n",
    "            "
   ]
  },
  {
   "cell_type": "code",
   "execution_count": 71,
   "id": "5d7a3dc7",
   "metadata": {},
   "outputs": [
    {
     "data": {
      "text/plain": [
       "('hll t ll f y!', {'a': 1, 'e': 1, 'i': 0, 'o': 4, 'u': 1})"
      ]
     },
     "execution_count": 71,
     "metadata": {},
     "output_type": "execute_result"
    }
   ],
   "source": [
    "filter_vowels('hello to all of you!')"
   ]
  },
  {
   "cell_type": "markdown",
   "id": "620a33fe",
   "metadata": {},
   "source": [
    "# Tuple unpacking\n",
    "\n",
    "You might remember that if we have a data structure that is iterable, and I put it on the right side of assignment, then the left side can contain the same number of variables.\n",
    "\n",
    "```python\n",
    "\n",
    "mylist = [10, 20, 30]\n",
    "\n",
    "x,y,z = mylist  # now, x is 10, y is 20, z is 30\n",
    "```"
   ]
  },
  {
   "cell_type": "code",
   "execution_count": 72,
   "id": "d8cbc2ba",
   "metadata": {},
   "outputs": [],
   "source": [
    "\n",
    "mylist = [10, 20, 30]\n",
    "\n",
    "x,y,z = mylist  # now, x is 10, y is 20, z is 30"
   ]
  },
  {
   "cell_type": "code",
   "execution_count": 73,
   "id": "83246e7d",
   "metadata": {},
   "outputs": [
    {
     "data": {
      "text/plain": [
       "10"
      ]
     },
     "execution_count": 73,
     "metadata": {},
     "output_type": "execute_result"
    }
   ],
   "source": [
    "x"
   ]
  },
  {
   "cell_type": "code",
   "execution_count": 74,
   "id": "0a214e3a",
   "metadata": {},
   "outputs": [
    {
     "data": {
      "text/plain": [
       "20"
      ]
     },
     "execution_count": 74,
     "metadata": {},
     "output_type": "execute_result"
    }
   ],
   "source": [
    "y"
   ]
  },
  {
   "cell_type": "code",
   "execution_count": 75,
   "id": "c703a7dd",
   "metadata": {},
   "outputs": [
    {
     "data": {
      "text/plain": [
       "30"
      ]
     },
     "execution_count": 75,
     "metadata": {},
     "output_type": "execute_result"
    }
   ],
   "source": [
    "z"
   ]
  },
  {
   "cell_type": "code",
   "execution_count": 76,
   "id": "7d20486f",
   "metadata": {},
   "outputs": [],
   "source": [
    "filtered_string, removed_vowels = filter_vowels('hello to all of you!')"
   ]
  },
  {
   "cell_type": "code",
   "execution_count": 77,
   "id": "cd89b70a",
   "metadata": {},
   "outputs": [
    {
     "data": {
      "text/plain": [
       "'hll t ll f y!'"
      ]
     },
     "execution_count": 77,
     "metadata": {},
     "output_type": "execute_result"
    }
   ],
   "source": [
    "filtered_string"
   ]
  },
  {
   "cell_type": "code",
   "execution_count": 78,
   "id": "1c3b70b2",
   "metadata": {},
   "outputs": [
    {
     "data": {
      "text/plain": [
       "{'a': 1, 'e': 1, 'i': 0, 'o': 4, 'u': 1}"
      ]
     },
     "execution_count": 78,
     "metadata": {},
     "output_type": "execute_result"
    }
   ],
   "source": [
    "removed_vowels"
   ]
  },
  {
   "cell_type": "markdown",
   "id": "e3b171dc",
   "metadata": {},
   "source": [
    "# Next up:\n",
    "\n",
    "- Local vs global \n",
    "- Online interactive challenge"
   ]
  },
  {
   "cell_type": "markdown",
   "id": "c8e3fa5a",
   "metadata": {},
   "source": [
    "# Exercise: `filter_characters`\n",
    "\n",
    "Write a function, `filter_characters`, that works just like my implementation of `filter_vowels`. That is, you pass a string, and you get back (a) the string without vowels and (b) a dict whose keys are vowels and whose values are the number of each vowel that was removed.\n",
    "\n",
    "However, this function will differ in that it'll allow the function's caller to determine which characters are filtered out. The default will be vowels (a, e, i, o, and u), but the caller can change that by passing an string argument, `filter_chars`.  \n",
    "\n",
    "The elements of `filter_chars` (a string) will be the keys in the filtered dictionary we get back.\n",
    "\n",
    "I should be able to say:\n",
    "\n",
    "```python\n",
    "filtered_string, removed_characters = filter_characters('hello to all of you!')  # here, we'll remove vowels\n",
    "filtered_string, removed_characters = filter_characters('hello to all of you!', '.!@#')  # removed punctuation\n",
    "```"
   ]
  },
  {
   "cell_type": "code",
   "execution_count": 81,
   "id": "3cf89b88",
   "metadata": {},
   "outputs": [
    {
     "data": {
      "text/plain": [
       "('hll t ll f y!', {'a': 1, 'e': 1, 'i': 0, 'o': 4, 'u': 1})"
      ]
     },
     "execution_count": 81,
     "metadata": {},
     "output_type": "execute_result"
    }
   ],
   "source": [
    "def filter_characters(s, filter_chars='aeiou'):  # filter_chars defaults to 'aeiou', but can be any string\n",
    "    output = ''\n",
    "\n",
    "    # create and populate our filter dict\n",
    "    count = {}\n",
    "    for one_character in filter_chars:\n",
    "        count[one_character] = 0\n",
    "\n",
    "    # go through each character in s...\n",
    "    for one_character in s:\n",
    "        if one_character in count:\n",
    "            count[one_character] += 1  \n",
    "        else:\n",
    "            output += one_character   \n",
    "            \n",
    "    return output, count   \n",
    "            \n",
    "    \n",
    "filter_characters('hello to all of you!')     # just like filter_vowels did, which is what I want"
   ]
  },
  {
   "cell_type": "code",
   "execution_count": 82,
   "id": "b6f36928",
   "metadata": {},
   "outputs": [
    {
     "data": {
      "text/plain": [
       "('hello to all of you', {'.': 0, '!': 1, '?': 0})"
      ]
     },
     "execution_count": 82,
     "metadata": {},
     "output_type": "execute_result"
    }
   ],
   "source": [
    "filter_characters('hello to all of you!', '.!?')  "
   ]
  },
  {
   "cell_type": "markdown",
   "id": "6b0ddb8b",
   "metadata": {},
   "source": [
    "# Local vs. global variables\n",
    "\n",
    "Outside of a function, all of our variables have been *global*. That means that if I set `x = 100` in one part of a program, then everyone else will see that `x` is 100.  These variables are available to everyone, from everywhere.\n",
    "\n",
    "That could be useful, right? Maybe... but over the years, software developers have generally found that global variables cause confusion, trouble, and bugs. It's better to keep things *local*, so that we don't have variable sitting around, using memory, and potentially confusing us.\n",
    "\n",
    "Let's say a function uses a variable `x`. Then I use a variable `x` in one of my functions. If these were both global variables, then assigning to `x` in one function would affect the `x` in the other function, and vice versa.\n",
    "\n",
    "Inside of a function, then, variables are *local*. They only exist so long as the function is running. When the function ends, local variables are all deleted.\n",
    "\n",
    "Many people believe that in Python, indentation = local scope. This is *not* the case! Local variables in Python can only exist inside of the function body."
   ]
  },
  {
   "cell_type": "code",
   "execution_count": null,
   "id": "677be380",
   "metadata": {},
   "outputs": [],
   "source": []
  },
  {
   "cell_type": "code",
   "execution_count": 88,
   "id": "9e910209",
   "metadata": {},
   "outputs": [
    {
     "name": "stdout",
     "output_type": "stream",
     "text": [
      "Before, x=100\n",
      "Now running myfunc\n",
      "x=200\n",
      "After x=100\n"
     ]
    }
   ],
   "source": [
    "x = 100    # global variable x, continues to exit\n",
    "\n",
    "def myfunc():\n",
    "\n",
    "    # the fact that assign to a variable inside of the function body\n",
    "    # makes it local.  This x is *COMPLETELY* separate and different from the \n",
    "    # global x.\n",
    "\n",
    "    x = 200   # local variable x, only exists within the function\n",
    "    print(f'{x=}')\n",
    "    \n",
    "print(f'Before, {x=}')    \n",
    "myfunc()\n",
    "print(f'After {x=}')"
   ]
  },
  {
   "cell_type": "code",
   "execution_count": 89,
   "id": "9a30ccb1",
   "metadata": {},
   "outputs": [],
   "source": [
    "# many people think that indentation makes for a local variable.  Here's proof that this isn't true:\n",
    "\n",
    "x = 100\n",
    "\n",
    "for one_item in [2,4,6,8,10]:\n",
    "    x = one_item * 20    # does this really affect the global x? YES ABSOLUTELY IT DOES\n",
    "    \n",
    "    "
   ]
  },
  {
   "cell_type": "code",
   "execution_count": 90,
   "id": "ad02320e",
   "metadata": {},
   "outputs": [
    {
     "data": {
      "text/plain": [
       "200"
      ]
     },
     "execution_count": 90,
     "metadata": {},
     "output_type": "execute_result"
    }
   ],
   "source": [
    "x"
   ]
  },
  {
   "cell_type": "code",
   "execution_count": 92,
   "id": "497bbb3e",
   "metadata": {},
   "outputs": [
    {
     "name": "stdout",
     "output_type": "stream",
     "text": [
      "Before, x=100\n",
      "x=100\n",
      "After, x=100\n"
     ]
    }
   ],
   "source": [
    "x = 100\n",
    "\n",
    "def myfunc():\n",
    "    print(f'{x=}')   # in a function, you can refer to a global without trouble -- just don't assign to it\n",
    "    \n",
    "print(f'Before, {x=}')  # outside of any function, so only global variables. We search, find it, and all is good\n",
    "myfunc()  # first we check for a local variable named x... can't find one. So we look for a global variable x\n",
    "print(f'After, {x=}')  # once again, outside a function, so only looking at global variables.\n"
   ]
  },
  {
   "cell_type": "markdown",
   "id": "dbb8a504",
   "metadata": {},
   "source": [
    "# Exercise: Keep locals local\n",
    "\n",
    "1. Define a global list, `numbers`, and assign some numbers to it.\n",
    "2. Write a function, `find_evens`, which takes a list of numbers as an argument, and returns a new list containing the even numbers from that input.\n",
    "3. Call `find_evens` with `numbers`. \n",
    "\n",
    "We'll call `find_evens(numbers)`. Inside of the function, you'll create a new, empty list. You'll go through all of `numbers`, one by one, adding the evens. Then you'll return that list. "
   ]
  },
  {
   "cell_type": "code",
   "execution_count": 93,
   "id": "ca3c057c",
   "metadata": {},
   "outputs": [
    {
     "data": {
      "text/plain": [
       "[10, 18, 12, 42]"
      ]
     },
     "execution_count": 93,
     "metadata": {},
     "output_type": "execute_result"
    }
   ],
   "source": [
    "numbers = [10, 15, 18, 3, -5, 12, 42]  # this \"numbers\" is global\n",
    "\n",
    "def find_evens(list_of_numbers):   # \"list_of_numbers\" is local to find_evens -- doesn't exist anywhere else\n",
    "    output = []                    # output is a local variable\n",
    "    \n",
    "    for one_number in list_of_numbers:\n",
    "        if one_number % 2 == 0:    # if it's even -- dividing by 2 has no remainder\n",
    "            output.append(one_number)\n",
    "            \n",
    "    return output\n",
    "\n",
    "find_evens(numbers)"
   ]
  },
  {
   "cell_type": "code",
   "execution_count": 94,
   "id": "2af581e0",
   "metadata": {},
   "outputs": [],
   "source": [
    "def find_odds(list_of_numbers):   # \"list_of_numbers\" is local to find_evens -- doesn't exist anywhere else\n",
    "    output = []                    # output is a local variable\n",
    "    \n",
    "    for one_number in list_of_numbers:\n",
    "        if one_number % 2 == 1:    # if it's odd -- dividing by 2 has a remainder of 1\n",
    "            output.append(one_number)\n",
    "            \n",
    "    return output\n"
   ]
  },
  {
   "cell_type": "code",
   "execution_count": 95,
   "id": "ed75843b",
   "metadata": {},
   "outputs": [
    {
     "data": {
      "text/plain": [
       "[15, 3, -5]"
      ]
     },
     "execution_count": 95,
     "metadata": {},
     "output_type": "execute_result"
    }
   ],
   "source": [
    "find_odds(numbers)"
   ]
  },
  {
   "cell_type": "code",
   "execution_count": null,
   "id": "a42078f9",
   "metadata": {},
   "outputs": [],
   "source": []
  }
 ],
 "metadata": {
  "kernelspec": {
   "display_name": "Python 3 (ipykernel)",
   "language": "python",
   "name": "python3"
  },
  "language_info": {
   "codemirror_mode": {
    "name": "ipython",
    "version": 3
   },
   "file_extension": ".py",
   "mimetype": "text/x-python",
   "name": "python",
   "nbconvert_exporter": "python",
   "pygments_lexer": "ipython3",
   "version": "3.11.0"
  }
 },
 "nbformat": 4,
 "nbformat_minor": 5
}
