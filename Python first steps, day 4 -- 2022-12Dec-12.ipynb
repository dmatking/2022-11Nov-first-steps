{
 "cells": [
  {
   "cell_type": "markdown",
   "id": "e25fb99d",
   "metadata": {},
   "source": [
    "# Agenda, day 4: Functions!\n",
    "\n",
    "- What are functions? Why do we need them?\n",
    "- Writing simple functions with `def`\n",
    "- Arguments and parameters\n",
    "- Return values\n",
    "- Default argument values\n",
    "- Complex return values\n",
    "- Local vs. global variables\n",
    "- Online challenge"
   ]
  },
  {
   "cell_type": "markdown",
   "id": "31b3f092",
   "metadata": {},
   "source": [
    "# What are functions?\n",
    "\n",
    "We've already seen that functions (and methods) are the *verbs* in a programming language. They do things to the data structures.\n",
    "\n",
    "Examples:\n",
    "\n",
    "```python\n",
    "x = 'abcde'\n",
    "len(x)   # we \"call\" the \"len\" function on the data x, and get back an integer (5)\n",
    "\n",
    "x.upper()  # we \"call\" the \"upper\" method on the data x, and get back a string ('ABCDE')\n",
    "```\n",
    "\n",
    "We call a function/method, and we get back a value.\n",
    "\n",
    "Sometimes, we don't care about the value we get back.  Instead, we care about what the function is doing to the data structure.  In many cases, such functions change the data structure.\n",
    "\n",
    "For example:\n",
    "\n",
    "```python\n",
    "mylist = [10, 20, 30]\n",
    "\n",
    "mylist.append(40)   # the result of calling mylist.append is to change mylist. It returns None\n",
    "```\n",
    "\n",
    "We've seen a variety of functions and methods, for example:\n",
    "\n",
    "- `print`\n",
    "- `input`\n",
    "- `len`\n",
    "- Methods on strings:\n",
    "    - `str.upper`\n",
    "    - `str.lower`\n",
    "    - `str.strip`\n",
    "    - `str.isdigit`\n",
    "- Methods on lists:\n",
    "    - `list.append`\n",
    "    - `list.pop`\n",
    "- Methods on dicts:\n",
    "    - `dict.items`\n",
    "    - `dict.keys`\n",
    "    \n",
    "# Do we really need functions?\n",
    "\n",
    "Answer: No, but we really benefit from them.  They give us the power of **abstraction**. This is one of the most important concepts in all of computer science.\n",
    "\n",
    "The idea of abstraction is that you can think at a higher level if you ignore, or paper over, the underlying details."
   ]
  },
  {
   "cell_type": "markdown",
   "id": "eea9bec9",
   "metadata": {},
   "source": [
    "# To define a new function:\n",
    "\n",
    "- We'll use the `def` keyword\n",
    "- We need to give the function a name\n",
    "- We need to decide what parameters (variables that get values assigned when the function is called) the function will have\n",
    "- We need to write the function's body, which can contain *any* Python code we want, including `if`, `with`, `while`, `for`, and anything else you can imagine."
   ]
  },
  {
   "cell_type": "code",
   "execution_count": 1,
   "id": "29e0de9d",
   "metadata": {},
   "outputs": [],
   "source": [
    "# let's create a simple function that prints \"Hello!\"\n",
    "\n",
    "def hello():         # no parameters -- empty parentheses\n",
    "    print('Hello!')  # function body has 1 line, printing \"Hello!\""
   ]
  },
  {
   "cell_type": "markdown",
   "id": "9cda5613",
   "metadata": {},
   "source": [
    "# What happens when I define a function?\n",
    "\n",
    "1. I create a new \"function object.\"\n",
    "2. I assign that function object to a variable -- in this case, to `hello`.\n",
    "\n",
    "What does this mean to have a \"function object\"? In Python, functions aren't just verbs -- they're also nouns. When we define a function, we're creating a function object, which can (in theory) be stored in a variable, or in a list, or in a dict.  We're not going to do that here, but you can.\n",
    "\n",
    "The difference between string objects, list objects, dict objects, and function objects, is that the last (functions) can execute. But strings, lists, and dicts, cannot."
   ]
  },
  {
   "cell_type": "code",
   "execution_count": 2,
   "id": "5b518ad1",
   "metadata": {},
   "outputs": [
    {
     "name": "stdout",
     "output_type": "stream",
     "text": [
      "Hello!\n"
     ]
    }
   ],
   "source": [
    "# how can I call the function? I name it, and give it parentheses\n",
    "\n",
    "hello()"
   ]
  },
  {
   "cell_type": "code",
   "execution_count": 3,
   "id": "08d3627f",
   "metadata": {},
   "outputs": [
    {
     "name": "stdout",
     "output_type": "stream",
     "text": [
      "Hello!\n"
     ]
    }
   ],
   "source": [
    "# what value did this function return? We know that len() returns the length of an object,\n",
    "# so what value did \"hello\" return?\n",
    "\n",
    "# answer: None, because we didn't say it should return anything else.\n",
    "\n",
    "x = hello()   # assign x the value we got back from calling hello"
   ]
  },
  {
   "cell_type": "code",
   "execution_count": 4,
   "id": "86833c4b",
   "metadata": {},
   "outputs": [
    {
     "name": "stdout",
     "output_type": "stream",
     "text": [
      "None\n"
     ]
    }
   ],
   "source": [
    "print(x)"
   ]
  },
  {
   "cell_type": "code",
   "execution_count": 5,
   "id": "28a59c84",
   "metadata": {},
   "outputs": [],
   "source": [
    "# a function can print however much it wants on the screen, on as many lines\n",
    "# as you want, as many times as it wants... but you only get to return one value."
   ]
  },
  {
   "cell_type": "code",
   "execution_count": 6,
   "id": "da5d0db3",
   "metadata": {},
   "outputs": [
    {
     "name": "stdout",
     "output_type": "stream",
     "text": [
      "Hello!\n"
     ]
    }
   ],
   "source": [
    "# how can we return a value? The \"return\" keyword:\n",
    "\n",
    "def hello():\n",
    "    return 'Hello!'   # now our function, when called, with return a string. We can decide to print (or not)\n",
    "\n",
    "print(hello())        # the function is called, it returns a string, and print displays it on the screen."
   ]
  },
  {
   "cell_type": "code",
   "execution_count": 7,
   "id": "5455648f",
   "metadata": {},
   "outputs": [
    {
     "data": {
      "text/plain": [
       "str"
      ]
     },
     "execution_count": 7,
     "metadata": {},
     "output_type": "execute_result"
    }
   ],
   "source": [
    "# DF asks: does type(hello()) return function\n",
    "\n",
    "type(hello())   # I run hello, and then we're running type on hello's return value"
   ]
  },
  {
   "cell_type": "code",
   "execution_count": 8,
   "id": "9ea65b73",
   "metadata": {},
   "outputs": [
    {
     "data": {
      "text/plain": [
       "function"
      ]
     },
     "execution_count": 8,
     "metadata": {},
     "output_type": "execute_result"
    }
   ],
   "source": [
    "# but if we don't use the parentheses, and thus don't call hello, but merely pass it to type...\n",
    "type(hello)"
   ]
  },
  {
   "cell_type": "markdown",
   "id": "f652460b",
   "metadata": {},
   "source": [
    "# Exercise: Calculator\n",
    "\n",
    "1. Write a function, `calc`, which will act as a simple calculator.  It takes no arguments, but does ask the user to enter three pieces of information:\n",
    "    - `first`, the first number\n",
    "    - `op`, the operator\n",
    "    - `second`, the second number\n",
    "2. Have the function ask the user to enter these three pieces of information. Implement logic to handle `+` and `-`. \n",
    "3. Return the result from this calculation as a string, including the orignal numbers and operator.\n",
    "\n",
    "Example:\n",
    "\n",
    "    First number: 5\n",
    "    Operator: +\n",
    "    First number: 11\n",
    "    5 + 11 = 16\n",
    "    \n",
    "Do try to add some error checking, so that we don't try to turn (non-numeric) strings into integers.    "
   ]
  },
  {
   "cell_type": "code",
   "execution_count": 9,
   "id": "75423f92",
   "metadata": {},
   "outputs": [],
   "source": [
    "def calc():\n",
    "    first = input('First number: ').strip()\n",
    "    op = input('Operator: ').strip()\n",
    "    second = input('Second number: ').strip()\n",
    "    \n",
    "    if first.isdigit() and second.isdigit():\n",
    "        first = int(first)\n",
    "        second = int(second)\n",
    "        \n",
    "        if op == '+':\n",
    "            result = first + second\n",
    "            \n",
    "        elif op == '-':\n",
    "            result = first - second\n",
    "            \n",
    "        else:\n",
    "            result = 'Not supported'\n",
    "            \n",
    "        print(f'{first} {op} {second} = {result}')\n",
    "        \n",
    "    else:\n",
    "        \n",
    "        print(f'{first} and {second} must both be numeric')"
   ]
  },
  {
   "cell_type": "code",
   "execution_count": 10,
   "id": "05013a59",
   "metadata": {},
   "outputs": [
    {
     "name": "stdout",
     "output_type": "stream",
     "text": [
      "First number: 11\n",
      "Operator: +\n",
      "Second number: 5\n",
      "11 + 5 = 16\n"
     ]
    }
   ],
   "source": [
    "calc()"
   ]
  },
  {
   "cell_type": "code",
   "execution_count": 12,
   "id": "c0be73bb",
   "metadata": {},
   "outputs": [
    {
     "name": "stdout",
     "output_type": "stream",
     "text": [
      "First number: 20\n",
      "Operator: -\n",
      "Second number: 8\n",
      "20 - 8 = 12\n"
     ]
    }
   ],
   "source": [
    "calc()"
   ]
  },
  {
   "cell_type": "markdown",
   "id": "1c01f1f0",
   "metadata": {},
   "source": [
    "# Arguments and parameters\n",
    "\n",
    "What we've done, in writing `calc`, works.  But it would be better/nicer/easier if, when we call the function, it doesn't then start asking our end user questions. Instead, it would be better if we could pass the values we want to "
   ]
  }
 ],
 "metadata": {
  "kernelspec": {
   "display_name": "Python 3 (ipykernel)",
   "language": "python",
   "name": "python3"
  },
  "language_info": {
   "codemirror_mode": {
    "name": "ipython",
    "version": 3
   },
   "file_extension": ".py",
   "mimetype": "text/x-python",
   "name": "python",
   "nbconvert_exporter": "python",
   "pygments_lexer": "ipython3",
   "version": "3.11.0"
  }
 },
 "nbformat": 4,
 "nbformat_minor": 5
}
