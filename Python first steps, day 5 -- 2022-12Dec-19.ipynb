{
 "cells": [
  {
   "cell_type": "markdown",
   "id": "f5632591",
   "metadata": {},
   "source": [
    "# Agenda: Day 5 (Modules and packages)\n",
    "\n",
    "1. Review of last week's challenge\n",
    "2. Q&A\n",
    "3. Modules\n",
    "    - Why do need modules?\n",
    "    - Using `import` to load modules\n",
    "    - Different variations on `import`\n",
    "    - Writing a simple module\n",
    "    - How do modules work?\n",
    "4. Python's standard library\n",
    "5. Modules vs. packages\n",
    "6. PyPI\n",
    "    - What is it?\n",
    "    - How can we install things from PyPI?\n",
    "    - Issues with installation\n",
    "    - Understanding how to navigate through and use PyPI\n",
    "7. Next steps -- where do we go from here?    "
   ]
  },
  {
   "cell_type": "code",
   "execution_count": 1,
   "id": "f3e7916c",
   "metadata": {},
   "outputs": [],
   "source": [
    "# Code from the inteactive exercise\n",
    "\n",
    "def count_ips(filename):\n",
    "    output = {}   # new, empty dict\n",
    "\n",
    "    for one_line in open(filename):           # go through the file, one line at a time, assigning to one_line\n",
    "        ip_address = one_line.split()[0]      # grab the IP address from the start of each line\n",
    "\n",
    "        if ip_address in output:              # if we've already seen ip_address, then add 1 to its count\n",
    "            output[ip_address] += 1           # (ip_address is a key in the \"output\" dict)\n",
    "\n",
    "        else:                                 # if this is the first time we see ip_address, set it to be a key\n",
    "            output[ip_address] = 1            # in output, and the value is 1\n",
    "\n",
    "    # - each new IP address adds a new key-value pair to output\n",
    "    # - each repeat IP address adds 1 to the value of the existing key\n",
    "\n",
    "    return output  # this is a dict\n"
   ]
  },
  {
   "cell_type": "code",
   "execution_count": 2,
   "id": "090453ee",
   "metadata": {},
   "outputs": [
    {
     "data": {
      "text/plain": [
       "{'67.218.116.165': 2,\n",
       " '66.249.71.65': 3,\n",
       " '65.55.106.183': 2,\n",
       " '66.249.65.12': 32,\n",
       " '65.55.106.131': 2,\n",
       " '65.55.106.186': 2,\n",
       " '74.52.245.146': 2,\n",
       " '66.249.65.43': 3,\n",
       " '65.55.207.25': 2,\n",
       " '65.55.207.94': 2,\n",
       " '65.55.207.71': 1,\n",
       " '98.242.170.241': 1,\n",
       " '66.249.65.38': 100,\n",
       " '65.55.207.126': 2,\n",
       " '82.34.9.20': 2,\n",
       " '65.55.106.155': 2,\n",
       " '65.55.207.77': 2,\n",
       " '208.80.193.28': 1,\n",
       " '89.248.172.58': 22,\n",
       " '67.195.112.35': 16,\n",
       " '65.55.207.50': 3,\n",
       " '65.55.215.75': 2}"
      ]
     },
     "execution_count": 2,
     "metadata": {},
     "output_type": "execute_result"
    }
   ],
   "source": [
    "count_ips('mini-access-log.txt')"
   ]
  },
  {
   "cell_type": "markdown",
   "id": "d3e752c2",
   "metadata": {},
   "source": [
    "# Modules\n",
    "\n",
    "One of the main things to keep in mind when programming is the DRY (\"don't repeat yourself\") rule:\n",
    "\n",
    "- If you have several lines of code in a row that basically repeat themselves, you can replace them with a `for` loop.\n",
    "- If you have several lines of code that repeat themselves in various places in your program, then you can replace them with a function.\n",
    "- If you have several lines of code that repeat themselves across different programs, then you can replace them with a library. A library is a collection of code that you can use in numerous programs.\n",
    "\n",
    "In Python, we call our libraries \"modules.\" A module is thus:\n",
    "\n",
    "1. A collection of code (function and variable definitions) that we can use in numerous programs, and\n",
    "2. The variable/namespace we use to access those functions and variables in our program."
   ]
  },
  {
   "cell_type": "code",
   "execution_count": 3,
   "id": "33a2fc0c",
   "metadata": {},
   "outputs": [],
   "source": [
    "# one example of a module is \"random\"\n",
    "# it contains many functions and data structures for working with random and related data.\n",
    "\n",
    "# we can load it into memory using \"import\"\n",
    "import random"
   ]
  },
  {
   "cell_type": "code",
   "execution_count": null,
   "id": "a5ba1d7b",
   "metadata": {},
   "outputs": [],
   "source": [
    "# random is a variable, defined in our program\n",
    "# we can ask it: what kind of value does it refer to?\n",
    "\n",
    "type(random)"
   ]
  }
 ],
 "metadata": {
  "kernelspec": {
   "display_name": "Python 3 (ipykernel)",
   "language": "python",
   "name": "python3"
  },
  "language_info": {
   "codemirror_mode": {
    "name": "ipython",
    "version": 3
   },
   "file_extension": ".py",
   "mimetype": "text/x-python",
   "name": "python",
   "nbconvert_exporter": "python",
   "pygments_lexer": "ipython3",
   "version": "3.11.0"
  }
 },
 "nbformat": 4,
 "nbformat_minor": 5
}
