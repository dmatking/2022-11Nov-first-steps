{
 "cells": [
  {
   "cell_type": "markdown",
   "id": "0536f39d",
   "metadata": {},
   "source": [
    "# Agenda: Day 5 (Modules and packages)\n",
    "\n",
    "1. Review of last week's challenge\n",
    "2. Q&A\n",
    "3. Modules\n",
    "    - Why do need modules?\n",
    "    - Using `import` to load modules\n",
    "    - Different variations on `import`\n",
    "    - Writing a simple module\n",
    "    - How do modules work?\n",
    "4. Python's standard library\n",
    "5. Modules vs. packages\n",
    "6. PyPI\n",
    "    - What is it?\n",
    "    - How can we install things from PyPI?\n",
    "    - Issues with installation\n",
    "    - Understanding how to navigate through and use PyPI\n",
    "7. Next steps -- where do we go from here?    "
   ]
  },
  {
   "cell_type": "code",
   "execution_count": null,
   "id": "ec986ac0",
   "metadata": {},
   "outputs": [],
   "source": []
  }
 ],
 "metadata": {
  "kernelspec": {
   "display_name": "Python 3 (ipykernel)",
   "language": "python",
   "name": "python3"
  },
  "language_info": {
   "codemirror_mode": {
    "name": "ipython",
    "version": 3
   },
   "file_extension": ".py",
   "mimetype": "text/x-python",
   "name": "python",
   "nbconvert_exporter": "python",
   "pygments_lexer": "ipython3",
   "version": "3.11.0"
  }
 },
 "nbformat": 4,
 "nbformat_minor": 5
}
