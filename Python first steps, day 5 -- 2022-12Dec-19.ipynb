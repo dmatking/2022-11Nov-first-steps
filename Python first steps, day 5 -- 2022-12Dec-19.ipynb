{
 "cells": [
  {
   "cell_type": "markdown",
   "id": "0c1af829",
   "metadata": {},
   "source": [
    "# Agenda: Day 5 (Modules and packages)\n",
    "\n",
    "1. Review of last week's challenge\n",
    "2. Q&A\n",
    "3. Modules\n",
    "    - Why do need modules?\n",
    "    - Using `import` to load modules\n",
    "    - Different variations on `import`\n",
    "    - Writing a simple module\n",
    "    - How do modules work?\n",
    "4. Python's standard library\n",
    "5. Modules vs. packages\n",
    "6. PyPI\n",
    "    - What is it?\n",
    "    - How can we install things from PyPI?\n",
    "    - Issues with installation\n",
    "    - Understanding how to navigate through and use PyPI\n",
    "7. Next steps -- where do we go from here?    "
   ]
  },
  {
   "cell_type": "code",
   "execution_count": 1,
   "id": "3c65f056",
   "metadata": {},
   "outputs": [],
   "source": [
    "# Code from the inteactive exercise\n",
    "\n",
    "def count_ips(filename):\n",
    "    output = {}   # new, empty dict\n",
    "\n",
    "    for one_line in open(filename):           # go through the file, one line at a time, assigning to one_line\n",
    "        ip_address = one_line.split()[0]      # grab the IP address from the start of each line\n",
    "\n",
    "        if ip_address in output:              # if we've already seen ip_address, then add 1 to its count\n",
    "            output[ip_address] += 1           # (ip_address is a key in the \"output\" dict)\n",
    "\n",
    "        else:                                 # if this is the first time we see ip_address, set it to be a key\n",
    "            output[ip_address] = 1            # in output, and the value is 1\n",
    "\n",
    "    # - each new IP address adds a new key-value pair to output\n",
    "    # - each repeat IP address adds 1 to the value of the existing key\n",
    "\n",
    "    return output  # this is a dict\n"
   ]
  },
  {
   "cell_type": "code",
   "execution_count": 2,
   "id": "724a69a0",
   "metadata": {},
   "outputs": [
    {
     "data": {
      "text/plain": [
       "{'67.218.116.165': 2,\n",
       " '66.249.71.65': 3,\n",
       " '65.55.106.183': 2,\n",
       " '66.249.65.12': 32,\n",
       " '65.55.106.131': 2,\n",
       " '65.55.106.186': 2,\n",
       " '74.52.245.146': 2,\n",
       " '66.249.65.43': 3,\n",
       " '65.55.207.25': 2,\n",
       " '65.55.207.94': 2,\n",
       " '65.55.207.71': 1,\n",
       " '98.242.170.241': 1,\n",
       " '66.249.65.38': 100,\n",
       " '65.55.207.126': 2,\n",
       " '82.34.9.20': 2,\n",
       " '65.55.106.155': 2,\n",
       " '65.55.207.77': 2,\n",
       " '208.80.193.28': 1,\n",
       " '89.248.172.58': 22,\n",
       " '67.195.112.35': 16,\n",
       " '65.55.207.50': 3,\n",
       " '65.55.215.75': 2}"
      ]
     },
     "execution_count": 2,
     "metadata": {},
     "output_type": "execute_result"
    }
   ],
   "source": [
    "count_ips('mini-access-log.txt')"
   ]
  },
  {
   "cell_type": "markdown",
   "id": "b17d441e",
   "metadata": {},
   "source": [
    "# Modules\n",
    "\n",
    "One of the main things to keep in mind when programming is the DRY (\"don't repeat yourself\") rule:\n",
    "\n",
    "- If you have several lines of code in a row that basically repeat themselves, you can replace them with a `for` loop.\n",
    "- If you have several lines of code that repeat themselves in various places in your program, then you can replace them with a function.\n",
    "- If you have several lines of code that repeat themselves across different programs, then you can replace them with a library. A library is a collection of code that you can use in numerous programs.\n",
    "\n",
    "In Python, we call our libraries \"modules.\" A module is thus:\n",
    "\n",
    "1. A collection of code (function and variable definitions) that we can use in numerous programs, and\n",
    "2. The variable/namespace we use to access those functions and variables in our program."
   ]
  },
  {
   "cell_type": "code",
   "execution_count": 3,
   "id": "9a37b963",
   "metadata": {},
   "outputs": [],
   "source": [
    "# one example of a module is \"random\"\n",
    "# it contains many functions and data structures for working with random and related data.\n",
    "\n",
    "# we can load it into memory using \"import\"\n",
    "import random"
   ]
  },
  {
   "cell_type": "code",
   "execution_count": 4,
   "id": "13519193",
   "metadata": {},
   "outputs": [
    {
     "data": {
      "text/plain": [
       "module"
      ]
     },
     "execution_count": 4,
     "metadata": {},
     "output_type": "execute_result"
    }
   ],
   "source": [
    "# random is a variable, defined in our program\n",
    "# we can ask it: what kind of value does it refer to?\n",
    "\n",
    "type(random)"
   ]
  },
  {
   "cell_type": "code",
   "execution_count": 6,
   "id": "0c570eaf",
   "metadata": {},
   "outputs": [
    {
     "data": {
      "text/plain": [
       "34"
      ]
     },
     "execution_count": 6,
     "metadata": {},
     "output_type": "execute_result"
    }
   ],
   "source": [
    "# what does the module provide us with? Functions and data we can use\n",
    "# to work with random-related things\n",
    "\n",
    "# for example, the random.randint function\n",
    "random.randint(0, 100)"
   ]
  },
  {
   "cell_type": "markdown",
   "id": "41e39594",
   "metadata": {},
   "source": [
    "# Is `random` a module, or a variable?\n",
    "\n",
    "It's both!\n",
    "\n",
    "When we say `import random`, we're defining the `random` variable. Like all variables in Python, it refers to a value. In this case, the `random` variable refers to the the module object that we loaded with `import`, which knows itself as `random.`\n",
    "\n",
    "We can refer to `random` as a variable, and we can also refer to `random` as a module object, even though technically `random` is a name referring to such an object."
   ]
  },
  {
   "cell_type": "markdown",
   "id": "88a7763e",
   "metadata": {},
   "source": [
    "# Exercise: Random numbers\n",
    "\n",
    "1. `import` the `random` module.\n",
    "2. Set two variables, `x` and `y`, to be random integers from 0 to 1,000.\n",
    "3. Print `x`, `y`, and their product."
   ]
  },
  {
   "cell_type": "code",
   "execution_count": 7,
   "id": "a8547363",
   "metadata": {},
   "outputs": [
    {
     "name": "stdout",
     "output_type": "stream",
     "text": [
      "378 * 951 = 359478\n"
     ]
    }
   ],
   "source": [
    "import random\n",
    "\n",
    "x = random.randint(0, 1000)    # running the \"randint\" function in the \"random\" module\n",
    "y = random.randint(0, 1000)    # (again) running the \"randint\" function in the \"random\" module\n",
    "\n",
    "print(f'{x} * {y} = {x*y}')\n"
   ]
  },
  {
   "cell_type": "code",
   "execution_count": 8,
   "id": "bf03ea46",
   "metadata": {},
   "outputs": [
    {
     "name": "stdout",
     "output_type": "stream",
     "text": [
      "0: 840 * 694 = 582960\n",
      "1: 658 * 344 = 226352\n",
      "2: 622 * 711 = 442242\n",
      "3: 213 * 514 = 109482\n",
      "4: 172 * 973 = 167356\n"
     ]
    }
   ],
   "source": [
    "# let's do this 5 times\n",
    "\n",
    "import random\n",
    "\n",
    "for i in range(5):\n",
    "    x = random.randint(0, 1000)    # running the \"randint\" function in the \"random\" module\n",
    "    y = random.randint(0, 1000)    # (again) running the \"randint\" function in the \"random\" module\n",
    "\n",
    "    print(f'{i}: {x} * {y} = {x*y}')\n"
   ]
  },
  {
   "cell_type": "markdown",
   "id": "2cfe019e",
   "metadata": {},
   "source": [
    "When we use `import`, we're basically doing two things:\n",
    "\n",
    "1. We're creating a module object in Python, based on the module that we loaded\n",
    "2. We assign that module object to a variable, usually of the same name as the module we loaded\n",
    "\n",
    "If I say `import random`, what is Python loading? Where is it getting that data?\n",
    "\n",
    "Also: `import` is *not* a function. So we don't use parentheses for its argument. \n",
    "\n",
    "Also: The filename we give to `import` isn't a string. It's the name of the variable we want to define to be a module.\n",
    "\n",
    "Where does Python look for the file we load?\n",
    "\n",
    "Answer: Python takes the module name and adds `.py`, and then looks on disk for that filename. In this case, Python looked for a file called `random.py`.\n",
    "\n",
    "Where does it look? In a number of directories that are defined by `sys.path`."
   ]
  },
  {
   "cell_type": "code",
   "execution_count": null,
   "id": "6b1dbade",
   "metadata": {},
   "outputs": [],
   "source": [
    "import sys    "
   ]
  }
 ],
 "metadata": {
  "kernelspec": {
   "display_name": "Python 3 (ipykernel)",
   "language": "python",
   "name": "python3"
  },
  "language_info": {
   "codemirror_mode": {
    "name": "ipython",
    "version": 3
   },
   "file_extension": ".py",
   "mimetype": "text/x-python",
   "name": "python",
   "nbconvert_exporter": "python",
   "pygments_lexer": "ipython3",
   "version": "3.11.0"
  }
 },
 "nbformat": 4,
 "nbformat_minor": 5
}
