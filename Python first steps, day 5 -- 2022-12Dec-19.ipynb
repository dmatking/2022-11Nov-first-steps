{
 "cells": [
  {
   "cell_type": "markdown",
   "id": "7c938207",
   "metadata": {},
   "source": [
    "# Agenda: Day 5 (Modules and packages)\n",
    "\n",
    "1. Review of last week's challenge\n",
    "2. Q&A\n",
    "3. Modules\n",
    "    - Why do need modules?\n",
    "    - Using `import` to load modules\n",
    "    - Different variations on `import`\n",
    "    - Writing a simple module\n",
    "    - How do modules work?\n",
    "4. Python's standard library\n",
    "5. Modules vs. packages\n",
    "6. PyPI\n",
    "    - What is it?\n",
    "    - How can we install things from PyPI?\n",
    "    - Issues with installation\n",
    "    - Understanding how to navigate through and use PyPI\n",
    "7. Next steps -- where do we go from here?    "
   ]
  },
  {
   "cell_type": "code",
   "execution_count": 1,
   "id": "5735fe5f",
   "metadata": {},
   "outputs": [],
   "source": [
    "# Code from the inteactive exercise\n",
    "\n",
    "def count_ips(filename):\n",
    "    output = {}   # new, empty dict\n",
    "\n",
    "    for one_line in open(filename):           # go through the file, one line at a time, assigning to one_line\n",
    "        ip_address = one_line.split()[0]      # grab the IP address from the start of each line\n",
    "\n",
    "        if ip_address in output:              # if we've already seen ip_address, then add 1 to its count\n",
    "            output[ip_address] += 1           # (ip_address is a key in the \"output\" dict)\n",
    "\n",
    "        else:                                 # if this is the first time we see ip_address, set it to be a key\n",
    "            output[ip_address] = 1            # in output, and the value is 1\n",
    "\n",
    "    # - each new IP address adds a new key-value pair to output\n",
    "    # - each repeat IP address adds 1 to the value of the existing key\n",
    "\n",
    "    return output  # this is a dict\n"
   ]
  },
  {
   "cell_type": "code",
   "execution_count": 2,
   "id": "5edc7417",
   "metadata": {},
   "outputs": [
    {
     "data": {
      "text/plain": [
       "{'67.218.116.165': 2,\n",
       " '66.249.71.65': 3,\n",
       " '65.55.106.183': 2,\n",
       " '66.249.65.12': 32,\n",
       " '65.55.106.131': 2,\n",
       " '65.55.106.186': 2,\n",
       " '74.52.245.146': 2,\n",
       " '66.249.65.43': 3,\n",
       " '65.55.207.25': 2,\n",
       " '65.55.207.94': 2,\n",
       " '65.55.207.71': 1,\n",
       " '98.242.170.241': 1,\n",
       " '66.249.65.38': 100,\n",
       " '65.55.207.126': 2,\n",
       " '82.34.9.20': 2,\n",
       " '65.55.106.155': 2,\n",
       " '65.55.207.77': 2,\n",
       " '208.80.193.28': 1,\n",
       " '89.248.172.58': 22,\n",
       " '67.195.112.35': 16,\n",
       " '65.55.207.50': 3,\n",
       " '65.55.215.75': 2}"
      ]
     },
     "execution_count": 2,
     "metadata": {},
     "output_type": "execute_result"
    }
   ],
   "source": [
    "count_ips('mini-access-log.txt')"
   ]
  },
  {
   "cell_type": "markdown",
   "id": "ce0ae665",
   "metadata": {},
   "source": [
    "# Modules\n",
    "\n",
    "One of the main things to keep in mind when programming is the DRY (\"don't repeat yourself\") rule:\n",
    "\n",
    "- If you have several lines of code in a row that basically repeat themselves, you can replace them with a `for` loop.\n",
    "- If you have several lines of code that repeat themselves in various places in your program, then you can replace them with a function.\n",
    "- If you have several lines of code that repeat themselves across different programs, then you can replace them with a library. A library is a collection of code that you can use in numerous programs.\n",
    "\n",
    "In Python, we call our libraries \"modules.\" A module is thus:\n",
    "\n",
    "1. A collection of code (function and variable definitions) that we can use in numerous programs, and\n",
    "2. The variable/namespace we use to access those functions and variables in our program."
   ]
  },
  {
   "cell_type": "code",
   "execution_count": 3,
   "id": "2ff96c4b",
   "metadata": {},
   "outputs": [],
   "source": [
    "# one example of a module is \"random\"\n",
    "# it contains many functions and data structures for working with random and related data.\n",
    "\n",
    "# we can load it into memory using \"import\"\n",
    "import random"
   ]
  },
  {
   "cell_type": "code",
   "execution_count": 4,
   "id": "a7b12f02",
   "metadata": {},
   "outputs": [
    {
     "data": {
      "text/plain": [
       "module"
      ]
     },
     "execution_count": 4,
     "metadata": {},
     "output_type": "execute_result"
    }
   ],
   "source": [
    "# random is a variable, defined in our program\n",
    "# we can ask it: what kind of value does it refer to?\n",
    "\n",
    "type(random)"
   ]
  },
  {
   "cell_type": "code",
   "execution_count": 6,
   "id": "75175a0e",
   "metadata": {},
   "outputs": [
    {
     "data": {
      "text/plain": [
       "34"
      ]
     },
     "execution_count": 6,
     "metadata": {},
     "output_type": "execute_result"
    }
   ],
   "source": [
    "# what does the module provide us with? Functions and data we can use\n",
    "# to work with random-related things\n",
    "\n",
    "# for example, the random.randint function\n",
    "random.randint(0, 100)"
   ]
  },
  {
   "cell_type": "markdown",
   "id": "08949508",
   "metadata": {},
   "source": [
    "# Is `random` a module, or a variable?\n",
    "\n",
    "It's both!\n",
    "\n",
    "When we say `import random`, we're defining the `random` variable. Like all variables in Python, it refers to a value. In this case, the `random` variable refers to the the module object that we loaded with `import`, which knows itself as `random.`\n",
    "\n",
    "We can refer to `random` as a variable, and we can also refer to `random` as a module object, even though technically `random` is a name referring to such an object."
   ]
  },
  {
   "cell_type": "markdown",
   "id": "a09151a6",
   "metadata": {},
   "source": [
    "# Exercise: Random numbers\n",
    "\n",
    "1. `import` the `random` module.\n",
    "2. Set two variables, `x` and `y`, to be random integers from 0 to 1,000.\n",
    "3. Print `x`, `y`, and their product."
   ]
  },
  {
   "cell_type": "code",
   "execution_count": 7,
   "id": "a0b04e81",
   "metadata": {},
   "outputs": [
    {
     "name": "stdout",
     "output_type": "stream",
     "text": [
      "378 * 951 = 359478\n"
     ]
    }
   ],
   "source": [
    "import random\n",
    "\n",
    "x = random.randint(0, 1000)    # running the \"randint\" function in the \"random\" module\n",
    "y = random.randint(0, 1000)    # (again) running the \"randint\" function in the \"random\" module\n",
    "\n",
    "print(f'{x} * {y} = {x*y}')\n"
   ]
  },
  {
   "cell_type": "code",
   "execution_count": 8,
   "id": "f7665376",
   "metadata": {},
   "outputs": [
    {
     "name": "stdout",
     "output_type": "stream",
     "text": [
      "0: 840 * 694 = 582960\n",
      "1: 658 * 344 = 226352\n",
      "2: 622 * 711 = 442242\n",
      "3: 213 * 514 = 109482\n",
      "4: 172 * 973 = 167356\n"
     ]
    }
   ],
   "source": [
    "# let's do this 5 times\n",
    "\n",
    "import random\n",
    "\n",
    "for i in range(5):\n",
    "    x = random.randint(0, 1000)    # running the \"randint\" function in the \"random\" module\n",
    "    y = random.randint(0, 1000)    # (again) running the \"randint\" function in the \"random\" module\n",
    "\n",
    "    print(f'{i}: {x} * {y} = {x*y}')\n"
   ]
  },
  {
   "cell_type": "markdown",
   "id": "7e391151",
   "metadata": {},
   "source": [
    "When we use `import`, we're basically doing two things:\n",
    "\n",
    "1. We're creating a module object in Python, based on the module that we loaded\n",
    "2. We assign that module object to a variable, usually of the same name as the module we loaded\n",
    "\n",
    "If I say `import random`, what is Python loading? Where is it getting that data?\n",
    "\n",
    "Also: `import` is *not* a function. So we don't use parentheses for its argument. \n",
    "\n",
    "Also: The filename we give to `import` isn't a string. It's the name of the variable we want to define to be a module.\n",
    "\n",
    "Where does Python look for the file we load?\n",
    "\n",
    "Answer: Python takes the module name and adds `.py`, and then looks on disk for that filename. In this case, Python looked for a file called `random.py`.\n",
    "\n",
    "Where does it look? In a number of directories that are defined by `sys.path`.\n",
    "\n",
    "The first directory in which we find a module file by the name we're searching for, we load it and stop looking further.  This means that if you have more than one module with the same name, in multiple places on the filesystem, you will get confused and angry!"
   ]
  },
  {
   "cell_type": "code",
   "execution_count": 10,
   "id": "4fd089fe",
   "metadata": {},
   "outputs": [
    {
     "data": {
      "text/plain": [
       "['/Users/reuven/Courses/Current/OReilly-2022-11Nov-first-steps',\n",
       " '/usr/local/Cellar/python@3.11/3.11.0/Frameworks/Python.framework/Versions/3.11/lib/python311.zip',\n",
       " '/usr/local/Cellar/python@3.11/3.11.0/Frameworks/Python.framework/Versions/3.11/lib/python3.11',\n",
       " '/usr/local/Cellar/python@3.11/3.11.0/Frameworks/Python.framework/Versions/3.11/lib/python3.11/lib-dynload',\n",
       " '',\n",
       " '/usr/local/lib/python3.11/site-packages',\n",
       " '/usr/local/opt/python-tk@3.11/libexec']"
      ]
     },
     "execution_count": 10,
     "metadata": {},
     "output_type": "execute_result"
    }
   ],
   "source": [
    "import sys    # sys.path is always available to Python, but if we want to look at it, we need to import\n",
    "sys.path"
   ]
  },
  {
   "cell_type": "code",
   "execution_count": 11,
   "id": "d326b1b2",
   "metadata": {},
   "outputs": [
    {
     "data": {
      "text/plain": [
       "<module 'random' from '/usr/local/Cellar/python@3.11/3.11.0/Frameworks/Python.framework/Versions/3.11/lib/python3.11/random.py'>"
      ]
     },
     "execution_count": 11,
     "metadata": {},
     "output_type": "execute_result"
    }
   ],
   "source": [
    "# let's find out where random was loaded from\n",
    "# we can just look at the printed representation of the module -- in Jupyter just type its name\n",
    "\n",
    "random"
   ]
  },
  {
   "cell_type": "markdown",
   "id": "e6406f81",
   "metadata": {},
   "source": [
    "What if I'm going to use `random.randint` many times in my program. Can I just write `randint`, without `random.` before it?\n",
    "\n",
    "Answer: **NO**.\n",
    "\n",
    "The name `randint` doesn't exist as a global variable. It only exists as an attribute (i.e., a name after a dot) inside of the `random` object."
   ]
  },
  {
   "cell_type": "code",
   "execution_count": 12,
   "id": "8361e594",
   "metadata": {},
   "outputs": [
    {
     "ename": "NameError",
     "evalue": "name 'randint' is not defined",
     "output_type": "error",
     "traceback": [
      "\u001b[0;31m---------------------------------------------------------------------------\u001b[0m",
      "\u001b[0;31mNameError\u001b[0m                                 Traceback (most recent call last)",
      "Cell \u001b[0;32mIn [12], line 1\u001b[0m\n\u001b[0;32m----> 1\u001b[0m \u001b[43mrandint\u001b[49m(\u001b[38;5;241m0\u001b[39m, \u001b[38;5;241m100\u001b[39m)\n",
      "\u001b[0;31mNameError\u001b[0m: name 'randint' is not defined"
     ]
    }
   ],
   "source": [
    "randint(0, 100)"
   ]
  },
  {
   "cell_type": "code",
   "execution_count": 13,
   "id": "f21e7bca",
   "metadata": {},
   "outputs": [
    {
     "data": {
      "text/plain": [
       "88"
      ]
     },
     "execution_count": 13,
     "metadata": {},
     "output_type": "execute_result"
    }
   ],
   "source": [
    "random.randint(0, 100)"
   ]
  },
  {
   "cell_type": "code",
   "execution_count": 14,
   "id": "ef77b0f8",
   "metadata": {},
   "outputs": [],
   "source": [
    "# the solution is to use \"from .. import\" syntax\n",
    "\n",
    "from random import randint"
   ]
  },
  {
   "cell_type": "code",
   "execution_count": 15,
   "id": "c6d1a9fa",
   "metadata": {},
   "outputs": [
    {
     "data": {
      "text/plain": [
       "39"
      ]
     },
     "execution_count": 15,
     "metadata": {},
     "output_type": "execute_result"
    }
   ],
   "source": [
    "randint(0, 100)   # now it works!"
   ]
  },
  {
   "cell_type": "markdown",
   "id": "6e0f01c9",
   "metadata": {},
   "source": [
    "# A few things about `from .. import ..`\n",
    "\n",
    "1. Instead of defining the module as a global variable, it only defines what we ask for as a global variable.\n",
    "2. This still loads the entire module into memory. We don't have access to it, because we didn't define a variable that refers to it. But it's in memory, and we save *NO* memory at all from using `from .. import`.\n",
    "\n",
    "\n",
    "When you import a module in Python, no matter if it's with `import X` or `from X import Y`, you only import it a single time. Every subsequent `import` or `from import` for that module will ignore the request, and return the value currently in `sys.modules`, where all of the module objects are cached.\n",
    "\n",
    "It will, however, (re)define the variable to refer to the module object."
   ]
  },
  {
   "cell_type": "code",
   "execution_count": 18,
   "id": "86a841b0",
   "metadata": {},
   "outputs": [],
   "source": [
    "# what if I want to use the random module, but I don't like its very long name?\n",
    "# answer: I can use import __ as ___\n",
    "\n",
    "# this still loads the entire module, if needed -- and if it's already loaded, we change nothing\n",
    "# instead of defining a global variable named \"random\", it defines a global variable named \"ra\"\n",
    "\n",
    "# import as -- lets us give an alias to a module\n",
    "\n",
    "# why do this?\n",
    "# (1) convention\n",
    "# (2) namespace collision -- maybe the name was taken by someone else\n",
    "# (3) it's shorter and easier to write\n",
    "\n",
    "import random as ra   "
   ]
  },
  {
   "cell_type": "code",
   "execution_count": 17,
   "id": "945fca64",
   "metadata": {},
   "outputs": [
    {
     "data": {
      "text/plain": [
       "<module 'random' from '/usr/local/Cellar/python@3.11/3.11.0/Frameworks/Python.framework/Versions/3.11/lib/python3.11/random.py'>"
      ]
     },
     "execution_count": 17,
     "metadata": {},
     "output_type": "execute_result"
    }
   ],
   "source": [
    "ra"
   ]
  },
  {
   "cell_type": "code",
   "execution_count": 19,
   "id": "e0249a05",
   "metadata": {},
   "outputs": [],
   "source": [
    "# I can also give an alias when I use \"from .. import\"\n",
    "\n",
    "from random import randint as ri     # (1) load random, (2) define ri = random.randint"
   ]
  },
  {
   "cell_type": "markdown",
   "id": "4a060ad7",
   "metadata": {},
   "source": [
    "# Four ways to `import`:\n",
    "\n",
    "1. `import MODNAME`\n",
    "2. `import MODNAME as MODALIAS`\n",
    "3. `from MODNAME import FUNCNAME`\n",
    "4. `from MODNAME import FUNCNAME as FUNCALIAS`\n",
    "\n",
    "There is a fifth way!  We can say\n",
    "\n",
    "`from MODNAME import *`\n",
    "\n",
    "PLEASE PLEASE PLEASE **PLEASE** never use this!  Why not?\n",
    "\n",
    "1. From a theoretical and aesthetic perspective, this means taking all of the names defined in the module, and assigning them to global variables in our main namespace. The whole point of modules and namespaces is to avoid such clutter. But this does it!\n",
    "2. In Python, the final definition of a variable wins. If you have some variable names in your program that are the same as in `MODNAME`, then the last one defined wins. Do you really know all of the names defined in all of the modules that you load? Probably not -- so avoid `import *`."
   ]
  },
  {
   "cell_type": "markdown",
   "id": "fc85ddc1",
   "metadata": {},
   "source": [
    "# Exercise: Filenames that match\n",
    "\n",
    "1. Ask the user to enter a command line-style pattern for filenames, using `*` and/or other special characters.\n",
    "2. Get a list of files that match that pattern via the `glob.glob` function. This means that the module is called `glob`, and the function in it is also called `glob`.\n",
    "3. List all of the files that match the named pattern."
   ]
  },
  {
   "cell_type": "code",
   "execution_count": 20,
   "id": "505e5f4e",
   "metadata": {},
   "outputs": [],
   "source": [
    "import glob"
   ]
  },
  {
   "cell_type": "code",
   "execution_count": 21,
   "id": "b250a345",
   "metadata": {},
   "outputs": [
    {
     "data": {
      "text/plain": [
       "['mini-access-log.txt',\n",
       " 'nums.txt',\n",
       " 'shoe-data.txt',\n",
       " 'linux-etc-passwd.txt',\n",
       " 'wcfile.txt',\n",
       " 'myfile.txt']"
      ]
     },
     "execution_count": 21,
     "metadata": {},
     "output_type": "execute_result"
    }
   ],
   "source": [
    "# module \"glob\", function \"glob\"\n",
    "\n",
    "glob.glob('*.txt')    # I pass the function a string with a pattern"
   ]
  },
  {
   "cell_type": "code",
   "execution_count": 22,
   "id": "5ee74105",
   "metadata": {},
   "outputs": [
    {
     "data": {
      "text/plain": [
       "['Python first steps, day 5 -- 2022-12Dec-19.ipynb',\n",
       " 'Python first steps, day 1 -- 2022-11Nov-21.ipynb',\n",
       " 'Python first steps, day 3 -- 2022-12Dec-05.ipynb',\n",
       " 'Python first steps, day 2 -- 2022-11Nov-28.ipynb',\n",
       " 'Python first steps, day 4 -- 2022-12Dec-12.ipynb']"
      ]
     },
     "execution_count": 22,
     "metadata": {},
     "output_type": "execute_result"
    }
   ],
   "source": [
    "glob.glob('*.ipynb')"
   ]
  },
  {
   "cell_type": "code",
   "execution_count": 23,
   "id": "48ca39ec",
   "metadata": {},
   "outputs": [
    {
     "data": {
      "text/plain": [
       "['mini-access-log.txt',\n",
       " 'nums.txt',\n",
       " 'shoe-data.txt',\n",
       " 'linux-etc-passwd.txt',\n",
       " 'wcfile.txt',\n",
       " 'myfile.txt']"
      ]
     },
     "execution_count": 23,
     "metadata": {},
     "output_type": "execute_result"
    }
   ],
   "source": [
    "glob.glob('*x*')"
   ]
  },
  {
   "cell_type": "code",
   "execution_count": 24,
   "id": "1dd26332",
   "metadata": {},
   "outputs": [
    {
     "name": "stdout",
     "output_type": "stream",
     "text": [
      "Enter a pattern: /etc/*.conf\n",
      "/etc/syslog.conf\n",
      "/etc/kern_loader.conf\n",
      "/etc/rtadvd.conf\n",
      "/etc/pf.conf\n",
      "/etc/launchd.conf\n",
      "/etc/autofs.conf\n",
      "/etc/slpsa.conf\n",
      "/etc/ntp_opendirectory.conf\n",
      "/etc/resolv.conf\n",
      "/etc/nfs.conf\n",
      "/etc/asl.conf\n",
      "/etc/ntp.conf\n",
      "/etc/AFP.conf\n",
      "/etc/man.conf\n",
      "/etc/newsyslog.conf\n",
      "/etc/notify.conf\n"
     ]
    }
   ],
   "source": [
    "pattern = input('Enter a pattern: ').strip()\n",
    "\n",
    "for one_filename in glob.glob(pattern):\n",
    "    print(one_filename)"
   ]
  },
  {
   "cell_type": "markdown",
   "id": "fe05e238",
   "metadata": {},
   "source": [
    "# Next up\n",
    "\n",
    "1. What attributes (data + functions) does a module contain?\n",
    "2. Developing a module"
   ]
  },
  {
   "cell_type": "code",
   "execution_count": 25,
   "id": "6b17cfde",
   "metadata": {},
   "outputs": [
    {
     "data": {
      "text/plain": [
       "['mini-access-log.txt',\n",
       " 'nums.txt',\n",
       " 'shoe-data.txt',\n",
       " 'linux-etc-passwd.txt',\n",
       " 'wcfile.txt',\n",
       " 'myfile.txt']"
      ]
     },
     "execution_count": 25,
     "metadata": {},
     "output_type": "execute_result"
    }
   ],
   "source": [
    "# if I want to search for files in the current directory, then I don't use a / in the pattern\n",
    "\n",
    "glob.glob('*.txt')   # looks for .txt files in the current directory"
   ]
  },
  {
   "cell_type": "code",
   "execution_count": 27,
   "id": "8c269315",
   "metadata": {},
   "outputs": [
    {
     "data": {
      "text/plain": [
       "['/Users/reuven/Desktop/draft-pytest-book-notes.txt',\n",
       " '/Users/reuven/Desktop/brennan-workshop-notes.txt',\n",
       " '/Users/reuven/Desktop/college-institutions-colnames.txt',\n",
       " '/Users/reuven/Desktop/learning-paths.txt',\n",
       " '/Users/reuven/Desktop/badfile.txt',\n",
       " '/Users/reuven/Desktop/al-chet-python.txt',\n",
       " '/Users/reuven/Desktop/myfile.txt',\n",
       " '/Users/reuven/Desktop/goodfile.txt',\n",
       " '/Users/reuven/Desktop/ari-interview.txt',\n",
       " '/Users/reuven/Desktop/machine-learning-links.txt',\n",
       " '/Users/reuven/Desktop/podia-email-1.txt',\n",
       " '/Users/reuven/Desktop/asyncio-notes.txt',\n",
       " '/Users/reuven/Desktop/mohammed-email-1.txt']"
      ]
     },
     "execution_count": 27,
     "metadata": {},
     "output_type": "execute_result"
    }
   ],
   "source": [
    "# If I include a / in the pattern, then it'll look in the appropriate directory\n",
    "\n",
    "glob.glob('/Users/reuven/Desktop/*.txt')"
   ]
  },
  {
   "cell_type": "code",
   "execution_count": 28,
   "id": "f7465670",
   "metadata": {},
   "outputs": [
    {
     "data": {
      "text/plain": [
       "[]"
      ]
     },
     "execution_count": 28,
     "metadata": {},
     "output_type": "execute_result"
    }
   ],
   "source": [
    "# if I'm on Windows, then I have to use \\ not /, and also use a \"raw string\" to avoid\n",
    "# weird interpretations of \\\n",
    "\n",
    "glob.glob(r'c:\\abc\\def\\ghi\\*.txt')"
   ]
  },
  {
   "cell_type": "markdown",
   "id": "bfb56e06",
   "metadata": {},
   "source": [
    "# What's in a module?\n",
    "\n",
    "It's very nice to say that we can load a module with `import`. But once we've loaded a module, how do we know what names it contains? How do we know what those names are, and how to use them?\n",
    "\n",
    "1. We can always use, on any object in Python, the `dir` function. This returns a list of strings, the attributes we can use on the object.\n",
    "2. Usually, modules have documentation — we can use `help` and other tools, as well as Web sites, to get that."
   ]
  },
  {
   "cell_type": "code",
   "execution_count": 29,
   "id": "b406fbe5",
   "metadata": {},
   "outputs": [
    {
     "data": {
      "text/plain": [
       "['BPF',\n",
       " 'LOG4',\n",
       " 'NV_MAGICCONST',\n",
       " 'RECIP_BPF',\n",
       " 'Random',\n",
       " 'SG_MAGICCONST',\n",
       " 'SystemRandom',\n",
       " 'TWOPI',\n",
       " '_ONE',\n",
       " '_Sequence',\n",
       " '_Set',\n",
       " '__all__',\n",
       " '__builtins__',\n",
       " '__cached__',\n",
       " '__doc__',\n",
       " '__file__',\n",
       " '__loader__',\n",
       " '__name__',\n",
       " '__package__',\n",
       " '__spec__',\n",
       " '_accumulate',\n",
       " '_acos',\n",
       " '_bisect',\n",
       " '_ceil',\n",
       " '_cos',\n",
       " '_e',\n",
       " '_exp',\n",
       " '_floor',\n",
       " '_index',\n",
       " '_inst',\n",
       " '_isfinite',\n",
       " '_log',\n",
       " '_os',\n",
       " '_pi',\n",
       " '_random',\n",
       " '_repeat',\n",
       " '_sha512',\n",
       " '_sin',\n",
       " '_sqrt',\n",
       " '_test',\n",
       " '_test_generator',\n",
       " '_urandom',\n",
       " '_warn',\n",
       " 'betavariate',\n",
       " 'choice',\n",
       " 'choices',\n",
       " 'expovariate',\n",
       " 'gammavariate',\n",
       " 'gauss',\n",
       " 'getrandbits',\n",
       " 'getstate',\n",
       " 'lognormvariate',\n",
       " 'normalvariate',\n",
       " 'paretovariate',\n",
       " 'randbytes',\n",
       " 'randint',\n",
       " 'random',\n",
       " 'randrange',\n",
       " 'sample',\n",
       " 'seed',\n",
       " 'setstate',\n",
       " 'shuffle',\n",
       " 'triangular',\n",
       " 'uniform',\n",
       " 'vonmisesvariate',\n",
       " 'weibullvariate']"
      ]
     },
     "execution_count": 29,
     "metadata": {},
     "output_type": "execute_result"
    }
   ],
   "source": [
    "# I want to know what attributes are available on \"random\"\n",
    "\n",
    "dir(random)  # this returns a list of strings"
   ]
  },
  {
   "cell_type": "markdown",
   "id": "31991761",
   "metadata": {},
   "source": [
    "# Unusual attribute names\n",
    "\n",
    "- Names that begin with a single `_` in Python are considered to be \"private.\" The language won't enforce this privacy; we can do whatever we want. But by convention, we should leave such things alone.\n",
    "- Names that begin and end with a double `__` are often called \"dunders.\" These are typically methods that are defined to be invoked by Python at special times.  You probably don't want to run these or use these.\n",
    "- Names in ALL CAPS are considered to be constants. Python doesn't really have constants, but we're supposed to, by convention, not change these.\n",
    "\n",
    "How do we know which of these attributes are data, and which are functions?  For that, we need to snoop around a bit more.\n",
    "\n",
    "One option is the \"help\" function"
   ]
  },
  {
   "cell_type": "code",
   "execution_count": 30,
   "id": "66924c7c",
   "metadata": {},
   "outputs": [
    {
     "name": "stdout",
     "output_type": "stream",
     "text": [
      "Help on method randint in module random:\n",
      "\n",
      "randint(a, b) method of random.Random instance\n",
      "    Return random integer in range [a, b], including both end points.\n",
      "\n"
     ]
    }
   ],
   "source": [
    "help(random.randint) "
   ]
  },
  {
   "cell_type": "code",
   "execution_count": 31,
   "id": "92cf638b",
   "metadata": {},
   "outputs": [
    {
     "name": "stdout",
     "output_type": "stream",
     "text": [
      "Help on module random:\n",
      "\n",
      "NAME\n",
      "    random - Random variable generators.\n",
      "\n",
      "DESCRIPTION\n",
      "        bytes\n",
      "        -----\n",
      "               uniform bytes (values between 0 and 255)\n",
      "    \n",
      "        integers\n",
      "        --------\n",
      "               uniform within range\n",
      "    \n",
      "        sequences\n",
      "        ---------\n",
      "               pick random element\n",
      "               pick random sample\n",
      "               pick weighted random sample\n",
      "               generate random permutation\n",
      "    \n",
      "        distributions on the real line:\n",
      "        ------------------------------\n",
      "               uniform\n",
      "               triangular\n",
      "               normal (Gaussian)\n",
      "               lognormal\n",
      "               negative exponential\n",
      "               gamma\n",
      "               beta\n",
      "               pareto\n",
      "               Weibull\n",
      "    \n",
      "        distributions on the circle (angles 0 to 2pi)\n",
      "        ---------------------------------------------\n",
      "               circular uniform\n",
      "               von Mises\n",
      "    \n",
      "    General notes on the underlying Mersenne Twister core generator:\n",
      "    \n",
      "    * The period is 2**19937-1.\n",
      "    * It is one of the most extensively tested generators in existence.\n",
      "    * The random() method is implemented in C, executes in a single Python step,\n",
      "      and is, therefore, threadsafe.\n",
      "\n",
      "CLASSES\n",
      "    _random.Random(builtins.object)\n",
      "        Random\n",
      "            SystemRandom\n",
      "    \n",
      "    class Random(_random.Random)\n",
      "     |  Random(x=None)\n",
      "     |  \n",
      "     |  Random number generator base class used by bound module functions.\n",
      "     |  \n",
      "     |  Used to instantiate instances of Random to get generators that don't\n",
      "     |  share state.\n",
      "     |  \n",
      "     |  Class Random can also be subclassed if you want to use a different basic\n",
      "     |  generator of your own devising: in that case, override the following\n",
      "     |  methods:  random(), seed(), getstate(), and setstate().\n",
      "     |  Optionally, implement a getrandbits() method so that randrange()\n",
      "     |  can cover arbitrarily large ranges.\n",
      "     |  \n",
      "     |  Method resolution order:\n",
      "     |      Random\n",
      "     |      _random.Random\n",
      "     |      builtins.object\n",
      "     |  \n",
      "     |  Methods defined here:\n",
      "     |  \n",
      "     |  __getstate__(self)\n",
      "     |      Helper for pickle.\n",
      "     |  \n",
      "     |  __init__(self, x=None)\n",
      "     |      Initialize an instance.\n",
      "     |      \n",
      "     |      Optional argument x controls seeding, as for Random.seed().\n",
      "     |  \n",
      "     |  __reduce__(self)\n",
      "     |      Helper for pickle.\n",
      "     |  \n",
      "     |  __setstate__(self, state)\n",
      "     |  \n",
      "     |  betavariate(self, alpha, beta)\n",
      "     |      Beta distribution.\n",
      "     |      \n",
      "     |      Conditions on the parameters are alpha > 0 and beta > 0.\n",
      "     |      Returned values range between 0 and 1.\n",
      "     |  \n",
      "     |  choice(self, seq)\n",
      "     |      Choose a random element from a non-empty sequence.\n",
      "     |  \n",
      "     |  choices(self, population, weights=None, *, cum_weights=None, k=1)\n",
      "     |      Return a k sized list of population elements chosen with replacement.\n",
      "     |      \n",
      "     |      If the relative weights or cumulative weights are not specified,\n",
      "     |      the selections are made with equal probability.\n",
      "     |  \n",
      "     |  expovariate(self, lambd)\n",
      "     |      Exponential distribution.\n",
      "     |      \n",
      "     |      lambd is 1.0 divided by the desired mean.  It should be\n",
      "     |      nonzero.  (The parameter would be called \"lambda\", but that is\n",
      "     |      a reserved word in Python.)  Returned values range from 0 to\n",
      "     |      positive infinity if lambd is positive, and from negative\n",
      "     |      infinity to 0 if lambd is negative.\n",
      "     |  \n",
      "     |  gammavariate(self, alpha, beta)\n",
      "     |      Gamma distribution.  Not the gamma function!\n",
      "     |      \n",
      "     |      Conditions on the parameters are alpha > 0 and beta > 0.\n",
      "     |      \n",
      "     |      The probability distribution function is:\n",
      "     |      \n",
      "     |                  x ** (alpha - 1) * math.exp(-x / beta)\n",
      "     |        pdf(x) =  --------------------------------------\n",
      "     |                    math.gamma(alpha) * beta ** alpha\n",
      "     |  \n",
      "     |  gauss(self, mu=0.0, sigma=1.0)\n",
      "     |      Gaussian distribution.\n",
      "     |      \n",
      "     |      mu is the mean, and sigma is the standard deviation.  This is\n",
      "     |      slightly faster than the normalvariate() function.\n",
      "     |      \n",
      "     |      Not thread-safe without a lock around calls.\n",
      "     |  \n",
      "     |  getstate(self)\n",
      "     |      Return internal state; can be passed to setstate() later.\n",
      "     |  \n",
      "     |  lognormvariate(self, mu, sigma)\n",
      "     |      Log normal distribution.\n",
      "     |      \n",
      "     |      If you take the natural logarithm of this distribution, you'll get a\n",
      "     |      normal distribution with mean mu and standard deviation sigma.\n",
      "     |      mu can have any value, and sigma must be greater than zero.\n",
      "     |  \n",
      "     |  normalvariate(self, mu=0.0, sigma=1.0)\n",
      "     |      Normal distribution.\n",
      "     |      \n",
      "     |      mu is the mean, and sigma is the standard deviation.\n",
      "     |  \n",
      "     |  paretovariate(self, alpha)\n",
      "     |      Pareto distribution.  alpha is the shape parameter.\n",
      "     |  \n",
      "     |  randbytes(self, n)\n",
      "     |      Generate n random bytes.\n",
      "     |  \n",
      "     |  randint(self, a, b)\n",
      "     |      Return random integer in range [a, b], including both end points.\n",
      "     |  \n",
      "     |  randrange(self, start, stop=None, step=1)\n",
      "     |      Choose a random item from range(start, stop[, step]).\n",
      "     |      \n",
      "     |      This fixes the problem with randint() which includes the\n",
      "     |      endpoint; in Python this is usually not what you want.\n",
      "     |  \n",
      "     |  sample(self, population, k, *, counts=None)\n",
      "     |      Chooses k unique random elements from a population sequence.\n",
      "     |      \n",
      "     |      Returns a new list containing elements from the population while\n",
      "     |      leaving the original population unchanged.  The resulting list is\n",
      "     |      in selection order so that all sub-slices will also be valid random\n",
      "     |      samples.  This allows raffle winners (the sample) to be partitioned\n",
      "     |      into grand prize and second place winners (the subslices).\n",
      "     |      \n",
      "     |      Members of the population need not be hashable or unique.  If the\n",
      "     |      population contains repeats, then each occurrence is a possible\n",
      "     |      selection in the sample.\n",
      "     |      \n",
      "     |      Repeated elements can be specified one at a time or with the optional\n",
      "     |      counts parameter.  For example:\n",
      "     |      \n",
      "     |          sample(['red', 'blue'], counts=[4, 2], k=5)\n",
      "     |      \n",
      "     |      is equivalent to:\n",
      "     |      \n",
      "     |          sample(['red', 'red', 'red', 'red', 'blue', 'blue'], k=5)\n",
      "     |      \n",
      "     |      To choose a sample from a range of integers, use range() for the\n",
      "     |      population argument.  This is especially fast and space efficient\n",
      "     |      for sampling from a large population:\n",
      "     |      \n",
      "     |          sample(range(10000000), 60)\n",
      "     |  \n",
      "     |  seed(self, a=None, version=2)\n",
      "     |      Initialize internal state from a seed.\n",
      "     |      \n",
      "     |      The only supported seed types are None, int, float,\n",
      "     |      str, bytes, and bytearray.\n",
      "     |      \n",
      "     |      None or no argument seeds from current time or from an operating\n",
      "     |      system specific randomness source if available.\n",
      "     |      \n",
      "     |      If *a* is an int, all bits are used.\n",
      "     |      \n",
      "     |      For version 2 (the default), all of the bits are used if *a* is a str,\n",
      "     |      bytes, or bytearray.  For version 1 (provided for reproducing random\n",
      "     |      sequences from older versions of Python), the algorithm for str and\n",
      "     |      bytes generates a narrower range of seeds.\n",
      "     |  \n",
      "     |  setstate(self, state)\n",
      "     |      Restore internal state from object returned by getstate().\n",
      "     |  \n",
      "     |  shuffle(self, x)\n",
      "     |      Shuffle list x in place, and return None.\n",
      "     |  \n",
      "     |  triangular(self, low=0.0, high=1.0, mode=None)\n",
      "     |      Triangular distribution.\n",
      "     |      \n",
      "     |      Continuous distribution bounded by given lower and upper limits,\n",
      "     |      and having a given mode value in-between.\n",
      "     |      \n",
      "     |      http://en.wikipedia.org/wiki/Triangular_distribution\n",
      "     |  \n",
      "     |  uniform(self, a, b)\n",
      "     |      Get a random number in the range [a, b) or [a, b] depending on rounding.\n",
      "     |  \n",
      "     |  vonmisesvariate(self, mu, kappa)\n",
      "     |      Circular data distribution.\n",
      "     |      \n",
      "     |      mu is the mean angle, expressed in radians between 0 and 2*pi, and\n",
      "     |      kappa is the concentration parameter, which must be greater than or\n",
      "     |      equal to zero.  If kappa is equal to zero, this distribution reduces\n",
      "     |      to a uniform random angle over the range 0 to 2*pi.\n",
      "     |  \n",
      "     |  weibullvariate(self, alpha, beta)\n",
      "     |      Weibull distribution.\n",
      "     |      \n",
      "     |      alpha is the scale parameter and beta is the shape parameter.\n",
      "     |  \n",
      "     |  ----------------------------------------------------------------------\n",
      "     |  Class methods defined here:\n",
      "     |  \n",
      "     |  __init_subclass__(**kwargs) from builtins.type\n",
      "     |      Control how subclasses generate random integers.\n",
      "     |      \n",
      "     |      The algorithm a subclass can use depends on the random() and/or\n",
      "     |      getrandbits() implementation available to it and determines\n",
      "     |      whether it can generate random integers from arbitrarily large\n",
      "     |      ranges.\n",
      "     |  \n",
      "     |  ----------------------------------------------------------------------\n",
      "     |  Data descriptors defined here:\n",
      "     |  \n",
      "     |  __dict__\n",
      "     |      dictionary for instance variables (if defined)\n",
      "     |  \n",
      "     |  __weakref__\n",
      "     |      list of weak references to the object (if defined)\n",
      "     |  \n",
      "     |  ----------------------------------------------------------------------\n",
      "     |  Data and other attributes defined here:\n",
      "     |  \n",
      "     |  VERSION = 3\n",
      "     |  \n",
      "     |  ----------------------------------------------------------------------\n",
      "     |  Methods inherited from _random.Random:\n",
      "     |  \n",
      "     |  getrandbits(self, k, /)\n",
      "     |      getrandbits(k) -> x.  Generates an int with k random bits.\n",
      "     |  \n",
      "     |  random(self, /)\n",
      "     |      random() -> x in the interval [0, 1).\n",
      "     |  \n",
      "     |  ----------------------------------------------------------------------\n",
      "     |  Static methods inherited from _random.Random:\n",
      "     |  \n",
      "     |  __new__(*args, **kwargs) from builtins.type\n",
      "     |      Create and return a new object.  See help(type) for accurate signature.\n",
      "    \n",
      "    class SystemRandom(Random)\n",
      "     |  SystemRandom(x=None)\n",
      "     |  \n",
      "     |  Alternate random number generator using sources provided\n",
      "     |  by the operating system (such as /dev/urandom on Unix or\n",
      "     |  CryptGenRandom on Windows).\n",
      "     |  \n",
      "     |   Not available on all systems (see os.urandom() for details).\n",
      "     |  \n",
      "     |  Method resolution order:\n",
      "     |      SystemRandom\n",
      "     |      Random\n",
      "     |      _random.Random\n",
      "     |      builtins.object\n",
      "     |  \n",
      "     |  Methods defined here:\n",
      "     |  \n",
      "     |  getrandbits(self, k)\n",
      "     |      getrandbits(k) -> x.  Generates an int with k random bits.\n",
      "     |  \n",
      "     |  getstate = _notimplemented(self, *args, **kwds)\n",
      "     |  \n",
      "     |  randbytes(self, n)\n",
      "     |      Generate n random bytes.\n",
      "     |  \n",
      "     |  random(self)\n",
      "     |      Get the next random number in the range [0.0, 1.0).\n",
      "     |  \n",
      "     |  seed(self, *args, **kwds)\n",
      "     |      Stub method.  Not used for a system random number generator.\n",
      "     |  \n",
      "     |  setstate = _notimplemented(self, *args, **kwds)\n",
      "     |  \n",
      "     |  ----------------------------------------------------------------------\n",
      "     |  Methods inherited from Random:\n",
      "     |  \n",
      "     |  __getstate__(self)\n",
      "     |      Helper for pickle.\n",
      "     |  \n",
      "     |  __init__(self, x=None)\n",
      "     |      Initialize an instance.\n",
      "     |      \n",
      "     |      Optional argument x controls seeding, as for Random.seed().\n",
      "     |  \n",
      "     |  __reduce__(self)\n",
      "     |      Helper for pickle.\n",
      "     |  \n",
      "     |  __setstate__(self, state)\n",
      "     |  \n",
      "     |  betavariate(self, alpha, beta)\n",
      "     |      Beta distribution.\n",
      "     |      \n",
      "     |      Conditions on the parameters are alpha > 0 and beta > 0.\n",
      "     |      Returned values range between 0 and 1.\n",
      "     |  \n",
      "     |  choice(self, seq)\n",
      "     |      Choose a random element from a non-empty sequence.\n",
      "     |  \n",
      "     |  choices(self, population, weights=None, *, cum_weights=None, k=1)\n",
      "     |      Return a k sized list of population elements chosen with replacement.\n",
      "     |      \n",
      "     |      If the relative weights or cumulative weights are not specified,\n",
      "     |      the selections are made with equal probability.\n",
      "     |  \n",
      "     |  expovariate(self, lambd)\n",
      "     |      Exponential distribution.\n",
      "     |      \n",
      "     |      lambd is 1.0 divided by the desired mean.  It should be\n",
      "     |      nonzero.  (The parameter would be called \"lambda\", but that is\n",
      "     |      a reserved word in Python.)  Returned values range from 0 to\n",
      "     |      positive infinity if lambd is positive, and from negative\n",
      "     |      infinity to 0 if lambd is negative.\n",
      "     |  \n",
      "     |  gammavariate(self, alpha, beta)\n",
      "     |      Gamma distribution.  Not the gamma function!\n",
      "     |      \n",
      "     |      Conditions on the parameters are alpha > 0 and beta > 0.\n",
      "     |      \n",
      "     |      The probability distribution function is:\n",
      "     |      \n",
      "     |                  x ** (alpha - 1) * math.exp(-x / beta)\n",
      "     |        pdf(x) =  --------------------------------------\n",
      "     |                    math.gamma(alpha) * beta ** alpha\n",
      "     |  \n",
      "     |  gauss(self, mu=0.0, sigma=1.0)\n",
      "     |      Gaussian distribution.\n",
      "     |      \n",
      "     |      mu is the mean, and sigma is the standard deviation.  This is\n",
      "     |      slightly faster than the normalvariate() function.\n",
      "     |      \n",
      "     |      Not thread-safe without a lock around calls.\n",
      "     |  \n",
      "     |  lognormvariate(self, mu, sigma)\n",
      "     |      Log normal distribution.\n",
      "     |      \n",
      "     |      If you take the natural logarithm of this distribution, you'll get a\n",
      "     |      normal distribution with mean mu and standard deviation sigma.\n",
      "     |      mu can have any value, and sigma must be greater than zero.\n",
      "     |  \n",
      "     |  normalvariate(self, mu=0.0, sigma=1.0)\n",
      "     |      Normal distribution.\n",
      "     |      \n",
      "     |      mu is the mean, and sigma is the standard deviation.\n",
      "     |  \n",
      "     |  paretovariate(self, alpha)\n",
      "     |      Pareto distribution.  alpha is the shape parameter.\n",
      "     |  \n",
      "     |  randint(self, a, b)\n",
      "     |      Return random integer in range [a, b], including both end points.\n",
      "     |  \n",
      "     |  randrange(self, start, stop=None, step=1)\n",
      "     |      Choose a random item from range(start, stop[, step]).\n",
      "     |      \n",
      "     |      This fixes the problem with randint() which includes the\n",
      "     |      endpoint; in Python this is usually not what you want.\n",
      "     |  \n",
      "     |  sample(self, population, k, *, counts=None)\n",
      "     |      Chooses k unique random elements from a population sequence.\n",
      "     |      \n",
      "     |      Returns a new list containing elements from the population while\n",
      "     |      leaving the original population unchanged.  The resulting list is\n",
      "     |      in selection order so that all sub-slices will also be valid random\n",
      "     |      samples.  This allows raffle winners (the sample) to be partitioned\n",
      "     |      into grand prize and second place winners (the subslices).\n",
      "     |      \n",
      "     |      Members of the population need not be hashable or unique.  If the\n",
      "     |      population contains repeats, then each occurrence is a possible\n",
      "     |      selection in the sample.\n",
      "     |      \n",
      "     |      Repeated elements can be specified one at a time or with the optional\n",
      "     |      counts parameter.  For example:\n",
      "     |      \n",
      "     |          sample(['red', 'blue'], counts=[4, 2], k=5)\n",
      "     |      \n",
      "     |      is equivalent to:\n",
      "     |      \n",
      "     |          sample(['red', 'red', 'red', 'red', 'blue', 'blue'], k=5)\n",
      "     |      \n",
      "     |      To choose a sample from a range of integers, use range() for the\n",
      "     |      population argument.  This is especially fast and space efficient\n",
      "     |      for sampling from a large population:\n",
      "     |      \n",
      "     |          sample(range(10000000), 60)\n",
      "     |  \n",
      "     |  shuffle(self, x)\n",
      "     |      Shuffle list x in place, and return None.\n",
      "     |  \n",
      "     |  triangular(self, low=0.0, high=1.0, mode=None)\n",
      "     |      Triangular distribution.\n",
      "     |      \n",
      "     |      Continuous distribution bounded by given lower and upper limits,\n",
      "     |      and having a given mode value in-between.\n",
      "     |      \n",
      "     |      http://en.wikipedia.org/wiki/Triangular_distribution\n",
      "     |  \n",
      "     |  uniform(self, a, b)\n",
      "     |      Get a random number in the range [a, b) or [a, b] depending on rounding.\n",
      "     |  \n",
      "     |  vonmisesvariate(self, mu, kappa)\n",
      "     |      Circular data distribution.\n",
      "     |      \n",
      "     |      mu is the mean angle, expressed in radians between 0 and 2*pi, and\n",
      "     |      kappa is the concentration parameter, which must be greater than or\n",
      "     |      equal to zero.  If kappa is equal to zero, this distribution reduces\n",
      "     |      to a uniform random angle over the range 0 to 2*pi.\n",
      "     |  \n",
      "     |  weibullvariate(self, alpha, beta)\n",
      "     |      Weibull distribution.\n",
      "     |      \n",
      "     |      alpha is the scale parameter and beta is the shape parameter.\n",
      "     |  \n",
      "     |  ----------------------------------------------------------------------\n",
      "     |  Class methods inherited from Random:\n",
      "     |  \n",
      "     |  __init_subclass__(**kwargs) from builtins.type\n",
      "     |      Control how subclasses generate random integers.\n",
      "     |      \n",
      "     |      The algorithm a subclass can use depends on the random() and/or\n",
      "     |      getrandbits() implementation available to it and determines\n",
      "     |      whether it can generate random integers from arbitrarily large\n",
      "     |      ranges.\n",
      "     |  \n",
      "     |  ----------------------------------------------------------------------\n",
      "     |  Data descriptors inherited from Random:\n",
      "     |  \n",
      "     |  __dict__\n",
      "     |      dictionary for instance variables (if defined)\n",
      "     |  \n",
      "     |  __weakref__\n",
      "     |      list of weak references to the object (if defined)\n",
      "     |  \n",
      "     |  ----------------------------------------------------------------------\n",
      "     |  Data and other attributes inherited from Random:\n",
      "     |  \n",
      "     |  VERSION = 3\n",
      "     |  \n",
      "     |  ----------------------------------------------------------------------\n",
      "     |  Static methods inherited from _random.Random:\n",
      "     |  \n",
      "     |  __new__(*args, **kwargs) from builtins.type\n",
      "     |      Create and return a new object.  See help(type) for accurate signature.\n",
      "\n",
      "FUNCTIONS\n",
      "    betavariate(alpha, beta) method of Random instance\n",
      "        Beta distribution.\n",
      "        \n",
      "        Conditions on the parameters are alpha > 0 and beta > 0.\n",
      "        Returned values range between 0 and 1.\n",
      "    \n",
      "    choice(seq) method of Random instance\n",
      "        Choose a random element from a non-empty sequence.\n",
      "    \n",
      "    choices(population, weights=None, *, cum_weights=None, k=1) method of Random instance\n",
      "        Return a k sized list of population elements chosen with replacement.\n",
      "        \n",
      "        If the relative weights or cumulative weights are not specified,\n",
      "        the selections are made with equal probability.\n",
      "    \n",
      "    expovariate(lambd) method of Random instance\n",
      "        Exponential distribution.\n",
      "        \n",
      "        lambd is 1.0 divided by the desired mean.  It should be\n",
      "        nonzero.  (The parameter would be called \"lambda\", but that is\n",
      "        a reserved word in Python.)  Returned values range from 0 to\n",
      "        positive infinity if lambd is positive, and from negative\n",
      "        infinity to 0 if lambd is negative.\n",
      "    \n",
      "    gammavariate(alpha, beta) method of Random instance\n",
      "        Gamma distribution.  Not the gamma function!\n",
      "        \n",
      "        Conditions on the parameters are alpha > 0 and beta > 0.\n",
      "        \n",
      "        The probability distribution function is:\n",
      "        \n",
      "                    x ** (alpha - 1) * math.exp(-x / beta)\n",
      "          pdf(x) =  --------------------------------------\n",
      "                      math.gamma(alpha) * beta ** alpha\n",
      "    \n",
      "    gauss(mu=0.0, sigma=1.0) method of Random instance\n",
      "        Gaussian distribution.\n",
      "        \n",
      "        mu is the mean, and sigma is the standard deviation.  This is\n",
      "        slightly faster than the normalvariate() function.\n",
      "        \n",
      "        Not thread-safe without a lock around calls.\n",
      "    \n",
      "    getrandbits(k, /) method of Random instance\n",
      "        getrandbits(k) -> x.  Generates an int with k random bits.\n",
      "    \n",
      "    getstate() method of Random instance\n",
      "        Return internal state; can be passed to setstate() later.\n",
      "    \n",
      "    lognormvariate(mu, sigma) method of Random instance\n",
      "        Log normal distribution.\n",
      "        \n",
      "        If you take the natural logarithm of this distribution, you'll get a\n",
      "        normal distribution with mean mu and standard deviation sigma.\n",
      "        mu can have any value, and sigma must be greater than zero.\n",
      "    \n",
      "    normalvariate(mu=0.0, sigma=1.0) method of Random instance\n",
      "        Normal distribution.\n",
      "        \n",
      "        mu is the mean, and sigma is the standard deviation.\n",
      "    \n",
      "    paretovariate(alpha) method of Random instance\n",
      "        Pareto distribution.  alpha is the shape parameter.\n",
      "    \n",
      "    randbytes(n) method of Random instance\n",
      "        Generate n random bytes.\n",
      "    \n",
      "    randint(a, b) method of Random instance\n",
      "        Return random integer in range [a, b], including both end points.\n",
      "    \n",
      "    random() method of Random instance\n",
      "        random() -> x in the interval [0, 1).\n",
      "    \n",
      "    randrange(start, stop=None, step=1) method of Random instance\n",
      "        Choose a random item from range(start, stop[, step]).\n",
      "        \n",
      "        This fixes the problem with randint() which includes the\n",
      "        endpoint; in Python this is usually not what you want.\n",
      "    \n",
      "    sample(population, k, *, counts=None) method of Random instance\n",
      "        Chooses k unique random elements from a population sequence.\n",
      "        \n",
      "        Returns a new list containing elements from the population while\n",
      "        leaving the original population unchanged.  The resulting list is\n",
      "        in selection order so that all sub-slices will also be valid random\n",
      "        samples.  This allows raffle winners (the sample) to be partitioned\n",
      "        into grand prize and second place winners (the subslices).\n",
      "        \n",
      "        Members of the population need not be hashable or unique.  If the\n",
      "        population contains repeats, then each occurrence is a possible\n",
      "        selection in the sample.\n",
      "        \n",
      "        Repeated elements can be specified one at a time or with the optional\n",
      "        counts parameter.  For example:\n",
      "        \n",
      "            sample(['red', 'blue'], counts=[4, 2], k=5)\n",
      "        \n",
      "        is equivalent to:\n",
      "        \n",
      "            sample(['red', 'red', 'red', 'red', 'blue', 'blue'], k=5)\n",
      "        \n",
      "        To choose a sample from a range of integers, use range() for the\n",
      "        population argument.  This is especially fast and space efficient\n",
      "        for sampling from a large population:\n",
      "        \n",
      "            sample(range(10000000), 60)\n",
      "    \n",
      "    seed(a=None, version=2) method of Random instance\n",
      "        Initialize internal state from a seed.\n",
      "        \n",
      "        The only supported seed types are None, int, float,\n",
      "        str, bytes, and bytearray.\n",
      "        \n",
      "        None or no argument seeds from current time or from an operating\n",
      "        system specific randomness source if available.\n",
      "        \n",
      "        If *a* is an int, all bits are used.\n",
      "        \n",
      "        For version 2 (the default), all of the bits are used if *a* is a str,\n",
      "        bytes, or bytearray.  For version 1 (provided for reproducing random\n",
      "        sequences from older versions of Python), the algorithm for str and\n",
      "        bytes generates a narrower range of seeds.\n",
      "    \n",
      "    setstate(state) method of Random instance\n",
      "        Restore internal state from object returned by getstate().\n",
      "    \n",
      "    shuffle(x) method of Random instance\n",
      "        Shuffle list x in place, and return None.\n",
      "    \n",
      "    triangular(low=0.0, high=1.0, mode=None) method of Random instance\n",
      "        Triangular distribution.\n",
      "        \n",
      "        Continuous distribution bounded by given lower and upper limits,\n",
      "        and having a given mode value in-between.\n",
      "        \n",
      "        http://en.wikipedia.org/wiki/Triangular_distribution\n",
      "    \n",
      "    uniform(a, b) method of Random instance\n",
      "        Get a random number in the range [a, b) or [a, b] depending on rounding.\n",
      "    \n",
      "    vonmisesvariate(mu, kappa) method of Random instance\n",
      "        Circular data distribution.\n",
      "        \n",
      "        mu is the mean angle, expressed in radians between 0 and 2*pi, and\n",
      "        kappa is the concentration parameter, which must be greater than or\n",
      "        equal to zero.  If kappa is equal to zero, this distribution reduces\n",
      "        to a uniform random angle over the range 0 to 2*pi.\n",
      "    \n",
      "    weibullvariate(alpha, beta) method of Random instance\n",
      "        Weibull distribution.\n",
      "        \n",
      "        alpha is the scale parameter and beta is the shape parameter.\n",
      "\n",
      "DATA\n",
      "    __all__ = ['Random', 'SystemRandom', 'betavariate', 'choice', 'choices...\n",
      "\n",
      "FILE\n",
      "    /usr/local/Cellar/python@3.11/3.11.0/Frameworks/Python.framework/Versions/3.11/lib/python3.11/random.py\n",
      "\n",
      "\n"
     ]
    }
   ],
   "source": [
    "help(random)  # get help on the entire module"
   ]
  },
  {
   "cell_type": "code",
   "execution_count": 32,
   "id": "d95130b0",
   "metadata": {},
   "outputs": [],
   "source": [
    "# I want to define a new module, \"mymod\".\n",
    "\n",
    "# this means creating a file called \"mymod.py\" and that file must be in one of the directories\n",
    "# in sys.path\n",
    "\n",
    "# easiest: put that file in the same directory as Jupyter (or wherever you're running Python)\n",
    "\n",
    "import mymod"
   ]
  },
  {
   "cell_type": "code",
   "execution_count": 33,
   "id": "df1cbd11",
   "metadata": {},
   "outputs": [
    {
     "data": {
      "text/plain": [
       "<module 'mymod' from '/Users/reuven/Courses/Current/OReilly-2022-11Nov-first-steps/mymod.py'>"
      ]
     },
     "execution_count": 33,
     "metadata": {},
     "output_type": "execute_result"
    }
   ],
   "source": [
    "# let's get the printed representation of mymod, to see what Python thinks about it\n",
    "mymod"
   ]
  },
  {
   "cell_type": "code",
   "execution_count": 34,
   "id": "990506e6",
   "metadata": {},
   "outputs": [
    {
     "data": {
      "text/plain": [
       "['__builtins__',\n",
       " '__cached__',\n",
       " '__doc__',\n",
       " '__file__',\n",
       " '__loader__',\n",
       " '__name__',\n",
       " '__package__',\n",
       " '__spec__']"
      ]
     },
     "execution_count": 34,
     "metadata": {},
     "output_type": "execute_result"
    }
   ],
   "source": [
    "# what attributes are defined on mymod?\n",
    "\n",
    "dir(mymod)"
   ]
  },
  {
   "cell_type": "markdown",
   "id": "d46ea4f4",
   "metadata": {},
   "source": [
    "# Some of the dunder attributes on every module\n",
    "\n",
    "- `__builtins__` -- this is a reference to the \"builtin\" namespace, which contains `len`, `int`, `str`, `dict`, and so forth. Every module needs access to builtins, and this is the way.\n",
    "- `__file__` -- this indicates what file our module was loaded from\n",
    "- `__name__` -- this is the module's name, as far as the module is concerned. If we've used `import ... as`, then `__name__` and the module's variable name won't be the same."
   ]
  },
  {
   "cell_type": "code",
   "execution_count": 35,
   "id": "d6ea8c31",
   "metadata": {},
   "outputs": [
    {
     "data": {
      "text/plain": [
       "'/Users/reuven/Courses/Current/OReilly-2022-11Nov-first-steps/mymod.py'"
      ]
     },
     "execution_count": 35,
     "metadata": {},
     "output_type": "execute_result"
    }
   ],
   "source": [
    "mymod.__file__"
   ]
  },
  {
   "cell_type": "code",
   "execution_count": 36,
   "id": "325504a2",
   "metadata": {},
   "outputs": [
    {
     "data": {
      "text/plain": [
       "'mymod'"
      ]
     },
     "execution_count": 36,
     "metadata": {},
     "output_type": "execute_result"
    }
   ],
   "source": [
    "mymod.__name__"
   ]
  },
  {
   "cell_type": "code",
   "execution_count": 37,
   "id": "3051763d",
   "metadata": {},
   "outputs": [
    {
     "data": {
      "text/plain": [
       "<module 'mymod' from '/Users/reuven/Courses/Current/OReilly-2022-11Nov-first-steps/mymod.py'>"
      ]
     },
     "execution_count": 37,
     "metadata": {},
     "output_type": "execute_result"
    }
   ],
   "source": [
    "mymod"
   ]
  },
  {
   "cell_type": "code",
   "execution_count": 38,
   "id": "ca4c961b",
   "metadata": {},
   "outputs": [],
   "source": [
    "import mymod  "
   ]
  },
  {
   "cell_type": "code",
   "execution_count": 39,
   "id": "2c13ddf6",
   "metadata": {},
   "outputs": [
    {
     "data": {
      "text/plain": [
       "['__builtins__',\n",
       " '__cached__',\n",
       " '__doc__',\n",
       " '__file__',\n",
       " '__loader__',\n",
       " '__name__',\n",
       " '__package__',\n",
       " '__spec__']"
      ]
     },
     "execution_count": 39,
     "metadata": {},
     "output_type": "execute_result"
    }
   ],
   "source": [
    "dir(mymod)"
   ]
  },
  {
   "cell_type": "code",
   "execution_count": 40,
   "id": "c5d6d237",
   "metadata": {},
   "outputs": [
    {
     "data": {
      "text/plain": [
       "<module 'mymod' from '/Users/reuven/Courses/Current/OReilly-2022-11Nov-first-steps/mymod.py'>"
      ]
     },
     "execution_count": 40,
     "metadata": {},
     "output_type": "execute_result"
    }
   ],
   "source": [
    "# if we want to reload a module, then we have to use the \"reload\" function in the \"importlib\" module\n",
    "\n",
    "from importlib import reload\n",
    "reload(mymod)   # this ensures that our module is reloaded with its new definitions"
   ]
  },
  {
   "cell_type": "code",
   "execution_count": 41,
   "id": "340dd8a2",
   "metadata": {},
   "outputs": [
    {
     "data": {
      "text/plain": [
       "['__builtins__',\n",
       " '__cached__',\n",
       " '__doc__',\n",
       " '__file__',\n",
       " '__loader__',\n",
       " '__name__',\n",
       " '__package__',\n",
       " '__spec__',\n",
       " 'hello',\n",
       " 'x',\n",
       " 'y']"
      ]
     },
     "execution_count": 41,
     "metadata": {},
     "output_type": "execute_result"
    }
   ],
   "source": [
    "dir(mymod)"
   ]
  },
  {
   "cell_type": "code",
   "execution_count": 42,
   "id": "46ecc355",
   "metadata": {},
   "outputs": [
    {
     "data": {
      "text/plain": [
       "100"
      ]
     },
     "execution_count": 42,
     "metadata": {},
     "output_type": "execute_result"
    }
   ],
   "source": [
    "mymod.x    # get the value of x from mymod"
   ]
  },
  {
   "cell_type": "code",
   "execution_count": 43,
   "id": "f606ad1f",
   "metadata": {},
   "outputs": [
    {
     "data": {
      "text/plain": [
       "[10, 20, 30]"
      ]
     },
     "execution_count": 43,
     "metadata": {},
     "output_type": "execute_result"
    }
   ],
   "source": [
    "mymod.y   # get the value of y\n"
   ]
  },
  {
   "cell_type": "code",
   "execution_count": 44,
   "id": "8f4f5fc1",
   "metadata": {},
   "outputs": [
    {
     "data": {
      "text/plain": [
       "'Hello, world!'"
      ]
     },
     "execution_count": 44,
     "metadata": {},
     "output_type": "execute_result"
    }
   ],
   "source": [
    "mymod.hello('world')  # run the function mymod.hello"
   ]
  },
  {
   "cell_type": "markdown",
   "id": "807341bc",
   "metadata": {},
   "source": [
    "# Exercise: Menu\n",
    "\n",
    "1. Modules usually contain functions that we'll want to run from a variety of different programs. Here, I want you to create a module in `menu.py` that contains a single function, called `menu`. The idea is that any program that wants to let the user choose from among several menu items can do so.  Because the function is called `menu` in `menu.py`, we'll use it as `menu.menu`.\n",
    "2. `menu.menu` will get a list of strings from the caller, and will display all of these options.\n",
    "3. The function will then ask the user to choose one of these options.\n",
    "4. If the user chooses a valid option, then that option is returned to the caller.\n",
    "5. If the user chooses an invalid option, then we return the empty string to the caller.\n",
    "6. Call the function, and display the output.\n",
    "\n",
    "```python\n",
    "import menu\n",
    "user_choice = menu.menu(['a', 'b', 'c'])\n",
    "print(f'User chose {user_choice}')\n",
    "```"
   ]
  },
  {
   "cell_type": "code",
   "execution_count": 51,
   "id": "d833cf57",
   "metadata": {},
   "outputs": [
    {
     "name": "stdout",
     "output_type": "stream",
     "text": [
      "Enter one of ['a', 'b', 'c']asdfadfa\n",
      "No choice!\n"
     ]
    }
   ],
   "source": [
    "import menu\n",
    "user_choice = menu.menu(['a', 'b', 'c'])\n",
    "\n",
    "if user_choice == '':\n",
    "    print('No choice!')\n",
    "else:\n",
    "    print(f'User chose {user_choice}')"
   ]
  },
  {
   "cell_type": "code",
   "execution_count": null,
   "id": "244cfb23",
   "metadata": {},
   "outputs": [],
   "source": [
    "# our menu function\n",
    "\n",
    "# this file needs to contain a single function, called \"menu\"\n",
    "# that function will get a list of strings\n",
    "\n",
    "def menu(strings):                  # start the function definition\n",
    "\n",
    "    # ask the user to enter a string from \"strings\", a list we got from the caller\n",
    "    user_choice = input(f'Enter one of {strings}').strip()\n",
    "    \n",
    "    if user_choice in strings:    # if the user's choice (a string) is an element of strings, that means\n",
    "        return user_choice        # we got ligitimate input, and we can return it as output\n",
    "\n",
    "    return ''                     # if the user's input is illegal, then we'll return the empty string"
   ]
  },
  {
   "cell_type": "code",
   "execution_count": 52,
   "id": "f2463f0a",
   "metadata": {},
   "outputs": [],
   "source": [
    "s = '    abcd    efgh   ijkl    '"
   ]
  },
  {
   "cell_type": "code",
   "execution_count": 53,
   "id": "3eaaa566",
   "metadata": {},
   "outputs": [
    {
     "data": {
      "text/plain": [
       "'abcd    efgh   ijkl'"
      ]
     },
     "execution_count": 53,
     "metadata": {},
     "output_type": "execute_result"
    }
   ],
   "source": [
    "s.strip()  # this returns a new string, based on s, without leading and trailing whitespace"
   ]
  },
  {
   "cell_type": "code",
   "execution_count": 56,
   "id": "b303eaac",
   "metadata": {},
   "outputs": [
    {
     "data": {
      "text/plain": [
       "<module 'mymod' from '/Users/reuven/Courses/Current/OReilly-2022-11Nov-first-steps/mymod.py'>"
      ]
     },
     "execution_count": 56,
     "metadata": {},
     "output_type": "execute_result"
    }
   ],
   "source": [
    "reload(mymod)"
   ]
  },
  {
   "cell_type": "code",
   "execution_count": 57,
   "id": "cdd8a5a4",
   "metadata": {},
   "outputs": [
    {
     "data": {
      "text/plain": [
       "<module 'mymod' from '/Users/reuven/Courses/Current/OReilly-2022-11Nov-first-steps/mymod.py'>"
      ]
     },
     "execution_count": 57,
     "metadata": {},
     "output_type": "execute_result"
    }
   ],
   "source": [
    "reload(mymod)"
   ]
  },
  {
   "cell_type": "code",
   "execution_count": 58,
   "id": "bb8edaf3",
   "metadata": {},
   "outputs": [
    {
     "name": "stdout",
     "output_type": "stream",
     "text": [
      "Hello from mymod!\n",
      "Goodbye from mymod!\n"
     ]
    },
    {
     "data": {
      "text/plain": [
       "<module 'mymod' from '/Users/reuven/Courses/Current/OReilly-2022-11Nov-first-steps/mymod.py'>"
      ]
     },
     "execution_count": 58,
     "metadata": {},
     "output_type": "execute_result"
    }
   ],
   "source": [
    "reload(mymod)"
   ]
  },
  {
   "cell_type": "code",
   "execution_count": null,
   "id": "71b9aa04",
   "metadata": {},
   "outputs": [],
   "source": []
  }
 ],
 "metadata": {
  "kernelspec": {
   "display_name": "Python 3 (ipykernel)",
   "language": "python",
   "name": "python3"
  },
  "language_info": {
   "codemirror_mode": {
    "name": "ipython",
    "version": 3
   },
   "file_extension": ".py",
   "mimetype": "text/x-python",
   "name": "python",
   "nbconvert_exporter": "python",
   "pygments_lexer": "ipython3",
   "version": "3.11.0"
  }
 },
 "nbformat": 4,
 "nbformat_minor": 5
}
