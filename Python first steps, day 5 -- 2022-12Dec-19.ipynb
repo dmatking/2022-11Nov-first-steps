{
 "cells": [
  {
   "cell_type": "markdown",
   "id": "70dccb51",
   "metadata": {},
   "source": [
    "# Agenda: Day 5 (Modules and packages)\n",
    "\n",
    "1. Review of last week's challenge\n",
    "2. Q&A\n",
    "3. Modules\n",
    "    - Why do need modules?\n",
    "    - Using `import` to load modules\n",
    "    - Different variations on `import`\n",
    "    - Writing a simple module\n",
    "    - How do modules work?\n",
    "4. Python's standard library\n",
    "5. Modules vs. packages\n",
    "6. PyPI\n",
    "    - What is it?\n",
    "    - How can we install things from PyPI?\n",
    "    - Issues with installation\n",
    "    - Understanding how to navigate through and use PyPI\n",
    "7. Next steps -- where do we go from here?    "
   ]
  },
  {
   "cell_type": "code",
   "execution_count": 1,
   "id": "711e513b",
   "metadata": {},
   "outputs": [],
   "source": [
    "# Code from the inteactive exercise\n",
    "\n",
    "def count_ips(filename):\n",
    "    output = {}   # new, empty dict\n",
    "\n",
    "    for one_line in open(filename):           # go through the file, one line at a time, assigning to one_line\n",
    "        ip_address = one_line.split()[0]      # grab the IP address from the start of each line\n",
    "\n",
    "        if ip_address in output:              # if we've already seen ip_address, then add 1 to its count\n",
    "            output[ip_address] += 1           # (ip_address is a key in the \"output\" dict)\n",
    "\n",
    "        else:                                 # if this is the first time we see ip_address, set it to be a key\n",
    "            output[ip_address] = 1            # in output, and the value is 1\n",
    "\n",
    "    # - each new IP address adds a new key-value pair to output\n",
    "    # - each repeat IP address adds 1 to the value of the existing key\n",
    "\n",
    "    return output  # this is a dict\n"
   ]
  },
  {
   "cell_type": "code",
   "execution_count": 2,
   "id": "56e955cd",
   "metadata": {},
   "outputs": [
    {
     "data": {
      "text/plain": [
       "{'67.218.116.165': 2,\n",
       " '66.249.71.65': 3,\n",
       " '65.55.106.183': 2,\n",
       " '66.249.65.12': 32,\n",
       " '65.55.106.131': 2,\n",
       " '65.55.106.186': 2,\n",
       " '74.52.245.146': 2,\n",
       " '66.249.65.43': 3,\n",
       " '65.55.207.25': 2,\n",
       " '65.55.207.94': 2,\n",
       " '65.55.207.71': 1,\n",
       " '98.242.170.241': 1,\n",
       " '66.249.65.38': 100,\n",
       " '65.55.207.126': 2,\n",
       " '82.34.9.20': 2,\n",
       " '65.55.106.155': 2,\n",
       " '65.55.207.77': 2,\n",
       " '208.80.193.28': 1,\n",
       " '89.248.172.58': 22,\n",
       " '67.195.112.35': 16,\n",
       " '65.55.207.50': 3,\n",
       " '65.55.215.75': 2}"
      ]
     },
     "execution_count": 2,
     "metadata": {},
     "output_type": "execute_result"
    }
   ],
   "source": [
    "count_ips('mini-access-log.txt')"
   ]
  },
  {
   "cell_type": "markdown",
   "id": "8367c5e1",
   "metadata": {},
   "source": [
    "# Modules\n",
    "\n",
    "One of the main things to keep in mind when programming is the DRY (\"don't repeat yourself\") rule:\n",
    "\n",
    "- If you have several lines of code in a row that basically repeat themselves, you can replace them with a `for` loop.\n",
    "- If you have several lines of code that repeat themselves in various places in your program, then you can replace them with a function.\n",
    "- If you have several lines of code that repeat themselves across different programs, then you can replace them with a library. A library is a collection of code that you can use in numerous programs.\n",
    "\n",
    "In Python, we call our libraries \"modules.\" A module is thus:\n",
    "\n",
    "1. A collection of code (function and variable definitions) that we can use in numerous programs, and\n",
    "2. The variable/namespace we use to access those functions and variables in our program."
   ]
  },
  {
   "cell_type": "code",
   "execution_count": 3,
   "id": "975882e9",
   "metadata": {},
   "outputs": [],
   "source": [
    "# one example of a module is \"random\"\n",
    "# it contains many functions and data structures for working with random and related data.\n",
    "\n",
    "# we can load it into memory using \"import\"\n",
    "import random"
   ]
  },
  {
   "cell_type": "code",
   "execution_count": 4,
   "id": "525fce0c",
   "metadata": {},
   "outputs": [
    {
     "data": {
      "text/plain": [
       "module"
      ]
     },
     "execution_count": 4,
     "metadata": {},
     "output_type": "execute_result"
    }
   ],
   "source": [
    "# random is a variable, defined in our program\n",
    "# we can ask it: what kind of value does it refer to?\n",
    "\n",
    "type(random)"
   ]
  },
  {
   "cell_type": "code",
   "execution_count": 6,
   "id": "aa37a718",
   "metadata": {},
   "outputs": [
    {
     "data": {
      "text/plain": [
       "34"
      ]
     },
     "execution_count": 6,
     "metadata": {},
     "output_type": "execute_result"
    }
   ],
   "source": [
    "# what does the module provide us with? Functions and data we can use\n",
    "# to work with random-related things\n",
    "\n",
    "# for example, the random.randint function\n",
    "random.randint(0, 100)"
   ]
  },
  {
   "cell_type": "markdown",
   "id": "b3b4ba9a",
   "metadata": {},
   "source": [
    "# Is `random` a module, or a variable?\n",
    "\n",
    "It's both!\n",
    "\n",
    "When we say `import random`, we're defining the `random` variable. Like all variables in Python, it refers to a value. In this case, the `random` variable refers to the the module object that we loaded with `import`, which knows itself as `random.`\n",
    "\n",
    "We can refer to `random` as a variable, and we can also refer to `random` as a module object, even though technically `random` is a name referring to such an object."
   ]
  },
  {
   "cell_type": "markdown",
   "id": "cf3b60ef",
   "metadata": {},
   "source": [
    "# Exercise: Random numbers\n",
    "\n",
    "1. `import` the `random` module.\n",
    "2. Set two variables, `x` and `y`, to be random integers from 0 to 1,000.\n",
    "3. Print `x`, `y`, and their product."
   ]
  },
  {
   "cell_type": "code",
   "execution_count": 7,
   "id": "10893545",
   "metadata": {},
   "outputs": [
    {
     "name": "stdout",
     "output_type": "stream",
     "text": [
      "378 * 951 = 359478\n"
     ]
    }
   ],
   "source": [
    "import random\n",
    "\n",
    "x = random.randint(0, 1000)    # running the \"randint\" function in the \"random\" module\n",
    "y = random.randint(0, 1000)    # (again) running the \"randint\" function in the \"random\" module\n",
    "\n",
    "print(f'{x} * {y} = {x*y}')\n"
   ]
  },
  {
   "cell_type": "code",
   "execution_count": 8,
   "id": "8e09dbee",
   "metadata": {},
   "outputs": [
    {
     "name": "stdout",
     "output_type": "stream",
     "text": [
      "0: 840 * 694 = 582960\n",
      "1: 658 * 344 = 226352\n",
      "2: 622 * 711 = 442242\n",
      "3: 213 * 514 = 109482\n",
      "4: 172 * 973 = 167356\n"
     ]
    }
   ],
   "source": [
    "# let's do this 5 times\n",
    "\n",
    "import random\n",
    "\n",
    "for i in range(5):\n",
    "    x = random.randint(0, 1000)    # running the \"randint\" function in the \"random\" module\n",
    "    y = random.randint(0, 1000)    # (again) running the \"randint\" function in the \"random\" module\n",
    "\n",
    "    print(f'{i}: {x} * {y} = {x*y}')\n"
   ]
  },
  {
   "cell_type": "markdown",
   "id": "86f6b4b0",
   "metadata": {},
   "source": [
    "When we use `import`, we're basically doing two things:\n",
    "\n",
    "1. We're creating a module object in Python, based on the module that we loaded\n",
    "2. We assign that module object to a variable, usually of the same name as the module we loaded\n",
    "\n",
    "If I say `import random`, what is Python loading? Where is it getting that data?\n",
    "\n",
    "Also: `import` is *not* a function. So we don't use parentheses for its argument. \n",
    "\n",
    "Also: The filename we give to `import` isn't a string. It's the name of the variable we want to define to be a module.\n",
    "\n",
    "Where does Python look for the file we load?\n",
    "\n",
    "Answer: Python takes the module name and adds `.py`, and then looks on disk for that filename. In this case, Python looked for a file called `random.py`.\n",
    "\n",
    "Where does it look? In a number of directories that are defined by `sys.path`.\n",
    "\n",
    "The first directory in which we find a module file by the name we're searching for, we load it and stop looking further.  This means that if you have more than one module with the same name, in multiple places on the filesystem, you will get confused and angry!"
   ]
  },
  {
   "cell_type": "code",
   "execution_count": 10,
   "id": "5da2f816",
   "metadata": {},
   "outputs": [
    {
     "data": {
      "text/plain": [
       "['/Users/reuven/Courses/Current/OReilly-2022-11Nov-first-steps',\n",
       " '/usr/local/Cellar/python@3.11/3.11.0/Frameworks/Python.framework/Versions/3.11/lib/python311.zip',\n",
       " '/usr/local/Cellar/python@3.11/3.11.0/Frameworks/Python.framework/Versions/3.11/lib/python3.11',\n",
       " '/usr/local/Cellar/python@3.11/3.11.0/Frameworks/Python.framework/Versions/3.11/lib/python3.11/lib-dynload',\n",
       " '',\n",
       " '/usr/local/lib/python3.11/site-packages',\n",
       " '/usr/local/opt/python-tk@3.11/libexec']"
      ]
     },
     "execution_count": 10,
     "metadata": {},
     "output_type": "execute_result"
    }
   ],
   "source": [
    "import sys    # sys.path is always available to Python, but if we want to look at it, we need to import\n",
    "sys.path"
   ]
  },
  {
   "cell_type": "code",
   "execution_count": 11,
   "id": "3f68afca",
   "metadata": {},
   "outputs": [
    {
     "data": {
      "text/plain": [
       "<module 'random' from '/usr/local/Cellar/python@3.11/3.11.0/Frameworks/Python.framework/Versions/3.11/lib/python3.11/random.py'>"
      ]
     },
     "execution_count": 11,
     "metadata": {},
     "output_type": "execute_result"
    }
   ],
   "source": [
    "# let's find out where random was loaded from\n",
    "# we can just look at the printed representation of the module -- in Jupyter just type its name\n",
    "\n",
    "random"
   ]
  },
  {
   "cell_type": "markdown",
   "id": "46e0e67a",
   "metadata": {},
   "source": [
    "What if I'm going to use `random.randint` many times in my program. Can I just write `randint`, without `random.` before it?\n",
    "\n",
    "Answer: **NO**.\n",
    "\n",
    "The name `randint` doesn't exist as a global variable. It only exists as an attribute (i.e., a name after a dot) inside of the `random` object."
   ]
  },
  {
   "cell_type": "code",
   "execution_count": 12,
   "id": "c69186ce",
   "metadata": {},
   "outputs": [
    {
     "ename": "NameError",
     "evalue": "name 'randint' is not defined",
     "output_type": "error",
     "traceback": [
      "\u001b[0;31m---------------------------------------------------------------------------\u001b[0m",
      "\u001b[0;31mNameError\u001b[0m                                 Traceback (most recent call last)",
      "Cell \u001b[0;32mIn [12], line 1\u001b[0m\n\u001b[0;32m----> 1\u001b[0m \u001b[43mrandint\u001b[49m(\u001b[38;5;241m0\u001b[39m, \u001b[38;5;241m100\u001b[39m)\n",
      "\u001b[0;31mNameError\u001b[0m: name 'randint' is not defined"
     ]
    }
   ],
   "source": [
    "randint(0, 100)"
   ]
  },
  {
   "cell_type": "code",
   "execution_count": 13,
   "id": "27d64a24",
   "metadata": {},
   "outputs": [
    {
     "data": {
      "text/plain": [
       "88"
      ]
     },
     "execution_count": 13,
     "metadata": {},
     "output_type": "execute_result"
    }
   ],
   "source": [
    "random.randint(0, 100)"
   ]
  },
  {
   "cell_type": "code",
   "execution_count": 14,
   "id": "829a2210",
   "metadata": {},
   "outputs": [],
   "source": [
    "# the solution is to use \"from .. import\" syntax\n",
    "\n",
    "from random import randint"
   ]
  },
  {
   "cell_type": "code",
   "execution_count": 15,
   "id": "4f466159",
   "metadata": {},
   "outputs": [
    {
     "data": {
      "text/plain": [
       "39"
      ]
     },
     "execution_count": 15,
     "metadata": {},
     "output_type": "execute_result"
    }
   ],
   "source": [
    "randint(0, 100)   # now it works!"
   ]
  },
  {
   "cell_type": "markdown",
   "id": "7a5b1a93",
   "metadata": {},
   "source": [
    "# A few things about `from .. import ..`\n",
    "\n",
    "1. Instead of defining the module as a global variable, it only defines what we ask for as a global variable.\n",
    "2. This still loads the entire module into memory. We don't have access to it, because we didn't define a variable that refers to it. But it's in memory, and we save *NO* memory at all from using `from .. import`.\n",
    "\n",
    "\n",
    "When you import a module in Python, no matter if it's with `import X` or `from X import Y`, you only import it a single time. Every subsequent `import` or `from import` for that module will ignore the request, and return the value currently in `sys.modules`, where all of the module objects are cached.\n",
    "\n",
    "It will, however, (re)define the variable to refer to the module object."
   ]
  },
  {
   "cell_type": "code",
   "execution_count": 18,
   "id": "34e9996f",
   "metadata": {},
   "outputs": [],
   "source": [
    "# what if I want to use the random module, but I don't like its very long name?\n",
    "# answer: I can use import __ as ___\n",
    "\n",
    "# this still loads the entire module, if needed -- and if it's already loaded, we change nothing\n",
    "# instead of defining a global variable named \"random\", it defines a global variable named \"ra\"\n",
    "\n",
    "# import as -- lets us give an alias to a module\n",
    "\n",
    "# why do this?\n",
    "# (1) convention\n",
    "# (2) namespace collision -- maybe the name was taken by someone else\n",
    "# (3) it's shorter and easier to write\n",
    "\n",
    "import random as ra   "
   ]
  },
  {
   "cell_type": "code",
   "execution_count": 17,
   "id": "31d69b07",
   "metadata": {},
   "outputs": [
    {
     "data": {
      "text/plain": [
       "<module 'random' from '/usr/local/Cellar/python@3.11/3.11.0/Frameworks/Python.framework/Versions/3.11/lib/python3.11/random.py'>"
      ]
     },
     "execution_count": 17,
     "metadata": {},
     "output_type": "execute_result"
    }
   ],
   "source": [
    "ra"
   ]
  },
  {
   "cell_type": "code",
   "execution_count": 19,
   "id": "1ea0dd96",
   "metadata": {},
   "outputs": [],
   "source": [
    "# I can also give an alias when I use \"from .. import\"\n",
    "\n",
    "from random import randint as ri     # (1) load random, (2) define ri = random.randint"
   ]
  },
  {
   "cell_type": "markdown",
   "id": "d2d2e676",
   "metadata": {},
   "source": [
    "# Four ways to `import`:\n",
    "\n",
    "1. `import MODNAME`\n",
    "2. `import MODNAME as MODALIAS`\n",
    "3. `from MODNAME import FUNCNAME`\n",
    "4. `from MODNAME import FUNCNAME as FUNCALIAS`\n",
    "\n",
    "There is a fifth way!  We can say\n",
    "\n",
    "`from MODNAME import *`\n",
    "\n",
    "PLEASE PLEASE PLEASE **PLEASE** never use this!  Why not?\n",
    "\n",
    "1. From a theoretical and aesthetic perspective, this means taking all of the names defined in the module, and assigning them to global variables in our main namespace. The whole point of modules and namespaces is to avoid such clutter. But this does it!\n",
    "2. In Python, the final definition of a variable wins. If you have some variable names in your program that are the same as in `MODNAME`, then the last one defined wins. Do you really know all of the names defined in all of the modules that you load? Probably not -- so avoid `import *`."
   ]
  },
  {
   "cell_type": "markdown",
   "id": "dffaab22",
   "metadata": {},
   "source": [
    "# Exercise: Filenames that match\n",
    "\n",
    "1. Ask the user to enter a command line-style pattern for filenames, using `*` and/or other special characters.\n",
    "2. Get a list of files that match that pattern via the `glob.glob` function. This means that the module is called `glob`, and the function in it is also called `glob`.\n",
    "3. List all of the files that match the named pattern."
   ]
  },
  {
   "cell_type": "code",
   "execution_count": 20,
   "id": "507cccac",
   "metadata": {},
   "outputs": [],
   "source": [
    "import glob"
   ]
  },
  {
   "cell_type": "code",
   "execution_count": 21,
   "id": "54f43d0b",
   "metadata": {},
   "outputs": [
    {
     "data": {
      "text/plain": [
       "['mini-access-log.txt',\n",
       " 'nums.txt',\n",
       " 'shoe-data.txt',\n",
       " 'linux-etc-passwd.txt',\n",
       " 'wcfile.txt',\n",
       " 'myfile.txt']"
      ]
     },
     "execution_count": 21,
     "metadata": {},
     "output_type": "execute_result"
    }
   ],
   "source": [
    "# module \"glob\", function \"glob\"\n",
    "\n",
    "glob.glob('*.txt')    # I pass the function a string with a pattern"
   ]
  },
  {
   "cell_type": "code",
   "execution_count": 22,
   "id": "22924228",
   "metadata": {},
   "outputs": [
    {
     "data": {
      "text/plain": [
       "['Python first steps, day 5 -- 2022-12Dec-19.ipynb',\n",
       " 'Python first steps, day 1 -- 2022-11Nov-21.ipynb',\n",
       " 'Python first steps, day 3 -- 2022-12Dec-05.ipynb',\n",
       " 'Python first steps, day 2 -- 2022-11Nov-28.ipynb',\n",
       " 'Python first steps, day 4 -- 2022-12Dec-12.ipynb']"
      ]
     },
     "execution_count": 22,
     "metadata": {},
     "output_type": "execute_result"
    }
   ],
   "source": [
    "glob.glob('*.ipynb')"
   ]
  },
  {
   "cell_type": "code",
   "execution_count": 23,
   "id": "b9db557d",
   "metadata": {},
   "outputs": [
    {
     "data": {
      "text/plain": [
       "['mini-access-log.txt',\n",
       " 'nums.txt',\n",
       " 'shoe-data.txt',\n",
       " 'linux-etc-passwd.txt',\n",
       " 'wcfile.txt',\n",
       " 'myfile.txt']"
      ]
     },
     "execution_count": 23,
     "metadata": {},
     "output_type": "execute_result"
    }
   ],
   "source": [
    "glob.glob('*x*')"
   ]
  },
  {
   "cell_type": "code",
   "execution_count": 24,
   "id": "526f9523",
   "metadata": {},
   "outputs": [
    {
     "name": "stdout",
     "output_type": "stream",
     "text": [
      "Enter a pattern: /etc/*.conf\n",
      "/etc/syslog.conf\n",
      "/etc/kern_loader.conf\n",
      "/etc/rtadvd.conf\n",
      "/etc/pf.conf\n",
      "/etc/launchd.conf\n",
      "/etc/autofs.conf\n",
      "/etc/slpsa.conf\n",
      "/etc/ntp_opendirectory.conf\n",
      "/etc/resolv.conf\n",
      "/etc/nfs.conf\n",
      "/etc/asl.conf\n",
      "/etc/ntp.conf\n",
      "/etc/AFP.conf\n",
      "/etc/man.conf\n",
      "/etc/newsyslog.conf\n",
      "/etc/notify.conf\n"
     ]
    }
   ],
   "source": [
    "pattern = input('Enter a pattern: ').strip()\n",
    "\n",
    "for one_filename in glob.glob(pattern):\n",
    "    print(one_filename)"
   ]
  },
  {
   "cell_type": "markdown",
   "id": "a9c47db2",
   "metadata": {},
   "source": [
    "# Next up\n",
    "\n",
    "1. What attributes (data + functions) does a module contain?\n",
    "2. Developing a module"
   ]
  },
  {
   "cell_type": "code",
   "execution_count": null,
   "id": "8e91c1bd",
   "metadata": {},
   "outputs": [],
   "source": []
  }
 ],
 "metadata": {
  "kernelspec": {
   "display_name": "Python 3 (ipykernel)",
   "language": "python",
   "name": "python3"
  },
  "language_info": {
   "codemirror_mode": {
    "name": "ipython",
    "version": 3
   },
   "file_extension": ".py",
   "mimetype": "text/x-python",
   "name": "python",
   "nbconvert_exporter": "python",
   "pygments_lexer": "ipython3",
   "version": "3.11.0"
  }
 },
 "nbformat": 4,
 "nbformat_minor": 5
}
