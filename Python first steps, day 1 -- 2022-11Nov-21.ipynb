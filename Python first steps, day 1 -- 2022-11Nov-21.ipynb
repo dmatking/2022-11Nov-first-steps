{
 "cells": [
  {
   "cell_type": "markdown",
   "metadata": {},
   "source": [
    "# Agenda, Python in Five Weeks\n",
    "\n",
    "1. Fundamentals and core concepts\n",
    "    - What is a programming language?\n",
    "    - What is Python?\n",
    "    - What are values?\n",
    "    - What are variables?\n",
    "    - Assigning to variables\n",
    "    - Comparing values with one another\n",
    "    - Conditionals -- making decisions based on values\n",
    "    - Numbers (ints and floats)\n",
    "    - Strings (\"text\")\n",
    "    - Methods on strings\n",
    "2. Loops, lists, and tuples\n",
    "3. Dictionaries and files\n",
    "4. Functions -- defining our own verbs in Python\n",
    "5. Modules and packages"
   ]
  },
  {
   "cell_type": "markdown",
   "metadata": {},
   "source": [
    "# Jupyter is a REPL (read-eval-print loop)\n",
    "\n",
    "Which is a fancy way of saying that I can put Python into it, and execute it easily.  It's a great tool for trying things out -- I call it my Python laboratory.\n",
    "\n",
    "Among other things, Jupyter lets me type Python code and (like I'm doing here) Markdown, which can be turned into nicely formatted HTML."
   ]
  },
  {
   "cell_type": "markdown",
   "metadata": {},
   "source": [
    "# What is a programming language? \n",
    "\n",
    "Logic can be expressed via electricity in the following ways:\n",
    "\n",
    "- If two wires both carry a current, then a third wire (the output) will have a current, too. That's known as `AND`.\n",
    "- If two wires go into a box, and one or both of them carries a current, then a third wire (the output) will have a current, too. That's known as `OR`.\n",
    "- If one wire goes into a box, and it has a current, then the output wire will *NOT* have a current.  But if the input wire does NOT a current, then the output will. That's known as `NOT`.\n",
    "\n",
    "These three pieces of logic are the foundation of all computers used today.\n",
    "\n",
    "At a certain point, it became untenable to change the hardware, and reconfigure all of these boxes, for each problem you might to solve.  In the end, we got general-purpose computers that we can change the logic of on the fly.  The computer supports lots and lots and lots of logical operations, and we can write programs to choose which operations we want.\n",
    "\n",
    "This meant, originally, writing programs in a very low-level way that mimicked the circuits.  Over time, this way of writing code became too tedious for most people and most problems.  We wanted higher-level programming languages.\n",
    "\n",
    "And that's where most languages you've heard of come in:\n",
    "\n",
    "- C\n",
    "- C++\n",
    "- Java\n",
    "- C#\n",
    "- Ruby\n",
    "- JavaScript\n",
    "- Python\n",
    "\n",
    "Every language in this list is a way to write our code such that it's easier for people to write and understand.  Then it gets translated into those 1s and 0s, and those circuits inside of our computer."
   ]
  },
  {
   "cell_type": "markdown",
   "metadata": {},
   "source": [
    "# How are languages different? Why Python?\n",
    "\n",
    "Languages are trade-offs.  They can be easier for people to read/write, but then slower to execute. (Python)  Or they can be very hard for people to read and write, but then fast to execute (C and C++).\n",
    "\n",
    "Go (Golang) is specifically designed for networking operations.  Erlang is designed for highly fault-tolerant systems, like your phone company.\n",
    "\n",
    "Python is a great language for an age in which people are expensive, and computers are cheap.\n",
    "\n",
    "Python isn't new -- it is more than 30 years old! But it has became **VERY** popular in the last few years, because it is so easy to learn and it's useful in so many areas:\n",
    "\n",
    "- #1 language for data analytics and data science\n",
    "- web development\n",
    "- system administration\n",
    "- devops\n",
    "- automated testing\n",
    "- education"
   ]
  },
  {
   "cell_type": "markdown",
   "metadata": {},
   "source": [
    "# Using Jupyter\n",
    "\n",
    "In Jupyter, everything is in a \"cell.\" A cell can have a type:\n",
    "\n",
    "- Markdown (nicely formatted text)\n",
    "- Python code \n",
    "- Code in about 50 other languages, too (but I've never tried those in Jupyter)\n",
    "\n",
    "You type into a cell, and then you press shift+ENTER (or sometimes control+ENTER), and the cell \"executes.\" If it's a Markdown cell, then you see it nicely formatted. If it's a Python cell, then the code executes."
   ]
  },
  {
   "cell_type": "code",
   "execution_count": 1,
   "metadata": {},
   "outputs": [
    {
     "name": "stdout",
     "output_type": "stream",
     "text": [
      "Hello out there!\n"
     ]
    }
   ],
   "source": [
    "# this is a comment, starting with # until the end of the line; Python ignores it completely\n",
    "# print is a function, a verb, that does something -- it displays something on the screen\n",
    "# to run print, we use (), and anything in the parentheses is printed on the screen\n",
    "# If we want to print text, we need to put it in quotes, either '' or \"\" -- in Python, they're the same\n",
    "\n",
    "print('Hello out there!')   "
   ]
  },
  {
   "cell_type": "markdown",
   "metadata": {},
   "source": [
    "# Jupyter navigation/command tips\n",
    "\n",
    "Jupyter can be in either of two modes:\n",
    "\n",
    "- Edit mode, which means that whatever you type is displayed. Like right now. If we're in edit mode, then the outline of the cell is green. You can enter edit mode by pressing ENTER or by clicking on the cell with your mouse.\n",
    "- Command mode, which means that whatever you type is handed to Jupyter as a command. If we're in command mode, then the outline of the cell is blue. You can enter command mode by pressing ESC or clicking to the left of the cell with your mouse.\n",
    "\n",
    "### What commands can we use?\n",
    "\n",
    "- `h` -- brings up a help menu of what commands are available\n",
    "- `c` -- copies the current cell\n",
    "- `x` -- cuts the current cell\n",
    "- `v` -- pastes the most recent copy or cut\n",
    "- `z` -- undoes many (not all) of your actions\n",
    "- `a` -- get a new cell *above* the current one\n",
    "- `b` -- get a new cell *below* the current one\n",
    "- `m` -- turn a cell into Markdown\n",
    "- `y` -- turn a cell into Python"
   ]
  },
  {
   "cell_type": "code",
   "execution_count": 2,
   "metadata": {},
   "outputs": [
    {
     "name": "stdout",
     "output_type": "stream",
     "text": [
      "Reuven\n"
     ]
    }
   ],
   "source": [
    "print('Reuven')"
   ]
  },
  {
   "cell_type": "code",
   "execution_count": 3,
   "metadata": {},
   "outputs": [
    {
     "name": "stdout",
     "output_type": "stream",
     "text": [
      "hello\n"
     ]
    }
   ],
   "source": [
    "print('hello')"
   ]
  },
  {
   "cell_type": "code",
   "execution_count": 4,
   "metadata": {},
   "outputs": [
    {
     "name": "stdout",
     "output_type": "stream",
     "text": [
      "hi again\n"
     ]
    }
   ],
   "source": [
    "print('hi again')"
   ]
  },
  {
   "cell_type": "code",
   "execution_count": 6,
   "metadata": {},
   "outputs": [
    {
     "name": "stdout",
     "output_type": "stream",
     "text": [
      "Reuven\n"
     ]
    }
   ],
   "source": [
    "# we could just use print with whatever literal value we want to display\n",
    "# but it's often easier to use a *variable*, a name that refers to that value\n",
    "# this gives us much more flexibility in our program, and allows us to think at a higher level\n",
    "\n",
    "name = 'Reuven'       # this is assignment: we assign a value (on the right) to a variable (on the left)\n",
    "print(name)"
   ]
  },
  {
   "cell_type": "markdown",
   "metadata": {},
   "source": [
    "# Assignment is with `=`\n",
    "\n",
    "The `=` in Python is **NOT** the same as the one you're used to in mathematics.  In math, `=` means that the stuff on the left and the stuff on the right are the same value.\n",
    "\n",
    "That is **NOT** the case for `=` in Python.  It's a verb. It's an operation. It's an assignment, taking whatever is on the right and assigning it to the name on the left.\n",
    "\n",
    "### What is a legal variable name?\n",
    "\n",
    "- Any combination of letters, numbers, and `_` (used for spaces between words)\n",
    "- Not starting with a number\n",
    "- You don't want to start with `_`, even though you technically can\n",
    "- Capital and lowercase letters are different\n",
    "- It's traditional to only use lowercase in Python variable names."
   ]
  },
  {
   "cell_type": "code",
   "execution_count": 7,
   "metadata": {},
   "outputs": [
    {
     "name": "stdout",
     "output_type": "stream",
     "text": [
      "abcdefgh\n"
     ]
    }
   ],
   "source": [
    "x = 'abcd'\n",
    "y = 'efgh'\n",
    "\n",
    "# now I have two variables, x and y, defined\n",
    "# both of them contain text\n",
    "\n",
    "# can I add them together?\n",
    "# yes!\n",
    "\n",
    "print(x+y)    # turns out that + works if we have text"
   ]
  },
  {
   "cell_type": "code",
   "execution_count": 8,
   "metadata": {},
   "outputs": [
    {
     "name": "stdout",
     "output_type": "stream",
     "text": [
      "6912\n"
     ]
    }
   ],
   "source": [
    "# what about if we have numbers?\n",
    "\n",
    "x = 1234\n",
    "y = 5678\n",
    "\n",
    "print(x+y)"
   ]
  },
  {
   "cell_type": "markdown",
   "metadata": {},
   "source": [
    "# Data types \n",
    "\n",
    "Every language needs to handle different *data types*. Each type of data is stored in a different way in memory, can handle different operations, and interacts with other data types in different ways.\n",
    "\n",
    "We have now seen two different importa"
   ]
  }
 ],
 "metadata": {
  "kernelspec": {
   "display_name": "Python 3 (ipykernel)",
   "language": "python",
   "name": "python3"
  },
  "language_info": {
   "codemirror_mode": {
    "name": "ipython",
    "version": 3
   },
   "file_extension": ".py",
   "mimetype": "text/x-python",
   "name": "python",
   "nbconvert_exporter": "python",
   "pygments_lexer": "ipython3",
   "version": "3.11.0"
  }
 },
 "nbformat": 4,
 "nbformat_minor": 4
}
