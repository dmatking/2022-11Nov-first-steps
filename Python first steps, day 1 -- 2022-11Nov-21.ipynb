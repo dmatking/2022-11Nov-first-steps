{
 "cells": [
  {
   "cell_type": "markdown",
   "metadata": {},
   "source": [
    "# Agenda, Python in Five Weeks\n",
    "\n",
    "1. Fundamentals and core concepts\n",
    "    - What is a programming language?\n",
    "    - What is Python?\n",
    "    - What are values?\n",
    "    - What are variables?\n",
    "    - Assigning to variables\n",
    "    - Comparing values with one another\n",
    "    - Conditionals -- making decisions based on values\n",
    "    - Numbers (ints and floats)\n",
    "    - Strings (\"text\")\n",
    "    - Methods on strings\n",
    "2. Loops, lists, and tuples\n",
    "3. Dictionaries and files\n",
    "4. Functions -- defining our own verbs in Python\n",
    "5. Modules and packages"
   ]
  },
  {
   "cell_type": "code",
   "execution_count": null,
   "metadata": {},
   "outputs": [],
   "source": []
  }
 ],
 "metadata": {
  "kernelspec": {
   "display_name": "Python 3 (ipykernel)",
   "language": "python",
   "name": "python3"
  },
  "language_info": {
   "codemirror_mode": {
    "name": "ipython",
    "version": 3
   },
   "file_extension": ".py",
   "mimetype": "text/x-python",
   "name": "python",
   "nbconvert_exporter": "python",
   "pygments_lexer": "ipython3",
   "version": "3.11.0"
  }
 },
 "nbformat": 4,
 "nbformat_minor": 4
}
