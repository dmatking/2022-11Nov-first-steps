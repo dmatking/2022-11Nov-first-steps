{
 "cells": [
  {
   "cell_type": "markdown",
   "metadata": {},
   "source": [
    "# Agenda, Python in Five Weeks\n",
    "\n",
    "1. Fundamentals and core concepts\n",
    "    - What is a programming language?\n",
    "    - What is Python?\n",
    "    - What are values?\n",
    "    - What are variables?\n",
    "    - Assigning to variables\n",
    "    - Comparing values with one another\n",
    "    - Conditionals -- making decisions based on values\n",
    "    - Numbers (ints and floats)\n",
    "    - Strings (\"text\")\n",
    "    - Methods on strings\n",
    "2. Loops, lists, and tuples\n",
    "3. Dictionaries and files\n",
    "4. Functions -- defining our own verbs in Python\n",
    "5. Modules and packages"
   ]
  },
  {
   "cell_type": "markdown",
   "metadata": {},
   "source": [
    "# Jupyter is a REPL (read-eval-print loop)\n",
    "\n",
    "Which is a fancy way of saying that I can put Python into it, and execute it easily.  It's a great tool for trying things out -- I call it my Python laboratory.\n",
    "\n",
    "Among other things, Jupyter lets me type Python code and (like I'm doing here) Markdown, which can be turned into nicely formatted HTML."
   ]
  },
  {
   "cell_type": "markdown",
   "metadata": {},
   "source": [
    "# What is a programming language? \n",
    "\n",
    "Logic can be expressed via electricity in the following ways:\n",
    "\n",
    "- If two wires both carry a current, then a third wire (the output) will have a current, too. That's known as `AND`.\n",
    "- If two wires go into a box, and one or both of them carries a current, then a third wire (the output) will have a current, too. That's known as `OR`.\n",
    "- If one wire goes into a box, and it has a current, then the output wire will *NOT* have a current.  But if the input wire does NOT a current, then the output will. That's known as `NOT`.\n",
    "\n",
    "These three pieces of logic are the foundation of all computers used today.\n",
    "\n",
    "At a certain point, it became untenable to change the hardware, and reconfigure all of these boxes, for each problem you might to solve.  In the end, we got general-purpose computers that we can change the logic of on the fly.  The computer supports lots and lots and lots of logical operations, and we can write programs to choose which operations we want.\n",
    "\n",
    "This meant, originally, writing programs in a very low-level way that mimicked the circuits.  Over time, this way of writing code became too tedious for most people and most problems.  We wanted higher-level programming languages.\n",
    "\n",
    "And that's where most languages you've heard of come in:\n",
    "\n",
    "- C\n",
    "- C++\n",
    "- Java\n",
    "- C#\n",
    "- Ruby\n",
    "- JavaScript\n",
    "- Python\n",
    "\n",
    "Every language in this list is a way to write our code such that it's easier for people to write and understand.  Then it gets translated into those 1s and 0s, and those circuits inside of our computer."
   ]
  },
  {
   "cell_type": "markdown",
   "metadata": {},
   "source": [
    "# How are languages different? Why Python?\n",
    "\n",
    "Languages are trade-offs.  They can be easier for people to read/write, but then slower to execute. (Python)  Or they can be very hard for people to read and write, but then fast to execute (C and C++).\n",
    "\n",
    "Go (Golang) is specifically designed for networking operations.  Erlang is designed for highly fault-tolerant systems, like your phone company.\n",
    "\n",
    "Python is a great language for an age in which people are expensive, and computers are cheap.\n",
    "\n",
    "Python isn't new -- it is more than 30 years old! But it has became **VERY** popular in the last few years, because it is so easy to learn and it's useful in so many areas:\n",
    "\n",
    "- #1 language for data analytics and data science\n",
    "- web development\n",
    "- system administration\n",
    "- devops\n",
    "- automated testing\n",
    "- education"
   ]
  },
  {
   "cell_type": "markdown",
   "metadata": {},
   "source": [
    "# Using Jupyter\n",
    "\n",
    "In Jupyter, everything is in a \"cell.\" A cell can have a type:\n",
    "\n",
    "- Markdown (nicely formatted text)\n",
    "- Python code \n",
    "- Code in about 50 other languages, too (but I've never tried those in Jupyter)\n",
    "\n",
    "You type into a cell, and then you press shift+ENTER (or sometimes control+ENTER), and the cell \"executes.\" If it's a Markdown cell, then you see it nicely formatted. If it's a Python cell, then the code executes."
   ]
  },
  {
   "cell_type": "code",
   "execution_count": null,
   "metadata": {},
   "outputs": [],
   "source": []
  }
 ],
 "metadata": {
  "kernelspec": {
   "display_name": "Python 3 (ipykernel)",
   "language": "python",
   "name": "python3"
  },
  "language_info": {
   "codemirror_mode": {
    "name": "ipython",
    "version": 3
   },
   "file_extension": ".py",
   "mimetype": "text/x-python",
   "name": "python",
   "nbconvert_exporter": "python",
   "pygments_lexer": "ipython3",
   "version": "3.11.0"
  }
 },
 "nbformat": 4,
 "nbformat_minor": 4
}
