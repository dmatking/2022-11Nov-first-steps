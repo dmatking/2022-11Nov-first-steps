{
 "cells": [
  {
   "cell_type": "markdown",
   "metadata": {},
   "source": [
    "# Agenda, Python in Five Weeks\n",
    "\n",
    "1. Fundamentals and core concepts\n",
    "    - What is a programming language?\n",
    "    - What is Python?\n",
    "    - What are values?\n",
    "    - What are variables?\n",
    "    - Assigning to variables\n",
    "    - Comparing values with one another\n",
    "    - Conditionals -- making decisions based on values\n",
    "    - Numbers (ints and floats)\n",
    "    - Strings (\"text\")\n",
    "    - Methods on strings\n",
    "2. Loops, lists, and tuples\n",
    "3. Dictionaries and files\n",
    "4. Functions -- defining our own verbs in Python\n",
    "5. Modules and packages"
   ]
  },
  {
   "cell_type": "markdown",
   "metadata": {},
   "source": [
    "# Jupyter is a REPL (read-eval-print loop)\n",
    "\n",
    "Which is a fancy way of saying that I can put Python into it, and execute it easily.  It's a great tool for trying things out -- I call it my Python laboratory.\n",
    "\n",
    "Among other things, Jupyter lets me type Python code and (like I'm doing here) Markdown, which can be turned into nicely formatted HTML."
   ]
  },
  {
   "cell_type": "markdown",
   "metadata": {},
   "source": [
    "# What is a programming language? \n",
    "\n",
    "Logic can be expressed via electricity in the following ways:\n",
    "\n",
    "- If two wires both carry a current, then a third wire (the output) will have a current, too. That's known as `AND`.\n",
    "- If two wires go into a box, and one or both of them carries a current, then a third wire (the output) will have a current, too. That's known as `OR`.\n",
    "- If one wire goes into a box, and it has a current, then the output wire will *NOT* have a current.  But if the input wire does NOT a current, then the output will. That's known as `NOT`.\n",
    "\n",
    "These three pieces of logic are the foundation of all computers used today."
   ]
  },
  {
   "cell_type": "code",
   "execution_count": null,
   "metadata": {},
   "outputs": [],
   "source": []
  }
 ],
 "metadata": {
  "kernelspec": {
   "display_name": "Python 3 (ipykernel)",
   "language": "python",
   "name": "python3"
  },
  "language_info": {
   "codemirror_mode": {
    "name": "ipython",
    "version": 3
   },
   "file_extension": ".py",
   "mimetype": "text/x-python",
   "name": "python",
   "nbconvert_exporter": "python",
   "pygments_lexer": "ipython3",
   "version": "3.11.0"
  }
 },
 "nbformat": 4,
 "nbformat_minor": 4
}
