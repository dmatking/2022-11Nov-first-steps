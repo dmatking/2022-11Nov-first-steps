{
 "cells": [
  {
   "cell_type": "markdown",
   "metadata": {},
   "source": [
    "# Agenda, Python in Five Weeks\n",
    "\n",
    "1. Fundamentals and core concepts\n",
    "    - What is a programming language?\n",
    "    - What is Python?\n",
    "    - What are values?\n",
    "    - What are variables?\n",
    "    - Assigning to variables\n",
    "    - Comparing values with one another\n",
    "    - Conditionals -- making decisions based on values\n",
    "    - Numbers (ints and floats)\n",
    "    - Strings (\"text\")\n",
    "    - Methods on strings\n",
    "2. Loops, lists, and tuples\n",
    "3. Dictionaries and files\n",
    "4. Functions -- defining our own verbs in Python\n",
    "5. Modules and packages"
   ]
  },
  {
   "cell_type": "markdown",
   "metadata": {},
   "source": [
    "# Jupyter is a REPL (read-eval-print loop)\n",
    "\n",
    "Which is a fancy way of saying that I can put Python into it, and execute it easily.  It's a great tool for trying things out -- I call it my Python laboratory.\n",
    "\n",
    "Among other things, Jupyter lets me type Python code and (like I'm doing here) Markdown, which can be turned into nicely formatted HTML."
   ]
  },
  {
   "cell_type": "markdown",
   "metadata": {},
   "source": [
    "# What is a programming language? \n",
    "\n",
    "Logic can be expressed via electricity in the following ways:\n",
    "\n",
    "- If two wires both carry a current, then a third wire (the output) will have a current, too. That's known as `AND`.\n",
    "- If two wires go into a box, and one or both of them carries a current, then a third wire (the output) will have a current, too. That's known as `OR`.\n",
    "- If one wire goes into a box, and it has a current, then the output wire will *NOT* have a current.  But if the input wire does NOT a current, then the output will. That's known as `NOT`.\n",
    "\n",
    "These three pieces of logic are the foundation of all computers used today.\n",
    "\n",
    "At a certain point, it became untenable to change the hardware, and reconfigure all of these boxes, for each problem you might to solve.  In the end, we got general-purpose computers that we can change the logic of on the fly.  The computer supports lots and lots and lots of logical operations, and we can write programs to choose which operations we want.\n",
    "\n",
    "This meant, originally, writing programs in a very low-level way that mimicked the circuits.  Over time, this way of writing code became too tedious for most people and most problems.  We wanted higher-level programming languages.\n",
    "\n",
    "And that's where most languages you've heard of come in:\n",
    "\n",
    "- C\n",
    "- C++\n",
    "- Java\n",
    "- C#\n",
    "- Ruby\n",
    "- JavaScript\n",
    "- Python\n",
    "\n",
    "Every language in this list is a way to write our code such that it's easier for people to write and understand.  Then it gets translated into those 1s and 0s, and those circuits inside of our computer."
   ]
  },
  {
   "cell_type": "markdown",
   "metadata": {},
   "source": [
    "# How are languages different? Why Python?\n",
    "\n",
    "Languages are trade-offs.  They can be easier for people to read/write, but then slower to execute. (Python)  Or they can be very hard for people to read and write, but then fast to execute (C and C++).\n",
    "\n",
    "Go (Golang) is specifically designed for networking operations.  Erlang is designed for highly fault-tolerant systems, like your phone company.\n",
    "\n",
    "Python is a great language for an age in which people are expensive, and computers are cheap.\n",
    "\n",
    "Python isn't new -- it is more than 30 years old! But it has became **VERY** popular in the last few years, because it is so easy to learn and it's useful in so many areas:\n",
    "\n",
    "- #1 language for data analytics and data science\n",
    "- web development\n",
    "- system administration\n",
    "- devops\n",
    "- automated testing\n",
    "- education"
   ]
  },
  {
   "cell_type": "markdown",
   "metadata": {},
   "source": [
    "# Using Jupyter\n",
    "\n",
    "In Jupyter, everything is in a \"cell.\" A cell can have a type:\n",
    "\n",
    "- Markdown (nicely formatted text)\n",
    "- Python code \n",
    "- Code in about 50 other languages, too (but I've never tried those in Jupyter)\n",
    "\n",
    "You type into a cell, and then you press shift+ENTER (or sometimes control+ENTER), and the cell \"executes.\" If it's a Markdown cell, then you see it nicely formatted. If it's a Python cell, then the code executes."
   ]
  },
  {
   "cell_type": "code",
   "execution_count": 1,
   "metadata": {},
   "outputs": [
    {
     "name": "stdout",
     "output_type": "stream",
     "text": [
      "Hello out there!\n"
     ]
    }
   ],
   "source": [
    "# this is a comment, starting with # until the end of the line; Python ignores it completely\n",
    "# print is a function, a verb, that does something -- it displays something on the screen\n",
    "# to run print, we use (), and anything in the parentheses is printed on the screen\n",
    "# If we want to print text, we need to put it in quotes, either '' or \"\" -- in Python, they're the same\n",
    "\n",
    "print('Hello out there!')   "
   ]
  },
  {
   "cell_type": "markdown",
   "metadata": {},
   "source": [
    "# Jupyter navigation/command tips\n",
    "\n",
    "Jupyter can be in either of two modes:\n",
    "\n",
    "- Edit mode, which means that whatever you type is displayed. Like right now. If we're in edit mode, then the outline of the cell is green. You can enter edit mode by pressing ENTER or by clicking on the cell with your mouse.\n",
    "- Command mode, which means that whatever you type is handed to Jupyter as a command. If we're in command mode, then the outline of the cell is blue. You can enter command mode by pressing ESC or clicking to the left of the cell with your mouse.\n",
    "\n",
    "### What commands can we use?\n",
    "\n",
    "- `h` -- brings up a help menu of what commands are available\n",
    "- `c` -- copies the current cell\n",
    "- `x` -- cuts the current cell\n",
    "- `v` -- pastes the most recent copy or cut\n",
    "- `z` -- undoes many (not all) of your actions\n",
    "- `a` -- get a new cell *above* the current one\n",
    "- `b` -- get a new cell *below* the current one\n",
    "- `m` -- turn a cell into Markdown\n",
    "- `y` -- turn a cell into Python"
   ]
  },
  {
   "cell_type": "code",
   "execution_count": 2,
   "metadata": {},
   "outputs": [
    {
     "name": "stdout",
     "output_type": "stream",
     "text": [
      "Reuven\n"
     ]
    }
   ],
   "source": [
    "print('Reuven')"
   ]
  },
  {
   "cell_type": "code",
   "execution_count": 3,
   "metadata": {},
   "outputs": [
    {
     "name": "stdout",
     "output_type": "stream",
     "text": [
      "hello\n"
     ]
    }
   ],
   "source": [
    "print('hello')"
   ]
  },
  {
   "cell_type": "code",
   "execution_count": 4,
   "metadata": {},
   "outputs": [
    {
     "name": "stdout",
     "output_type": "stream",
     "text": [
      "hi again\n"
     ]
    }
   ],
   "source": [
    "print('hi again')"
   ]
  },
  {
   "cell_type": "code",
   "execution_count": 6,
   "metadata": {},
   "outputs": [
    {
     "name": "stdout",
     "output_type": "stream",
     "text": [
      "Reuven\n"
     ]
    }
   ],
   "source": [
    "# we could just use print with whatever literal value we want to display\n",
    "# but it's often easier to use a *variable*, a name that refers to that value\n",
    "# this gives us much more flexibility in our program, and allows us to think at a higher level\n",
    "\n",
    "name = 'Reuven'       # this is assignment: we assign a value (on the right) to a variable (on the left)\n",
    "print(name)"
   ]
  },
  {
   "cell_type": "markdown",
   "metadata": {},
   "source": [
    "# Assignment is with `=`\n",
    "\n",
    "The `=` in Python is **NOT** the same as the one you're used to in mathematics.  In math, `=` means that the stuff on the left and the stuff on the right are the same value.\n",
    "\n",
    "That is **NOT** the case for `=` in Python.  It's a verb. It's an operation. It's an assignment, taking whatever is on the right and assigning it to the name on the left.\n",
    "\n",
    "### What is a legal variable name?\n",
    "\n",
    "- Any combination of letters, numbers, and `_` (used for spaces between words)\n",
    "- Not starting with a number\n",
    "- You don't want to start with `_`, even though you technically can\n",
    "- Capital and lowercase letters are different\n",
    "- It's traditional to only use lowercase in Python variable names."
   ]
  },
  {
   "cell_type": "code",
   "execution_count": 7,
   "metadata": {},
   "outputs": [
    {
     "name": "stdout",
     "output_type": "stream",
     "text": [
      "abcdefgh\n"
     ]
    }
   ],
   "source": [
    "x = 'abcd'\n",
    "y = 'efgh'\n",
    "\n",
    "# now I have two variables, x and y, defined\n",
    "# both of them contain text\n",
    "\n",
    "# can I add them together?\n",
    "# yes!\n",
    "\n",
    "print(x+y)    # turns out that + works if we have text"
   ]
  },
  {
   "cell_type": "code",
   "execution_count": 8,
   "metadata": {},
   "outputs": [
    {
     "name": "stdout",
     "output_type": "stream",
     "text": [
      "6912\n"
     ]
    }
   ],
   "source": [
    "# what about if we have numbers?\n",
    "\n",
    "x = 1234\n",
    "y = 5678\n",
    "\n",
    "print(x+y)"
   ]
  },
  {
   "cell_type": "markdown",
   "metadata": {},
   "source": [
    "# Data types \n",
    "\n",
    "Every language needs to handle different *data types*. Each type of data is stored in a different way in memory, can handle different operations, and interacts with other data types in different ways.\n",
    "\n",
    "We have now seen two different important data types, which we'll discuss more later today:\n",
    "\n",
    "- Integers (whole numbers), which we type with just digits\n",
    "- Strings (text), which we type with '' or \"\" around them"
   ]
  },
  {
   "cell_type": "code",
   "execution_count": 9,
   "metadata": {},
   "outputs": [
    {
     "name": "stdout",
     "output_type": "stream",
     "text": [
      "12345678\n"
     ]
    }
   ],
   "source": [
    "# notice what happens here:\n",
    "\n",
    "x = '1234'   # what kind of data do I have here? ... text strings! \n",
    "y = '5678'\n",
    "\n",
    "print(x+y)   # what will this print?"
   ]
  },
  {
   "cell_type": "code",
   "execution_count": 10,
   "metadata": {},
   "outputs": [],
   "source": [
    "x = 1234\n",
    "y = 5678"
   ]
  },
  {
   "cell_type": "code",
   "execution_count": 11,
   "metadata": {},
   "outputs": [
    {
     "name": "stdout",
     "output_type": "stream",
     "text": [
      "1234\n"
     ]
    }
   ],
   "source": [
    "print(x)"
   ]
  },
  {
   "cell_type": "code",
   "execution_count": 12,
   "metadata": {},
   "outputs": [
    {
     "name": "stdout",
     "output_type": "stream",
     "text": [
      "5678\n"
     ]
    }
   ],
   "source": [
    "print(y)"
   ]
  },
  {
   "cell_type": "code",
   "execution_count": 13,
   "metadata": {},
   "outputs": [
    {
     "name": "stdout",
     "output_type": "stream",
     "text": [
      "6912\n"
     ]
    }
   ],
   "source": [
    "print(x+y)"
   ]
  },
  {
   "cell_type": "code",
   "execution_count": 14,
   "metadata": {},
   "outputs": [
    {
     "data": {
      "text/plain": [
       "1234"
      ]
     },
     "execution_count": 14,
     "metadata": {},
     "output_type": "execute_result"
    }
   ],
   "source": [
    "# in Jupyter (not in regular Python environments!) I don't even need to use print to see a variable value\n",
    "x"
   ]
  },
  {
   "cell_type": "code",
   "execution_count": 15,
   "metadata": {},
   "outputs": [
    {
     "data": {
      "text/plain": [
       "5678"
      ]
     },
     "execution_count": 15,
     "metadata": {},
     "output_type": "execute_result"
    }
   ],
   "source": [
    "y"
   ]
  },
  {
   "cell_type": "code",
   "execution_count": 16,
   "metadata": {},
   "outputs": [],
   "source": [
    "# I'm now in a Python cell\n",
    "# I'm going to switch it to Markdown\n",
    "\n",
    "# I typed ESC m, and it turned to Markdown\n",
    "# I typed ESC y, and it turned back to Python"
   ]
  },
  {
   "cell_type": "code",
   "execution_count": 17,
   "metadata": {},
   "outputs": [
    {
     "ename": "TypeError",
     "evalue": "unsupported operand type(s) for +: 'int' and 'str'",
     "output_type": "error",
     "traceback": [
      "\u001b[0;31m---------------------------------------------------------------------------\u001b[0m",
      "\u001b[0;31mTypeError\u001b[0m                                 Traceback (most recent call last)",
      "Cell \u001b[0;32mIn [17], line 9\u001b[0m\n\u001b[1;32m      2\u001b[0m y \u001b[38;5;241m=\u001b[39m \u001b[38;5;124m'\u001b[39m\u001b[38;5;124m5678\u001b[39m\u001b[38;5;124m'\u001b[39m\n\u001b[1;32m      4\u001b[0m \u001b[38;5;66;03m# adding x+y could be one of three things:\u001b[39;00m\n\u001b[1;32m      5\u001b[0m \u001b[38;5;66;03m# (1) Python could say that the string contains digits, so let's treat it like an int, and get an int back\u001b[39;00m\n\u001b[1;32m      6\u001b[0m \u001b[38;5;66;03m# (2) Python could say that we're working with a string, so we'll treat the number like a string, and get a str\u001b[39;00m\n\u001b[1;32m      7\u001b[0m \u001b[38;5;66;03m# (3) Python could say: Don't make me decide! Figure out your life on your own!\u001b[39;00m\n\u001b[0;32m----> 9\u001b[0m \u001b[43mx\u001b[49m\u001b[38;5;241;43m+\u001b[39;49m\u001b[43my\u001b[49m   \n",
      "\u001b[0;31mTypeError\u001b[0m: unsupported operand type(s) for +: 'int' and 'str'"
     ]
    }
   ],
   "source": [
    "x = 1234\n",
    "y = '5678'\n",
    "\n",
    "# adding x+y could be one of three things:\n",
    "# (1) Python could say that the string contains digits, so let's treat it like an int, and get an int back\n",
    "# (2) Python could say that we're working with a string, so we'll treat the number like a string, and get a str\n",
    "# (3) Python could say: Don't make me decide! Figure out your life on your own!\n",
    "\n",
    "x+y   "
   ]
  },
  {
   "cell_type": "markdown",
   "metadata": {},
   "source": [
    "# Markdown crash course\n",
    "\n",
    "# Biggest headline\n",
    "## Second biggest headline\n",
    "### Third biggest headline\n",
    "\n",
    "This is text.  It just works.\n",
    "\n",
    "I have a bulleted list:\n",
    "- One\n",
    "- Two\n",
    "- Three\n",
    "    - This\n",
    "    - Has\n",
    "    - Some\n",
    "    - Inner\n",
    "    - List\n",
    "    - Too\n",
    "- Four\n",
    "\n",
    "Some text is in *italic*, some in **bold**, and some is in `monospace` as on a computer."
   ]
  },
  {
   "cell_type": "code",
   "execution_count": 18,
   "metadata": {},
   "outputs": [
    {
     "name": "stdout",
     "output_type": "stream",
     "text": [
      "Reuven\n"
     ]
    }
   ],
   "source": [
    "# One thing to be careful of is the distinction between variables, which are just names,\n",
    "# and text strings, which MUST have quotes around them.\n",
    "\n",
    "name = 'Reuven'    # the variable name doesn't have quotes, but my name 'Reuven' does\n",
    "print(name)"
   ]
  },
  {
   "cell_type": "code",
   "execution_count": 19,
   "metadata": {},
   "outputs": [
    {
     "ename": "NameError",
     "evalue": "name 'Reuven' is not defined",
     "output_type": "error",
     "traceback": [
      "\u001b[0;31m---------------------------------------------------------------------------\u001b[0m",
      "\u001b[0;31mNameError\u001b[0m                                 Traceback (most recent call last)",
      "Cell \u001b[0;32mIn [19], line 6\u001b[0m\n\u001b[1;32m      1\u001b[0m \u001b[38;5;66;03m# if I do this, then Python thinks that Reuven is a defined variable, and tries to assign\u001b[39;00m\n\u001b[1;32m      2\u001b[0m \u001b[38;5;66;03m# its value to the variable name\u001b[39;00m\n\u001b[1;32m      3\u001b[0m \n\u001b[1;32m      4\u001b[0m \u001b[38;5;66;03m# but there is no variable Reuven, so we get an error\u001b[39;00m\n\u001b[0;32m----> 6\u001b[0m name \u001b[38;5;241m=\u001b[39m \u001b[43mReuven\u001b[49m   \n",
      "\u001b[0;31mNameError\u001b[0m: name 'Reuven' is not defined"
     ]
    }
   ],
   "source": [
    "# if I do this, then Python thinks that Reuven is a defined variable, and tries to assign\n",
    "# its value to the variable name\n",
    "\n",
    "# but there is no variable Reuven, so we get an error\n",
    "\n",
    "name = Reuven   "
   ]
  },
  {
   "cell_type": "code",
   "execution_count": 20,
   "metadata": {},
   "outputs": [],
   "source": [
    "# shift+enter executes the command"
   ]
  },
  {
   "cell_type": "code",
   "execution_count": 21,
   "metadata": {},
   "outputs": [
    {
     "data": {
      "text/plain": [
       "30"
      ]
     },
     "execution_count": 21,
     "metadata": {},
     "output_type": "execute_result"
    }
   ],
   "source": [
    "10+20"
   ]
  },
  {
   "cell_type": "markdown",
   "metadata": {},
   "source": [
    "# Variables vs. text \n",
    "\n",
    "When we assign a value to a variable in Python, it will always look like this:\n",
    "\n",
    "    VARIABLE = VALUE\n",
    "    \n",
    "The variable on the left will never have quotes around it, because it can't. It has to be a variable name.\n",
    "\n",
    "On the right, we have some options:\n",
    "\n",
    "- We could assign an integer value, with just digits. That's how Python would know it's an integer.\n",
    "- We could assign a string value, with any combination of characters inside of quotes, either `''` or `\"\"`. That's how Python knows it's a string.\n",
    "- We could also assign the value currently assigned to another variable. If there are no quotes, then Python assumes it's a variable name.\n",
    "\n",
    "So if I say\n",
    "\n",
    "    name = 'Reuven'\n",
    "    \n",
    "Python sees the variable name on the left (good!) and the text string on the right (that's good!) and it assigns that text string to the variable.\n",
    "\n",
    "But if I say\n",
    "\n",
    "    name = Reuven\n",
    "    \n",
    "Python sees the variable name on the left (good!) and a variable name on the right -- but there is no variable named `Reuven`, and so it gives us an error.    "
   ]
  },
  {
   "cell_type": "code",
   "execution_count": null,
   "metadata": {},
   "outputs": [],
   "source": []
  },
  {
   "cell_type": "markdown",
   "metadata": {},
   "source": [
    "# Exercise: Simple calculator\n",
    "\n",
    "1. Assign a number to the variable `x`.\n",
    "2. Assign a number to the variable `y`.\n",
    "3. Assign their total to the variable `total`.\n",
    "4. Print `total` on your screen."
   ]
  },
  {
   "cell_type": "code",
   "execution_count": 22,
   "metadata": {},
   "outputs": [
    {
     "name": "stdout",
     "output_type": "stream",
     "text": [
      "30\n"
     ]
    }
   ],
   "source": [
    "x = 10\n",
    "y = 20\n",
    "total = x + y    # notice what I did here: variable = value ... the value we get back from x+y\n",
    "\n",
    "# an expression is something that gives us a value back, like x+y, and can be assigned to a variable\n",
    "\n",
    "print(total)"
   ]
  },
  {
   "cell_type": "markdown",
   "metadata": {},
   "source": [
    "# Exercise: Simple greeting\n",
    "\n",
    "1. Assign your name to the variable `name`.\n",
    "2. Print a greeting to yourself using `name` and other strings to its left and right."
   ]
  },
  {
   "cell_type": "code",
   "execution_count": 25,
   "metadata": {},
   "outputs": [
    {
     "name": "stdout",
     "output_type": "stream",
     "text": [
      "Hello, Reuven!\n"
     ]
    }
   ],
   "source": [
    "name = 'Reuven'     # variable = value\n",
    "\n",
    "# notice that:\n",
    "# 1. we can have multiple + signs\n",
    "# 2. if you don't put a space inside of the string before the name, it's all mushed together\n",
    "\n",
    "print('Hello, ' + name + '!')   "
   ]
  },
  {
   "cell_type": "code",
   "execution_count": 27,
   "metadata": {},
   "outputs": [
    {
     "name": "stdout",
     "output_type": "stream",
     "text": [
      "Hello, Reuven !\n"
     ]
    }
   ],
   "source": [
    "name = 'Reuven'     # variable = value\n",
    "\n",
    "# the secret is that print can take multiple arguments (values in its parentheses), separated by ,\n",
    "# if you do that, the values are printed, separated by spaces\n",
    "\n",
    "print('Hello,', name, '!')   "
   ]
  },
  {
   "cell_type": "markdown",
   "metadata": {},
   "source": [
    "# Next up\n",
    "\n",
    "1. Input from the user\n",
    "2. Assign input to a variable\n",
    "3. Printing strings in a nicer way\n",
    "4. Comparisons with `==` and friends\n",
    "5. Conditionals with `if` and `else`\n",
    "\n"
   ]
  },
  {
   "cell_type": "code",
   "execution_count": null,
   "metadata": {},
   "outputs": [],
   "source": [
    "# I want to be able to ask the user for their name\n",
    "# and then display it on the screen\n",
    "# (maybe even with a fancy greeting)\n",
    "\n",
    "# We're going to need a new function -- input\n",
    "# input lets us ask a question, and it returns a value\n",
    "# (that is, it's an expression)\n",
    "# we can assign that value to a variable\n",
    "\n",
    "# when we call input, we can give it (inside of its parentheses) a string\n",
    "# to display to the user, to let them know what kind of input we want.\n",
    "\n",
    "# in assignment, the right side runs before the left\n",
    "# so when we run this code, the program will hang, waiting for the user's input.\n",
    "# when we get that input, it'll be returned by the function as a string\n",
    "# value (a text value), and assigned to the variabl\n",
    "\n",
    "name = input('Enter your name: ')"
   ]
  }
 ],
 "metadata": {
  "kernelspec": {
   "display_name": "Python 3 (ipykernel)",
   "language": "python",
   "name": "python3"
  },
  "language_info": {
   "codemirror_mode": {
    "name": "ipython",
    "version": 3
   },
   "file_extension": ".py",
   "mimetype": "text/x-python",
   "name": "python",
   "nbconvert_exporter": "python",
   "pygments_lexer": "ipython3",
   "version": "3.11.0"
  }
 },
 "nbformat": 4,
 "nbformat_minor": 4
}
