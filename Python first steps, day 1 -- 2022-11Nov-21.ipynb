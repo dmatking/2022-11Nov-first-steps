{
 "cells": [
  {
   "cell_type": "markdown",
   "metadata": {},
   "source": [
    "# Agenda, Python in Five Weeks\n",
    "\n",
    "1. Fundamentals and core concepts\n",
    "    - What is a programming language?\n",
    "    - What is Python?\n",
    "    - What are values?\n",
    "    - What are variables?\n",
    "    - Assigning to variables\n",
    "    - Comparing values with one another\n",
    "    - Conditionals -- making decisions based on values\n",
    "    - Numbers (ints and floats)\n",
    "    - Strings (\"text\")\n",
    "    - Methods on strings\n",
    "2. Loops, lists, and tuples\n",
    "3. Dictionaries and files\n",
    "4. Functions -- defining our own verbs in Python\n",
    "5. Modules and packages"
   ]
  },
  {
   "cell_type": "markdown",
   "metadata": {},
   "source": [
    "# Jupyter is a REPL (read-eval-print loop)\n",
    "\n",
    "Which is a fancy way of saying that I can put Python into it, and execute it easily.  It's a great tool for trying things out -- I call it my Python laboratory.\n",
    "\n",
    "Among other things, Jupyter lets me type Python code and (like I'm doing here) Markdown, which can be turned into nicely formatted HTML."
   ]
  },
  {
   "cell_type": "markdown",
   "metadata": {},
   "source": [
    "# What is a programming language? \n",
    "\n",
    "Logic can be expressed via electricity in the following ways:\n",
    "\n",
    "- If two wires both carry a current, then a third wire (the output) will have a current, too. That's known as `AND`.\n",
    "- If two wires go into a box, and one or both of them carries a current, then a third wire (the output) will have a current, too. That's known as `OR`.\n",
    "- If one wire goes into a box, and it has a current, then the output wire will *NOT* have a current.  But if the input wire does NOT a current, then the output will. That's known as `NOT`.\n",
    "\n",
    "These three pieces of logic are the foundation of all computers used today.\n",
    "\n",
    "At a certain point, it became untenable to change the hardware, and reconfigure all of these boxes, for each problem you might to solve.  In the end, we got general-purpose computers that we can change the logic of on the fly.  The computer supports lots and lots and lots of logical operations, and we can write programs to choose which operations we want.\n",
    "\n",
    "This meant, originally, writing programs in a very low-level way that mimicked the circuits.  Over time, this way of writing code became too tedious for most people and most problems.  We wanted higher-level programming languages.\n",
    "\n",
    "And that's where most languages you've heard of come in:\n",
    "\n",
    "- C\n",
    "- C++\n",
    "- Java\n",
    "- C#\n",
    "- Ruby\n",
    "- JavaScript\n",
    "- Python\n",
    "\n",
    "Every language in this list is a way to write our code such that it's easier for people to write and understand.  Then it gets translated into those 1s and 0s, and those circuits inside of our computer."
   ]
  },
  {
   "cell_type": "markdown",
   "metadata": {},
   "source": [
    "# How are languages different? Why Python?\n",
    "\n",
    "Languages are trade-offs.  They can be easier for people to read/write, but then slower to execute. (Python)  Or they can be very hard for people to read and write, but then fast to execute (C and C++).\n",
    "\n",
    "Go (Golang) is specifically designed for networking operations.  Erlang is designed for highly fault-tolerant systems, like your phone company.\n",
    "\n",
    "Python is a great language for an age in which people are expensive, and computers are cheap.\n",
    "\n",
    "Python isn't new -- it is more than 30 years old! But it has became **VERY** popular in the last few years, because it is so easy to learn and it's useful in so many areas:\n",
    "\n",
    "- #1 language for data analytics and data science\n",
    "- web development\n",
    "- system administration\n",
    "- devops\n",
    "- automated testing\n",
    "- education"
   ]
  },
  {
   "cell_type": "markdown",
   "metadata": {},
   "source": [
    "# Using Jupyter\n",
    "\n",
    "In Jupyter, everything is in a \"cell.\" A cell can have a type:\n",
    "\n",
    "- Markdown (nicely formatted text)\n",
    "- Python code \n",
    "- Code in about 50 other languages, too (but I've never tried those in Jupyter)\n",
    "\n",
    "You type into a cell, and then you press shift+ENTER (or sometimes control+ENTER), and the cell \"executes.\" If it's a Markdown cell, then you see it nicely formatted. If it's a Python cell, then the code executes."
   ]
  },
  {
   "cell_type": "code",
   "execution_count": 1,
   "metadata": {},
   "outputs": [
    {
     "name": "stdout",
     "output_type": "stream",
     "text": [
      "Hello out there!\n"
     ]
    }
   ],
   "source": [
    "# this is a comment, starting with # until the end of the line; Python ignores it completely\n",
    "# print is a function, a verb, that does something -- it displays something on the screen\n",
    "# to run print, we use (), and anything in the parentheses is printed on the screen\n",
    "# If we want to print text, we need to put it in quotes, either '' or \"\" -- in Python, they're the same\n",
    "\n",
    "print('Hello out there!')   "
   ]
  },
  {
   "cell_type": "markdown",
   "metadata": {},
   "source": [
    "# Jupyter navigation/command tips\n",
    "\n",
    "Jupyter can be in either of two modes:\n",
    "\n",
    "- Edit mode, which means that whatever you type is displayed. Like right now. If we're in edit mode, then the outline of the cell is green. You can enter edit mode by pressing ENTER or by clicking on the cell with your mouse.\n",
    "- Command mode, which means that whatever you type is handed to Jupyter as a command. If we're in command mode, then the outline of the cell is blue. You can enter command mode by pressing ESC or clicking to the left of the cell with your mouse.\n",
    "\n",
    "### What commands can we use?\n",
    "\n",
    "- `h` -- brings up a help menu of what commands are available\n",
    "- `c` -- copies the current cell\n",
    "- `x` -- cuts the current cell\n",
    "- `v` -- pastes the most recent copy or cut\n",
    "- `z` -- undoes many (not all) of your actions\n",
    "- `a` -- get a new cell *above* the current one\n",
    "- `b` -- get a new cell *below* the current one\n",
    "- `m` -- turn a cell into Markdown\n",
    "- `y` -- turn a cell into Python"
   ]
  },
  {
   "cell_type": "code",
   "execution_count": 2,
   "metadata": {},
   "outputs": [
    {
     "name": "stdout",
     "output_type": "stream",
     "text": [
      "Reuven\n"
     ]
    }
   ],
   "source": [
    "print('Reuven')"
   ]
  },
  {
   "cell_type": "code",
   "execution_count": 3,
   "metadata": {},
   "outputs": [
    {
     "name": "stdout",
     "output_type": "stream",
     "text": [
      "hello\n"
     ]
    }
   ],
   "source": [
    "print('hello')"
   ]
  },
  {
   "cell_type": "code",
   "execution_count": 4,
   "metadata": {},
   "outputs": [
    {
     "name": "stdout",
     "output_type": "stream",
     "text": [
      "hi again\n"
     ]
    }
   ],
   "source": [
    "print('hi again')"
   ]
  },
  {
   "cell_type": "code",
   "execution_count": 6,
   "metadata": {},
   "outputs": [
    {
     "name": "stdout",
     "output_type": "stream",
     "text": [
      "Reuven\n"
     ]
    }
   ],
   "source": [
    "# we could just use print with whatever literal value we want to display\n",
    "# but it's often easier to use a *variable*, a name that refers to that value\n",
    "# this gives us much more flexibility in our program, and allows us to think at a higher level\n",
    "\n",
    "name = 'Reuven'       # this is assignment: we assign a value (on the right) to a variable (on the left)\n",
    "print(name)"
   ]
  },
  {
   "cell_type": "markdown",
   "metadata": {},
   "source": [
    "# Assignment is with `=`\n",
    "\n",
    "The `=` in Python is **NOT** the same as the one you're used to in mathematics.  In math, `=` means that the stuff on the left and the stuff on the right are the same value.\n",
    "\n",
    "That is **NOT** the case for `=` in Python.  It's a verb. It's an operation. It's an assignment, taking whatever is on the right and assigning it to the name on the left.\n",
    "\n",
    "### What is a legal variable name?\n",
    "\n",
    "- Any combination of letters, numbers, and `_` (used for spaces between words)\n",
    "- Not starting with a number\n",
    "- You don't want to start with `_`, even though you technically can\n",
    "- Capital and lowercase letters are different\n",
    "- It's traditional to only use lowercase in Python variable names."
   ]
  },
  {
   "cell_type": "code",
   "execution_count": 7,
   "metadata": {},
   "outputs": [
    {
     "name": "stdout",
     "output_type": "stream",
     "text": [
      "abcdefgh\n"
     ]
    }
   ],
   "source": [
    "x = 'abcd'\n",
    "y = 'efgh'\n",
    "\n",
    "# now I have two variables, x and y, defined\n",
    "# both of them contain text\n",
    "\n",
    "# can I add them together?\n",
    "# yes!\n",
    "\n",
    "print(x+y)    # turns out that + works if we have text"
   ]
  },
  {
   "cell_type": "code",
   "execution_count": 8,
   "metadata": {},
   "outputs": [
    {
     "name": "stdout",
     "output_type": "stream",
     "text": [
      "6912\n"
     ]
    }
   ],
   "source": [
    "# what about if we have numbers?\n",
    "\n",
    "x = 1234\n",
    "y = 5678\n",
    "\n",
    "print(x+y)"
   ]
  },
  {
   "cell_type": "markdown",
   "metadata": {},
   "source": [
    "# Data types \n",
    "\n",
    "Every language needs to handle different *data types*. Each type of data is stored in a different way in memory, can handle different operations, and interacts with other data types in different ways.\n",
    "\n",
    "We have now seen two different important data types, which we'll discuss more later today:\n",
    "\n",
    "- Integers (whole numbers), which we type with just digits\n",
    "- Strings (text), which we type with '' or \"\" around them"
   ]
  },
  {
   "cell_type": "code",
   "execution_count": 9,
   "metadata": {},
   "outputs": [
    {
     "name": "stdout",
     "output_type": "stream",
     "text": [
      "12345678\n"
     ]
    }
   ],
   "source": [
    "# notice what happens here:\n",
    "\n",
    "x = '1234'   # what kind of data do I have here? ... text strings! \n",
    "y = '5678'\n",
    "\n",
    "print(x+y)   # what will this print?"
   ]
  },
  {
   "cell_type": "code",
   "execution_count": 10,
   "metadata": {},
   "outputs": [],
   "source": [
    "x = 1234\n",
    "y = 5678"
   ]
  },
  {
   "cell_type": "code",
   "execution_count": 11,
   "metadata": {},
   "outputs": [
    {
     "name": "stdout",
     "output_type": "stream",
     "text": [
      "1234\n"
     ]
    }
   ],
   "source": [
    "print(x)"
   ]
  },
  {
   "cell_type": "code",
   "execution_count": 12,
   "metadata": {},
   "outputs": [
    {
     "name": "stdout",
     "output_type": "stream",
     "text": [
      "5678\n"
     ]
    }
   ],
   "source": [
    "print(y)"
   ]
  },
  {
   "cell_type": "code",
   "execution_count": 13,
   "metadata": {},
   "outputs": [
    {
     "name": "stdout",
     "output_type": "stream",
     "text": [
      "6912\n"
     ]
    }
   ],
   "source": [
    "print(x+y)"
   ]
  },
  {
   "cell_type": "code",
   "execution_count": 14,
   "metadata": {},
   "outputs": [
    {
     "data": {
      "text/plain": [
       "1234"
      ]
     },
     "execution_count": 14,
     "metadata": {},
     "output_type": "execute_result"
    }
   ],
   "source": [
    "# in Jupyter (not in regular Python environments!) I don't even need to use print to see a variable value\n",
    "x"
   ]
  },
  {
   "cell_type": "code",
   "execution_count": 15,
   "metadata": {},
   "outputs": [
    {
     "data": {
      "text/plain": [
       "5678"
      ]
     },
     "execution_count": 15,
     "metadata": {},
     "output_type": "execute_result"
    }
   ],
   "source": [
    "y"
   ]
  },
  {
   "cell_type": "code",
   "execution_count": 16,
   "metadata": {},
   "outputs": [],
   "source": [
    "# I'm now in a Python cell\n",
    "# I'm going to switch it to Markdown\n",
    "\n",
    "# I typed ESC m, and it turned to Markdown\n",
    "# I typed ESC y, and it turned back to Python"
   ]
  },
  {
   "cell_type": "code",
   "execution_count": 17,
   "metadata": {},
   "outputs": [
    {
     "ename": "TypeError",
     "evalue": "unsupported operand type(s) for +: 'int' and 'str'",
     "output_type": "error",
     "traceback": [
      "\u001b[0;31m---------------------------------------------------------------------------\u001b[0m",
      "\u001b[0;31mTypeError\u001b[0m                                 Traceback (most recent call last)",
      "Cell \u001b[0;32mIn [17], line 9\u001b[0m\n\u001b[1;32m      2\u001b[0m y \u001b[38;5;241m=\u001b[39m \u001b[38;5;124m'\u001b[39m\u001b[38;5;124m5678\u001b[39m\u001b[38;5;124m'\u001b[39m\n\u001b[1;32m      4\u001b[0m \u001b[38;5;66;03m# adding x+y could be one of three things:\u001b[39;00m\n\u001b[1;32m      5\u001b[0m \u001b[38;5;66;03m# (1) Python could say that the string contains digits, so let's treat it like an int, and get an int back\u001b[39;00m\n\u001b[1;32m      6\u001b[0m \u001b[38;5;66;03m# (2) Python could say that we're working with a string, so we'll treat the number like a string, and get a str\u001b[39;00m\n\u001b[1;32m      7\u001b[0m \u001b[38;5;66;03m# (3) Python could say: Don't make me decide! Figure out your life on your own!\u001b[39;00m\n\u001b[0;32m----> 9\u001b[0m \u001b[43mx\u001b[49m\u001b[38;5;241;43m+\u001b[39;49m\u001b[43my\u001b[49m   \n",
      "\u001b[0;31mTypeError\u001b[0m: unsupported operand type(s) for +: 'int' and 'str'"
     ]
    }
   ],
   "source": [
    "x = 1234\n",
    "y = '5678'\n",
    "\n",
    "# adding x+y could be one of three things:\n",
    "# (1) Python could say that the string contains digits, so let's treat it like an int, and get an int back\n",
    "# (2) Python could say that we're working with a string, so we'll treat the number like a string, and get a str\n",
    "# (3) Python could say: Don't make me decide! Figure out your life on your own!\n",
    "\n",
    "x+y   "
   ]
  },
  {
   "cell_type": "markdown",
   "metadata": {},
   "source": [
    "# Markdown crash course\n",
    "\n",
    "# Biggest headline\n",
    "## Second biggest headline\n",
    "### Third biggest headline\n",
    "\n",
    "This is text.  It just works.\n",
    "\n",
    "I have a bulleted list:\n",
    "- One\n",
    "- Two\n",
    "- Three\n",
    "    - This\n",
    "    - Has\n",
    "    - Some\n",
    "    - Inner\n",
    "    - List\n",
    "    - Too\n",
    "- Four\n",
    "\n",
    "Some text is in *italic*, some in **bold**, and some is in `monospace` as on a computer."
   ]
  },
  {
   "cell_type": "code",
   "execution_count": 18,
   "metadata": {},
   "outputs": [
    {
     "name": "stdout",
     "output_type": "stream",
     "text": [
      "Reuven\n"
     ]
    }
   ],
   "source": [
    "# One thing to be careful of is the distinction between variables, which are just names,\n",
    "# and text strings, which MUST have quotes around them.\n",
    "\n",
    "name = 'Reuven'    # the variable name doesn't have quotes, but my name 'Reuven' does\n",
    "print(name)"
   ]
  },
  {
   "cell_type": "code",
   "execution_count": 19,
   "metadata": {},
   "outputs": [
    {
     "ename": "NameError",
     "evalue": "name 'Reuven' is not defined",
     "output_type": "error",
     "traceback": [
      "\u001b[0;31m---------------------------------------------------------------------------\u001b[0m",
      "\u001b[0;31mNameError\u001b[0m                                 Traceback (most recent call last)",
      "Cell \u001b[0;32mIn [19], line 6\u001b[0m\n\u001b[1;32m      1\u001b[0m \u001b[38;5;66;03m# if I do this, then Python thinks that Reuven is a defined variable, and tries to assign\u001b[39;00m\n\u001b[1;32m      2\u001b[0m \u001b[38;5;66;03m# its value to the variable name\u001b[39;00m\n\u001b[1;32m      3\u001b[0m \n\u001b[1;32m      4\u001b[0m \u001b[38;5;66;03m# but there is no variable Reuven, so we get an error\u001b[39;00m\n\u001b[0;32m----> 6\u001b[0m name \u001b[38;5;241m=\u001b[39m \u001b[43mReuven\u001b[49m   \n",
      "\u001b[0;31mNameError\u001b[0m: name 'Reuven' is not defined"
     ]
    }
   ],
   "source": [
    "# if I do this, then Python thinks that Reuven is a defined variable, and tries to assign\n",
    "# its value to the variable name\n",
    "\n",
    "# but there is no variable Reuven, so we get an error\n",
    "\n",
    "name = Reuven   "
   ]
  },
  {
   "cell_type": "code",
   "execution_count": 20,
   "metadata": {},
   "outputs": [],
   "source": [
    "# shift+enter executes the command"
   ]
  },
  {
   "cell_type": "code",
   "execution_count": 21,
   "metadata": {},
   "outputs": [
    {
     "data": {
      "text/plain": [
       "30"
      ]
     },
     "execution_count": 21,
     "metadata": {},
     "output_type": "execute_result"
    }
   ],
   "source": [
    "10+20"
   ]
  },
  {
   "cell_type": "markdown",
   "metadata": {},
   "source": [
    "# Variables vs. text \n",
    "\n",
    "When we assign a value to a variable in Python, it will always look like this:\n",
    "\n",
    "    VARIABLE = VALUE\n",
    "    \n",
    "The variable on the left will never have quotes around it, because it can't. It has to be a variable name.\n",
    "\n",
    "On the right, we have some options:\n",
    "\n",
    "- We could assign an integer value, with just digits. That's how Python would know it's an integer.\n",
    "- We could assign a string value, with any combination of characters inside of quotes, either `''` or `\"\"`. That's how Python knows it's a string.\n",
    "- We could also assign the value currently assigned to another variable. If there are no quotes, then Python assumes it's a variable name.\n",
    "\n",
    "So if I say\n",
    "\n",
    "    name = 'Reuven'\n",
    "    \n",
    "Python sees the variable name on the left (good!) and the text string on the right (that's good!) and it assigns that text string to the variable.\n",
    "\n",
    "But if I say\n",
    "\n",
    "    name = Reuven\n",
    "    \n",
    "Python sees the variable name on the left (good!) and a variable name on the right -- but there is no variable named `Reuven`, and so it gives us an error.    "
   ]
  },
  {
   "cell_type": "code",
   "execution_count": null,
   "metadata": {},
   "outputs": [],
   "source": []
  },
  {
   "cell_type": "markdown",
   "metadata": {},
   "source": [
    "# Exercise: Simple calculator\n",
    "\n",
    "1. Assign a number to the variable `x`.\n",
    "2. Assign a number to the variable `y`.\n",
    "3. Assign their total to the variable `total`.\n",
    "4. Print `total` on your screen."
   ]
  },
  {
   "cell_type": "code",
   "execution_count": 22,
   "metadata": {},
   "outputs": [
    {
     "name": "stdout",
     "output_type": "stream",
     "text": [
      "30\n"
     ]
    }
   ],
   "source": [
    "x = 10\n",
    "y = 20\n",
    "total = x + y    # notice what I did here: variable = value ... the value we get back from x+y\n",
    "\n",
    "# an expression is something that gives us a value back, like x+y, and can be assigned to a variable\n",
    "\n",
    "print(total)"
   ]
  },
  {
   "cell_type": "markdown",
   "metadata": {},
   "source": [
    "# Exercise: Simple greeting\n",
    "\n",
    "1. Assign your name to the variable `name`.\n",
    "2. Print a greeting to yourself using `name` and other strings to its left and right."
   ]
  },
  {
   "cell_type": "code",
   "execution_count": 25,
   "metadata": {},
   "outputs": [
    {
     "name": "stdout",
     "output_type": "stream",
     "text": [
      "Hello, Reuven!\n"
     ]
    }
   ],
   "source": [
    "name = 'Reuven'     # variable = value\n",
    "\n",
    "# notice that:\n",
    "# 1. we can have multiple + signs\n",
    "# 2. if you don't put a space inside of the string before the name, it's all mushed together\n",
    "\n",
    "print('Hello, ' + name + '!')   "
   ]
  },
  {
   "cell_type": "code",
   "execution_count": 27,
   "metadata": {},
   "outputs": [
    {
     "name": "stdout",
     "output_type": "stream",
     "text": [
      "Hello, Reuven !\n"
     ]
    }
   ],
   "source": [
    "name = 'Reuven'     # variable = value\n",
    "\n",
    "# the secret is that print can take multiple arguments (values in its parentheses), separated by ,\n",
    "# if you do that, the values are printed, separated by spaces\n",
    "\n",
    "print('Hello,', name, '!')   "
   ]
  },
  {
   "cell_type": "markdown",
   "metadata": {},
   "source": [
    "# Next up\n",
    "\n",
    "1. Input from the user\n",
    "2. Assign input to a variable\n",
    "3. Printing strings in a nicer way\n",
    "4. Comparisons with `==` and friends\n",
    "5. Conditionals with `if` and `else`\n",
    "\n"
   ]
  },
  {
   "cell_type": "code",
   "execution_count": 33,
   "metadata": {},
   "outputs": [
    {
     "name": "stdout",
     "output_type": "stream",
     "text": [
      "Enter your name: Reuven\n"
     ]
    }
   ],
   "source": [
    "# I want to be able to ask the user for their name\n",
    "# and then display it on the screen\n",
    "# (maybe even with a fancy greeting)\n",
    "\n",
    "# We're going to need a new function -- input\n",
    "# input lets us ask a question, and it returns a value\n",
    "# (that is, it's an expression)\n",
    "# we can assign that value to a variable\n",
    "\n",
    "# when we call input, we can give it (inside of its parentheses) a string\n",
    "# to display to the user, to let them know what kind of input we want.\n",
    "\n",
    "# in assignment, the right side runs before the left\n",
    "# so when we run this code, the program will hang, waiting for the user's input.\n",
    "# when we get that input, it'll be returned by the function as a string\n",
    "# value (a text value), and assigned to the variable name.\n",
    "\n",
    "name = input('Enter your name: ')"
   ]
  },
  {
   "cell_type": "code",
   "execution_count": 29,
   "metadata": {},
   "outputs": [
    {
     "data": {
      "text/plain": [
       "'Reuven'"
      ]
     },
     "execution_count": 29,
     "metadata": {},
     "output_type": "execute_result"
    }
   ],
   "source": [
    "name    # printed representation of our value, a string, so we see the ''"
   ]
  },
  {
   "cell_type": "code",
   "execution_count": 31,
   "metadata": {},
   "outputs": [
    {
     "name": "stdout",
     "output_type": "stream",
     "text": [
      "Reuven\n"
     ]
    }
   ],
   "source": [
    "print(name)    # we're calling print on name, to display it nicely on the screen"
   ]
  },
  {
   "cell_type": "code",
   "execution_count": 34,
   "metadata": {},
   "outputs": [
    {
     "name": "stdout",
     "output_type": "stream",
     "text": [
      "Hello, Reuven!\n"
     ]
    }
   ],
   "source": [
    "# now that name is defined, I can use it:\n",
    "\n",
    "print('Hello, ' + name + '!')"
   ]
  },
  {
   "cell_type": "code",
   "execution_count": null,
   "metadata": {},
   "outputs": [],
   "source": [
    "name = input('Enter your name: ')\n",
    "print('Hello, ' + name + '!')"
   ]
  },
  {
   "cell_type": "markdown",
   "metadata": {},
   "source": [
    "# Exercise: Flexible, friendly greeting\n",
    "\n",
    "1. Ask the user to enter their name, and assign to `name`.\n",
    "2. Ask the user to enter their country, and assign to `country`.\n",
    "3. Define a new variable, `greeting`, and assign it a new string based on `name` and `country`.\n",
    "4. Use `print` to display `greeting`."
   ]
  },
  {
   "cell_type": "code",
   "execution_count": 35,
   "metadata": {},
   "outputs": [
    {
     "name": "stdout",
     "output_type": "stream",
     "text": [
      "Enter your name: Reuven\n",
      "Enter your country: Israel\n",
      "Hello, Reuven, from Israel!\n"
     ]
    }
   ],
   "source": [
    "name = input('Enter your name: ')\n",
    "country = input('Enter your country: ')\n",
    "greeting = 'Hello, ' + name + ', from ' + country + '!'\n",
    "print(greeting)"
   ]
  },
  {
   "cell_type": "code",
   "execution_count": 36,
   "metadata": {},
   "outputs": [
    {
     "name": "stdout",
     "output_type": "stream",
     "text": [
      "Enter your name: Reuven\n",
      "Enter your country: Israel\n",
      "Hello, Reuven, from Israel!\n"
     ]
    }
   ],
   "source": [
    "name = input('Enter your name: ')\n",
    "country = input('Enter your country: ')\n",
    "print('Hello, ' + name + ', from ' + country + '!')"
   ]
  },
  {
   "cell_type": "markdown",
   "metadata": {},
   "source": [
    "# Comparing things\n",
    "\n",
    "Let's say that I have values in variables `x` and `y`, and I want to know if they are the same value. How can I find that out?\n",
    "\n",
    "We might think that we could use `=` for that. But we've already used `=` for assignment, so we can't.\n",
    "\n",
    "Instead, we'll use a special operator, `==`, which is similar to mathematical equals. It returns a `True` or `False` value, indicating if the values on its left and on its right are the same."
   ]
  },
  {
   "cell_type": "code",
   "execution_count": 37,
   "metadata": {},
   "outputs": [
    {
     "data": {
      "text/plain": [
       "True"
      ]
     },
     "execution_count": 37,
     "metadata": {},
     "output_type": "execute_result"
    }
   ],
   "source": [
    "x = 10\n",
    "y = 10\n",
    "\n",
    "x == y   # this should return True"
   ]
  },
  {
   "cell_type": "code",
   "execution_count": 38,
   "metadata": {},
   "outputs": [
    {
     "data": {
      "text/plain": [
       "False"
      ]
     },
     "execution_count": 38,
     "metadata": {},
     "output_type": "execute_result"
    }
   ],
   "source": [
    "x = 10\n",
    "y = 20\n",
    "\n",
    "x == y"
   ]
  },
  {
   "cell_type": "code",
   "execution_count": 39,
   "metadata": {},
   "outputs": [
    {
     "data": {
      "text/plain": [
       "True"
      ]
     },
     "execution_count": 39,
     "metadata": {},
     "output_type": "execute_result"
    }
   ],
   "source": [
    "x = 'abcd'\n",
    "y = 'abcd'\n",
    "\n",
    "x == y"
   ]
  },
  {
   "cell_type": "code",
   "execution_count": 40,
   "metadata": {},
   "outputs": [
    {
     "data": {
      "text/plain": [
       "False"
      ]
     },
     "execution_count": 40,
     "metadata": {},
     "output_type": "execute_result"
    }
   ],
   "source": [
    "x = 'abcd'\n",
    "y = 'abcd '   # extra space -- not the same as x!\n",
    "\n",
    "x == y"
   ]
  },
  {
   "cell_type": "code",
   "execution_count": 41,
   "metadata": {},
   "outputs": [
    {
     "data": {
      "text/plain": [
       "False"
      ]
     },
     "execution_count": 41,
     "metadata": {},
     "output_type": "execute_result"
    }
   ],
   "source": [
    "x = 'abcd'\n",
    "y = 'Abcd'     # not the same, with a capital A!\n",
    "\n",
    "x == y"
   ]
  },
  {
   "cell_type": "markdown",
   "metadata": {},
   "source": [
    "# Comparison operators\n",
    "\n",
    "We often want to compare two values. Python provides us with many comparison operators:\n",
    "\n",
    "- `==` -- are they equal?\n",
    "- `!=` -- are they unequal? (the inequality operator, which is written as ≠ in math)\n",
    "- `<` -- less than, is the value on the left less than the value on the right?\n",
    "- `>` -- greater than, is the value on the left greater than the value on the right?\n",
    "- `<=` -- less than or equal\n",
    "- `>=` -- greater than or equal\n",
    "\n",
    "We can use these on numbers.\n",
    "\n",
    "We can also use these on text strings!  In that case, it basically (not exactly) sees \"less than\" as \"earlier in the alphabet.\""
   ]
  },
  {
   "cell_type": "code",
   "execution_count": 42,
   "metadata": {},
   "outputs": [
    {
     "data": {
      "text/plain": [
       "False"
      ]
     },
     "execution_count": 42,
     "metadata": {},
     "output_type": "execute_result"
    }
   ],
   "source": [
    "'dog' < 'cat'"
   ]
  },
  {
   "cell_type": "markdown",
   "metadata": {},
   "source": [
    "# Conditionals\n",
    "\n",
    "A computer program is all about making decisions:\n",
    "\n",
    "- When you press a key on the keyboard, the computer needs to know\n",
    "- When you move your mouse over different areas of the screen, the computer needs to know\n",
    "- When you enter an incorrect password, the computer needs to know\n",
    "\n",
    "In all of these cases, the computer needs to do a comparison (as we saw above), but then make a decision based on the results of that comparison.\n",
    "\n",
    "This is known as a \"conditional\" and it is the core of most programming."
   ]
  },
  {
   "cell_type": "code",
   "execution_count": 45,
   "metadata": {},
   "outputs": [
    {
     "ename": "IndentationError",
     "evalue": "expected an indented block after 'if' statement on line 17 (1242392519.py, line 18)",
     "output_type": "error",
     "traceback": [
      "\u001b[0;36m  Cell \u001b[0;32mIn [45], line 18\u001b[0;36m\u001b[0m\n\u001b[0;31m    print('Hi, boss!')\u001b[0m\n\u001b[0m    ^\u001b[0m\n\u001b[0;31mIndentationError\u001b[0m\u001b[0;31m:\u001b[0m expected an indented block after 'if' statement on line 17\n"
     ]
    }
   ],
   "source": [
    "name = input('Enter your name: ')\n",
    "\n",
    "# if is our conditional keyword\n",
    "# - if looks to its right, and checks for a True or False value\n",
    "# - if the value is True, then it executes the indented block that follows\n",
    "# - if the value is False, and there is an \"else\" block, then that executes instead\n",
    "\n",
    "# If you have if/else, then one of them, and only one of them, is guaranteed to execute\n",
    "# if you only have an if (no else), then it might or might not\n",
    "\n",
    "\n",
    "# the way that we define a block in Python is with:\n",
    "# (1) colon at the end of the line\n",
    "# (2) indentation, traditionally with 4 spaces\n",
    "# (3) when the indentation ends, the block ends\n",
    "\n",
    "if name == 'Reuven':\n",
    "    print('Hi, boss!')\n",
    "    print('Nice to see you again!')\n",
    "else:\n",
    "    print('Hello, ' + name + '!')"
   ]
  },
  {
   "cell_type": "markdown",
   "metadata": {},
   "source": [
    "# Writing `if` statements\n",
    "\n",
    "```\n",
    "if CONDITION:\n",
    "    true-block-line-1\n",
    "    true-block-line-2\n",
    "    ...\n",
    "    true-block-line-n\n",
    "\n",
    "else:      # no condition here!\n",
    "    else-block-line-1\n",
    "    else-block-line-2\n",
    "    ...\n",
    "    else-block-line-n\n",
    "```"
   ]
  },
  {
   "cell_type": "markdown",
   "metadata": {},
   "source": [
    "# Exercise: Which word comes first?\n",
    "\n",
    "1. Ask the user to enter one word, and assign it to `first_word`.\n",
    "2. Ask the user to enter a second word, and assign it to `second_word`.\n",
    "3. Print the word that comes first alphabetically.\n",
    "\n",
    "Note: Let's assume that all words will just have letters, all lowercase."
   ]
  },
  {
   "cell_type": "code",
   "execution_count": 47,
   "metadata": {},
   "outputs": [
    {
     "name": "stdout",
     "output_type": "stream",
     "text": [
      "Enter first word: egg\n",
      "Enter second word: chicken\n",
      "chicken comes before egg\n"
     ]
    }
   ],
   "source": [
    "first_word = input('Enter first word: ')\n",
    "second_word = input('Enter second word: ')\n",
    "\n",
    "if first_word < second_word:\n",
    "    print(first_word + ' comes before ' + second_word)\n",
    "else:\n",
    "    print(second_word + ' comes before ' + first_word)\n",
    "    "
   ]
  },
  {
   "cell_type": "code",
   "execution_count": 56,
   "metadata": {},
   "outputs": [
    {
     "name": "stdout",
     "output_type": "stream",
     "text": [
      "Enter first word: coffee\n",
      "Enter second word: coffee\n",
      "coffee comes before coffee\n"
     ]
    }
   ],
   "source": [
    "first_word = input('Enter first word: ')\n",
    "second_word = input('Enter second word: ')\n",
    "\n",
    "if first_word < second_word:\n",
    "    print(first_word + ' comes before ' + second_word)\n",
    "else:\n",
    "    print(second_word + ' comes before ' + first_word)\n",
    "    "
   ]
  },
  {
   "cell_type": "code",
   "execution_count": 49,
   "metadata": {},
   "outputs": [
    {
     "name": "stdout",
     "output_type": "stream",
     "text": [
      "Enter first word: cat-man\n",
      "Enter second word: cat-woman\n",
      "cat-man comes before cat-woman\n"
     ]
    }
   ],
   "source": [
    "# how can we handle equality?\n",
    "\n",
    "first_word = input('Enter first word: ')\n",
    "second_word = input('Enter second word: ')\n",
    "\n",
    "if first_word == second_word:\n",
    "    print('You entered ' + first_word + 'twice!')\n",
    "\n",
    "else:\n",
    "    if first_word < second_word:\n",
    "        print(first_word + ' comes before ' + second_word)\n",
    "    else:\n",
    "        print(second_word + ' comes before ' + first_word)\n",
    "    "
   ]
  },
  {
   "cell_type": "markdown",
   "metadata": {},
   "source": [
    "The comparison done by `==` and `<` and friends is not alphabetical but lexicographical, meaning based on all of the characters that the computer knows in Unicode -- including all languages, all emoji, all symbols, etc.\n",
    "\n",
    "In Unicode, all capital letters come before all lowercase letters, all numbers come before all letters, etc."
   ]
  },
  {
   "cell_type": "markdown",
   "metadata": {},
   "source": [
    "# If you see a `*` on the left of Jupyter\n",
    "\n",
    "This means that it's processing something. This is normal when things take a long time, or if you have `input` running.  But it can also happen when communication between Jupyter (in your browser) and the back-end system it depends on lose contact.\n",
    "\n",
    "Go to the Kernel menu, and choose \"interrupt.\" This works about 80-90% of the time.  You should then rerun the cell.\n",
    "\n",
    "If that doesn't work, go to Kernel and choose \"restart.\" You'll lose all defined variables, but the cells will still be around."
   ]
  },
  {
   "cell_type": "markdown",
   "metadata": {},
   "source": [
    "# Next up\n",
    "\n",
    "1. More complex conditionals\n",
    "    - `elif`\n",
    "    - `and`, `or`, and `not`\n",
    "2. Comparing numbers\n",
    "    - Turning strings into numbers\n",
    "    - Integrating numbers into our strings (f-strings)\n",
    "    "
   ]
  },
  {
   "cell_type": "code",
   "execution_count": 50,
   "metadata": {},
   "outputs": [
    {
     "name": "stdout",
     "output_type": "stream",
     "text": [
      "a\n",
      "b\n",
      "c\n"
     ]
    }
   ],
   "source": [
    "x = 10\n",
    "\n",
    "if x == 10:\n",
    "    print('a')\n",
    "    print('b')\n",
    "    print('c')\n",
    "else:\n",
    "    print('d')"
   ]
  },
  {
   "cell_type": "code",
   "execution_count": null,
   "metadata": {},
   "outputs": [],
   "source": [
    "# how can we handle equality?\n",
    "\n",
    "first_word = input('Enter first word: ')\n",
    "second_word = input('Enter second word: ')\n",
    "\n",
    "# when we have if-elif-else, the first one to be True executes\n",
    "# if none is True, then else executes\n",
    "# one, and only one, is guaranteed to execute.\n",
    "\n",
    "# you can have as many elif clauses as you want\n",
    "\n",
    "if first_word == second_word:\n",
    "    print('You entered ' + first_word + 'twice!')\n",
    "elif first_word < second_word:\n",
    "    print(first_word + ' comes before ' + second_word)\n",
    "else:\n",
    "    print(second_word + ' comes before ' + first_word)"
   ]
  },
  {
   "cell_type": "markdown",
   "metadata": {},
   "source": [
    "# Compound conditions\n",
    "\n",
    "We've seen how `if` (and `elif`) can check for all sorts of conditions.\n",
    "\n",
    "But what if we want something happen only if *two* conditions are `True`?\n",
    "\n"
   ]
  },
  {
   "cell_type": "code",
   "execution_count": 51,
   "metadata": {},
   "outputs": [
    {
     "name": "stdout",
     "output_type": "stream",
     "text": [
      "Yes!\n"
     ]
    }
   ],
   "source": [
    "x = 10\n",
    "y = 20\n",
    "\n",
    "# I only want to print \"yes\" if x is 10 and y is 20\n",
    "\n",
    "if x == 10:\n",
    "    if y == 20:\n",
    "        print('Yes!')   # this will work, and your colleagues will hate you"
   ]
  },
  {
   "cell_type": "code",
   "execution_count": 52,
   "metadata": {},
   "outputs": [
    {
     "name": "stdout",
     "output_type": "stream",
     "text": [
      "Yes!\n"
     ]
    }
   ],
   "source": [
    "# a much better way to do this is with \"and\", which takes a True/False value on the left,\n",
    "# and a True/False value on the right -- and if both are True, it returns True. Otherwise, False\n",
    "\n",
    "#    True  and  True  --> True\n",
    "if x == 10 and y == 20:\n",
    "    print('Yes!')"
   ]
  },
  {
   "cell_type": "code",
   "execution_count": 53,
   "metadata": {},
   "outputs": [],
   "source": [
    "x = 10\n",
    "y = 30\n",
    "\n",
    "#     True  and  False --> False\n",
    "if x == 10 and y == 20:\n",
    "    print('Yes!')"
   ]
  },
  {
   "cell_type": "code",
   "execution_count": 54,
   "metadata": {},
   "outputs": [
    {
     "name": "stdout",
     "output_type": "stream",
     "text": [
      "Yes!\n"
     ]
    }
   ],
   "source": [
    "# we can also use \"or\" to combine two conditions\n",
    "# when we do that, as long as one of them is True, the entire expression is True\n",
    "\n",
    "x = 10\n",
    "y = 20\n",
    "\n",
    "#    True --> True!  We don't even check the second condition!\n",
    "if x == 10 or y == 9876:\n",
    "    print('Yes!')"
   ]
  },
  {
   "cell_type": "code",
   "execution_count": 55,
   "metadata": {},
   "outputs": [
    {
     "name": "stdout",
     "output_type": "stream",
     "text": [
      "Yes!\n"
     ]
    }
   ],
   "source": [
    "#    False   or True --> True\n",
    "if x == 9876 or y == 20:\n",
    "    print('Yes!')"
   ]
  },
  {
   "cell_type": "markdown",
   "metadata": {},
   "source": [
    "# Complex conditionals\n",
    "\n",
    "Using `if`, `elif`, and `else` along with `and` and `or` and all of our conditional operators, such as `==` and `!=`, we can have a wide array of different circumstances and actions.  \n",
    "\n",
    "You can check all sorts of variables and their values, and you can execute whatever you want, at whatever length, inside of the indented blocks."
   ]
  },
  {
   "cell_type": "markdown",
   "metadata": {},
   "source": [
    "# Exercise: Name and company\n",
    "\n",
    "1. Ask the user to enter both their name and their company, and assign these to two separate variables.\n",
    "2. Print one of four things:\n",
    "    - You must be me -- if the name and company are the same as you\n",
    "    - We are colleagues -- if the company is the same, but the name is not\n",
    "    - You have a great name -- if the name is the same, but the company is not\n",
    "    - Something snarky - if the name and company are both different"
   ]
  },
  {
   "cell_type": "code",
   "execution_count": 60,
   "metadata": {},
   "outputs": [
    {
     "name": "stdout",
     "output_type": "stream",
     "text": [
      "Enter your name: abcd\n",
      "Enter your company: efgh\n",
      "You have a bad name and a bad employer\n"
     ]
    }
   ],
   "source": [
    "name = input('Enter your name: ')\n",
    "company = input('Enter your company: ')\n",
    "\n",
    "if name == 'Reuven' and company == \"O'Reilly\":\n",
    "    print('Hey, you must be me!')\n",
    "elif name == 'Reuven':    # implicitly, company ≠ O'Reilly\n",
    "    print('Great name, but you work elsewhere')\n",
    "elif company == \"O'Reilly\":   # implicitly, name ≠ Reuven\n",
    "    print('We must be colleagues! How swell!')\n",
    "else:  #  here, nothing is equal\n",
    "    print('You have a bad name and a bad employer')   "
   ]
  },
  {
   "cell_type": "code",
   "execution_count": 61,
   "metadata": {},
   "outputs": [],
   "source": [
    "# option-equal on a Mac does ≠"
   ]
  },
  {
   "cell_type": "markdown",
   "metadata": {},
   "source": [
    "# Numbers\n",
    "\n",
    "Python (and most programming languages) supports two different types of numbers:\n",
    "\n",
    "- Integers (`int`), which are whole numbers\n",
    "- Floats (`float`), which have a decimal point and a fractional part\n",
    "\n",
    "We'll mostly use integers."
   ]
  },
  {
   "cell_type": "code",
   "execution_count": 62,
   "metadata": {},
   "outputs": [],
   "source": [
    "x = 10\n",
    "y = 3\n",
    "\n",
    "# I can use many standard operators on these"
   ]
  },
  {
   "cell_type": "code",
   "execution_count": 63,
   "metadata": {},
   "outputs": [
    {
     "data": {
      "text/plain": [
       "13"
      ]
     },
     "execution_count": 63,
     "metadata": {},
     "output_type": "execute_result"
    }
   ],
   "source": [
    "x + 3 "
   ]
  },
  {
   "cell_type": "code",
   "execution_count": 64,
   "metadata": {},
   "outputs": [
    {
     "data": {
      "text/plain": [
       "7"
      ]
     },
     "execution_count": 64,
     "metadata": {},
     "output_type": "execute_result"
    }
   ],
   "source": [
    "x - y"
   ]
  },
  {
   "cell_type": "code",
   "execution_count": 65,
   "metadata": {},
   "outputs": [
    {
     "data": {
      "text/plain": [
       "30"
      ]
     },
     "execution_count": 65,
     "metadata": {},
     "output_type": "execute_result"
    }
   ],
   "source": [
    "x * y   # notice, we use * for multiplication"
   ]
  },
  {
   "cell_type": "code",
   "execution_count": 66,
   "metadata": {},
   "outputs": [
    {
     "data": {
      "text/plain": [
       "3.3333333333333335"
      ]
     },
     "execution_count": 66,
     "metadata": {},
     "output_type": "execute_result"
    }
   ],
   "source": [
    "x / y   # notice that we *always* get a floating-point number back here"
   ]
  },
  {
   "cell_type": "code",
   "execution_count": 67,
   "metadata": {},
   "outputs": [
    {
     "data": {
      "text/plain": [
       "3"
      ]
     },
     "execution_count": 67,
     "metadata": {},
     "output_type": "execute_result"
    }
   ],
   "source": [
    "x // y  # this is division, but removing the factional part (\"floordiv\")"
   ]
  },
  {
   "cell_type": "code",
   "execution_count": 68,
   "metadata": {},
   "outputs": [
    {
     "data": {
      "text/plain": [
       "1000"
      ]
     },
     "execution_count": 68,
     "metadata": {},
     "output_type": "execute_result"
    }
   ],
   "source": [
    "x ** y   # x to the y power"
   ]
  },
  {
   "cell_type": "code",
   "execution_count": 69,
   "metadata": {},
   "outputs": [
    {
     "data": {
      "text/plain": [
       "1"
      ]
     },
     "execution_count": 69,
     "metadata": {},
     "output_type": "execute_result"
    }
   ],
   "source": [
    "x % y    # what is the remainder after dividing x by y?"
   ]
  },
  {
   "cell_type": "code",
   "execution_count": 70,
   "metadata": {},
   "outputs": [],
   "source": [
    "x = 10\n",
    "\n",
    "# I want to add 1 to x.  How can I?\n",
    "\n",
    "x = x + 1    # this is not a math statement! This is a Python programming statement!"
   ]
  },
  {
   "cell_type": "code",
   "execution_count": 71,
   "metadata": {},
   "outputs": [
    {
     "data": {
      "text/plain": [
       "11"
      ]
     },
     "execution_count": 71,
     "metadata": {},
     "output_type": "execute_result"
    }
   ],
   "source": [
    "x\n"
   ]
  },
  {
   "cell_type": "code",
   "execution_count": 72,
   "metadata": {},
   "outputs": [
    {
     "data": {
      "text/plain": [
       "12"
      ]
     },
     "execution_count": 72,
     "metadata": {},
     "output_type": "execute_result"
    }
   ],
   "source": [
    "x = x + 1\n",
    "x"
   ]
  },
  {
   "cell_type": "code",
   "execution_count": 73,
   "metadata": {},
   "outputs": [
    {
     "data": {
      "text/plain": [
       "13"
      ]
     },
     "execution_count": 73,
     "metadata": {},
     "output_type": "execute_result"
    }
   ],
   "source": [
    "# this is so common that we have shorthand for it\n",
    "\n",
    "x += 1   # same as x = x + 1\n",
    "x"
   ]
  },
  {
   "cell_type": "code",
   "execution_count": 74,
   "metadata": {},
   "outputs": [
    {
     "data": {
      "text/plain": [
       "'123123123123'"
      ]
     },
     "execution_count": 74,
     "metadata": {},
     "output_type": "execute_result"
    }
   ],
   "source": [
    "# Two tricky situations we haven't dealt with\n",
    "# both have to do with converting integers to/from strings\n",
    "\n",
    "# Situation 1: We have a string containing digits, and want to turn it into an int\n",
    "\n",
    "x = '123'   # this is a string, not an integer!\n",
    "\n",
    "x * 4       # it'll multiply the string x by 4"
   ]
  },
  {
   "cell_type": "code",
   "execution_count": 75,
   "metadata": {},
   "outputs": [
    {
     "data": {
      "text/plain": [
       "123"
      ]
     },
     "execution_count": 75,
     "metadata": {},
     "output_type": "execute_result"
    }
   ],
   "source": [
    "# if I want a new integer based on the current value of x, I can say\n",
    "\n",
    "int(x)  # this returns an integer"
   ]
  },
  {
   "cell_type": "code",
   "execution_count": 76,
   "metadata": {},
   "outputs": [
    {
     "data": {
      "text/plain": [
       "492"
      ]
     },
     "execution_count": 76,
     "metadata": {},
     "output_type": "execute_result"
    }
   ],
   "source": [
    "int(x) * 4"
   ]
  },
  {
   "cell_type": "code",
   "execution_count": 77,
   "metadata": {},
   "outputs": [],
   "source": [
    "# this works just fine, and is pretty standard if you have to convert values from strings to ints\n",
    "\n",
    "x = int(x)"
   ]
  },
  {
   "cell_type": "code",
   "execution_count": 78,
   "metadata": {},
   "outputs": [
    {
     "data": {
      "text/plain": [
       "123"
      ]
     },
     "execution_count": 78,
     "metadata": {},
     "output_type": "execute_result"
    }
   ],
   "source": [
    "x"
   ]
  },
  {
   "cell_type": "code",
   "execution_count": 79,
   "metadata": {},
   "outputs": [
    {
     "ename": "ValueError",
     "evalue": "invalid literal for int() with base 10: '123a'",
     "output_type": "error",
     "traceback": [
      "\u001b[0;31m---------------------------------------------------------------------------\u001b[0m",
      "\u001b[0;31mValueError\u001b[0m                                Traceback (most recent call last)",
      "Cell \u001b[0;32mIn [79], line 4\u001b[0m\n\u001b[1;32m      1\u001b[0m \u001b[38;5;66;03m# what if there are non-int characters in x? Don't do that...\u001b[39;00m\n\u001b[1;32m      3\u001b[0m x \u001b[38;5;241m=\u001b[39m \u001b[38;5;124m'\u001b[39m\u001b[38;5;124m123a\u001b[39m\u001b[38;5;124m'\u001b[39m\n\u001b[0;32m----> 4\u001b[0m \u001b[38;5;28;43mint\u001b[39;49m\u001b[43m(\u001b[49m\u001b[43mx\u001b[49m\u001b[43m)\u001b[49m\n",
      "\u001b[0;31mValueError\u001b[0m: invalid literal for int() with base 10: '123a'"
     ]
    }
   ],
   "source": [
    "# what if there are non-int characters in x? Don't do that...\n",
    "\n",
    "x = '123a'\n",
    "int(x)"
   ]
  },
  {
   "cell_type": "code",
   "execution_count": 81,
   "metadata": {},
   "outputs": [
    {
     "ename": "TypeError",
     "evalue": "can only concatenate str (not \"int\") to str",
     "output_type": "error",
     "traceback": [
      "\u001b[0;31m---------------------------------------------------------------------------\u001b[0m",
      "\u001b[0;31mTypeError\u001b[0m                                 Traceback (most recent call last)",
      "Cell \u001b[0;32mIn [81], line 5\u001b[0m\n\u001b[1;32m      1\u001b[0m \u001b[38;5;66;03m# Issue 2: How can I put ints in my strings?\u001b[39;00m\n\u001b[1;32m      3\u001b[0m x \u001b[38;5;241m=\u001b[39m \u001b[38;5;241m10\u001b[39m\n\u001b[0;32m----> 5\u001b[0m \u001b[38;5;28mprint\u001b[39m(\u001b[38;5;124;43m'\u001b[39;49m\u001b[38;5;124;43mMy favorite number is \u001b[39;49m\u001b[38;5;124;43m'\u001b[39;49m\u001b[43m \u001b[49m\u001b[38;5;241;43m+\u001b[39;49m\u001b[43m \u001b[49m\u001b[43mx\u001b[49m)   \u001b[38;5;66;03m# we cannot add strings and ints!\u001b[39;00m\n",
      "\u001b[0;31mTypeError\u001b[0m: can only concatenate str (not \"int\") to str"
     ]
    }
   ],
   "source": [
    "# Issue 2: How can I put ints in my strings?\n",
    "\n",
    "x = 10\n",
    "\n",
    "print('My favorite number is ' + x)   # we cannot add strings and ints!"
   ]
  },
  {
   "cell_type": "code",
   "execution_count": 82,
   "metadata": {},
   "outputs": [
    {
     "name": "stdout",
     "output_type": "stream",
     "text": [
      "My favorite number is 10\n"
     ]
    }
   ],
   "source": [
    "# I can get a string based on an integer with the str() builtin\n",
    "\n",
    "print('My favorite number is ' + str(x))  # now we're joining two strings"
   ]
  },
  {
   "cell_type": "code",
   "execution_count": 83,
   "metadata": {},
   "outputs": [
    {
     "name": "stdout",
     "output_type": "stream",
     "text": [
      "My favorite number is 10\n"
     ]
    }
   ],
   "source": [
    "# but ... yuck! We can do better with f-strings:\n",
    "\n",
    "# - First character is f, before the opening quote\n",
    "# - Inside of the string is totally normal...\n",
    "# - ...Except in {}, where we can have Python variables and expressions\n",
    "\n",
    "print(f'My favorite number is {x}')   # here, it'll work fine, automatically running str() behind the scenes"
   ]
  },
  {
   "cell_type": "code",
   "execution_count": 84,
   "metadata": {},
   "outputs": [
    {
     "ename": "ValueError",
     "evalue": "invalid literal for int() with base 10: '123abc'",
     "output_type": "error",
     "traceback": [
      "\u001b[0;31m---------------------------------------------------------------------------\u001b[0m",
      "\u001b[0;31mValueError\u001b[0m                                Traceback (most recent call last)",
      "Cell \u001b[0;32mIn [84], line 3\u001b[0m\n\u001b[1;32m      1\u001b[0m s \u001b[38;5;241m=\u001b[39m \u001b[38;5;124m'\u001b[39m\u001b[38;5;124m123abc\u001b[39m\u001b[38;5;124m'\u001b[39m  \u001b[38;5;66;03m# this is a hex number, in base 16\u001b[39;00m\n\u001b[0;32m----> 3\u001b[0m \u001b[38;5;28;43mint\u001b[39;49m\u001b[43m(\u001b[49m\u001b[43ms\u001b[49m\u001b[43m)\u001b[49m  \u001b[38;5;66;03m# this will not work!\u001b[39;00m\n",
      "\u001b[0;31mValueError\u001b[0m: invalid literal for int() with base 10: '123abc'"
     ]
    }
   ],
   "source": [
    "s = '123abc'  # this is a hex number, in base 16\n",
    "\n",
    "int(s)  # this will not work!"
   ]
  },
  {
   "cell_type": "code",
   "execution_count": 85,
   "metadata": {},
   "outputs": [
    {
     "data": {
      "text/plain": [
       "1194684"
      ]
     },
     "execution_count": 85,
     "metadata": {},
     "output_type": "execute_result"
    }
   ],
   "source": [
    "int(s, 16)  # give me an integer, which is decimal, based on the hex number in s"
   ]
  },
  {
   "cell_type": "markdown",
   "metadata": {},
   "source": [
    "# Exercise: Guessing game\n",
    "\n",
    "1. We'll generate a random integer between 0-100, and assign it to `number`.\n",
    "2. Print `number`, so that we can debug things easily.\n",
    "3. Ask the user (only once!) to guess the number.  Give one of the following results:\n",
    "    - Good job!\n",
    "    - Too low!\n",
    "    - Too high!\n",
    "    \n",
    "Think about a few things:\n",
    "\n",
    "1. Don't forget that the result of `input` is always a string. You'll need to convert it.\n",
    "2. Assume that the user will only enter digits.\n",
    "3. Use all of the conditional stuff we've been talking about.\n",
    "\n",
    "To get a random integer, use the following Python code:\n",
    "\n",
    "```python\n",
    "import random                     # loads the random library\n",
    "number = random.randint(0, 100)   # chooses a number from 0-100, and assigns to number\n",
    "```"
   ]
  },
  {
   "cell_type": "code",
   "execution_count": 89,
   "metadata": {},
   "outputs": [
    {
     "name": "stdout",
     "output_type": "stream",
     "text": [
      "Your number is 55\n",
      "Enter guess: 100\n",
      "Too high!\n"
     ]
    }
   ],
   "source": [
    "import random\n",
    "number = random.randint(0, 100)\n",
    "print(f'Your number is {number}')\n",
    "\n",
    "guess = input('Enter guess: ')\n",
    "guess = int(guess)  # this works great, if guess only contains digits\n",
    "\n",
    "if guess == number:\n",
    "    print('You got it!')\n",
    "elif guess < number:\n",
    "    print('Too low!')\n",
    "else:\n",
    "    print('Too high!')"
   ]
  },
  {
   "cell_type": "markdown",
   "metadata": {},
   "source": [
    "# Next up\n",
    "\n",
    "1. Strings!\n",
    "    - Retrieving from them\n",
    "    - Searching in them\n",
    "    - Strings are *immutable*\n",
    "    - Slices from them\n",
    "2. If we have time, we'll discuss a handful of string \"methods,\" too"
   ]
  },
  {
   "cell_type": "code",
   "execution_count": 90,
   "metadata": {},
   "outputs": [],
   "source": [
    "# defining strings\n",
    "\n",
    "s = 'abcdefghijklmnopqrstuvwxyz'   "
   ]
  },
  {
   "cell_type": "code",
   "execution_count": 91,
   "metadata": {},
   "outputs": [
    {
     "data": {
      "text/plain": [
       "str"
      ]
     },
     "execution_count": 91,
     "metadata": {},
     "output_type": "execute_result"
    }
   ],
   "source": [
    "type(s)   # what kind of data do we have in s?"
   ]
  },
  {
   "cell_type": "code",
   "execution_count": 92,
   "metadata": {},
   "outputs": [
    {
     "data": {
      "text/plain": [
       "int"
      ]
     },
     "execution_count": 92,
     "metadata": {},
     "output_type": "execute_result"
    }
   ],
   "source": [
    "x = 10\n",
    "type(x)"
   ]
  },
  {
   "cell_type": "code",
   "execution_count": 93,
   "metadata": {},
   "outputs": [
    {
     "data": {
      "text/plain": [
       "float"
      ]
     },
     "execution_count": 93,
     "metadata": {},
     "output_type": "execute_result"
    }
   ],
   "source": [
    "y = 10.5\n",
    "type(y)"
   ]
  },
  {
   "cell_type": "code",
   "execution_count": 94,
   "metadata": {},
   "outputs": [
    {
     "data": {
      "text/plain": [
       "26"
      ]
     },
     "execution_count": 94,
     "metadata": {},
     "output_type": "execute_result"
    }
   ],
   "source": [
    "# what's the length of my string?\n",
    "\n",
    "len(s)   # this returns the number of characters"
   ]
  },
  {
   "cell_type": "code",
   "execution_count": null,
   "metadata": {},
   "outputs": [],
   "source": [
    "# what if I want to retrieve the first character from my string?\n",
    "# "
   ]
  }
 ],
 "metadata": {
  "kernelspec": {
   "display_name": "Python 3 (ipykernel)",
   "language": "python",
   "name": "python3"
  },
  "language_info": {
   "codemirror_mode": {
    "name": "ipython",
    "version": 3
   },
   "file_extension": ".py",
   "mimetype": "text/x-python",
   "name": "python",
   "nbconvert_exporter": "python",
   "pygments_lexer": "ipython3",
   "version": "3.11.0"
  }
 },
 "nbformat": 4,
 "nbformat_minor": 4
}
